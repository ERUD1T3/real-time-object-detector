{
 "cells": [
  {
   "cell_type": "markdown",
   "metadata": {},
   "source": [
    "### CSE 5320 Neural Networks Project 2\n",
    "#### Report (with Code)\n",
    "Josias Moukpe\\\n",
    "11/29/2022\n",
    "\n",
    "#### Introduction\n",
    "Object detection is an advanced form of image classification where a neural network predicts objects in an image and points them out in bounding boxes. Object detection thus refers to the detection and localization of objects in an image that belongs to a predefined set of classes. Tasks like detection, recognition, or localization find widespread applicability in real-world scenarios such as autonomous driving, robotics, product quality assurance, etc., making object detection (also referred to as object recognition) a very important subdomain of Computer Vision. [2] We call Real-Time object detection when the objects in images can be recognized in mere milliseconds allowing for in-time reactions based on the detection. Our project will aim to build a real-time object detector to find and track objects of defined classes in images or video feeds.\n",
    "\n",
    "#### Problem\n",
    "This objective combines object classificationn and localization (bounding box regression task). To process images and capture the features, we will leverage convolutional neural networks and capture local pixel structures. We will comment on how our model performs in real-time object detection. To train our model, we will use the MS COCO dataset [1]. This dataset contains more than 200,000 labeled color images of 1.5 million object instances and 80 object categories. Each image is 640 x 480 pixels and includes various forms of annotations such as key points, captions, segmentations, and bounding boxes (which interest us). The model will take an image or batch of images and outputs the classes and bounding boxes of all objects detected in that image.\n",
    "\n",
    "#### Methodology\n",
    "To prepare the data, we downloaded the COCO 2017 from the official website, unzip the files training and validation files in a data folder. We then downloaded the annotations json  files which contain the bounding box coordinates for the objects in the image. We utilized the pycocotools library to help us load the images and the bounding box annotations in memory.Those images are then fed into the network with the bounding boxes as labels. To improve accuracy, we augment some images with random transforms such as rotation and translations. The bounding box labels are also transformed accordingly. The training dataset is used in its entirety but the 50% of the validation set was used for training validation and the other 50% was used for testing.\n",
    "\n",
    "#### Benchmarking\n",
    "To measure training performance, we use validation loss and the mean Average Precision (mAP) to measure the performance on the validation set. Finally, we measure the mAP on test set for final benchmarking.\n",
    "\n",
    "#### Conclusion\n",
    "Unfortunately, we cannot conclude on the project yet as it is not complete. However, it is coming soon.\n",
    "\n",
    "\n",
    "References\\\n",
    "[1] https://cocodataset.org/#home \\\n",
    "[2] https://arxiv.org/abs/1804.02767 \\\n",
    "[3] https://arxiv.org/abs/1506.02640 \\\n",
    "[4] https://arxiv.org/abs/2207.02696 \\\n",
    "[5] https://arxiv.org/abs/1904.04620 \\\n",
    "[6] https://www.v7labs.com/blog/yolo-object-detection \\\n",
    "[7] https://github.com/xuannianz/keras-GaussianYOLOv3 \\\n",
    "[8] https://www.kaggle.com/code/aruchomu/yolo-v3-object-detection-in-tensorflow"
   ]
  },
  {
   "cell_type": "markdown",
   "metadata": {},
   "source": [
    "Obtaining the COCO 2017 Dataset"
   ]
  },
  {
   "cell_type": "code",
   "execution_count": 1,
   "metadata": {},
   "outputs": [
    {
     "name": "stdout",
     "output_type": "stream",
     "text": [
      "README.md  augmentor  config  data  eval  generators  logs  models  utils\n",
      "annotations  coco.names  test2017  train2017  val2017  yolo_anchors.txt\n"
     ]
    }
   ],
   "source": [
    "# list the contents of the current \n",
    "# directory on my remote server\n",
    "!ls\n",
    "!ls \"/notebooks/data/\""
   ]
  },
  {
   "cell_type": "code",
   "execution_count": 44,
   "metadata": {},
   "outputs": [],
   "source": [
    "# navigate to the data directory\n",
    "# and list the contents\n",
    "# %cd \"/notebooks/data\"\n",
    "# !ls\n",
    "\n",
    "# # downloading coco (2017) dataset\n",
    "# !wget http://images.cocodataset.org/zips/train2017.zip\n",
    "# !wget http://images.cocodataset.org/zips/val2017.zip\n",
    "# !wget http://images.cocodataset.org/zips/test2017.zip\n",
    "# !wget http://images.cocodataset.org/annotations/annotations_trainval2017.zip\n",
    "# !wget http://images.cocodataset.org/annotations/stuff_annotations_trainval2017.zip\n",
    "# !wget http://images.cocodataset.org/annotations/image_info_test2017.zip\n",
    "\n",
    "# # unzip the files\n",
    "# !unzip train2017.zip\n",
    "# !unzip val2017.zip\n",
    "# !unzip test2017.zip\n",
    "# !unzip annotations_trainval2017.zip\n",
    "# !unzip stuff_annotations_trainval2017.zip\n",
    "# !unzip image_info_test2017.zip\n",
    "\n",
    "# # remove the zip files\n",
    "# !rm train2017.zip\n",
    "# !rm val2017.zip\n",
    "# !rm test2017.zip\n",
    "# !rm annotations_trainval2017.zip\n",
    "# !rm stuff_annotations_trainval2017.zip\n",
    "# !rm image_info_test2017.zip\n",
    "\n",
    "# navigate out of the data directory\n",
    "# and list the contents\n",
    "# %cd \"/notebooks\"\n",
    "# !ls\n"
   ]
  },
  {
   "cell_type": "code",
   "execution_count": 45,
   "metadata": {},
   "outputs": [],
   "source": [
    "# create a config directory\n",
    "# %cd \"/notebooks\"\n",
    "# %mkdir config\n",
    "# %cd config\n",
    "# !wget https://raw.githubusercontent.com/pjreddie/darknet/master/cfg/yolov3.cfg\n",
    "# %cd .."
   ]
  },
  {
   "cell_type": "code",
   "execution_count": 46,
   "metadata": {},
   "outputs": [
    {
     "name": "stdout",
     "output_type": "stream",
     "text": [
      "/notebooks\n"
     ]
    }
   ],
   "source": [
    "!pwd"
   ]
  },
  {
   "cell_type": "code",
   "execution_count": 47,
   "metadata": {},
   "outputs": [],
   "source": [
    "# create a models directory\n",
    "# %cd \"/notebooks\"\n",
    "# %mkdir models\n",
    "# %cd models\n",
    "# !wget -O yolov3.weights https://pjreddie.com/media/files/yolov3.weights\n",
    "# %cd .."
   ]
  },
  {
   "cell_type": "code",
   "execution_count": 7,
   "metadata": {},
   "outputs": [
    {
     "name": "stdout",
     "output_type": "stream",
     "text": [
      "Requirement already satisfied: gluoncv in /usr/local/lib/python3.9/dist-packages (0.10.5.post0)\n",
      "Requirement already satisfied: autocfg in /usr/local/lib/python3.9/dist-packages (from gluoncv) (0.0.8)\n",
      "Requirement already satisfied: Pillow in /usr/local/lib/python3.9/dist-packages (from gluoncv) (9.2.0)\n",
      "Requirement already satisfied: numpy in /usr/local/lib/python3.9/dist-packages (from gluoncv) (1.23.1)\n",
      "Requirement already satisfied: pandas in /usr/local/lib/python3.9/dist-packages (from gluoncv) (1.4.3)\n",
      "Requirement already satisfied: requests in /usr/local/lib/python3.9/dist-packages (from gluoncv) (2.28.1)\n",
      "Requirement already satisfied: opencv-python in /usr/local/lib/python3.9/dist-packages (from gluoncv) (4.6.0.66)\n",
      "Requirement already satisfied: portalocker in /usr/local/lib/python3.9/dist-packages (from gluoncv) (2.6.0)\n",
      "Requirement already satisfied: pyyaml in /usr/local/lib/python3.9/dist-packages (from gluoncv) (5.4.1)\n",
      "Requirement already satisfied: matplotlib in /usr/local/lib/python3.9/dist-packages (from gluoncv) (3.5.2)\n",
      "Requirement already satisfied: yacs in /usr/local/lib/python3.9/dist-packages (from gluoncv) (0.1.8)\n",
      "Requirement already satisfied: scipy in /usr/local/lib/python3.9/dist-packages (from gluoncv) (1.8.1)\n",
      "Requirement already satisfied: tqdm in /usr/local/lib/python3.9/dist-packages (from gluoncv) (4.64.0)\n",
      "Requirement already satisfied: python-dateutil>=2.7 in /usr/local/lib/python3.9/dist-packages (from matplotlib->gluoncv) (2.8.2)\n",
      "Requirement already satisfied: pyparsing>=2.2.1 in /usr/local/lib/python3.9/dist-packages (from matplotlib->gluoncv) (3.0.9)\n",
      "Requirement already satisfied: fonttools>=4.22.0 in /usr/local/lib/python3.9/dist-packages (from matplotlib->gluoncv) (4.34.4)\n",
      "Requirement already satisfied: kiwisolver>=1.0.1 in /usr/local/lib/python3.9/dist-packages (from matplotlib->gluoncv) (1.4.3)\n",
      "Requirement already satisfied: cycler>=0.10 in /usr/local/lib/python3.9/dist-packages (from matplotlib->gluoncv) (0.11.0)\n",
      "Requirement already satisfied: packaging>=20.0 in /usr/local/lib/python3.9/dist-packages (from matplotlib->gluoncv) (21.3)\n",
      "Requirement already satisfied: pytz>=2020.1 in /usr/local/lib/python3.9/dist-packages (from pandas->gluoncv) (2022.1)\n",
      "Requirement already satisfied: charset-normalizer<3,>=2 in /usr/local/lib/python3.9/dist-packages (from requests->gluoncv) (2.1.0)\n",
      "Requirement already satisfied: certifi>=2017.4.17 in /usr/lib/python3/dist-packages (from requests->gluoncv) (2019.11.28)\n",
      "Requirement already satisfied: urllib3<1.27,>=1.21.1 in /usr/local/lib/python3.9/dist-packages (from requests->gluoncv) (1.26.10)\n",
      "Requirement already satisfied: idna<4,>=2.5 in /usr/lib/python3/dist-packages (from requests->gluoncv) (2.8)\n",
      "Requirement already satisfied: six>=1.5 in /usr/lib/python3/dist-packages (from python-dateutil>=2.7->matplotlib->gluoncv) (1.14.0)\n",
      "\u001b[33mWARNING: Running pip as the 'root' user can result in broken permissions and conflicting behaviour with the system package manager. It is recommended to use a virtual environment instead: https://pip.pypa.io/warnings/venv\u001b[0m\u001b[33m\n",
      "\u001b[0mNote: you may need to restart the kernel to use updated packages.\n",
      "Requirement already satisfied: mxnet in /usr/local/lib/python3.9/dist-packages (1.9.1)\n",
      "Requirement already satisfied: requests<3,>=2.20.0 in /usr/local/lib/python3.9/dist-packages (from mxnet) (2.28.1)\n",
      "Requirement already satisfied: graphviz<0.9.0,>=0.8.1 in /usr/local/lib/python3.9/dist-packages (from mxnet) (0.8.4)\n",
      "Requirement already satisfied: numpy<2.0.0,>1.16.0 in /usr/local/lib/python3.9/dist-packages (from mxnet) (1.23.1)\n",
      "Requirement already satisfied: idna<4,>=2.5 in /usr/lib/python3/dist-packages (from requests<3,>=2.20.0->mxnet) (2.8)\n",
      "Requirement already satisfied: urllib3<1.27,>=1.21.1 in /usr/local/lib/python3.9/dist-packages (from requests<3,>=2.20.0->mxnet) (1.26.10)\n",
      "Requirement already satisfied: certifi>=2017.4.17 in /usr/lib/python3/dist-packages (from requests<3,>=2.20.0->mxnet) (2019.11.28)\n",
      "Requirement already satisfied: charset-normalizer<3,>=2 in /usr/local/lib/python3.9/dist-packages (from requests<3,>=2.20.0->mxnet) (2.1.0)\n",
      "\u001b[33mWARNING: Running pip as the 'root' user can result in broken permissions and conflicting behaviour with the system package manager. It is recommended to use a virtual environment instead: https://pip.pypa.io/warnings/venv\u001b[0m\u001b[33m\n",
      "\u001b[0mNote: you may need to restart the kernel to use updated packages.\n",
      "Requirement already satisfied: opencv-python in /usr/local/lib/python3.9/dist-packages (4.6.0.66)\n",
      "Requirement already satisfied: numpy>=1.17.3 in /usr/local/lib/python3.9/dist-packages (from opencv-python) (1.23.1)\n",
      "\u001b[33mWARNING: Running pip as the 'root' user can result in broken permissions and conflicting behaviour with the system package manager. It is recommended to use a virtual environment instead: https://pip.pypa.io/warnings/venv\u001b[0m\u001b[33m\n",
      "\u001b[0mNote: you may need to restart the kernel to use updated packages.\n",
      "Collecting pycocotools\n",
      "  Downloading pycocotools-2.0.6.tar.gz (24 kB)\n",
      "  Installing build dependencies ... \u001b[?25ldone\n",
      "\u001b[?25h  Getting requirements to build wheel ... \u001b[?25ldone\n",
      "\u001b[?25h  Preparing metadata (pyproject.toml) ... \u001b[?25ldone\n",
      "\u001b[?25hRequirement already satisfied: numpy in /usr/local/lib/python3.9/dist-packages (from pycocotools) (1.23.1)\n",
      "Requirement already satisfied: matplotlib>=2.1.0 in /usr/local/lib/python3.9/dist-packages (from pycocotools) (3.5.2)\n",
      "Requirement already satisfied: pillow>=6.2.0 in /usr/local/lib/python3.9/dist-packages (from matplotlib>=2.1.0->pycocotools) (9.2.0)\n",
      "Requirement already satisfied: packaging>=20.0 in /usr/local/lib/python3.9/dist-packages (from matplotlib>=2.1.0->pycocotools) (21.3)\n",
      "Requirement already satisfied: kiwisolver>=1.0.1 in /usr/local/lib/python3.9/dist-packages (from matplotlib>=2.1.0->pycocotools) (1.4.3)\n",
      "Requirement already satisfied: python-dateutil>=2.7 in /usr/local/lib/python3.9/dist-packages (from matplotlib>=2.1.0->pycocotools) (2.8.2)\n",
      "Requirement already satisfied: fonttools>=4.22.0 in /usr/local/lib/python3.9/dist-packages (from matplotlib>=2.1.0->pycocotools) (4.34.4)\n",
      "Requirement already satisfied: cycler>=0.10 in /usr/local/lib/python3.9/dist-packages (from matplotlib>=2.1.0->pycocotools) (0.11.0)\n",
      "Requirement already satisfied: pyparsing>=2.2.1 in /usr/local/lib/python3.9/dist-packages (from matplotlib>=2.1.0->pycocotools) (3.0.9)\n",
      "Requirement already satisfied: six>=1.5 in /usr/lib/python3/dist-packages (from python-dateutil>=2.7->matplotlib>=2.1.0->pycocotools) (1.14.0)\n",
      "Building wheels for collected packages: pycocotools\n",
      "  Building wheel for pycocotools (pyproject.toml) ... \u001b[?25ldone\n",
      "\u001b[?25h  Created wheel for pycocotools: filename=pycocotools-2.0.6-cp39-cp39-linux_x86_64.whl size=400215 sha256=2c3d264aae006e0609ed6d1c2ced387d923e66425ff3f027ccd2960d36c5a983\n",
      "  Stored in directory: /root/.cache/pip/wheels/2f/58/25/e78f1f766e904a9071266661d20d0bc6644df86bcd160aba11\n",
      "Successfully built pycocotools\n",
      "Installing collected packages: pycocotools\n",
      "Successfully installed pycocotools-2.0.6\n",
      "\u001b[33mWARNING: Running pip as the 'root' user can result in broken permissions and conflicting behaviour with the system package manager. It is recommended to use a virtual environment instead: https://pip.pypa.io/warnings/venv\u001b[0m\u001b[33m\n",
      "\u001b[0mNote: you may need to restart the kernel to use updated packages.\n"
     ]
    }
   ],
   "source": [
    "# install gluoncv to help with the dataset\n",
    "%pip install gluoncv\n",
    "%pip install mxnet\n",
    "%pip install opencv-python\n",
    "%pip install pycocotools"
   ]
  },
  {
   "cell_type": "code",
   "execution_count": 3,
   "metadata": {},
   "outputs": [
    {
     "name": "stdout",
     "output_type": "stream",
     "text": [
      "2.9.1\n"
     ]
    }
   ],
   "source": [
    "# imports \n",
    "import cv2\n",
    "import glob\n",
    "import io\n",
    "import configparser\n",
    "from collections import defaultdict\n",
    "import matplotlib.pyplot as plt\n",
    "import numpy as np\n",
    "from random import randint, choice\n",
    "from tqdm import tqdm\n",
    "import tensorflow as tf\n",
    "from tensorflow.keras import backend as K\n",
    "from tensorflow.keras.layers import Layer\n",
    "from tensorflow.keras.layers import Conv2D\n",
    "from tensorflow.keras.layers import Input\n",
    "from tensorflow.keras.layers import ZeroPadding2D\n",
    "from tensorflow.keras.layers import Add\n",
    "from tensorflow.keras.layers import UpSampling2D\n",
    "from tensorflow.keras.layers import MaxPooling2D\n",
    "from tensorflow.keras.layers import Concatenate\n",
    "from tensorflow.keras.layers import LeakyReLU\n",
    "from tensorflow.keras.layers import BatchNormalization\n",
    "from tensorflow.keras.layers import Lambda\n",
    "from tensorflow.keras.models import Model\n",
    "from tensorflow.keras.regularizers import l2\n",
    "from keras.utils.vis_utils import plot_model as plot\n",
    "from tensorflow.keras.optimizers import Adam\n",
    "from tensorflow.keras.callbacks import TensorBoard\n",
    "from tensorflow.keras.callbacks import ModelCheckpoint\n",
    "from tensorflow.keras.callbacks import ReduceLROnPlateau\n",
    "from tensorflow.keras.callbacks import EarlyStopping\n",
    "from tensorflow.keras.callbacks import TerminateOnNaN\n",
    "import tensorflow.keras.preprocessing.image\n",
    "from functools import reduce\n",
    "from augmentor.color import VisualEffect\n",
    "from augmentor.misc import MiscEffect\n",
    "from generators.coco import CocoGenerator\n",
    "\n",
    "\n",
    "# read coco dataset\n",
    "# from gluoncv import data, utils\n",
    "# print the version of tensorflow\n",
    "print(tf.__version__)\n"
   ]
  },
  {
   "cell_type": "code",
   "execution_count": 4,
   "metadata": {},
   "outputs": [
    {
     "name": "stdout",
     "output_type": "stream",
     "text": [
      "Num GPUs Available:  1\n",
      "/device:GPU:0\n"
     ]
    }
   ],
   "source": [
    "# check if gpu is available and what type\n",
    "print(\"Num GPUs Available: \", len(tf.config.experimental.list_physical_devices('GPU')))\n",
    "print(tf.test.gpu_device_name())\n"
   ]
  },
  {
   "cell_type": "markdown",
   "metadata": {},
   "source": [
    "### Loading the dataset\n",
    "MS COCO 2017 is our dataset. Link to loaded dataset in our remote development compute node\n",
    "https://console.paperspace.com/erud1t3/notebook/r92lxtvwhlbkhcy"
   ]
  },
  {
   "cell_type": "code",
   "execution_count": 5,
   "metadata": {},
   "outputs": [
    {
     "name": "stdout",
     "output_type": "stream",
     "text": [
      "/notebooks\n"
     ]
    }
   ],
   "source": [
    "!pwd"
   ]
  },
  {
   "cell_type": "code",
   "execution_count": 6,
   "metadata": {},
   "outputs": [],
   "source": [
    "# loading the coco dataset\n",
    "# train_ds = data.COCODetection('./data/', splits=['instances_train2017'])\n",
    "# val_ds = data.COCODetection('./data/', splits=['instances_val2017'])\n"
   ]
  },
  {
   "cell_type": "code",
   "execution_count": 7,
   "metadata": {},
   "outputs": [],
   "source": [
    "\n",
    "# # print the length of the dataset\n",
    "# print('Length of training dataset:', len(train_ds))\n",
    "# print('Length of validation dataset:', len(val_ds))"
   ]
  },
  {
   "cell_type": "code",
   "execution_count": 8,
   "metadata": {},
   "outputs": [],
   "source": [
    "# plot a random image from coco dataset\n",
    "# def plot_image(image, label):\n",
    "#     '''\n",
    "#     Plots an image and its bounding boxes\n",
    "#     '''\n",
    "#     print('Image size (height, width, RGB):', image.shape)\n",
    "#     # print('Label:', label)\n",
    "#     print('shape of label:', label.shape)\n",
    "#     # plot the image\n",
    "#     bounding_boxes = label[:, :4]\n",
    "#     class_ids = label[:, 4:5]\n",
    "#     print('number of objects in the image:', bounding_boxes.shape[0])\n",
    "#     print('bounding boxes (# boxes, min x, min y, max x, max y): \\n', bounding_boxes)\n",
    "#     print('class ids (# boxes, class id): \\n', class_ids)\n",
    "#     ax = utils.viz.plot_bbox(\n",
    "#         image.asnumpy(), \n",
    "#         bounding_boxes, \n",
    "#         scores=None, \n",
    "#         labels=class_ids, \n",
    "#         class_names=train_ds.classes\n",
    "#     )\n",
    "#     plt.show()\n",
    "  "
   ]
  },
  {
   "cell_type": "code",
   "execution_count": 9,
   "metadata": {},
   "outputs": [],
   "source": [
    "# pick a random image from validation dataset\n",
    "# image, label = val_ds[randint(0, len(val_ds))]\n",
    "# plot_image(image, label)\n"
   ]
  },
  {
   "cell_type": "markdown",
   "metadata": {},
   "source": [
    "### Working the model\n",
    "We will be building Gaussian YoloV3 model"
   ]
  },
  {
   "cell_type": "code",
   "execution_count": 10,
   "metadata": {},
   "outputs": [],
   "source": [
    "# reading the config file containing the model architecture\n",
    "def unique_config_sections(config_file):\n",
    "    '''\n",
    "    Reads the config file and returns a list of layers\n",
    "    '''\n",
    "    # open the config file\n",
    "    section_counters = defaultdict(int)\n",
    "    output_stream = io.StringIO()\n",
    "\n",
    "    with open(config_file) as fin:\n",
    "        for line in fin:\n",
    "            if line.startswith('['):\n",
    "                section = line.strip().strip('[]')\n",
    "                _section = section + '_' + str(section_counters[section])\n",
    "                section_counters[section] += 1\n",
    "                line = line.replace(section, _section)\n",
    "            output_stream.write(line)\n",
    "    output_stream.seek(0)\n",
    "\n",
    "    return output_stream"
   ]
  },
  {
   "cell_type": "code",
   "execution_count": 11,
   "metadata": {},
   "outputs": [],
   "source": [
    "INPUT_SHAPE = (608, 608, 3)"
   ]
  },
  {
   "cell_type": "code",
   "execution_count": 12,
   "metadata": {},
   "outputs": [],
   "source": [
    "def parse_config(config_path, output_path, weights_path, weights_only=False):\n",
    "    '''\n",
    "    Parses the config file and returns a model\n",
    "    '''\n",
    "\n",
    "    # config_path = os.path.expanduser(args.config_path)\n",
    "    # weights_path = os.path.expanduser(args.weights_path)\n",
    "    # output_path = os.path.expanduser(args.output_path)\n",
    "    # assert config_path.endswith('.cfg'), 'config path {} is not a .cfg file'.format(config_path)\n",
    "    # assert weights_path.endswith('.weights'), 'weights path {} is not a .weights file'.format(weights_path)\n",
    "    # assert output_path.endswith('.h5'), 'output path {} is not a .h5 file'.format(output_path)\n",
    "\n",
    "    # Load weights and config.\n",
    "    print('Loading weights.')\n",
    "    weights_file = open(weights_path, 'rb')\n",
    "    major, minor, revision = np.ndarray(shape=(3,), dtype='int32', buffer=weights_file.read(12))\n",
    "    if (major * 10 + minor) >= 2 and major < 1000 and minor < 1000:\n",
    "        seen = np.ndarray(shape=(1,), dtype='int64', buffer=weights_file.read(8))\n",
    "    else:\n",
    "        seen = np.ndarray(shape=(1,), dtype='int32', buffer=weights_file.read(4))\n",
    "    print('Weights Header: ', major, minor, revision, seen)\n",
    "\n",
    "    print('Parsing Darknet config.')\n",
    "    unique_config_file = unique_config_sections(config_path)\n",
    "    cfg_parser = configparser.ConfigParser()\n",
    "    cfg_parser.read_file(unique_config_file)\n",
    "\n",
    "    print('Creating Keras model.')\n",
    "    input_layer = Input(shape=INPUT_SHAPE)\n",
    "    prev_layer = input_layer\n",
    "    all_layers = []\n",
    "\n",
    "    weight_decay = float(cfg_parser['net_0']['decay']) if 'net_0' in cfg_parser.sections() else 5e-4\n",
    "    four_bytes_consumed_count = 0\n",
    "    out_index = []\n",
    "    for section in cfg_parser.sections():\n",
    "        print('Parsing section {}'.format(section))\n",
    "        if section.startswith('convolutional'):\n",
    "            filters = int(cfg_parser[section]['filters'])\n",
    "            size = int(cfg_parser[section]['size'])\n",
    "            stride = int(cfg_parser[section]['stride'])\n",
    "            pad = int(cfg_parser[section]['pad'])\n",
    "            activation = cfg_parser[section]['activation']\n",
    "            batch_normalize = 'batch_normalize' in cfg_parser[section]\n",
    "\n",
    "            padding = 'same' if pad == 1 and stride == 1 else 'valid'\n",
    "\n",
    "            # Setting weights.\n",
    "            # Darknet serializes convolutional weights as:\n",
    "            # [bias/beta, [gamma, mean, variance], conv_weights]\n",
    "            prev_layer_shape = K.int_shape(prev_layer)\n",
    "            # Note 每一个 filter 的 shape 为 (size, size, pre_layer_shape[-1])\n",
    "            # (outdim, indim, height, width)\n",
    "            weights_shape = (filters, prev_layer_shape[-1], size, size)\n",
    "\n",
    "            weights_size = np.product(weights_shape)\n",
    "            print('conv2d', 'bn' if batch_normalize else '  ', activation, weights_shape)\n",
    "\n",
    "            conv_bias = np.ndarray(\n",
    "                shape=(filters,),\n",
    "                dtype='float32',\n",
    "                buffer=weights_file.read(filters * 4))\n",
    "            four_bytes_consumed_count += filters\n",
    "            if batch_normalize:\n",
    "                bn_weights = np.ndarray(\n",
    "                    shape=(3, filters),\n",
    "                    dtype='float32',\n",
    "                    buffer=weights_file.read(filters * 12))\n",
    "                four_bytes_consumed_count += 3 * filters\n",
    "\n",
    "                bn_weight_list = [\n",
    "                    # scale gamma\n",
    "                    bn_weights[0],\n",
    "                    # shift beta\n",
    "                    conv_bias,\n",
    "                    # running mean\n",
    "                    bn_weights[1],\n",
    "                    # running var\n",
    "                    bn_weights[2]\n",
    "                ]\n",
    "            conv_weights = np.ndarray(\n",
    "                shape=weights_shape,\n",
    "                dtype='float32',\n",
    "                buffer=weights_file.read(weights_size * 4))\n",
    "            four_bytes_consumed_count += weights_size\n",
    "\n",
    "            # DarkNet conv_weights are serialized Caffe-style:\n",
    "            # (out_dim, in_dim, height, width)\n",
    "            # We would like to set these to Tensorflow order:\n",
    "            # (height, width, in_dim, out_dim)\n",
    "            conv_weights = np.transpose(conv_weights, [2, 3, 1, 0])\n",
    "            conv_weights = [conv_weights] if batch_normalize else [conv_weights, conv_bias]\n",
    "\n",
    "            # Handle activation.\n",
    "            if activation not in ('leaky', 'linear'):\n",
    "                raise ValueError('Unknown activation function `{}` in section {}'.format(activation, section))\n",
    "\n",
    "            # Create Conv2D layer\n",
    "            if stride > 1:\n",
    "                # Darknet uses left and top padding instead of 'same' mode when stride > 1\n",
    "                prev_layer = ZeroPadding2D(((1, 0), (1, 0)))(prev_layer)\n",
    "                \n",
    "            conv_layer = Conv2D(\n",
    "                filters, (size, size),\n",
    "                strides=(stride, stride),\n",
    "                kernel_regularizer=l2(weight_decay),\n",
    "                use_bias=not batch_normalize,\n",
    "                weights=conv_weights,\n",
    "                padding=padding)(prev_layer)\n",
    "\n",
    "            if batch_normalize:\n",
    "                conv_layer = (BatchNormalization(weights=bn_weight_list))(conv_layer)\n",
    "            prev_layer = conv_layer\n",
    "\n",
    "            if activation == 'linear':\n",
    "                all_layers.append(prev_layer)\n",
    "            elif activation == 'leaky':\n",
    "                act_layer = LeakyReLU(alpha=0.1)(prev_layer)\n",
    "                prev_layer = act_layer\n",
    "                all_layers.append(act_layer)\n",
    "\n",
    "        elif section.startswith('route'):\n",
    "            # concatenate layers\n",
    "            ids = [int(i) for i in cfg_parser[section]['layers'].split(',')]\n",
    "            layers = [all_layers[i] for i in ids]\n",
    "            if len(layers) > 1:\n",
    "                print('Concatenating route layers:', layers)\n",
    "                concatenate_layer = Concatenate()(layers)\n",
    "                all_layers.append(concatenate_layer)\n",
    "                prev_layer = concatenate_layer\n",
    "            else:\n",
    "                # only one layer to route\n",
    "                skip_layer = layers[0]\n",
    "                all_layers.append(skip_layer)\n",
    "                prev_layer = skip_layer\n",
    "\n",
    "        elif section.startswith('maxpool'):\n",
    "            size = int(cfg_parser[section]['size'])\n",
    "            stride = int(cfg_parser[section]['stride'])\n",
    "            all_layers.append(\n",
    "                MaxPooling2D(\n",
    "                    pool_size=(size, size),\n",
    "                    strides=(stride, stride),\n",
    "                    padding='same')(prev_layer))\n",
    "            prev_layer = all_layers[-1]\n",
    "\n",
    "        elif section.startswith('shortcut'):\n",
    "            index = int(cfg_parser[section]['from'])\n",
    "            activation = cfg_parser[section]['activation']\n",
    "            assert activation == 'linear', 'Only linear activation supported.'\n",
    "            all_layers.append(Add()([all_layers[index], prev_layer]))\n",
    "            prev_layer = all_layers[-1]\n",
    "\n",
    "        elif section.startswith('upsample'):\n",
    "            stride = int(cfg_parser[section]['stride'])\n",
    "            assert stride == 2, 'Only stride=2 supported.'\n",
    "            all_layers.append(UpSampling2D(stride)(prev_layer))\n",
    "            prev_layer = all_layers[-1]\n",
    "\n",
    "        elif section.startswith('yolo'):\n",
    "            out_index.append(len(all_layers) - 1)\n",
    "            all_layers.append(None)\n",
    "            prev_layer = all_layers[-1]\n",
    "\n",
    "        elif section.startswith('net'):\n",
    "            pass\n",
    "\n",
    "        else:\n",
    "            raise ValueError('Unsupported section header type: {}'.format(section))\n",
    "\n",
    "    # Create and save model.\n",
    "    if len(out_index) == 0:\n",
    "        out_index.append(len(all_layers) - 1)\n",
    "    model = Model(inputs=input_layer, outputs=[all_layers[i] for i in out_index])\n",
    "\n",
    "    if weights_only:\n",
    "        model.save_weights('{}'.format(output_path))\n",
    "        print('Saved Keras weights to {}'.format(output_path))\n",
    "    else:\n",
    "        model.save('{}'.format(output_path))\n",
    "        print('Saved Keras model to {}'.format(output_path))\n",
    "\n",
    "    # Check to see if all weights have been read.\n",
    "    remaining_weights = len(weights_file.read()) // 4\n",
    "    weights_file.close()\n",
    "    print('Read {} of {} from Darknet weights.'.format(four_bytes_consumed_count,\n",
    "                                                       four_bytes_consumed_count + remaining_weights))\n",
    "    if remaining_weights > 0:\n",
    "        print('Warning: {} unused weights'.format(remaining_weights))\n",
    "        output_root = \"/notebooks/models/\"\n",
    "        plot(model, to_file='{}.png'.format(output_root), show_shapes=True)\n",
    "        print('Saved model plot to {}.png'.format(output_root))\n",
    "\n",
    "    return model"
   ]
  },
  {
   "cell_type": "code",
   "execution_count": 13,
   "metadata": {},
   "outputs": [
    {
     "name": "stdout",
     "output_type": "stream",
     "text": [
      "Loading weights.\n",
      "Weights Header:  0 2 0 [32013312]\n",
      "Parsing Darknet config.\n",
      "Creating Keras model.\n",
      "Parsing section net_0\n",
      "Parsing section convolutional_0\n",
      "conv2d bn leaky (32, 3, 3, 3)\n",
      "Parsing section convolutional_1\n",
      "conv2d bn leaky (64, 32, 3, 3)\n",
      "Parsing section convolutional_2\n",
      "conv2d bn leaky (32, 64, 1, 1)\n",
      "Parsing section convolutional_3\n",
      "conv2d bn leaky (64, 32, 3, 3)\n",
      "Parsing section shortcut_0\n",
      "Parsing section convolutional_4\n",
      "conv2d bn leaky (128, 64, 3, 3)\n",
      "Parsing section convolutional_5\n",
      "conv2d bn leaky (64, 128, 1, 1)\n",
      "Parsing section convolutional_6\n",
      "conv2d bn leaky (128, 64, 3, 3)\n",
      "Parsing section shortcut_1\n",
      "Parsing section convolutional_7\n",
      "conv2d bn leaky (64, 128, 1, 1)\n",
      "Parsing section convolutional_8\n",
      "conv2d bn leaky (128, 64, 3, 3)\n",
      "Parsing section shortcut_2\n",
      "Parsing section convolutional_9\n",
      "conv2d bn leaky (256, 128, 3, 3)\n",
      "Parsing section convolutional_10\n",
      "conv2d bn leaky (128, 256, 1, 1)\n",
      "Parsing section convolutional_11\n",
      "conv2d bn leaky (256, 128, 3, 3)\n",
      "Parsing section shortcut_3\n",
      "Parsing section convolutional_12\n",
      "conv2d bn leaky (128, 256, 1, 1)\n",
      "Parsing section convolutional_13\n",
      "conv2d bn leaky (256, 128, 3, 3)\n",
      "Parsing section shortcut_4\n",
      "Parsing section convolutional_14\n",
      "conv2d bn leaky (128, 256, 1, 1)\n",
      "Parsing section convolutional_15\n",
      "conv2d bn leaky (256, 128, 3, 3)\n",
      "Parsing section shortcut_5\n",
      "Parsing section convolutional_16\n",
      "conv2d bn leaky (128, 256, 1, 1)\n",
      "Parsing section convolutional_17\n",
      "conv2d bn leaky (256, 128, 3, 3)\n",
      "Parsing section shortcut_6\n",
      "Parsing section convolutional_18\n",
      "conv2d bn leaky (128, 256, 1, 1)\n",
      "Parsing section convolutional_19\n",
      "conv2d bn leaky (256, 128, 3, 3)\n",
      "Parsing section shortcut_7\n",
      "Parsing section convolutional_20\n",
      "conv2d bn leaky (128, 256, 1, 1)\n",
      "Parsing section convolutional_21\n",
      "conv2d bn leaky (256, 128, 3, 3)\n",
      "Parsing section shortcut_8\n",
      "Parsing section convolutional_22\n",
      "conv2d bn leaky (128, 256, 1, 1)\n",
      "Parsing section convolutional_23\n",
      "conv2d bn leaky (256, 128, 3, 3)\n",
      "Parsing section shortcut_9\n",
      "Parsing section convolutional_24\n",
      "conv2d bn leaky (128, 256, 1, 1)\n",
      "Parsing section convolutional_25\n",
      "conv2d bn leaky (256, 128, 3, 3)\n",
      "Parsing section shortcut_10\n",
      "Parsing section convolutional_26\n",
      "conv2d bn leaky (512, 256, 3, 3)\n",
      "Parsing section convolutional_27\n",
      "conv2d bn leaky (256, 512, 1, 1)\n",
      "Parsing section convolutional_28\n",
      "conv2d bn leaky (512, 256, 3, 3)\n",
      "Parsing section shortcut_11\n",
      "Parsing section convolutional_29\n",
      "conv2d bn leaky (256, 512, 1, 1)\n",
      "Parsing section convolutional_30\n",
      "conv2d bn leaky (512, 256, 3, 3)\n",
      "Parsing section shortcut_12\n",
      "Parsing section convolutional_31\n",
      "conv2d bn leaky (256, 512, 1, 1)\n",
      "Parsing section convolutional_32\n",
      "conv2d bn leaky (512, 256, 3, 3)\n",
      "Parsing section shortcut_13\n",
      "Parsing section convolutional_33\n",
      "conv2d bn leaky (256, 512, 1, 1)\n",
      "Parsing section convolutional_34\n",
      "conv2d bn leaky (512, 256, 3, 3)\n",
      "Parsing section shortcut_14\n",
      "Parsing section convolutional_35\n",
      "conv2d bn leaky (256, 512, 1, 1)\n",
      "Parsing section convolutional_36\n",
      "conv2d bn leaky (512, 256, 3, 3)\n",
      "Parsing section shortcut_15\n",
      "Parsing section convolutional_37\n",
      "conv2d bn leaky (256, 512, 1, 1)\n",
      "Parsing section convolutional_38\n",
      "conv2d bn leaky (512, 256, 3, 3)\n",
      "Parsing section shortcut_16\n",
      "Parsing section convolutional_39\n",
      "conv2d bn leaky (256, 512, 1, 1)\n",
      "Parsing section convolutional_40\n",
      "conv2d bn leaky (512, 256, 3, 3)\n",
      "Parsing section shortcut_17\n",
      "Parsing section convolutional_41\n",
      "conv2d bn leaky (256, 512, 1, 1)\n",
      "Parsing section convolutional_42\n",
      "conv2d bn leaky (512, 256, 3, 3)\n",
      "Parsing section shortcut_18\n",
      "Parsing section convolutional_43\n",
      "conv2d bn leaky (1024, 512, 3, 3)\n",
      "Parsing section convolutional_44\n",
      "conv2d bn leaky (512, 1024, 1, 1)\n",
      "Parsing section convolutional_45\n",
      "conv2d bn leaky (1024, 512, 3, 3)\n",
      "Parsing section shortcut_19\n",
      "Parsing section convolutional_46\n",
      "conv2d bn leaky (512, 1024, 1, 1)\n",
      "Parsing section convolutional_47\n",
      "conv2d bn leaky (1024, 512, 3, 3)\n",
      "Parsing section shortcut_20\n",
      "Parsing section convolutional_48\n",
      "conv2d bn leaky (512, 1024, 1, 1)\n",
      "Parsing section convolutional_49\n",
      "conv2d bn leaky (1024, 512, 3, 3)\n",
      "Parsing section shortcut_21\n",
      "Parsing section convolutional_50\n",
      "conv2d bn leaky (512, 1024, 1, 1)\n",
      "Parsing section convolutional_51\n",
      "conv2d bn leaky (1024, 512, 3, 3)\n",
      "Parsing section shortcut_22\n",
      "Parsing section convolutional_52\n",
      "conv2d bn leaky (512, 1024, 1, 1)\n",
      "Parsing section convolutional_53\n",
      "conv2d bn leaky (1024, 512, 3, 3)\n",
      "Parsing section convolutional_54\n",
      "conv2d bn leaky (512, 1024, 1, 1)\n",
      "Parsing section convolutional_55\n",
      "conv2d bn leaky (1024, 512, 3, 3)\n",
      "Parsing section convolutional_56\n",
      "conv2d bn leaky (512, 1024, 1, 1)\n",
      "Parsing section convolutional_57\n",
      "conv2d bn leaky (1024, 512, 3, 3)\n",
      "Parsing section convolutional_58\n",
      "conv2d    linear (255, 1024, 1, 1)\n",
      "Parsing section yolo_0\n",
      "Parsing section route_0\n",
      "Parsing section convolutional_59\n",
      "conv2d bn leaky (256, 512, 1, 1)\n",
      "Parsing section upsample_0\n",
      "Parsing section route_1\n",
      "Concatenating route layers: [<KerasTensor: shape=(None, 38, 38, 256) dtype=float32 (created by layer 'up_sampling2d')>, <KerasTensor: shape=(None, 38, 38, 512) dtype=float32 (created by layer 'add_18')>]\n",
      "Parsing section convolutional_60\n",
      "conv2d bn leaky (256, 768, 1, 1)\n",
      "Parsing section convolutional_61\n",
      "conv2d bn leaky (512, 256, 3, 3)\n",
      "Parsing section convolutional_62\n",
      "conv2d bn leaky (256, 512, 1, 1)\n",
      "Parsing section convolutional_63\n",
      "conv2d bn leaky (512, 256, 3, 3)\n",
      "Parsing section convolutional_64\n",
      "conv2d bn leaky (256, 512, 1, 1)\n",
      "Parsing section convolutional_65\n",
      "conv2d bn leaky (512, 256, 3, 3)\n",
      "Parsing section convolutional_66\n",
      "conv2d    linear (255, 512, 1, 1)\n",
      "Parsing section yolo_1\n",
      "Parsing section route_2\n",
      "Parsing section convolutional_67\n",
      "conv2d bn leaky (128, 256, 1, 1)\n",
      "Parsing section upsample_1\n",
      "Parsing section route_3\n",
      "Concatenating route layers: [<KerasTensor: shape=(None, 76, 76, 128) dtype=float32 (created by layer 'up_sampling2d_1')>, <KerasTensor: shape=(None, 76, 76, 256) dtype=float32 (created by layer 'add_10')>]\n",
      "Parsing section convolutional_68\n",
      "conv2d bn leaky (128, 384, 1, 1)\n",
      "Parsing section convolutional_69\n",
      "conv2d bn leaky (256, 128, 3, 3)\n",
      "Parsing section convolutional_70\n",
      "conv2d bn leaky (128, 256, 1, 1)\n",
      "Parsing section convolutional_71\n",
      "conv2d bn leaky (256, 128, 3, 3)\n",
      "Parsing section convolutional_72\n",
      "conv2d bn leaky (128, 256, 1, 1)\n",
      "Parsing section convolutional_73\n",
      "conv2d bn leaky (256, 128, 3, 3)\n",
      "Parsing section convolutional_74\n",
      "conv2d    linear (255, 256, 1, 1)\n",
      "Parsing section yolo_2\n",
      "WARNING:tensorflow:Compiled the loaded model, but the compiled metrics have yet to be built. `model.compile_metrics` will be empty until you train or evaluate the model.\n",
      "Saved Keras model to /notebooks/models/yologv3.h5\n",
      "Read 62001757 of 62001757 from Darknet weights.\n"
     ]
    }
   ],
   "source": [
    "# read the model from the config file\n",
    "config_path = '/notebooks/config/yolov3.cfg'\n",
    "weights_path = '/notebooks/models/yolov3.weights'\n",
    "output_path = '/notebooks/models/yologv3.h5'\n",
    "partial_model = parse_config(config_path, output_path=output_path, weights_path=weights_path)"
   ]
  },
  {
   "cell_type": "code",
   "execution_count": 14,
   "metadata": {},
   "outputs": [],
   "source": [
    "def correct_boxes_graph(y_pred_xy, y_pred_wh, input_shape, image_shape):\n",
    "    \"\"\"\n",
    "\n",
    "    Args:\n",
    "        y_pred_xy: (b, fh, fw, num_anchors_this_layer, 2)\n",
    "        y_pred_wh: (b, fh, fw, num_anchors_this_layer, 2)\n",
    "        input_shape: (b, 2), hw\n",
    "        image_shape: (b, 2), hw\n",
    "\n",
    "    Returns:\n",
    "        boxes: (b, fh, fw, num_anchors_this_layer, 4), (y_min, x_min, y_max, x_max)\n",
    "\n",
    "    \"\"\"\n",
    "    box_yx = y_pred_xy[..., ::-1]\n",
    "    box_hw = y_pred_wh[..., ::-1]\n",
    "    input_shape = K.cast(input_shape, K.dtype(box_yx))\n",
    "    image_shape = K.cast(image_shape, K.dtype(box_yx))\n",
    "    new_shape = K.round(image_shape * K.min(input_shape / image_shape))\n",
    "    offset = (input_shape - new_shape) / 2. / input_shape\n",
    "    scale = input_shape / new_shape\n",
    "    box_yx = (box_yx - offset) * scale\n",
    "    box_hw *= scale\n",
    "    box_mins = box_yx - (box_hw / 2.)\n",
    "    box_maxes = box_yx + (box_hw / 2.)\n",
    "    boxes = K.concatenate([\n",
    "        # y_min\n",
    "        box_mins[..., 0:1],\n",
    "        # x_min\n",
    "        box_mins[..., 1:2],\n",
    "        # y_max\n",
    "        box_maxes[..., 0:1],\n",
    "        # x_max\n",
    "        box_maxes[..., 1:2]\n",
    "    ])\n",
    "\n",
    "    # Scale boxes back to original image shape.\n",
    "    boxes *= K.concatenate([image_shape, image_shape])\n",
    "    \n",
    "    return boxes\n"
   ]
  },
  {
   "cell_type": "code",
   "execution_count": 15,
   "metadata": {},
   "outputs": [],
   "source": [
    "def correct_boxes_and_scores_graph(raw_y_pred, anchors, num_classes, input_shape, image_shape):\n",
    "    \"\"\"\n",
    "    Args:\n",
    "        raw_y_pred:\n",
    "        anchors: (num_anchors_this_layer, 2)\n",
    "        num_classes:\n",
    "        input_shape: (2, ) hw\n",
    "        image_shape: (batch_size, 2)\n",
    "\n",
    "    Returns:\n",
    "        boxes: (b, total_num_anchors_this_layer, 4), (y_min, x_min, y_max, x_max)\n",
    "        boxes_scores: (b, total_num_anchors_this_layer, num_classes)\n",
    "\n",
    "    \"\"\"\n",
    "    _, y_pred_box, _, _, y_pred_sigma, y_pred_confidence, y_pred_class_probs = y_pred_graph(raw_y_pred, anchors, input_shape)\n",
    "    y_pred_xy = y_pred_box[..., :2]\n",
    "    y_pred_wh = y_pred_box[..., 2:]\n",
    "    # for batch predictions\n",
    "    batch_size = K.shape(image_shape)[0]\n",
    "    input_shape = K.expand_dims(input_shape, axis=0)\n",
    "    input_shape = K.tile(input_shape, (batch_size, 1))\n",
    "    elems = (y_pred_xy, y_pred_wh, input_shape, image_shape)\n",
    "    boxes = tf.map_fn(lambda x: correct_boxes_graph(x[0], x[1], x[2], x[3]), elems=elems, dtype=tf.float32)\n",
    "    box_scores = y_pred_confidence * y_pred_class_probs * (1 - tf.reduce_mean(y_pred_sigma, axis=-1, keepdims=True))\n",
    "    boxes = tf.reshape(boxes, [batch_size, -1, 4])\n",
    "    box_scores = tf.reshape(box_scores, [batch_size, -1, num_classes])\n",
    "    \n",
    "    return boxes, box_scores"
   ]
  },
  {
   "cell_type": "code",
   "execution_count": 16,
   "metadata": {},
   "outputs": [],
   "source": [
    "def box_iou_graph(b1, b2):\n",
    "    \"\"\"\n",
    "    Return iou tensor\n",
    "\n",
    "    Args:\n",
    "        b1 (tensor): (fh, fw, num_anchors_this_layer, 4)\n",
    "        b2 (tensor): (num_gt_boxes, 4)\n",
    "\n",
    "    Returns:\n",
    "        iou (tensor): shape=(num_b1_boxes, num_b2_boxes)\n",
    "    \"\"\"\n",
    "    # Expand dim to apply broadcasting.\n",
    "    # (fh, fw, num_anchors_this_layer, 1, 4)\n",
    "    b1 = K.expand_dims(b1, -2)\n",
    "    b1_xy = b1[..., :2]\n",
    "    b1_wh = b1[..., 2:4]\n",
    "    b1_wh_half = b1_wh / 2.\n",
    "    b1_mins = b1_xy - b1_wh_half\n",
    "    b1_maxes = b1_xy + b1_wh_half\n",
    "\n",
    "    # Expand dim to apply broadcasting.\n",
    "    # (1, num_gt_boxes, 4)\n",
    "    b2 = K.expand_dims(b2, 0)\n",
    "    b2_xy = b2[..., :2]\n",
    "    b2_wh = b2[..., 2:4]\n",
    "    b2_wh_half = b2_wh / 2.\n",
    "    b2_mins = b2_xy - b2_wh_half\n",
    "    b2_maxes = b2_xy + b2_wh_half\n",
    "\n",
    "    # (fh, fw, num_anchors_this_layer, num_b2_boxes, 2)\n",
    "    intersect_mins = K.maximum(b1_mins, b2_mins)\n",
    "    intersect_maxes = K.minimum(b1_maxes, b2_maxes)\n",
    "    intersect_wh = K.maximum(intersect_maxes - intersect_mins, 0.)\n",
    "    # (fh, fw, num_anchors_this_layer, num_b2_boxes)\n",
    "    intersect_area = intersect_wh[..., 0] * intersect_wh[..., 1]\n",
    "    # (fh, fw, num_anchors_this_layer, 1)\n",
    "    b1_area = b1_wh[..., 0] * b1_wh[..., 1]\n",
    "    # (1, num_gt_boxes)\n",
    "    b2_area = b2_wh[..., 0] * b2_wh[..., 1]\n",
    "    iou = intersect_area / (b1_area + b2_area - intersect_area)\n",
    "    \n",
    "    return iou\n"
   ]
  },
  {
   "cell_type": "code",
   "execution_count": 17,
   "metadata": {},
   "outputs": [],
   "source": [
    "def y_pred_graph(raw_y_pred, anchors, input_shape):\n",
    "    \"\"\"\n",
    "    Convert final layer features to bounding box parameters.\n",
    "\n",
    "    Args:\n",
    "        raw_y_pred: (b, fh, fw, num_anchors_per_layer, 2 + 2 + 1 + num_classes)\n",
    "        anchors:\n",
    "        input_shape:\n",
    "\n",
    "    Returns:\n",
    "        grid: (fh, fw, 1, 2)\n",
    "        y_pred_box: (b, fh, fw, num_anchors_this_layer, 2 + 2)\n",
    "        y_pred_delta_xy:\n",
    "        y_pred_log_wh:\n",
    "        y_pred_confidence: (b, fh, fw, num_anchors_this_layer, 1)\n",
    "        y_pred_class_probs: (b, fh, fw, num_anchors_this_layer, num_classes)\n",
    "    \"\"\"\n",
    "    num_anchors_this_layer = len(anchors)\n",
    "    # Reshape to (batch, height, width, num_anchors, box_params)\n",
    "    anchors_tensor = K.reshape(K.constant(anchors), [1, 1, 1, num_anchors_this_layer, 2])\n",
    "    grid_shape = K.shape(raw_y_pred)[1:3]\n",
    "    grid_y = K.tile(K.reshape(K.arange(0, stop=grid_shape[0]), [-1, 1, 1, 1]), [1, grid_shape[1], 1, 1])\n",
    "    grid_x = K.tile(K.reshape(K.arange(0, stop=grid_shape[1]), [1, -1, 1, 1]), [grid_shape[0], 1, 1, 1])\n",
    "    grid = K.concatenate([grid_x, grid_y], axis=-1)\n",
    "    grid = K.cast(grid, K.dtype(raw_y_pred))\n",
    "    y_pred_xy = (K.sigmoid(raw_y_pred[..., :2]) + grid) / K.cast(grid_shape[::-1], K.dtype(raw_y_pred))\n",
    "    y_pred_wh = K.exp(raw_y_pred[..., 2:4]) * (anchors_tensor / K.cast(input_shape[::-1], K.dtype(raw_y_pred)))\n",
    "    # (batch_size, grid_height, grid_width, num_anchors_this_layer, 4)\n",
    "    y_pred_box = K.concatenate([y_pred_xy, y_pred_wh])\n",
    "    y_pred_delta_xy = K.sigmoid(raw_y_pred[..., :2])\n",
    "    y_pred_log_wh = raw_y_pred[..., 2:4]\n",
    "    y_pred_sigma = K.sigmoid(raw_y_pred[..., 4:8])\n",
    "    y_pred_confidence = K.sigmoid(raw_y_pred[..., 8:9])\n",
    "    y_pred_class_probs = K.sigmoid(raw_y_pred[..., 9:])\n",
    "\n",
    "    return grid, y_pred_box, y_pred_delta_xy, y_pred_log_wh, y_pred_sigma, y_pred_confidence, y_pred_class_probs\n"
   ]
  },
  {
   "cell_type": "code",
   "execution_count": 18,
   "metadata": {},
   "outputs": [],
   "source": [
    "# add the detection layer to the model\n",
    "class DetectionLayer(Layer):\n",
    "    def __init__(self,\n",
    "                 anchors,\n",
    "                 num_classes=20,\n",
    "                 max_boxes_per_class_per_image=20,\n",
    "                 score_threshold=.2,\n",
    "                 iou_threshold=.5,\n",
    "                 max_boxes_per_image=400,\n",
    "                 **kwargs\n",
    "                 ):\n",
    "        super(DetectionLayer, self).__init__(**kwargs)\n",
    "        self.anchors = anchors\n",
    "        self.iou_threshold = iou_threshold\n",
    "        self.max_boxes_per_class_per_image = max_boxes_per_class_per_image\n",
    "        self.max_boxes_per_image = max_boxes_per_image\n",
    "        self.num_classes = num_classes\n",
    "        self.score_threshold = score_threshold\n",
    "\n",
    "    def call(self, inputs, **kwargs):\n",
    "        yolo_outputs = inputs[:-1]\n",
    "        batch_image_shape = inputs[-1]\n",
    "        num_output_layers = len(yolo_outputs)\n",
    "        num_anchors_per_layer = len(self.anchors) // num_output_layers\n",
    "        anchor_mask = [[6, 7, 8], [3, 4, 5], [0, 1, 2]]\n",
    "        # tensor, (2, )\n",
    "        input_shape = K.shape(yolo_outputs[0])[1:3] * 32\n",
    "        grid_shapes = [K.shape(yolo_outputs[l])[1:3]\n",
    "                       for l in range(num_output_layers)]\n",
    "        boxes_all_layers = []\n",
    "        scores_all_layers = []\n",
    "        for l in range(num_output_layers):\n",
    "            yolo_output = yolo_outputs[l]\n",
    "            grid_shape = grid_shapes[l]\n",
    "            raw_y_pred = K.reshape(yolo_output,\n",
    "            [-1, grid_shape[0], grid_shape[1], num_anchors_per_layer, self.num_classes + 9])\n",
    "            boxes_this_layer, scores_this_layer = correct_boxes_and_scores_graph(raw_y_pred,\n",
    "                self.anchors[anchor_mask[l]],\n",
    "                self.num_classes,\n",
    "                input_shape,\n",
    "                batch_image_shape,\n",
    "                )\n",
    "            boxes_all_layers.append(boxes_this_layer)\n",
    "            scores_all_layers.append(scores_this_layer)\n",
    "\n",
    "        # (b, total_num_anchors_all_layers, 4)\n",
    "        boxes = K.concatenate(boxes_all_layers, axis=1)\n",
    "        # (b, total_num_anchors_all_layers, num_classes)\n",
    "        scores = K.concatenate(scores_all_layers, axis=1)\n",
    "        mask = scores >= self.score_threshold\n",
    "        max_boxes_per_class_per_image_tensor = K.constant(\n",
    "            self.max_boxes_per_class_per_image, dtype='int32')\n",
    "        max_boxes_per_image_tensor = K.constant(\n",
    "            self.max_boxes_per_image, dtype='int32')\n",
    "\n",
    "        def evaluate_batch_item(batch_item_boxes, batch_item_scores, batch_item_mask):\n",
    "            boxes_per_class = []\n",
    "            scores_per_class = []\n",
    "            class_ids_per_class = []\n",
    "            for c in range(self.num_classes):\n",
    "                class_boxes = tf.boolean_mask(\n",
    "                    batch_item_boxes, batch_item_mask[:, c])\n",
    "                # (num_keep_this_class_boxes, )\n",
    "                class_scores = tf.boolean_mask(\n",
    "                    batch_item_scores[:, c], batch_item_mask[:, c])\n",
    "                nms_keep_indices = tf.image.non_max_suppression(class_boxes,\n",
    "                                                                class_scores,\n",
    "                                                                max_boxes_per_class_per_image_tensor,\n",
    "                                                                iou_threshold=self.iou_threshold)\n",
    "                class_boxes = K.gather(class_boxes, nms_keep_indices)\n",
    "                class_scores = K.gather(class_scores, nms_keep_indices)\n",
    "                # (num_keep_this_class_boxes, )\n",
    "                class_class_ids = K.ones_like(class_scores, 'float32') * c\n",
    "                boxes_per_class.append(class_boxes)\n",
    "                scores_per_class.append(class_scores)\n",
    "                class_ids_per_class.append(class_class_ids)\n",
    "\n",
    "            batch_item_boxes = K.concatenate(boxes_per_class, axis=0)\n",
    "            batch_item_scores = K.concatenate(scores_per_class, axis=0)\n",
    "            batch_item_scores = K.expand_dims(batch_item_scores, axis=-1)\n",
    "            batch_item_class_ids = K.concatenate(class_ids_per_class, axis=0)\n",
    "            batch_item_class_ids = K.expand_dims(batch_item_class_ids, axis=-1)\n",
    "            # (num_keep_all_class_boxes, 6)\n",
    "            batch_item_predictions = K.concatenate([batch_item_boxes,\n",
    "                                                    batch_item_scores,\n",
    "                                                    batch_item_class_ids], axis=-1)\n",
    "            batch_item_num_predictions = tf.shape(batch_item_boxes)[0]\n",
    "            tf.print(batch_item_num_predictions, [batch_item_num_predictions], '\\nbatch_item_num_predictions', summarize=1000)\n",
    "            batch_item_num_pad = tf.maximum(\n",
    "                max_boxes_per_image_tensor - batch_item_num_predictions, 0)\n",
    "            padded_batch_item_predictions = tf.pad(tensor=batch_item_predictions,\n",
    "                                                   paddings=[\n",
    "                                                       [0, batch_item_num_pad],\n",
    "                                                       [0, 0]],\n",
    "                                                   mode='CONSTANT',\n",
    "                                                   constant_values=0.0)\n",
    "            return padded_batch_item_predictions\n",
    "\n",
    "        predictions = tf.map_fn(lambda x: evaluate_batch_item(x[0], x[1], x[2]),\n",
    "                                elems=(boxes, scores, mask),\n",
    "                                dtype=tf.float32)\n",
    "\n",
    "        predictions = tf.reshape(\n",
    "            predictions, (-1, self.max_boxes_per_image, 6))\n",
    "        return predictions\n",
    "\n",
    "    def compute_output_shape(self, input_shape):\n",
    "        return None, self.max_boxes_per_image, 6\n"
   ]
  },
  {
   "cell_type": "code",
   "execution_count": null,
   "metadata": {},
   "outputs": [],
   "source": [
    "STEPS_PER_EPOCH = 500  "
   ]
  },
  {
   "cell_type": "code",
   "execution_count": null,
   "metadata": {},
   "outputs": [],
   "source": [
    "def nll_loss(x, mu, sigma, sigma_const=0.3):\n",
    "    pi = tf.constant(np.pi)\n",
    "    Z = (2 * pi * (sigma + sigma_const) ** 2) ** 0.5\n",
    "    probability_density = tf.exp(-0.5 * (x - mu) ** 2 / ((sigma + sigma_const) ** 2)) / Z\n",
    "    nll = -tf.math.log(probability_density + 1e-7)\n",
    "    return nll\n",
    "\n",
    "\n",
    "def yolo_loss(args, anchors, num_anchors_per_layer, num_classes, ignore_thresh=.5, print_loss=True):\n",
    "    \"\"\"\n",
    "    Return yolo_loss tensor\n",
    "\n",
    "    Args:\n",
    "        args (list): args[:num_output_layers] the output of yolo_body or tiny_yolo_body\n",
    "            args[num_output_layers:] raw_y_true\n",
    "        anchors (np.array): shape=(N, 2), wh\n",
    "        num_anchors_per_layer (int):\n",
    "        num_classes (int):\n",
    "        ignore_thresh (float): the iou threshold whether to ignore object confidence loss\n",
    "        print_loss:\n",
    "\n",
    "    Returns:\n",
    "        loss: tensor, shape=(1,)\n",
    "\n",
    "    \"\"\"\n",
    "    num_output_layers = len(anchors) // num_anchors_per_layer\n",
    "    yolo_outputs = args[:num_output_layers]\n",
    "    raw_y_trues = args[num_output_layers:]\n",
    "    anchor_masks = [[6, 7, 8], [3, 4, 5], [0, 1, 2]]\n",
    "    input_shape = K.cast(K.shape(yolo_outputs[0])[1:3] * 32, K.dtype(raw_y_trues[0]))\n",
    "    grid_shapes = [K.cast(K.shape(yolo_outputs[l])[1:3], K.dtype(raw_y_trues[0])) for l in range(num_output_layers)]\n",
    "    loss = 0\n",
    "    batch_size = K.shape(yolo_outputs[0])[0]\n",
    "    batch_size_f = K.cast(batch_size, K.dtype(yolo_outputs[0]))\n",
    "\n",
    "    with tqdm(range(num_output_layers), total=STEPS_PER_EPOCH) as pbar:\n",
    "        for l in pbar:\n",
    "            grid_shape = grid_shapes[l]\n",
    "            yolo_output = yolo_outputs[l]\n",
    "            raw_y_pred = K.reshape(yolo_output, [-1, grid_shape[0], grid_shape[1], num_anchors_per_layer, num_classes + 9])\n",
    "            raw_y_true = raw_y_trues[l]\n",
    "            anchor_mask = anchor_masks[l]\n",
    "            # (batch_size, grid_height, grid_width, num_anchors_this_layer, 1)\n",
    "            object_mask = raw_y_true[..., 4:5]\n",
    "            # (batch_size, grid_height, grid_width, num_anchors_this_layer, num_classes)\n",
    "            y_true_class_probs = raw_y_true[..., 5:]\n",
    "            grid, y_pred_box, y_pred_delta_xy, y_pred_log_wh, y_pred_sigma, y_pred_confidence, y_pred_class_probs = \\\n",
    "                y_pred_graph(raw_y_pred, anchors[anchor_mask], input_shape)\n",
    "            y_true_delta_xy = raw_y_true[..., :2] * grid_shapes[l][::-1] - grid\n",
    "            y_true_log_wh = K.log(raw_y_true[..., 2:4] * input_shape[::-1] / anchors[anchor_mask])\n",
    "            y_true_log_wh = K.switch(object_mask, y_true_log_wh, K.zeros_like(y_true_log_wh))\n",
    "            box_loss_scale = 2 - raw_y_true[..., 2:3] * raw_y_true[..., 3:4]\n",
    "            ignore_mask = tf.TensorArray(K.dtype(raw_y_trues[0]), size=1, dynamic_size=True)\n",
    "            object_mask_bool = K.cast(object_mask, 'bool')\n",
    "\n",
    "            def loop_body(b, ignore_mask_):\n",
    "                # (num_gt_boxes, 4)\n",
    "                gt_box = tf.boolean_mask(raw_y_true[b, ..., 0:4], object_mask_bool[b, ..., 0])\n",
    "                # (grid_height, grid_width, num_anchors_this_layer, num_gt_boxes)\n",
    "                iou = box_iou_graph(y_pred_box[b], gt_box)\n",
    "                # (grid_height, grid_width, num_anchors_this_layer)\n",
    "                best_iou = K.max(iou, axis=-1)\n",
    "                ignore_mask_ = ignore_mask_.write(b, K.cast(best_iou < ignore_thresh, K.dtype(gt_box)))\n",
    "                return b + 1, ignore_mask_\n",
    "\n",
    "            _, ignore_mask = tf.while_loop(lambda b, *largs: b < batch_size, loop_body, [0, ignore_mask])\n",
    "            # (batch_size, grid_height, grid_width, num_anchors_this_layer)\n",
    "            ignore_mask = ignore_mask.stack()\n",
    "            # (batch_size, grid_height, grid_width, num_anchors_this_layer, 1)\n",
    "            ignore_mask = K.expand_dims(ignore_mask, -1)\n",
    "\n",
    "            y_true = tf.concat([y_true_delta_xy, y_true_log_wh], axis=-1)\n",
    "            y_pred_mu = tf.concat([y_pred_delta_xy, y_pred_log_wh], axis=-1)\n",
    "            x_loss = nll_loss(y_true[..., 0:1], y_pred_mu[..., 0:1], y_pred_sigma[..., 0:1])\n",
    "            x_loss = object_mask * box_loss_scale * x_loss\n",
    "            y_loss = nll_loss(y_true[..., 1:2], y_pred_mu[..., 1:2], y_pred_sigma[..., 1:2])\n",
    "            y_loss = object_mask * box_loss_scale * y_loss\n",
    "            w_loss = nll_loss(y_true[..., 2:3], y_pred_mu[..., 2:3], y_pred_sigma[..., 2:3])\n",
    "            w_loss = object_mask * box_loss_scale * w_loss\n",
    "            h_loss = nll_loss(y_true[..., 3:4], y_pred_mu[..., 3:4], y_pred_sigma[..., 3:4])\n",
    "            h_loss = object_mask * box_loss_scale * h_loss\n",
    "            confidence_loss = object_mask * K.binary_crossentropy(object_mask, y_pred_confidence) + \\\n",
    "                            (1 - object_mask) * K.binary_crossentropy(object_mask, y_pred_confidence) * ignore_mask\n",
    "            class_loss = object_mask * K.binary_crossentropy(y_true_class_probs, y_pred_class_probs)\n",
    "            x_loss = K.sum(x_loss) / batch_size_f\n",
    "            y_loss = K.sum(y_loss) / batch_size_f\n",
    "            w_loss = K.sum(w_loss) / batch_size_f\n",
    "            h_loss = K.sum(h_loss) / batch_size_f\n",
    "            confidence_loss = K.sum(confidence_loss) / batch_size_f\n",
    "            class_loss = K.sum(class_loss) / batch_size_f\n",
    "            loss += x_loss + y_loss + w_loss + h_loss + confidence_loss + class_loss\n",
    "\n",
    "            # print the loss for debugging\n",
    "\n",
    "\n",
    "            if print_loss:\n",
    "                # convert\n",
    "                pbar.set_description(f'\\nlosses: {str([loss, x_loss, y_loss, w_loss, h_loss, confidence_loss, class_loss])}')\n",
    "\n",
    "                # tf.print('\\nloss: ', loss, [loss, x_loss, y_loss, w_loss, h_loss, confidence_loss, class_loss],)\n",
    "            \n",
    "    return loss\n"
   ]
  },
  {
   "cell_type": "code",
   "execution_count": 20,
   "metadata": {},
   "outputs": [],
   "source": [
    "def compose(*funcs):\n",
    "    \"\"\"\n",
    "    Compose arbitrarily many functions, evaluated left to right.\n",
    "\n",
    "    Reference: https://mathieularose.com/function-composition-in-python/\n",
    "    \"\"\"\n",
    "    # return lambda x: reduce(lambda v, f: f(v), funcs, x)\n",
    "    if funcs:\n",
    "        return reduce(lambda f, g: lambda *args, **kwargs: g(f(*args, **kwargs)), funcs)\n",
    "    else:\n",
    "        raise ValueError('Composition of empty sequence not supported.')\n",
    "\n",
    "\n",
    "def darknet_conv2d(*args, **kwargs):\n",
    "    \"\"\"\n",
    "    Wrapper to set Darknet parameters for Convolution2D.\n",
    "    \"\"\"\n",
    "    darknet_conv_kwargs = dict({'kernel_regularizer': l2(5e-4)})\n",
    "    darknet_conv_kwargs['padding'] = 'valid' if kwargs.get('strides') == (2, 2) else 'same'\n",
    "    darknet_conv_kwargs.update(kwargs)\n",
    "    return Conv2D(*args, **darknet_conv_kwargs)\n",
    "\n",
    "\n",
    "def darknet_conv2d_bn_leaky(*args, **kwargs):\n",
    "    \"\"\"\n",
    "    Darknet Convolution2D followed by BatchNormalization and LeakyReLU.\n",
    "    \"\"\"\n",
    "    no_bias_kwargs = {'use_bias': False}\n",
    "    no_bias_kwargs.update(kwargs)\n",
    "    return compose(\n",
    "        darknet_conv2d(*args, **no_bias_kwargs),\n",
    "        BatchNormalization(),\n",
    "        LeakyReLU(alpha=0.1))\n",
    "\n",
    "\n",
    "def resblock_body(x, num_filters, num_blocks):\n",
    "    \"\"\"\n",
    "    A series of resblocks starting with a downsampling Convolution2D\n",
    "    \"\"\"\n",
    "    # Darknet uses left and top padding instead of 'same' mode\n",
    "    x = ZeroPadding2D(((1, 0), (1, 0)))(x)\n",
    "    x = darknet_conv2d_bn_leaky(num_filters, (3, 3), strides=(2, 2))(x)\n",
    "    for i in range(num_blocks):\n",
    "        y = compose(\n",
    "            darknet_conv2d_bn_leaky(num_filters // 2, (1, 1)),\n",
    "            darknet_conv2d_bn_leaky(num_filters, (3, 3)))(x)\n",
    "        x = Add()([x, y])\n",
    "    return x\n",
    "\n",
    "\n",
    "def darknet_body(x):\n",
    "    \"\"\"\n",
    "    Darknet body having 52 Convolution2D layers\n",
    "    1 + (1 + 1 * 2) + (1 + 2 * 2) + (1 + 8 * 2) + (1 + 8 * 2) + (1 + 4 * 2) = 1 + 3 + 5 + 17 + 17 + 9 = 52\n",
    "    \"\"\"\n",
    "    # (416, 416)\n",
    "    x = darknet_conv2d_bn_leaky(32, (3, 3))(x)\n",
    "    # (208, 208)\n",
    "    x = resblock_body(x, 64, 1)\n",
    "    # (104, 104)\n",
    "    x = resblock_body(x, 128, 2)\n",
    "    # (52, 52)\n",
    "    x = resblock_body(x, 256, 8)\n",
    "    # (26, 26)\n",
    "    x = resblock_body(x, 512, 8)\n",
    "    # (13, 13)\n",
    "    x = resblock_body(x, 1024, 4)\n",
    "    return x\n",
    "\n",
    "\n",
    "def make_last_layers(x, num_filters, out_filters):\n",
    "    \"\"\"\n",
    "    6 conv2d_bn_leaky layers followed by a conv2d layer\n",
    "    \"\"\"\n",
    "    x = compose(darknet_conv2d_bn_leaky(num_filters, (1, 1)),\n",
    "                darknet_conv2d_bn_leaky(num_filters * 2, (3, 3)),\n",
    "                darknet_conv2d_bn_leaky(num_filters, (1, 1)),\n",
    "                darknet_conv2d_bn_leaky(num_filters * 2, (3, 3)),\n",
    "                darknet_conv2d_bn_leaky(num_filters, (1, 1)))(x)\n",
    "    y = compose(darknet_conv2d_bn_leaky(num_filters * 2, (3, 3)),\n",
    "                darknet_conv2d(out_filters, (1, 1)))(x)\n",
    "    return x, y\n",
    "\n",
    "\n",
    "def yolo_body(anchors, num_classes=20, score_threshold=0.01):\n",
    "    \"\"\"\n",
    "    Create YOLO_V3 model CNN body in Keras.\n",
    "\n",
    "    Args:\n",
    "        anchors:\n",
    "        num_classes:\n",
    "        score_threshold:\n",
    "\n",
    "    Returns:\n",
    "\n",
    "    \"\"\"\n",
    "    num_anchors = len(anchors)\n",
    "    num_anchors_per_layer = num_anchors // 3\n",
    "    image_input = Input(shape=(None, None, 3), name='image_input')\n",
    "    fm_13_input = Input(shape=(None, None, num_anchors_per_layer, num_classes + 5), name='fm_13_input')\n",
    "    fm_26_input = Input(shape=(None, None, num_anchors_per_layer, num_classes + 5), name='fm_26_input')\n",
    "    fm_52_input = Input(shape=(None, None, num_anchors_per_layer, num_classes + 5), name='fm_52_input')\n",
    "    image_shape_input = Input(shape=(2,), name='image_shape_input')\n",
    "\n",
    "    darknet = Model([image_input], darknet_body(image_input))\n",
    "    \n",
    "    x, y1 = make_last_layers(darknet.output, 512, num_anchors_per_layer * (num_classes + 9))\n",
    "    x = compose(darknet_conv2d_bn_leaky(256, (1, 1)), UpSampling2D(2))(x)\n",
    "    x = Concatenate()([x, darknet.layers[152].output])\n",
    "    x, y2 = make_last_layers(x, 256, num_anchors_per_layer * (num_classes + 9))\n",
    "    x = compose(darknet_conv2d_bn_leaky(128, (1, 1)), UpSampling2D(2))(x)\n",
    "    x = Concatenate()([x, darknet.layers[92].output])\n",
    "    x, y3 = make_last_layers(x, 128, num_anchors_per_layer * (num_classes + 9))\n",
    "\n",
    "    loss = Lambda(\n",
    "        yolo_loss,\n",
    "        output_shape=(1,),\n",
    "        name='yolo_loss',\n",
    "        arguments={'anchors': anchors,\n",
    "            'num_anchors_per_layer': num_anchors_per_layer,\n",
    "            'num_classes': num_classes,\n",
    "            'ignore_thresh': 0.5})(\n",
    "        [y1, y2, y3, fm_13_input, fm_26_input, fm_52_input])\n",
    "    training_model = Model([image_input, fm_13_input, fm_26_input, fm_52_input], loss, name='yolo')\n",
    "    detections = DetectionLayer(anchors, num_classes=num_classes, score_threshold=score_threshold, name='yolo_detection')(\n",
    "        [y1, y2, y3, image_shape_input])\n",
    "    prediction_model = Model([image_input, image_shape_input], detections, name='yolo')\n",
    "\n",
    "    return training_model, prediction_model\n"
   ]
  },
  {
   "cell_type": "code",
   "execution_count": 21,
   "metadata": {},
   "outputs": [],
   "source": [
    "# hyprameters\n",
    "BATCH_SIZE = 8\n",
    "CONFIDENCE = 0.5\n",
    "NMS_CONF = 0.4\n"
   ]
  },
  {
   "cell_type": "code",
   "execution_count": 22,
   "metadata": {},
   "outputs": [
    {
     "name": "stdout",
     "output_type": "stream",
     "text": [
      "loading annotations into memory...\n",
      "Done (t=12.45s)\n",
      "creating index...\n",
      "index created!\n",
      "loading annotations into memory...\n",
      "Done (t=0.33s)\n",
      "creating index...\n",
      "index created!\n"
     ]
    }
   ],
   "source": [
    "misc_effect = MiscEffect()\n",
    "visual_effect = VisualEffect()\n",
    "\n",
    "\n",
    "train_generator = CocoGenerator(\n",
    "    data_dir='/notebooks/data',\n",
    "    set_name='train2017',\n",
    "    # misc_effect=misc_effect,\n",
    "    # visual_effect=visual_effect,\n",
    "    anchors_path='/notebooks/data/yolo_anchors.txt',\n",
    "    multi_scale=False,\n",
    "    batch_size=BATCH_SIZE,\n",
    "    image_size=608,\n",
    ")\n",
    "\n",
    "val_generator = CocoGenerator(\n",
    "    data_dir='/notebooks/data',\n",
    "    set_name='val2017',\n",
    "    shuffle_groups=False,\n",
    "    anchors_path='/notebooks/data/yolo_anchors.txt',\n",
    "    batch_size=BATCH_SIZE,\n",
    "    image_size=608,\n",
    ")\n"
   ]
  },
  {
   "cell_type": "code",
   "execution_count": 23,
   "metadata": {},
   "outputs": [],
   "source": [
    "def load_classes(namesfile):\n",
    "    fp = open(namesfile, \"r\")\n",
    "    names = fp.read().split(\"\\n\")[:-1]\n",
    "    return names"
   ]
  },
  {
   "cell_type": "code",
   "execution_count": 24,
   "metadata": {},
   "outputs": [
    {
     "name": "stdout",
     "output_type": "stream",
     "text": [
      "['person', 'bicycle', 'car', 'motorbike', 'aeroplane', 'bus', 'train', 'truck', 'boat', 'traffic light', 'fire hydrant', 'stop sign', 'parking meter', 'bench', 'bird', 'cat', 'dog', 'horse', 'sheep', 'cow', 'elephant', 'bear', 'zebra', 'giraffe', 'backpack', 'umbrella', 'handbag', 'tie', 'suitcase', 'frisbee', 'skis', 'snowboard', 'sports ball', 'kite', 'baseball bat', 'baseball glove', 'skateboard', 'surfboard', 'tennis racket', 'bottle', 'wine glass', 'cup', 'fork', 'knife', 'spoon', 'bowl', 'banana', 'apple', 'sandwich', 'orange', 'broccoli', 'carrot', 'hot dog', 'pizza', 'donut', 'cake', 'chair', 'sofa', 'pottedplant', 'bed', 'diningtable', 'toilet', 'tvmonitor', 'laptop', 'mouse', 'remote', 'keyboard', 'cell phone', 'microwave', 'oven', 'toaster', 'sink', 'refrigerator', 'book', 'clock', 'vase', 'scissors', 'teddy bear', 'hair drier', 'toothbrush']\n"
     ]
    }
   ],
   "source": [
    "num_classes = 80\n",
    "classes = load_classes(\"./data/coco.names\")\n",
    "print(classes)"
   ]
  },
  {
   "cell_type": "code",
   "execution_count": 25,
   "metadata": {},
   "outputs": [],
   "source": [
    "# def get_anchors():\n",
    "#         \"\"\"\n",
    "#         loads the anchors from a txt file\n",
    "#         \"\"\"\n",
    "#         anchors = \"10,13,  16,30,  33,23,  30,61,  62,45,  59,119,  116,90,  156,198,  373,326\"\n",
    "#         anchors = [float(x) for x in anchors.split(',')]\n",
    "#         # (N, 2), wh\n",
    "#         return np.array(anchors).reshape(-1, 2)"
   ]
  },
  {
   "cell_type": "code",
   "execution_count": 26,
   "metadata": {},
   "outputs": [
    {
     "name": "stdout",
     "output_type": "stream",
     "text": [
      "anchors:  [[ 10.  13.]\n",
      " [ 16.  30.]\n",
      " [ 33.  23.]\n",
      " [ 30.  61.]\n",
      " [ 62.  45.]\n",
      " [ 59. 119.]\n",
      " [116.  90.]\n",
      " [156. 198.]\n",
      " [373. 326.]]\n"
     ]
    }
   ],
   "source": [
    "input_shape = (608, 608)\n",
    "anchors = train_generator.anchors\n",
    "num_classes = train_generator.num_classes()\n",
    "print(\"anchors: \", anchors)\n"
   ]
  },
  {
   "cell_type": "code",
   "execution_count": 31,
   "metadata": {},
   "outputs": [
    {
     "name": "stderr",
     "output_type": "stream",
     "text": [
      "  0%|          | 0/3 [00:00<?, ?it/s]\n",
      "losses: [<tf.Tensor 'yolo_loss/add_19:0' shape=() dtype=float32>, <tf.Tensor 'yolo_loss/truediv_11:0' shape=() dtype=float32>, <tf.Tensor 'yolo_loss/truediv_12:0' shape=() dtype=float32>, <tf.Tensor 'yolo_loss/truediv_13:0' shape=() dtype=float32>, <tf.Tensor 'yolo_loss/truediv_14:0' shape=() dtype=float32>, <tf.Tensor 'yolo_loss/truediv_15:0' shape=() dtype=float32>, <tf.Tensor 'yolo_loss/truediv_16:0' shape=() dtype=float32>]:   0%|          | 0/3 [00:00<?, ?it/s]\n",
      "losses: [<tf.Tensor 'yolo_loss/add_19:0' shape=() dtype=float32>, <tf.Tensor 'yolo_loss/truediv_11:0' shape=() dtype=float32>, <tf.Tensor 'yolo_loss/truediv_12:0' shape=() dtype=float32>, <tf.Tensor 'yolo_loss/truediv_13:0' shape=() dtype=float32>, <tf.Tensor 'yolo_loss/truediv_14:0' shape=() dtype=float32>, <tf.Tensor 'yolo_loss/truediv_15:0' shape=() dtype=float32>, <tf.Tensor 'yolo_loss/truediv_16:0' shape=() dtype=float32>]:  33%|███▎      | 1/3 [00:00<00:00,  6.03it/s]\n",
      "losses: [<tf.Tensor 'yolo_loss/add_39:0' shape=() dtype=float32>, <tf.Tensor 'yolo_loss/truediv_28:0' shape=() dtype=float32>, <tf.Tensor 'yolo_loss/truediv_29:0' shape=() dtype=float32>, <tf.Tensor 'yolo_loss/truediv_30:0' shape=() dtype=float32>, <tf.Tensor 'yolo_loss/truediv_31:0' shape=() dtype=float32>, <tf.Tensor 'yolo_loss/truediv_32:0' shape=() dtype=float32>, <tf.Tensor 'yolo_loss/truediv_33:0' shape=() dtype=float32>]:  33%|███▎      | 1/3 [00:00<00:00,  6.03it/s]\n",
      "losses: [<tf.Tensor 'yolo_loss/add_39:0' shape=() dtype=float32>, <tf.Tensor 'yolo_loss/truediv_28:0' shape=() dtype=float32>, <tf.Tensor 'yolo_loss/truediv_29:0' shape=() dtype=float32>, <tf.Tensor 'yolo_loss/truediv_30:0' shape=() dtype=float32>, <tf.Tensor 'yolo_loss/truediv_31:0' shape=() dtype=float32>, <tf.Tensor 'yolo_loss/truediv_32:0' shape=() dtype=float32>, <tf.Tensor 'yolo_loss/truediv_33:0' shape=() dtype=float32>]:  67%|██████▋   | 2/3 [00:00<00:00,  5.94it/s]\n",
      "losses: [<tf.Tensor 'yolo_loss/add_59:0' shape=() dtype=float32>, <tf.Tensor 'yolo_loss/truediv_45:0' shape=() dtype=float32>, <tf.Tensor 'yolo_loss/truediv_46:0' shape=() dtype=float32>, <tf.Tensor 'yolo_loss/truediv_47:0' shape=() dtype=float32>, <tf.Tensor 'yolo_loss/truediv_48:0' shape=() dtype=float32>, <tf.Tensor 'yolo_loss/truediv_49:0' shape=() dtype=float32>, <tf.Tensor 'yolo_loss/truediv_50:0' shape=() dtype=float32>]:  67%|██████▋   | 2/3 [00:00<00:00,  5.94it/s]\n",
      "losses: [<tf.Tensor 'yolo_loss/add_59:0' shape=() dtype=float32>, <tf.Tensor 'yolo_loss/truediv_45:0' shape=() dtype=float32>, <tf.Tensor 'yolo_loss/truediv_46:0' shape=() dtype=float32>, <tf.Tensor 'yolo_loss/truediv_47:0' shape=() dtype=float32>, <tf.Tensor 'yolo_loss/truediv_48:0' shape=() dtype=float32>, <tf.Tensor 'yolo_loss/truediv_49:0' shape=() dtype=float32>, <tf.Tensor 'yolo_loss/truediv_50:0' shape=() dtype=float32>]: 100%|██████████| 3/3 [00:00<00:00,  6.01it/s]\n",
      "losses: [<tf.Tensor 'yolo_loss/add_59:0' shape=() dtype=float32>, <tf.Tensor 'yolo_loss/truediv_45:0' shape=() dtype=float32>, <tf.Tensor 'yolo_loss/truediv_46:0' shape=() dtype=float32>, <tf.Tensor 'yolo_loss/truediv_47:0' shape=() dtype=float32>, <tf.Tensor 'yolo_loss/truediv_48:0' shape=() dtype=float32>, <tf.Tensor 'yolo_loss/truediv_49:0' shape=() dtype=float32>, <tf.Tensor 'yolo_loss/truediv_50:0' shape=() dtype=float32>]: 100%|██████████| 3/3 [00:00<00:00,  5.99it/s]\n"
     ]
    },
    {
     "name": "stdout",
     "output_type": "stream",
     "text": [
      "WARNING:tensorflow:From /usr/local/lib/python3.9/dist-packages/tensorflow/python/util/deprecation.py:629: calling map_fn_v2 (from tensorflow.python.ops.map_fn) with dtype is deprecated and will be removed in a future version.\n",
      "Instructions for updating:\n",
      "Use fn_output_signature instead\n"
     ]
    }
   ],
   "source": [
    "\n",
    "model, prediction_model = yolo_body(anchors, num_classes=num_classes)\n",
    "    "
   ]
  },
  {
   "cell_type": "code",
   "execution_count": 32,
   "metadata": {},
   "outputs": [
    {
     "name": "stdout",
     "output_type": "stream",
     "text": [
      "Loading model, this may take a second...\n"
     ]
    },
    {
     "name": "stderr",
     "output_type": "stream",
     "text": [
      "/usr/local/lib/python3.9/dist-packages/keras/optimizers/optimizer_v2/adam.py:110: UserWarning: The `lr` argument is deprecated, use `learning_rate` instead.\n",
      "  super(Adam, self).__init__(name, **kwargs)\n"
     ]
    }
   ],
   "source": [
    "    # create the model\n",
    "print('Loading model, this may take a second...')\n",
    "model.load_weights(\"/notebooks/models/yologv3.h5\", by_name=True, skip_mismatch=True)\n",
    "\n",
    "# freeze_body = 'none'\n",
    "\n",
    "# if freeze_body == 'darknet':\n",
    "#     for i in range(185):\n",
    "#         model.layers[i].trainable = False\n",
    "# elif freeze_body == 'yolo':\n",
    "#     for i in range(len(model.layers) - 7):\n",
    "#         model.layers[i].trainable = False\n",
    "# else:\n",
    "#     pass\n",
    "\n",
    "# compile model\n",
    "model.compile(optimizer=Adam(lr=1e-3), loss={'yolo_loss': lambda y_true, y_pred: y_pred})"
   ]
  },
  {
   "cell_type": "code",
   "execution_count": 33,
   "metadata": {},
   "outputs": [
    {
     "name": "stdout",
     "output_type": "stream",
     "text": [
      "Model: \"yolo\"\n",
      "__________________________________________________________________________________________________\n",
      " Layer (type)                   Output Shape         Param #     Connected to                     \n",
      "==================================================================================================\n",
      " image_input (InputLayer)       [(None, None, None,  0           []                               \n",
      "                                 3)]                                                              \n",
      "                                                                                                  \n",
      " conv2d_225 (Conv2D)            (None, None, None,   864         ['image_input[0][0]']            \n",
      "                                32)                                                               \n",
      "                                                                                                  \n",
      " batch_normalization_216 (Batch  (None, None, None,   128        ['conv2d_225[0][0]']             \n",
      " Normalization)                 32)                                                               \n",
      "                                                                                                  \n",
      " leaky_re_lu_216 (LeakyReLU)    (None, None, None,   0           ['batch_normalization_216[0][0]']\n",
      "                                32)                                                               \n",
      "                                                                                                  \n",
      " zero_padding2d_15 (ZeroPadding  (None, None, None,   0          ['leaky_re_lu_216[0][0]']        \n",
      " 2D)                            32)                                                               \n",
      "                                                                                                  \n",
      " conv2d_226 (Conv2D)            (None, None, None,   18432       ['zero_padding2d_15[0][0]']      \n",
      "                                64)                                                               \n",
      "                                                                                                  \n",
      " batch_normalization_217 (Batch  (None, None, None,   256        ['conv2d_226[0][0]']             \n",
      " Normalization)                 64)                                                               \n",
      "                                                                                                  \n",
      " leaky_re_lu_217 (LeakyReLU)    (None, None, None,   0           ['batch_normalization_217[0][0]']\n",
      "                                64)                                                               \n",
      "                                                                                                  \n",
      " conv2d_227 (Conv2D)            (None, None, None,   2048        ['leaky_re_lu_217[0][0]']        \n",
      "                                32)                                                               \n",
      "                                                                                                  \n",
      " batch_normalization_218 (Batch  (None, None, None,   128        ['conv2d_227[0][0]']             \n",
      " Normalization)                 32)                                                               \n",
      "                                                                                                  \n",
      " leaky_re_lu_218 (LeakyReLU)    (None, None, None,   0           ['batch_normalization_218[0][0]']\n",
      "                                32)                                                               \n",
      "                                                                                                  \n",
      " conv2d_228 (Conv2D)            (None, None, None,   18432       ['leaky_re_lu_218[0][0]']        \n",
      "                                64)                                                               \n",
      "                                                                                                  \n",
      " batch_normalization_219 (Batch  (None, None, None,   256        ['conv2d_228[0][0]']             \n",
      " Normalization)                 64)                                                               \n",
      "                                                                                                  \n",
      " leaky_re_lu_219 (LeakyReLU)    (None, None, None,   0           ['batch_normalization_219[0][0]']\n",
      "                                64)                                                               \n",
      "                                                                                                  \n",
      " add_69 (Add)                   (None, None, None,   0           ['leaky_re_lu_217[0][0]',        \n",
      "                                64)                               'leaky_re_lu_219[0][0]']        \n",
      "                                                                                                  \n",
      " zero_padding2d_16 (ZeroPadding  (None, None, None,   0          ['add_69[0][0]']                 \n",
      " 2D)                            64)                                                               \n",
      "                                                                                                  \n",
      " conv2d_229 (Conv2D)            (None, None, None,   73728       ['zero_padding2d_16[0][0]']      \n",
      "                                128)                                                              \n",
      "                                                                                                  \n",
      " batch_normalization_220 (Batch  (None, None, None,   512        ['conv2d_229[0][0]']             \n",
      " Normalization)                 128)                                                              \n",
      "                                                                                                  \n",
      " leaky_re_lu_220 (LeakyReLU)    (None, None, None,   0           ['batch_normalization_220[0][0]']\n",
      "                                128)                                                              \n",
      "                                                                                                  \n",
      " conv2d_230 (Conv2D)            (None, None, None,   8192        ['leaky_re_lu_220[0][0]']        \n",
      "                                64)                                                               \n",
      "                                                                                                  \n",
      " batch_normalization_221 (Batch  (None, None, None,   256        ['conv2d_230[0][0]']             \n",
      " Normalization)                 64)                                                               \n",
      "                                                                                                  \n",
      " leaky_re_lu_221 (LeakyReLU)    (None, None, None,   0           ['batch_normalization_221[0][0]']\n",
      "                                64)                                                               \n",
      "                                                                                                  \n",
      " conv2d_231 (Conv2D)            (None, None, None,   73728       ['leaky_re_lu_221[0][0]']        \n",
      "                                128)                                                              \n",
      "                                                                                                  \n",
      " batch_normalization_222 (Batch  (None, None, None,   512        ['conv2d_231[0][0]']             \n",
      " Normalization)                 128)                                                              \n",
      "                                                                                                  \n",
      " leaky_re_lu_222 (LeakyReLU)    (None, None, None,   0           ['batch_normalization_222[0][0]']\n",
      "                                128)                                                              \n",
      "                                                                                                  \n",
      " add_70 (Add)                   (None, None, None,   0           ['leaky_re_lu_220[0][0]',        \n",
      "                                128)                              'leaky_re_lu_222[0][0]']        \n",
      "                                                                                                  \n",
      " conv2d_232 (Conv2D)            (None, None, None,   8192        ['add_70[0][0]']                 \n",
      "                                64)                                                               \n",
      "                                                                                                  \n",
      " batch_normalization_223 (Batch  (None, None, None,   256        ['conv2d_232[0][0]']             \n",
      " Normalization)                 64)                                                               \n",
      "                                                                                                  \n",
      " leaky_re_lu_223 (LeakyReLU)    (None, None, None,   0           ['batch_normalization_223[0][0]']\n",
      "                                64)                                                               \n",
      "                                                                                                  \n",
      " conv2d_233 (Conv2D)            (None, None, None,   73728       ['leaky_re_lu_223[0][0]']        \n",
      "                                128)                                                              \n",
      "                                                                                                  \n",
      " batch_normalization_224 (Batch  (None, None, None,   512        ['conv2d_233[0][0]']             \n",
      " Normalization)                 128)                                                              \n",
      "                                                                                                  \n",
      " leaky_re_lu_224 (LeakyReLU)    (None, None, None,   0           ['batch_normalization_224[0][0]']\n",
      "                                128)                                                              \n",
      "                                                                                                  \n",
      " add_71 (Add)                   (None, None, None,   0           ['add_70[0][0]',                 \n",
      "                                128)                              'leaky_re_lu_224[0][0]']        \n",
      "                                                                                                  \n",
      " zero_padding2d_17 (ZeroPadding  (None, None, None,   0          ['add_71[0][0]']                 \n",
      " 2D)                            128)                                                              \n",
      "                                                                                                  \n",
      " conv2d_234 (Conv2D)            (None, None, None,   294912      ['zero_padding2d_17[0][0]']      \n",
      "                                256)                                                              \n",
      "                                                                                                  \n",
      " batch_normalization_225 (Batch  (None, None, None,   1024       ['conv2d_234[0][0]']             \n",
      " Normalization)                 256)                                                              \n",
      "                                                                                                  \n",
      " leaky_re_lu_225 (LeakyReLU)    (None, None, None,   0           ['batch_normalization_225[0][0]']\n",
      "                                256)                                                              \n",
      "                                                                                                  \n",
      " conv2d_235 (Conv2D)            (None, None, None,   32768       ['leaky_re_lu_225[0][0]']        \n",
      "                                128)                                                              \n",
      "                                                                                                  \n",
      " batch_normalization_226 (Batch  (None, None, None,   512        ['conv2d_235[0][0]']             \n",
      " Normalization)                 128)                                                              \n",
      "                                                                                                  \n",
      " leaky_re_lu_226 (LeakyReLU)    (None, None, None,   0           ['batch_normalization_226[0][0]']\n",
      "                                128)                                                              \n",
      "                                                                                                  \n",
      " conv2d_236 (Conv2D)            (None, None, None,   294912      ['leaky_re_lu_226[0][0]']        \n",
      "                                256)                                                              \n",
      "                                                                                                  \n",
      " batch_normalization_227 (Batch  (None, None, None,   1024       ['conv2d_236[0][0]']             \n",
      " Normalization)                 256)                                                              \n",
      "                                                                                                  \n",
      " leaky_re_lu_227 (LeakyReLU)    (None, None, None,   0           ['batch_normalization_227[0][0]']\n",
      "                                256)                                                              \n",
      "                                                                                                  \n",
      " add_72 (Add)                   (None, None, None,   0           ['leaky_re_lu_225[0][0]',        \n",
      "                                256)                              'leaky_re_lu_227[0][0]']        \n",
      "                                                                                                  \n",
      " conv2d_237 (Conv2D)            (None, None, None,   32768       ['add_72[0][0]']                 \n",
      "                                128)                                                              \n",
      "                                                                                                  \n",
      " batch_normalization_228 (Batch  (None, None, None,   512        ['conv2d_237[0][0]']             \n",
      " Normalization)                 128)                                                              \n",
      "                                                                                                  \n",
      " leaky_re_lu_228 (LeakyReLU)    (None, None, None,   0           ['batch_normalization_228[0][0]']\n",
      "                                128)                                                              \n",
      "                                                                                                  \n",
      " conv2d_238 (Conv2D)            (None, None, None,   294912      ['leaky_re_lu_228[0][0]']        \n",
      "                                256)                                                              \n",
      "                                                                                                  \n",
      " batch_normalization_229 (Batch  (None, None, None,   1024       ['conv2d_238[0][0]']             \n",
      " Normalization)                 256)                                                              \n",
      "                                                                                                  \n",
      " leaky_re_lu_229 (LeakyReLU)    (None, None, None,   0           ['batch_normalization_229[0][0]']\n",
      "                                256)                                                              \n",
      "                                                                                                  \n",
      " add_73 (Add)                   (None, None, None,   0           ['add_72[0][0]',                 \n",
      "                                256)                              'leaky_re_lu_229[0][0]']        \n",
      "                                                                                                  \n",
      " conv2d_239 (Conv2D)            (None, None, None,   32768       ['add_73[0][0]']                 \n",
      "                                128)                                                              \n",
      "                                                                                                  \n",
      " batch_normalization_230 (Batch  (None, None, None,   512        ['conv2d_239[0][0]']             \n",
      " Normalization)                 128)                                                              \n",
      "                                                                                                  \n",
      " leaky_re_lu_230 (LeakyReLU)    (None, None, None,   0           ['batch_normalization_230[0][0]']\n",
      "                                128)                                                              \n",
      "                                                                                                  \n",
      " conv2d_240 (Conv2D)            (None, None, None,   294912      ['leaky_re_lu_230[0][0]']        \n",
      "                                256)                                                              \n",
      "                                                                                                  \n",
      " batch_normalization_231 (Batch  (None, None, None,   1024       ['conv2d_240[0][0]']             \n",
      " Normalization)                 256)                                                              \n",
      "                                                                                                  \n",
      " leaky_re_lu_231 (LeakyReLU)    (None, None, None,   0           ['batch_normalization_231[0][0]']\n",
      "                                256)                                                              \n",
      "                                                                                                  \n",
      " add_74 (Add)                   (None, None, None,   0           ['add_73[0][0]',                 \n",
      "                                256)                              'leaky_re_lu_231[0][0]']        \n",
      "                                                                                                  \n",
      " conv2d_241 (Conv2D)            (None, None, None,   32768       ['add_74[0][0]']                 \n",
      "                                128)                                                              \n",
      "                                                                                                  \n",
      " batch_normalization_232 (Batch  (None, None, None,   512        ['conv2d_241[0][0]']             \n",
      " Normalization)                 128)                                                              \n",
      "                                                                                                  \n",
      " leaky_re_lu_232 (LeakyReLU)    (None, None, None,   0           ['batch_normalization_232[0][0]']\n",
      "                                128)                                                              \n",
      "                                                                                                  \n",
      " conv2d_242 (Conv2D)            (None, None, None,   294912      ['leaky_re_lu_232[0][0]']        \n",
      "                                256)                                                              \n",
      "                                                                                                  \n",
      " batch_normalization_233 (Batch  (None, None, None,   1024       ['conv2d_242[0][0]']             \n",
      " Normalization)                 256)                                                              \n",
      "                                                                                                  \n",
      " leaky_re_lu_233 (LeakyReLU)    (None, None, None,   0           ['batch_normalization_233[0][0]']\n",
      "                                256)                                                              \n",
      "                                                                                                  \n",
      " add_75 (Add)                   (None, None, None,   0           ['add_74[0][0]',                 \n",
      "                                256)                              'leaky_re_lu_233[0][0]']        \n",
      "                                                                                                  \n",
      " conv2d_243 (Conv2D)            (None, None, None,   32768       ['add_75[0][0]']                 \n",
      "                                128)                                                              \n",
      "                                                                                                  \n",
      " batch_normalization_234 (Batch  (None, None, None,   512        ['conv2d_243[0][0]']             \n",
      " Normalization)                 128)                                                              \n",
      "                                                                                                  \n",
      " leaky_re_lu_234 (LeakyReLU)    (None, None, None,   0           ['batch_normalization_234[0][0]']\n",
      "                                128)                                                              \n",
      "                                                                                                  \n",
      " conv2d_244 (Conv2D)            (None, None, None,   294912      ['leaky_re_lu_234[0][0]']        \n",
      "                                256)                                                              \n",
      "                                                                                                  \n",
      " batch_normalization_235 (Batch  (None, None, None,   1024       ['conv2d_244[0][0]']             \n",
      " Normalization)                 256)                                                              \n",
      "                                                                                                  \n",
      " leaky_re_lu_235 (LeakyReLU)    (None, None, None,   0           ['batch_normalization_235[0][0]']\n",
      "                                256)                                                              \n",
      "                                                                                                  \n",
      " add_76 (Add)                   (None, None, None,   0           ['add_75[0][0]',                 \n",
      "                                256)                              'leaky_re_lu_235[0][0]']        \n",
      "                                                                                                  \n",
      " conv2d_245 (Conv2D)            (None, None, None,   32768       ['add_76[0][0]']                 \n",
      "                                128)                                                              \n",
      "                                                                                                  \n",
      " batch_normalization_236 (Batch  (None, None, None,   512        ['conv2d_245[0][0]']             \n",
      " Normalization)                 128)                                                              \n",
      "                                                                                                  \n",
      " leaky_re_lu_236 (LeakyReLU)    (None, None, None,   0           ['batch_normalization_236[0][0]']\n",
      "                                128)                                                              \n",
      "                                                                                                  \n",
      " conv2d_246 (Conv2D)            (None, None, None,   294912      ['leaky_re_lu_236[0][0]']        \n",
      "                                256)                                                              \n",
      "                                                                                                  \n",
      " batch_normalization_237 (Batch  (None, None, None,   1024       ['conv2d_246[0][0]']             \n",
      " Normalization)                 256)                                                              \n",
      "                                                                                                  \n",
      " leaky_re_lu_237 (LeakyReLU)    (None, None, None,   0           ['batch_normalization_237[0][0]']\n",
      "                                256)                                                              \n",
      "                                                                                                  \n",
      " add_77 (Add)                   (None, None, None,   0           ['add_76[0][0]',                 \n",
      "                                256)                              'leaky_re_lu_237[0][0]']        \n",
      "                                                                                                  \n",
      " conv2d_247 (Conv2D)            (None, None, None,   32768       ['add_77[0][0]']                 \n",
      "                                128)                                                              \n",
      "                                                                                                  \n",
      " batch_normalization_238 (Batch  (None, None, None,   512        ['conv2d_247[0][0]']             \n",
      " Normalization)                 128)                                                              \n",
      "                                                                                                  \n",
      " leaky_re_lu_238 (LeakyReLU)    (None, None, None,   0           ['batch_normalization_238[0][0]']\n",
      "                                128)                                                              \n",
      "                                                                                                  \n",
      " conv2d_248 (Conv2D)            (None, None, None,   294912      ['leaky_re_lu_238[0][0]']        \n",
      "                                256)                                                              \n",
      "                                                                                                  \n",
      " batch_normalization_239 (Batch  (None, None, None,   1024       ['conv2d_248[0][0]']             \n",
      " Normalization)                 256)                                                              \n",
      "                                                                                                  \n",
      " leaky_re_lu_239 (LeakyReLU)    (None, None, None,   0           ['batch_normalization_239[0][0]']\n",
      "                                256)                                                              \n",
      "                                                                                                  \n",
      " add_78 (Add)                   (None, None, None,   0           ['add_77[0][0]',                 \n",
      "                                256)                              'leaky_re_lu_239[0][0]']        \n",
      "                                                                                                  \n",
      " conv2d_249 (Conv2D)            (None, None, None,   32768       ['add_78[0][0]']                 \n",
      "                                128)                                                              \n",
      "                                                                                                  \n",
      " batch_normalization_240 (Batch  (None, None, None,   512        ['conv2d_249[0][0]']             \n",
      " Normalization)                 128)                                                              \n",
      "                                                                                                  \n",
      " leaky_re_lu_240 (LeakyReLU)    (None, None, None,   0           ['batch_normalization_240[0][0]']\n",
      "                                128)                                                              \n",
      "                                                                                                  \n",
      " conv2d_250 (Conv2D)            (None, None, None,   294912      ['leaky_re_lu_240[0][0]']        \n",
      "                                256)                                                              \n",
      "                                                                                                  \n",
      " batch_normalization_241 (Batch  (None, None, None,   1024       ['conv2d_250[0][0]']             \n",
      " Normalization)                 256)                                                              \n",
      "                                                                                                  \n",
      " leaky_re_lu_241 (LeakyReLU)    (None, None, None,   0           ['batch_normalization_241[0][0]']\n",
      "                                256)                                                              \n",
      "                                                                                                  \n",
      " add_79 (Add)                   (None, None, None,   0           ['add_78[0][0]',                 \n",
      "                                256)                              'leaky_re_lu_241[0][0]']        \n",
      "                                                                                                  \n",
      " zero_padding2d_18 (ZeroPadding  (None, None, None,   0          ['add_79[0][0]']                 \n",
      " 2D)                            256)                                                              \n",
      "                                                                                                  \n",
      " conv2d_251 (Conv2D)            (None, None, None,   1179648     ['zero_padding2d_18[0][0]']      \n",
      "                                512)                                                              \n",
      "                                                                                                  \n",
      " batch_normalization_242 (Batch  (None, None, None,   2048       ['conv2d_251[0][0]']             \n",
      " Normalization)                 512)                                                              \n",
      "                                                                                                  \n",
      " leaky_re_lu_242 (LeakyReLU)    (None, None, None,   0           ['batch_normalization_242[0][0]']\n",
      "                                512)                                                              \n",
      "                                                                                                  \n",
      " conv2d_252 (Conv2D)            (None, None, None,   131072      ['leaky_re_lu_242[0][0]']        \n",
      "                                256)                                                              \n",
      "                                                                                                  \n",
      " batch_normalization_243 (Batch  (None, None, None,   1024       ['conv2d_252[0][0]']             \n",
      " Normalization)                 256)                                                              \n",
      "                                                                                                  \n",
      " leaky_re_lu_243 (LeakyReLU)    (None, None, None,   0           ['batch_normalization_243[0][0]']\n",
      "                                256)                                                              \n",
      "                                                                                                  \n",
      " conv2d_253 (Conv2D)            (None, None, None,   1179648     ['leaky_re_lu_243[0][0]']        \n",
      "                                512)                                                              \n",
      "                                                                                                  \n",
      " batch_normalization_244 (Batch  (None, None, None,   2048       ['conv2d_253[0][0]']             \n",
      " Normalization)                 512)                                                              \n",
      "                                                                                                  \n",
      " leaky_re_lu_244 (LeakyReLU)    (None, None, None,   0           ['batch_normalization_244[0][0]']\n",
      "                                512)                                                              \n",
      "                                                                                                  \n",
      " add_80 (Add)                   (None, None, None,   0           ['leaky_re_lu_242[0][0]',        \n",
      "                                512)                              'leaky_re_lu_244[0][0]']        \n",
      "                                                                                                  \n",
      " conv2d_254 (Conv2D)            (None, None, None,   131072      ['add_80[0][0]']                 \n",
      "                                256)                                                              \n",
      "                                                                                                  \n",
      " batch_normalization_245 (Batch  (None, None, None,   1024       ['conv2d_254[0][0]']             \n",
      " Normalization)                 256)                                                              \n",
      "                                                                                                  \n",
      " leaky_re_lu_245 (LeakyReLU)    (None, None, None,   0           ['batch_normalization_245[0][0]']\n",
      "                                256)                                                              \n",
      "                                                                                                  \n",
      " conv2d_255 (Conv2D)            (None, None, None,   1179648     ['leaky_re_lu_245[0][0]']        \n",
      "                                512)                                                              \n",
      "                                                                                                  \n",
      " batch_normalization_246 (Batch  (None, None, None,   2048       ['conv2d_255[0][0]']             \n",
      " Normalization)                 512)                                                              \n",
      "                                                                                                  \n",
      " leaky_re_lu_246 (LeakyReLU)    (None, None, None,   0           ['batch_normalization_246[0][0]']\n",
      "                                512)                                                              \n",
      "                                                                                                  \n",
      " add_81 (Add)                   (None, None, None,   0           ['add_80[0][0]',                 \n",
      "                                512)                              'leaky_re_lu_246[0][0]']        \n",
      "                                                                                                  \n",
      " conv2d_256 (Conv2D)            (None, None, None,   131072      ['add_81[0][0]']                 \n",
      "                                256)                                                              \n",
      "                                                                                                  \n",
      " batch_normalization_247 (Batch  (None, None, None,   1024       ['conv2d_256[0][0]']             \n",
      " Normalization)                 256)                                                              \n",
      "                                                                                                  \n",
      " leaky_re_lu_247 (LeakyReLU)    (None, None, None,   0           ['batch_normalization_247[0][0]']\n",
      "                                256)                                                              \n",
      "                                                                                                  \n",
      " conv2d_257 (Conv2D)            (None, None, None,   1179648     ['leaky_re_lu_247[0][0]']        \n",
      "                                512)                                                              \n",
      "                                                                                                  \n",
      " batch_normalization_248 (Batch  (None, None, None,   2048       ['conv2d_257[0][0]']             \n",
      " Normalization)                 512)                                                              \n",
      "                                                                                                  \n",
      " leaky_re_lu_248 (LeakyReLU)    (None, None, None,   0           ['batch_normalization_248[0][0]']\n",
      "                                512)                                                              \n",
      "                                                                                                  \n",
      " add_82 (Add)                   (None, None, None,   0           ['add_81[0][0]',                 \n",
      "                                512)                              'leaky_re_lu_248[0][0]']        \n",
      "                                                                                                  \n",
      " conv2d_258 (Conv2D)            (None, None, None,   131072      ['add_82[0][0]']                 \n",
      "                                256)                                                              \n",
      "                                                                                                  \n",
      " batch_normalization_249 (Batch  (None, None, None,   1024       ['conv2d_258[0][0]']             \n",
      " Normalization)                 256)                                                              \n",
      "                                                                                                  \n",
      " leaky_re_lu_249 (LeakyReLU)    (None, None, None,   0           ['batch_normalization_249[0][0]']\n",
      "                                256)                                                              \n",
      "                                                                                                  \n",
      " conv2d_259 (Conv2D)            (None, None, None,   1179648     ['leaky_re_lu_249[0][0]']        \n",
      "                                512)                                                              \n",
      "                                                                                                  \n",
      " batch_normalization_250 (Batch  (None, None, None,   2048       ['conv2d_259[0][0]']             \n",
      " Normalization)                 512)                                                              \n",
      "                                                                                                  \n",
      " leaky_re_lu_250 (LeakyReLU)    (None, None, None,   0           ['batch_normalization_250[0][0]']\n",
      "                                512)                                                              \n",
      "                                                                                                  \n",
      " add_83 (Add)                   (None, None, None,   0           ['add_82[0][0]',                 \n",
      "                                512)                              'leaky_re_lu_250[0][0]']        \n",
      "                                                                                                  \n",
      " conv2d_260 (Conv2D)            (None, None, None,   131072      ['add_83[0][0]']                 \n",
      "                                256)                                                              \n",
      "                                                                                                  \n",
      " batch_normalization_251 (Batch  (None, None, None,   1024       ['conv2d_260[0][0]']             \n",
      " Normalization)                 256)                                                              \n",
      "                                                                                                  \n",
      " leaky_re_lu_251 (LeakyReLU)    (None, None, None,   0           ['batch_normalization_251[0][0]']\n",
      "                                256)                                                              \n",
      "                                                                                                  \n",
      " conv2d_261 (Conv2D)            (None, None, None,   1179648     ['leaky_re_lu_251[0][0]']        \n",
      "                                512)                                                              \n",
      "                                                                                                  \n",
      " batch_normalization_252 (Batch  (None, None, None,   2048       ['conv2d_261[0][0]']             \n",
      " Normalization)                 512)                                                              \n",
      "                                                                                                  \n",
      " leaky_re_lu_252 (LeakyReLU)    (None, None, None,   0           ['batch_normalization_252[0][0]']\n",
      "                                512)                                                              \n",
      "                                                                                                  \n",
      " add_84 (Add)                   (None, None, None,   0           ['add_83[0][0]',                 \n",
      "                                512)                              'leaky_re_lu_252[0][0]']        \n",
      "                                                                                                  \n",
      " conv2d_262 (Conv2D)            (None, None, None,   131072      ['add_84[0][0]']                 \n",
      "                                256)                                                              \n",
      "                                                                                                  \n",
      " batch_normalization_253 (Batch  (None, None, None,   1024       ['conv2d_262[0][0]']             \n",
      " Normalization)                 256)                                                              \n",
      "                                                                                                  \n",
      " leaky_re_lu_253 (LeakyReLU)    (None, None, None,   0           ['batch_normalization_253[0][0]']\n",
      "                                256)                                                              \n",
      "                                                                                                  \n",
      " conv2d_263 (Conv2D)            (None, None, None,   1179648     ['leaky_re_lu_253[0][0]']        \n",
      "                                512)                                                              \n",
      "                                                                                                  \n",
      " batch_normalization_254 (Batch  (None, None, None,   2048       ['conv2d_263[0][0]']             \n",
      " Normalization)                 512)                                                              \n",
      "                                                                                                  \n",
      " leaky_re_lu_254 (LeakyReLU)    (None, None, None,   0           ['batch_normalization_254[0][0]']\n",
      "                                512)                                                              \n",
      "                                                                                                  \n",
      " add_85 (Add)                   (None, None, None,   0           ['add_84[0][0]',                 \n",
      "                                512)                              'leaky_re_lu_254[0][0]']        \n",
      "                                                                                                  \n",
      " conv2d_264 (Conv2D)            (None, None, None,   131072      ['add_85[0][0]']                 \n",
      "                                256)                                                              \n",
      "                                                                                                  \n",
      " batch_normalization_255 (Batch  (None, None, None,   1024       ['conv2d_264[0][0]']             \n",
      " Normalization)                 256)                                                              \n",
      "                                                                                                  \n",
      " leaky_re_lu_255 (LeakyReLU)    (None, None, None,   0           ['batch_normalization_255[0][0]']\n",
      "                                256)                                                              \n",
      "                                                                                                  \n",
      " conv2d_265 (Conv2D)            (None, None, None,   1179648     ['leaky_re_lu_255[0][0]']        \n",
      "                                512)                                                              \n",
      "                                                                                                  \n",
      " batch_normalization_256 (Batch  (None, None, None,   2048       ['conv2d_265[0][0]']             \n",
      " Normalization)                 512)                                                              \n",
      "                                                                                                  \n",
      " leaky_re_lu_256 (LeakyReLU)    (None, None, None,   0           ['batch_normalization_256[0][0]']\n",
      "                                512)                                                              \n",
      "                                                                                                  \n",
      " add_86 (Add)                   (None, None, None,   0           ['add_85[0][0]',                 \n",
      "                                512)                              'leaky_re_lu_256[0][0]']        \n",
      "                                                                                                  \n",
      " conv2d_266 (Conv2D)            (None, None, None,   131072      ['add_86[0][0]']                 \n",
      "                                256)                                                              \n",
      "                                                                                                  \n",
      " batch_normalization_257 (Batch  (None, None, None,   1024       ['conv2d_266[0][0]']             \n",
      " Normalization)                 256)                                                              \n",
      "                                                                                                  \n",
      " leaky_re_lu_257 (LeakyReLU)    (None, None, None,   0           ['batch_normalization_257[0][0]']\n",
      "                                256)                                                              \n",
      "                                                                                                  \n",
      " conv2d_267 (Conv2D)            (None, None, None,   1179648     ['leaky_re_lu_257[0][0]']        \n",
      "                                512)                                                              \n",
      "                                                                                                  \n",
      " batch_normalization_258 (Batch  (None, None, None,   2048       ['conv2d_267[0][0]']             \n",
      " Normalization)                 512)                                                              \n",
      "                                                                                                  \n",
      " leaky_re_lu_258 (LeakyReLU)    (None, None, None,   0           ['batch_normalization_258[0][0]']\n",
      "                                512)                                                              \n",
      "                                                                                                  \n",
      " add_87 (Add)                   (None, None, None,   0           ['add_86[0][0]',                 \n",
      "                                512)                              'leaky_re_lu_258[0][0]']        \n",
      "                                                                                                  \n",
      " zero_padding2d_19 (ZeroPadding  (None, None, None,   0          ['add_87[0][0]']                 \n",
      " 2D)                            512)                                                              \n",
      "                                                                                                  \n",
      " conv2d_268 (Conv2D)            (None, None, None,   4718592     ['zero_padding2d_19[0][0]']      \n",
      "                                1024)                                                             \n",
      "                                                                                                  \n",
      " batch_normalization_259 (Batch  (None, None, None,   4096       ['conv2d_268[0][0]']             \n",
      " Normalization)                 1024)                                                             \n",
      "                                                                                                  \n",
      " leaky_re_lu_259 (LeakyReLU)    (None, None, None,   0           ['batch_normalization_259[0][0]']\n",
      "                                1024)                                                             \n",
      "                                                                                                  \n",
      " conv2d_269 (Conv2D)            (None, None, None,   524288      ['leaky_re_lu_259[0][0]']        \n",
      "                                512)                                                              \n",
      "                                                                                                  \n",
      " batch_normalization_260 (Batch  (None, None, None,   2048       ['conv2d_269[0][0]']             \n",
      " Normalization)                 512)                                                              \n",
      "                                                                                                  \n",
      " leaky_re_lu_260 (LeakyReLU)    (None, None, None,   0           ['batch_normalization_260[0][0]']\n",
      "                                512)                                                              \n",
      "                                                                                                  \n",
      " conv2d_270 (Conv2D)            (None, None, None,   4718592     ['leaky_re_lu_260[0][0]']        \n",
      "                                1024)                                                             \n",
      "                                                                                                  \n",
      " batch_normalization_261 (Batch  (None, None, None,   4096       ['conv2d_270[0][0]']             \n",
      " Normalization)                 1024)                                                             \n",
      "                                                                                                  \n",
      " leaky_re_lu_261 (LeakyReLU)    (None, None, None,   0           ['batch_normalization_261[0][0]']\n",
      "                                1024)                                                             \n",
      "                                                                                                  \n",
      " add_88 (Add)                   (None, None, None,   0           ['leaky_re_lu_259[0][0]',        \n",
      "                                1024)                             'leaky_re_lu_261[0][0]']        \n",
      "                                                                                                  \n",
      " conv2d_271 (Conv2D)            (None, None, None,   524288      ['add_88[0][0]']                 \n",
      "                                512)                                                              \n",
      "                                                                                                  \n",
      " batch_normalization_262 (Batch  (None, None, None,   2048       ['conv2d_271[0][0]']             \n",
      " Normalization)                 512)                                                              \n",
      "                                                                                                  \n",
      " leaky_re_lu_262 (LeakyReLU)    (None, None, None,   0           ['batch_normalization_262[0][0]']\n",
      "                                512)                                                              \n",
      "                                                                                                  \n",
      " conv2d_272 (Conv2D)            (None, None, None,   4718592     ['leaky_re_lu_262[0][0]']        \n",
      "                                1024)                                                             \n",
      "                                                                                                  \n",
      " batch_normalization_263 (Batch  (None, None, None,   4096       ['conv2d_272[0][0]']             \n",
      " Normalization)                 1024)                                                             \n",
      "                                                                                                  \n",
      " leaky_re_lu_263 (LeakyReLU)    (None, None, None,   0           ['batch_normalization_263[0][0]']\n",
      "                                1024)                                                             \n",
      "                                                                                                  \n",
      " add_89 (Add)                   (None, None, None,   0           ['add_88[0][0]',                 \n",
      "                                1024)                             'leaky_re_lu_263[0][0]']        \n",
      "                                                                                                  \n",
      " conv2d_273 (Conv2D)            (None, None, None,   524288      ['add_89[0][0]']                 \n",
      "                                512)                                                              \n",
      "                                                                                                  \n",
      " batch_normalization_264 (Batch  (None, None, None,   2048       ['conv2d_273[0][0]']             \n",
      " Normalization)                 512)                                                              \n",
      "                                                                                                  \n",
      " leaky_re_lu_264 (LeakyReLU)    (None, None, None,   0           ['batch_normalization_264[0][0]']\n",
      "                                512)                                                              \n",
      "                                                                                                  \n",
      " conv2d_274 (Conv2D)            (None, None, None,   4718592     ['leaky_re_lu_264[0][0]']        \n",
      "                                1024)                                                             \n",
      "                                                                                                  \n",
      " batch_normalization_265 (Batch  (None, None, None,   4096       ['conv2d_274[0][0]']             \n",
      " Normalization)                 1024)                                                             \n",
      "                                                                                                  \n",
      " leaky_re_lu_265 (LeakyReLU)    (None, None, None,   0           ['batch_normalization_265[0][0]']\n",
      "                                1024)                                                             \n",
      "                                                                                                  \n",
      " add_90 (Add)                   (None, None, None,   0           ['add_89[0][0]',                 \n",
      "                                1024)                             'leaky_re_lu_265[0][0]']        \n",
      "                                                                                                  \n",
      " conv2d_275 (Conv2D)            (None, None, None,   524288      ['add_90[0][0]']                 \n",
      "                                512)                                                              \n",
      "                                                                                                  \n",
      " batch_normalization_266 (Batch  (None, None, None,   2048       ['conv2d_275[0][0]']             \n",
      " Normalization)                 512)                                                              \n",
      "                                                                                                  \n",
      " leaky_re_lu_266 (LeakyReLU)    (None, None, None,   0           ['batch_normalization_266[0][0]']\n",
      "                                512)                                                              \n",
      "                                                                                                  \n",
      " conv2d_276 (Conv2D)            (None, None, None,   4718592     ['leaky_re_lu_266[0][0]']        \n",
      "                                1024)                                                             \n",
      "                                                                                                  \n",
      " batch_normalization_267 (Batch  (None, None, None,   4096       ['conv2d_276[0][0]']             \n",
      " Normalization)                 1024)                                                             \n",
      "                                                                                                  \n",
      " leaky_re_lu_267 (LeakyReLU)    (None, None, None,   0           ['batch_normalization_267[0][0]']\n",
      "                                1024)                                                             \n",
      "                                                                                                  \n",
      " add_91 (Add)                   (None, None, None,   0           ['add_90[0][0]',                 \n",
      "                                1024)                             'leaky_re_lu_267[0][0]']        \n",
      "                                                                                                  \n",
      " conv2d_277 (Conv2D)            (None, None, None,   524288      ['add_91[0][0]']                 \n",
      "                                512)                                                              \n",
      "                                                                                                  \n",
      " batch_normalization_268 (Batch  (None, None, None,   2048       ['conv2d_277[0][0]']             \n",
      " Normalization)                 512)                                                              \n",
      "                                                                                                  \n",
      " leaky_re_lu_268 (LeakyReLU)    (None, None, None,   0           ['batch_normalization_268[0][0]']\n",
      "                                512)                                                              \n",
      "                                                                                                  \n",
      " conv2d_278 (Conv2D)            (None, None, None,   4718592     ['leaky_re_lu_268[0][0]']        \n",
      "                                1024)                                                             \n",
      "                                                                                                  \n",
      " batch_normalization_269 (Batch  (None, None, None,   4096       ['conv2d_278[0][0]']             \n",
      " Normalization)                 1024)                                                             \n",
      "                                                                                                  \n",
      " leaky_re_lu_269 (LeakyReLU)    (None, None, None,   0           ['batch_normalization_269[0][0]']\n",
      "                                1024)                                                             \n",
      "                                                                                                  \n",
      " conv2d_279 (Conv2D)            (None, None, None,   524288      ['leaky_re_lu_269[0][0]']        \n",
      "                                512)                                                              \n",
      "                                                                                                  \n",
      " batch_normalization_270 (Batch  (None, None, None,   2048       ['conv2d_279[0][0]']             \n",
      " Normalization)                 512)                                                              \n",
      "                                                                                                  \n",
      " leaky_re_lu_270 (LeakyReLU)    (None, None, None,   0           ['batch_normalization_270[0][0]']\n",
      "                                512)                                                              \n",
      "                                                                                                  \n",
      " conv2d_280 (Conv2D)            (None, None, None,   4718592     ['leaky_re_lu_270[0][0]']        \n",
      "                                1024)                                                             \n",
      "                                                                                                  \n",
      " batch_normalization_271 (Batch  (None, None, None,   4096       ['conv2d_280[0][0]']             \n",
      " Normalization)                 1024)                                                             \n",
      "                                                                                                  \n",
      " leaky_re_lu_271 (LeakyReLU)    (None, None, None,   0           ['batch_normalization_271[0][0]']\n",
      "                                1024)                                                             \n",
      "                                                                                                  \n",
      " conv2d_281 (Conv2D)            (None, None, None,   524288      ['leaky_re_lu_271[0][0]']        \n",
      "                                512)                                                              \n",
      "                                                                                                  \n",
      " batch_normalization_272 (Batch  (None, None, None,   2048       ['conv2d_281[0][0]']             \n",
      " Normalization)                 512)                                                              \n",
      "                                                                                                  \n",
      " leaky_re_lu_272 (LeakyReLU)    (None, None, None,   0           ['batch_normalization_272[0][0]']\n",
      "                                512)                                                              \n",
      "                                                                                                  \n",
      " conv2d_284 (Conv2D)            (None, None, None,   131072      ['leaky_re_lu_272[0][0]']        \n",
      "                                256)                                                              \n",
      "                                                                                                  \n",
      " batch_normalization_274 (Batch  (None, None, None,   1024       ['conv2d_284[0][0]']             \n",
      " Normalization)                 256)                                                              \n",
      "                                                                                                  \n",
      " leaky_re_lu_274 (LeakyReLU)    (None, None, None,   0           ['batch_normalization_274[0][0]']\n",
      "                                256)                                                              \n",
      "                                                                                                  \n",
      " up_sampling2d_6 (UpSampling2D)  (None, None, None,   0          ['leaky_re_lu_274[0][0]']        \n",
      "                                256)                                                              \n",
      "                                                                                                  \n",
      " concatenate_6 (Concatenate)    (None, None, None,   0           ['up_sampling2d_6[0][0]',        \n",
      "                                768)                              'add_87[0][0]']                 \n",
      "                                                                                                  \n",
      " conv2d_285 (Conv2D)            (None, None, None,   196608      ['concatenate_6[0][0]']          \n",
      "                                256)                                                              \n",
      "                                                                                                  \n",
      " batch_normalization_275 (Batch  (None, None, None,   1024       ['conv2d_285[0][0]']             \n",
      " Normalization)                 256)                                                              \n",
      "                                                                                                  \n",
      " leaky_re_lu_275 (LeakyReLU)    (None, None, None,   0           ['batch_normalization_275[0][0]']\n",
      "                                256)                                                              \n",
      "                                                                                                  \n",
      " conv2d_286 (Conv2D)            (None, None, None,   1179648     ['leaky_re_lu_275[0][0]']        \n",
      "                                512)                                                              \n",
      "                                                                                                  \n",
      " batch_normalization_276 (Batch  (None, None, None,   2048       ['conv2d_286[0][0]']             \n",
      " Normalization)                 512)                                                              \n",
      "                                                                                                  \n",
      " leaky_re_lu_276 (LeakyReLU)    (None, None, None,   0           ['batch_normalization_276[0][0]']\n",
      "                                512)                                                              \n",
      "                                                                                                  \n",
      " conv2d_287 (Conv2D)            (None, None, None,   131072      ['leaky_re_lu_276[0][0]']        \n",
      "                                256)                                                              \n",
      "                                                                                                  \n",
      " batch_normalization_277 (Batch  (None, None, None,   1024       ['conv2d_287[0][0]']             \n",
      " Normalization)                 256)                                                              \n",
      "                                                                                                  \n",
      " leaky_re_lu_277 (LeakyReLU)    (None, None, None,   0           ['batch_normalization_277[0][0]']\n",
      "                                256)                                                              \n",
      "                                                                                                  \n",
      " conv2d_288 (Conv2D)            (None, None, None,   1179648     ['leaky_re_lu_277[0][0]']        \n",
      "                                512)                                                              \n",
      "                                                                                                  \n",
      " batch_normalization_278 (Batch  (None, None, None,   2048       ['conv2d_288[0][0]']             \n",
      " Normalization)                 512)                                                              \n",
      "                                                                                                  \n",
      " leaky_re_lu_278 (LeakyReLU)    (None, None, None,   0           ['batch_normalization_278[0][0]']\n",
      "                                512)                                                              \n",
      "                                                                                                  \n",
      " conv2d_289 (Conv2D)            (None, None, None,   131072      ['leaky_re_lu_278[0][0]']        \n",
      "                                256)                                                              \n",
      "                                                                                                  \n",
      " batch_normalization_279 (Batch  (None, None, None,   1024       ['conv2d_289[0][0]']             \n",
      " Normalization)                 256)                                                              \n",
      "                                                                                                  \n",
      " leaky_re_lu_279 (LeakyReLU)    (None, None, None,   0           ['batch_normalization_279[0][0]']\n",
      "                                256)                                                              \n",
      "                                                                                                  \n",
      " conv2d_292 (Conv2D)            (None, None, None,   32768       ['leaky_re_lu_279[0][0]']        \n",
      "                                128)                                                              \n",
      "                                                                                                  \n",
      " batch_normalization_281 (Batch  (None, None, None,   512        ['conv2d_292[0][0]']             \n",
      " Normalization)                 128)                                                              \n",
      "                                                                                                  \n",
      " leaky_re_lu_281 (LeakyReLU)    (None, None, None,   0           ['batch_normalization_281[0][0]']\n",
      "                                128)                                                              \n",
      "                                                                                                  \n",
      " up_sampling2d_7 (UpSampling2D)  (None, None, None,   0          ['leaky_re_lu_281[0][0]']        \n",
      "                                128)                                                              \n",
      "                                                                                                  \n",
      " concatenate_7 (Concatenate)    (None, None, None,   0           ['up_sampling2d_7[0][0]',        \n",
      "                                384)                              'add_79[0][0]']                 \n",
      "                                                                                                  \n",
      " conv2d_293 (Conv2D)            (None, None, None,   49152       ['concatenate_7[0][0]']          \n",
      "                                128)                                                              \n",
      "                                                                                                  \n",
      " batch_normalization_282 (Batch  (None, None, None,   512        ['conv2d_293[0][0]']             \n",
      " Normalization)                 128)                                                              \n",
      "                                                                                                  \n",
      " leaky_re_lu_282 (LeakyReLU)    (None, None, None,   0           ['batch_normalization_282[0][0]']\n",
      "                                128)                                                              \n",
      "                                                                                                  \n",
      " conv2d_294 (Conv2D)            (None, None, None,   294912      ['leaky_re_lu_282[0][0]']        \n",
      "                                256)                                                              \n",
      "                                                                                                  \n",
      " batch_normalization_283 (Batch  (None, None, None,   1024       ['conv2d_294[0][0]']             \n",
      " Normalization)                 256)                                                              \n",
      "                                                                                                  \n",
      " leaky_re_lu_283 (LeakyReLU)    (None, None, None,   0           ['batch_normalization_283[0][0]']\n",
      "                                256)                                                              \n",
      "                                                                                                  \n",
      " conv2d_295 (Conv2D)            (None, None, None,   32768       ['leaky_re_lu_283[0][0]']        \n",
      "                                128)                                                              \n",
      "                                                                                                  \n",
      " batch_normalization_284 (Batch  (None, None, None,   512        ['conv2d_295[0][0]']             \n",
      " Normalization)                 128)                                                              \n",
      "                                                                                                  \n",
      " leaky_re_lu_284 (LeakyReLU)    (None, None, None,   0           ['batch_normalization_284[0][0]']\n",
      "                                128)                                                              \n",
      "                                                                                                  \n",
      " conv2d_296 (Conv2D)            (None, None, None,   294912      ['leaky_re_lu_284[0][0]']        \n",
      "                                256)                                                              \n",
      "                                                                                                  \n",
      " batch_normalization_285 (Batch  (None, None, None,   1024       ['conv2d_296[0][0]']             \n",
      " Normalization)                 256)                                                              \n",
      "                                                                                                  \n",
      " leaky_re_lu_285 (LeakyReLU)    (None, None, None,   0           ['batch_normalization_285[0][0]']\n",
      "                                256)                                                              \n",
      "                                                                                                  \n",
      " conv2d_297 (Conv2D)            (None, None, None,   32768       ['leaky_re_lu_285[0][0]']        \n",
      "                                128)                                                              \n",
      "                                                                                                  \n",
      " batch_normalization_286 (Batch  (None, None, None,   512        ['conv2d_297[0][0]']             \n",
      " Normalization)                 128)                                                              \n",
      "                                                                                                  \n",
      " leaky_re_lu_286 (LeakyReLU)    (None, None, None,   0           ['batch_normalization_286[0][0]']\n",
      "                                128)                                                              \n",
      "                                                                                                  \n",
      " conv2d_282 (Conv2D)            (None, None, None,   4718592     ['leaky_re_lu_272[0][0]']        \n",
      "                                1024)                                                             \n",
      "                                                                                                  \n",
      " conv2d_290 (Conv2D)            (None, None, None,   1179648     ['leaky_re_lu_279[0][0]']        \n",
      "                                512)                                                              \n",
      "                                                                                                  \n",
      " conv2d_298 (Conv2D)            (None, None, None,   294912      ['leaky_re_lu_286[0][0]']        \n",
      "                                256)                                                              \n",
      "                                                                                                  \n",
      " batch_normalization_273 (Batch  (None, None, None,   4096       ['conv2d_282[0][0]']             \n",
      " Normalization)                 1024)                                                             \n",
      "                                                                                                  \n",
      " batch_normalization_280 (Batch  (None, None, None,   2048       ['conv2d_290[0][0]']             \n",
      " Normalization)                 512)                                                              \n",
      "                                                                                                  \n",
      " batch_normalization_287 (Batch  (None, None, None,   1024       ['conv2d_298[0][0]']             \n",
      " Normalization)                 256)                                                              \n",
      "                                                                                                  \n",
      " leaky_re_lu_273 (LeakyReLU)    (None, None, None,   0           ['batch_normalization_273[0][0]']\n",
      "                                1024)                                                             \n",
      "                                                                                                  \n",
      " leaky_re_lu_280 (LeakyReLU)    (None, None, None,   0           ['batch_normalization_280[0][0]']\n",
      "                                512)                                                              \n",
      "                                                                                                  \n",
      " leaky_re_lu_287 (LeakyReLU)    (None, None, None,   0           ['batch_normalization_287[0][0]']\n",
      "                                256)                                                              \n",
      "                                                                                                  \n",
      " conv2d_283 (Conv2D)            (None, None, None,   273675      ['leaky_re_lu_273[0][0]']        \n",
      "                                267)                                                              \n",
      "                                                                                                  \n",
      " conv2d_291 (Conv2D)            (None, None, None,   136971      ['leaky_re_lu_280[0][0]']        \n",
      "                                267)                                                              \n",
      "                                                                                                  \n",
      " conv2d_299 (Conv2D)            (None, None, None,   68619       ['leaky_re_lu_287[0][0]']        \n",
      "                                267)                                                              \n",
      "                                                                                                  \n",
      " fm_13_input (InputLayer)       [(None, None, None,  0           []                               \n",
      "                                 3, 85)]                                                          \n",
      "                                                                                                  \n",
      " fm_26_input (InputLayer)       [(None, None, None,  0           []                               \n",
      "                                 3, 85)]                                                          \n",
      "                                                                                                  \n",
      " fm_52_input (InputLayer)       [(None, None, None,  0           []                               \n",
      "                                 3, 85)]                                                          \n",
      "                                                                                                  \n",
      " yolo_loss (Lambda)             ()                   0           ['conv2d_283[0][0]',             \n",
      "                                                                  'conv2d_291[0][0]',             \n",
      "                                                                  'conv2d_299[0][0]',             \n",
      "                                                                  'fm_13_input[0][0]',            \n",
      "                                                                  'fm_26_input[0][0]',            \n",
      "                                                                  'fm_52_input[0][0]']            \n",
      "                                                                                                  \n",
      "==================================================================================================\n",
      "Total params: 62,023,297\n",
      "Trainable params: 61,970,689\n",
      "Non-trainable params: 52,608\n",
      "__________________________________________________________________________________________________\n"
     ]
    }
   ],
   "source": [
    "model.summary()"
   ]
  },
  {
   "cell_type": "code",
   "execution_count": 34,
   "metadata": {},
   "outputs": [],
   "source": [
    "# create the callbacks\n",
    "logging = TensorBoard(log_dir='/notebooks/logs')\n",
    "checkpoint = ModelCheckpoint('/notebooks/models/yologv3.h5', monitor='val_loss', verbose=1, save_best_only=True, mode='min', save_freq='epoch')\n",
    "reduce_on_plateau = ReduceLROnPlateau(monitor='val_loss', factor=0.1, patience=3, verbose=1, mode='min', min_delta=0.0001, cooldown=0, min_lr=0)\n",
    "early_stopping = EarlyStopping(monitor='val_loss', min_delta=0.0001, patience=6, verbose=1, mode='min')\n",
    "\n",
    "\n",
    "callbacks = [\n",
    "    checkpoint,\n",
    "    reduce_on_plateau,\n",
    "    # early_stopping\n",
    "]"
   ]
  },
  {
   "cell_type": "code",
   "execution_count": 35,
   "metadata": {},
   "outputs": [],
   "source": [
    "STEPS_PER_EPOCH = len(train_generator)\n",
    "STEPS_PER_EPOCH = 500   \n",
    "EPOCHS = 100\n",
    "WORKERS = 1\n",
    "MULTI_PROCESSING = False\n",
    "MAX_QUEUE_SIZE = 10\n"
   ]
  },
  {
   "cell_type": "code",
   "execution_count": 36,
   "metadata": {},
   "outputs": [],
   "source": [
    "def draw_boxes(image, boxes, classes=classes):\n",
    "    '''Draws bounding boxes on the image'''\n",
    "    labels = boxes['labels']\n",
    "    boxes = boxes['bboxes']\n",
    "    for i in range(len(boxes)):\n",
    "        box = boxes[i]\n",
    "        label = labels[i]\n",
    "        cv2.rectangle(image, (box[0], box[1]), (box[2], box[3]), (255, 0, 0), 2)\n",
    "        cv2.putText(image, classes[label], (box[0], box[1]), cv2.FONT_HERSHEY_SIMPLEX, 1, (255, 0, 0), 2)"
   ]
  },
  {
   "cell_type": "code",
   "execution_count": 37,
   "metadata": {},
   "outputs": [],
   "source": [
    "# display first image in training set with bounding boxes\n",
    "image = train_generator.load_image(0)\n",
    "boxes = train_generator.load_annotations(0)\n",
    "# print(boxes)\n",
    "# draw_boxes(image, boxes, classes=classes)\n",
    "plt.show()\n"
   ]
  },
  {
   "cell_type": "code",
   "execution_count": 38,
   "metadata": {},
   "outputs": [
    {
     "name": "stdout",
     "output_type": "stream",
     "text": [
      "WARNING:tensorflow:From /tmp/ipykernel_892/3826567391.py:9: The name tf.keras.backend.set_session is deprecated. Please use tf.compat.v1.keras.backend.set_session instead.\n",
      "\n"
     ]
    }
   ],
   "source": [
    "def get_session():\n",
    "    \"\"\"\n",
    "    Construct a modified tf session.\n",
    "    \"\"\"\n",
    "    config = tf.compat.v1.ConfigProto()\n",
    "    config.gpu_options.allow_growth = True\n",
    "    return tf.compat.v1.Session(config=config)\n",
    "\n",
    "tf.compat.v1.keras.backend.set_session(get_session())"
   ]
  },
  {
   "cell_type": "code",
   "execution_count": 39,
   "metadata": {},
   "outputs": [
    {
     "name": "stdout",
     "output_type": "stream",
     "text": [
      "Epoch 1/100\n"
     ]
    },
    {
     "name": "stderr",
     "output_type": "stream",
     "text": [
      "  0%|          | 0/3 [00:00<?, ?it/s]\n",
      "losses: [<tf.Tensor 'yolo/yolo_loss/add_19:0' shape=() dtype=float32>, <tf.Tensor 'yolo/yolo_loss/truediv_11:0' shape=() dtype=float32>, <tf.Tensor 'yolo/yolo_loss/truediv_12:0' shape=() dtype=float32>, <tf.Tensor 'yolo/yolo_loss/truediv_13:0' shape=() dtype=float32>, <tf.Tensor 'yolo/yolo_loss/truediv_14:0' shape=() dtype=float32>, <tf.Tensor 'yolo/yolo_loss/truediv_15:0' shape=() dtype=float32>, <tf.Tensor 'yolo/yolo_loss/truediv_16:0' shape=() dtype=float32>]:   0%|          | 0/3 [00:00<?, ?it/s]\n",
      "losses: [<tf.Tensor 'yolo/yolo_loss/add_19:0' shape=() dtype=float32>, <tf.Tensor 'yolo/yolo_loss/truediv_11:0' shape=() dtype=float32>, <tf.Tensor 'yolo/yolo_loss/truediv_12:0' shape=() dtype=float32>, <tf.Tensor 'yolo/yolo_loss/truediv_13:0' shape=() dtype=float32>, <tf.Tensor 'yolo/yolo_loss/truediv_14:0' shape=() dtype=float32>, <tf.Tensor 'yolo/yolo_loss/truediv_15:0' shape=() dtype=float32>, <tf.Tensor 'yolo/yolo_loss/truediv_16:0' shape=() dtype=float32>]:  33%|███▎      | 1/3 [00:00<00:00,  5.21it/s]\n",
      "losses: [<tf.Tensor 'yolo/yolo_loss/add_39:0' shape=() dtype=float32>, <tf.Tensor 'yolo/yolo_loss/truediv_28:0' shape=() dtype=float32>, <tf.Tensor 'yolo/yolo_loss/truediv_29:0' shape=() dtype=float32>, <tf.Tensor 'yolo/yolo_loss/truediv_30:0' shape=() dtype=float32>, <tf.Tensor 'yolo/yolo_loss/truediv_31:0' shape=() dtype=float32>, <tf.Tensor 'yolo/yolo_loss/truediv_32:0' shape=() dtype=float32>, <tf.Tensor 'yolo/yolo_loss/truediv_33:0' shape=() dtype=float32>]:  33%|███▎      | 1/3 [00:00<00:00,  5.21it/s]\n",
      "losses: [<tf.Tensor 'yolo/yolo_loss/add_39:0' shape=() dtype=float32>, <tf.Tensor 'yolo/yolo_loss/truediv_28:0' shape=() dtype=float32>, <tf.Tensor 'yolo/yolo_loss/truediv_29:0' shape=() dtype=float32>, <tf.Tensor 'yolo/yolo_loss/truediv_30:0' shape=() dtype=float32>, <tf.Tensor 'yolo/yolo_loss/truediv_31:0' shape=() dtype=float32>, <tf.Tensor 'yolo/yolo_loss/truediv_32:0' shape=() dtype=float32>, <tf.Tensor 'yolo/yolo_loss/truediv_33:0' shape=() dtype=float32>]:  67%|██████▋   | 2/3 [00:00<00:00,  5.26it/s]\n",
      "losses: [<tf.Tensor 'yolo/yolo_loss/add_59:0' shape=() dtype=float32>, <tf.Tensor 'yolo/yolo_loss/truediv_45:0' shape=() dtype=float32>, <tf.Tensor 'yolo/yolo_loss/truediv_46:0' shape=() dtype=float32>, <tf.Tensor 'yolo/yolo_loss/truediv_47:0' shape=() dtype=float32>, <tf.Tensor 'yolo/yolo_loss/truediv_48:0' shape=() dtype=float32>, <tf.Tensor 'yolo/yolo_loss/truediv_49:0' shape=() dtype=float32>, <tf.Tensor 'yolo/yolo_loss/truediv_50:0' shape=() dtype=float32>]:  67%|██████▋   | 2/3 [00:00<00:00,  5.26it/s]\n",
      "losses: [<tf.Tensor 'yolo/yolo_loss/add_59:0' shape=() dtype=float32>, <tf.Tensor 'yolo/yolo_loss/truediv_45:0' shape=() dtype=float32>, <tf.Tensor 'yolo/yolo_loss/truediv_46:0' shape=() dtype=float32>, <tf.Tensor 'yolo/yolo_loss/truediv_47:0' shape=() dtype=float32>, <tf.Tensor 'yolo/yolo_loss/truediv_48:0' shape=() dtype=float32>, <tf.Tensor 'yolo/yolo_loss/truediv_49:0' shape=() dtype=float32>, <tf.Tensor 'yolo/yolo_loss/truediv_50:0' shape=() dtype=float32>]: 100%|██████████| 3/3 [00:00<00:00,  5.32it/s]\n",
      "losses: [<tf.Tensor 'yolo/yolo_loss/add_59:0' shape=() dtype=float32>, <tf.Tensor 'yolo/yolo_loss/truediv_45:0' shape=() dtype=float32>, <tf.Tensor 'yolo/yolo_loss/truediv_46:0' shape=() dtype=float32>, <tf.Tensor 'yolo/yolo_loss/truediv_47:0' shape=() dtype=float32>, <tf.Tensor 'yolo/yolo_loss/truediv_48:0' shape=() dtype=float32>, <tf.Tensor 'yolo/yolo_loss/truediv_49:0' shape=() dtype=float32>, <tf.Tensor 'yolo/yolo_loss/truediv_50:0' shape=() dtype=float32>]: 100%|██████████| 3/3 [00:00<00:00,  5.29it/s]\n",
      "  0%|          | 0/3 [00:00<?, ?it/s]\n",
      "losses: [<tf.Tensor 'yolo/yolo_loss/add_19:0' shape=() dtype=float32>, <tf.Tensor 'yolo/yolo_loss/truediv_11:0' shape=() dtype=float32>, <tf.Tensor 'yolo/yolo_loss/truediv_12:0' shape=() dtype=float32>, <tf.Tensor 'yolo/yolo_loss/truediv_13:0' shape=() dtype=float32>, <tf.Tensor 'yolo/yolo_loss/truediv_14:0' shape=() dtype=float32>, <tf.Tensor 'yolo/yolo_loss/truediv_15:0' shape=() dtype=float32>, <tf.Tensor 'yolo/yolo_loss/truediv_16:0' shape=() dtype=float32>]:   0%|          | 0/3 [00:00<?, ?it/s]\n",
      "losses: [<tf.Tensor 'yolo/yolo_loss/add_19:0' shape=() dtype=float32>, <tf.Tensor 'yolo/yolo_loss/truediv_11:0' shape=() dtype=float32>, <tf.Tensor 'yolo/yolo_loss/truediv_12:0' shape=() dtype=float32>, <tf.Tensor 'yolo/yolo_loss/truediv_13:0' shape=() dtype=float32>, <tf.Tensor 'yolo/yolo_loss/truediv_14:0' shape=() dtype=float32>, <tf.Tensor 'yolo/yolo_loss/truediv_15:0' shape=() dtype=float32>, <tf.Tensor 'yolo/yolo_loss/truediv_16:0' shape=() dtype=float32>]:  33%|███▎      | 1/3 [00:00<00:00,  5.26it/s]\n",
      "losses: [<tf.Tensor 'yolo/yolo_loss/add_39:0' shape=() dtype=float32>, <tf.Tensor 'yolo/yolo_loss/truediv_28:0' shape=() dtype=float32>, <tf.Tensor 'yolo/yolo_loss/truediv_29:0' shape=() dtype=float32>, <tf.Tensor 'yolo/yolo_loss/truediv_30:0' shape=() dtype=float32>, <tf.Tensor 'yolo/yolo_loss/truediv_31:0' shape=() dtype=float32>, <tf.Tensor 'yolo/yolo_loss/truediv_32:0' shape=() dtype=float32>, <tf.Tensor 'yolo/yolo_loss/truediv_33:0' shape=() dtype=float32>]:  33%|███▎      | 1/3 [00:00<00:00,  5.26it/s]\n",
      "losses: [<tf.Tensor 'yolo/yolo_loss/add_39:0' shape=() dtype=float32>, <tf.Tensor 'yolo/yolo_loss/truediv_28:0' shape=() dtype=float32>, <tf.Tensor 'yolo/yolo_loss/truediv_29:0' shape=() dtype=float32>, <tf.Tensor 'yolo/yolo_loss/truediv_30:0' shape=() dtype=float32>, <tf.Tensor 'yolo/yolo_loss/truediv_31:0' shape=() dtype=float32>, <tf.Tensor 'yolo/yolo_loss/truediv_32:0' shape=() dtype=float32>, <tf.Tensor 'yolo/yolo_loss/truediv_33:0' shape=() dtype=float32>]:  67%|██████▋   | 2/3 [00:00<00:00,  5.34it/s]\n",
      "losses: [<tf.Tensor 'yolo/yolo_loss/add_59:0' shape=() dtype=float32>, <tf.Tensor 'yolo/yolo_loss/truediv_45:0' shape=() dtype=float32>, <tf.Tensor 'yolo/yolo_loss/truediv_46:0' shape=() dtype=float32>, <tf.Tensor 'yolo/yolo_loss/truediv_47:0' shape=() dtype=float32>, <tf.Tensor 'yolo/yolo_loss/truediv_48:0' shape=() dtype=float32>, <tf.Tensor 'yolo/yolo_loss/truediv_49:0' shape=() dtype=float32>, <tf.Tensor 'yolo/yolo_loss/truediv_50:0' shape=() dtype=float32>]:  67%|██████▋   | 2/3 [00:00<00:00,  5.34it/s]\n",
      "losses: [<tf.Tensor 'yolo/yolo_loss/add_59:0' shape=() dtype=float32>, <tf.Tensor 'yolo/yolo_loss/truediv_45:0' shape=() dtype=float32>, <tf.Tensor 'yolo/yolo_loss/truediv_46:0' shape=() dtype=float32>, <tf.Tensor 'yolo/yolo_loss/truediv_47:0' shape=() dtype=float32>, <tf.Tensor 'yolo/yolo_loss/truediv_48:0' shape=() dtype=float32>, <tf.Tensor 'yolo/yolo_loss/truediv_49:0' shape=() dtype=float32>, <tf.Tensor 'yolo/yolo_loss/truediv_50:0' shape=() dtype=float32>]: 100%|██████████| 3/3 [00:00<00:00,  5.26it/s]\n",
      "losses: [<tf.Tensor 'yolo/yolo_loss/add_59:0' shape=() dtype=float32>, <tf.Tensor 'yolo/yolo_loss/truediv_45:0' shape=() dtype=float32>, <tf.Tensor 'yolo/yolo_loss/truediv_46:0' shape=() dtype=float32>, <tf.Tensor 'yolo/yolo_loss/truediv_47:0' shape=() dtype=float32>, <tf.Tensor 'yolo/yolo_loss/truediv_48:0' shape=() dtype=float32>, <tf.Tensor 'yolo/yolo_loss/truediv_49:0' shape=() dtype=float32>, <tf.Tensor 'yolo/yolo_loss/truediv_50:0' shape=() dtype=float32>]: 100%|██████████| 3/3 [00:00<00:00,  5.27it/s]\n",
      "2022-12-11 20:35:09.880181: E tensorflow/core/grappler/optimizers/meta_optimizer.cc:903] layout failed: INVALID_ARGUMENT: Subshape must have computed start >= end since stride is negative, but is 0 and 2 (computed from start 0 and end 9223372036854775807 over shape with rank 2 and stride-1)\n"
     ]
    },
    {
     "name": "stdout",
     "output_type": "stream",
     "text": [
      " 22/500 [>.............................] - ETA: 3:53 - loss: 5462.6909"
     ]
    },
    {
     "name": "stderr",
     "output_type": "stream",
     "text": [
      "/notebooks/generators/common.py:180: UserWarning: Image with id 66514 (shape (640, 426, 3)) contains no valid boxes before transform\n",
      "  warnings.warn('Image with id {} (shape {}) contains no valid boxes before transform'.format(\n",
      "/notebooks/generators/common.py:230: UserWarning: Image with id 66514 (shape (608, 608, 3)) contains no valid boxes after transform\n",
      "  warnings.warn('Image with id {} (shape {}) contains no valid boxes after transform'.format(\n"
     ]
    },
    {
     "name": "stdout",
     "output_type": "stream",
     "text": [
      " 35/500 [=>............................] - ETA: 3:54 - loss: 3852.8821"
     ]
    },
    {
     "name": "stderr",
     "output_type": "stream",
     "text": [
      "/notebooks/generators/common.py:180: UserWarning: Image with id 114681 (shape (640, 427, 3)) contains no valid boxes before transform\n",
      "  warnings.warn('Image with id {} (shape {}) contains no valid boxes before transform'.format(\n",
      "/notebooks/generators/common.py:230: UserWarning: Image with id 114681 (shape (608, 608, 3)) contains no valid boxes after transform\n",
      "  warnings.warn('Image with id {} (shape {}) contains no valid boxes after transform'.format(\n"
     ]
    },
    {
     "name": "stdout",
     "output_type": "stream",
     "text": [
      " 51/500 [==>...........................] - ETA: 3:44 - loss: 2846.3882"
     ]
    },
    {
     "name": "stderr",
     "output_type": "stream",
     "text": [
      "/notebooks/generators/common.py:180: UserWarning: Image with id 64510 (shape (463, 640, 3)) contains no valid boxes before transform\n",
      "  warnings.warn('Image with id {} (shape {}) contains no valid boxes before transform'.format(\n",
      "/notebooks/generators/common.py:230: UserWarning: Image with id 64510 (shape (608, 608, 3)) contains no valid boxes after transform\n",
      "  warnings.warn('Image with id {} (shape {}) contains no valid boxes after transform'.format(\n"
     ]
    },
    {
     "name": "stdout",
     "output_type": "stream",
     "text": [
      " 56/500 [==>...........................] - ETA: 3:41 - loss: 2634.7996"
     ]
    },
    {
     "name": "stderr",
     "output_type": "stream",
     "text": [
      "/notebooks/generators/common.py:180: UserWarning: Image with id 80822 (shape (640, 426, 3)) contains no valid boxes before transform\n",
      "  warnings.warn('Image with id {} (shape {}) contains no valid boxes before transform'.format(\n",
      "/notebooks/generators/common.py:230: UserWarning: Image with id 80822 (shape (608, 608, 3)) contains no valid boxes after transform\n",
      "  warnings.warn('Image with id {} (shape {}) contains no valid boxes after transform'.format(\n"
     ]
    },
    {
     "name": "stdout",
     "output_type": "stream",
     "text": [
      " 74/500 [===>..........................] - ETA: 3:32 - loss: 2091.5007"
     ]
    },
    {
     "name": "stderr",
     "output_type": "stream",
     "text": [
      "/notebooks/generators/common.py:180: UserWarning: Image with id 3796 (shape (375, 500, 3)) contains no valid boxes before transform\n",
      "  warnings.warn('Image with id {} (shape {}) contains no valid boxes before transform'.format(\n",
      "/notebooks/generators/common.py:230: UserWarning: Image with id 3796 (shape (608, 608, 3)) contains no valid boxes after transform\n",
      "  warnings.warn('Image with id {} (shape {}) contains no valid boxes after transform'.format(\n"
     ]
    },
    {
     "name": "stdout",
     "output_type": "stream",
     "text": [
      " 84/500 [====>.........................] - ETA: 3:26 - loss: 1883.5906"
     ]
    },
    {
     "name": "stderr",
     "output_type": "stream",
     "text": [
      "/notebooks/generators/common.py:180: UserWarning: Image with id 113613 (shape (281, 500, 3)) contains no valid boxes before transform\n",
      "  warnings.warn('Image with id {} (shape {}) contains no valid boxes before transform'.format(\n",
      "/notebooks/generators/common.py:230: UserWarning: Image with id 113613 (shape (608, 608, 3)) contains no valid boxes after transform\n",
      "  warnings.warn('Image with id {} (shape {}) contains no valid boxes after transform'.format(\n"
     ]
    },
    {
     "name": "stdout",
     "output_type": "stream",
     "text": [
      " 87/500 [====>.........................] - ETA: 3:25 - loss: 1828.2382"
     ]
    },
    {
     "name": "stderr",
     "output_type": "stream",
     "text": [
      "/notebooks/generators/common.py:180: UserWarning: Image with id 76576 (shape (375, 500, 3)) contains no valid boxes before transform\n",
      "  warnings.warn('Image with id {} (shape {}) contains no valid boxes before transform'.format(\n",
      "/notebooks/generators/common.py:230: UserWarning: Image with id 76576 (shape (608, 608, 3)) contains no valid boxes after transform\n",
      "  warnings.warn('Image with id {} (shape {}) contains no valid boxes after transform'.format(\n"
     ]
    },
    {
     "name": "stdout",
     "output_type": "stream",
     "text": [
      " 88/500 [====>.........................] - ETA: 3:24 - loss: 1810.5668"
     ]
    },
    {
     "name": "stderr",
     "output_type": "stream",
     "text": [
      "/notebooks/generators/common.py:180: UserWarning: Image with id 105414 (shape (508, 640, 3)) contains no valid boxes before transform\n",
      "  warnings.warn('Image with id {} (shape {}) contains no valid boxes before transform'.format(\n",
      "/notebooks/generators/common.py:230: UserWarning: Image with id 105414 (shape (608, 608, 3)) contains no valid boxes after transform\n",
      "  warnings.warn('Image with id {} (shape {}) contains no valid boxes after transform'.format(\n"
     ]
    },
    {
     "name": "stdout",
     "output_type": "stream",
     "text": [
      "113/500 [=====>........................] - ETA: 3:12 - loss: 1468.6010"
     ]
    },
    {
     "name": "stderr",
     "output_type": "stream",
     "text": [
      "/notebooks/generators/common.py:180: UserWarning: Image with id 92160 (shape (426, 640, 3)) contains no valid boxes before transform\n",
      "  warnings.warn('Image with id {} (shape {}) contains no valid boxes before transform'.format(\n",
      "/notebooks/generators/common.py:230: UserWarning: Image with id 92160 (shape (608, 608, 3)) contains no valid boxes after transform\n",
      "  warnings.warn('Image with id {} (shape {}) contains no valid boxes after transform'.format(\n"
     ]
    },
    {
     "name": "stdout",
     "output_type": "stream",
     "text": [
      "120/500 [======>.......................] - ETA: 3:08 - loss: 1394.8694"
     ]
    },
    {
     "name": "stderr",
     "output_type": "stream",
     "text": [
      "/notebooks/generators/common.py:180: UserWarning: Image with id 31648 (shape (640, 480, 3)) contains no valid boxes before transform\n",
      "  warnings.warn('Image with id {} (shape {}) contains no valid boxes before transform'.format(\n",
      "/notebooks/generators/common.py:230: UserWarning: Image with id 31648 (shape (608, 608, 3)) contains no valid boxes after transform\n",
      "  warnings.warn('Image with id {} (shape {}) contains no valid boxes after transform'.format(\n"
     ]
    },
    {
     "name": "stdout",
     "output_type": "stream",
     "text": [
      "131/500 [======>.......................] - ETA: 3:03 - loss: 1297.1139"
     ]
    },
    {
     "name": "stderr",
     "output_type": "stream",
     "text": [
      "/notebooks/generators/common.py:180: UserWarning: Image with id 104382 (shape (333, 500, 3)) contains no valid boxes before transform\n",
      "  warnings.warn('Image with id {} (shape {}) contains no valid boxes before transform'.format(\n",
      "/notebooks/generators/common.py:230: UserWarning: Image with id 104382 (shape (608, 608, 3)) contains no valid boxes after transform\n",
      "  warnings.warn('Image with id {} (shape {}) contains no valid boxes after transform'.format(\n"
     ]
    },
    {
     "name": "stdout",
     "output_type": "stream",
     "text": [
      "149/500 [=======>......................] - ETA: 2:54 - loss: 1164.6740"
     ]
    },
    {
     "name": "stderr",
     "output_type": "stream",
     "text": [
      "/notebooks/generators/common.py:180: UserWarning: Image with id 42940 (shape (375, 500, 3)) contains no valid boxes before transform\n",
      "  warnings.warn('Image with id {} (shape {}) contains no valid boxes before transform'.format(\n",
      "/notebooks/generators/common.py:230: UserWarning: Image with id 42940 (shape (608, 608, 3)) contains no valid boxes after transform\n",
      "  warnings.warn('Image with id {} (shape {}) contains no valid boxes after transform'.format(\n"
     ]
    },
    {
     "name": "stdout",
     "output_type": "stream",
     "text": [
      "165/500 [========>.....................] - ETA: 2:46 - loss: 1070.2106"
     ]
    },
    {
     "name": "stderr",
     "output_type": "stream",
     "text": [
      "/notebooks/generators/common.py:180: UserWarning: Image with id 86961 (shape (640, 480, 3)) contains no valid boxes before transform\n",
      "  warnings.warn('Image with id {} (shape {}) contains no valid boxes before transform'.format(\n",
      "/notebooks/generators/common.py:230: UserWarning: Image with id 86961 (shape (608, 608, 3)) contains no valid boxes after transform\n",
      "  warnings.warn('Image with id {} (shape {}) contains no valid boxes after transform'.format(\n"
     ]
    },
    {
     "name": "stdout",
     "output_type": "stream",
     "text": [
      "172/500 [=========>....................] - ETA: 2:43 - loss: 1033.8580"
     ]
    },
    {
     "name": "stderr",
     "output_type": "stream",
     "text": [
      "/notebooks/generators/common.py:180: UserWarning: Image with id 82861 (shape (427, 640, 3)) contains no valid boxes before transform\n",
      "  warnings.warn('Image with id {} (shape {}) contains no valid boxes before transform'.format(\n",
      "/notebooks/generators/common.py:230: UserWarning: Image with id 82861 (shape (608, 608, 3)) contains no valid boxes after transform\n",
      "  warnings.warn('Image with id {} (shape {}) contains no valid boxes after transform'.format(\n"
     ]
    },
    {
     "name": "stdout",
     "output_type": "stream",
     "text": [
      "176/500 [=========>....................] - ETA: 2:41 - loss: 1014.2133"
     ]
    },
    {
     "name": "stderr",
     "output_type": "stream",
     "text": [
      "/notebooks/generators/common.py:180: UserWarning: Image with id 41941 (shape (480, 640, 3)) contains no valid boxes before transform\n",
      "  warnings.warn('Image with id {} (shape {}) contains no valid boxes before transform'.format(\n",
      "/notebooks/generators/common.py:230: UserWarning: Image with id 41941 (shape (608, 608, 3)) contains no valid boxes after transform\n",
      "  warnings.warn('Image with id {} (shape {}) contains no valid boxes after transform'.format(\n"
     ]
    },
    {
     "name": "stdout",
     "output_type": "stream",
     "text": [
      "195/500 [==========>...................] - ETA: 2:31 - loss: 931.5205"
     ]
    },
    {
     "name": "stderr",
     "output_type": "stream",
     "text": [
      "/notebooks/generators/common.py:180: UserWarning: Image with id 2973 (shape (427, 640, 3)) contains no valid boxes before transform\n",
      "  warnings.warn('Image with id {} (shape {}) contains no valid boxes before transform'.format(\n",
      "/notebooks/generators/common.py:230: UserWarning: Image with id 2973 (shape (608, 608, 3)) contains no valid boxes after transform\n",
      "  warnings.warn('Image with id {} (shape {}) contains no valid boxes after transform'.format(\n"
     ]
    },
    {
     "name": "stdout",
     "output_type": "stream",
     "text": [
      "214/500 [===========>..................] - ETA: 2:22 - loss: 862.0525"
     ]
    },
    {
     "name": "stderr",
     "output_type": "stream",
     "text": [
      "/notebooks/generators/common.py:180: UserWarning: Image with id 78844 (shape (400, 500, 3)) contains no valid boxes before transform\n",
      "  warnings.warn('Image with id {} (shape {}) contains no valid boxes before transform'.format(\n",
      "/notebooks/generators/common.py:230: UserWarning: Image with id 78844 (shape (608, 608, 3)) contains no valid boxes after transform\n",
      "  warnings.warn('Image with id {} (shape {}) contains no valid boxes after transform'.format(\n"
     ]
    },
    {
     "name": "stdout",
     "output_type": "stream",
     "text": [
      "237/500 [=============>................] - ETA: 2:10 - loss: 793.0707"
     ]
    },
    {
     "name": "stderr",
     "output_type": "stream",
     "text": [
      "/notebooks/generators/common.py:180: UserWarning: Image with id 76746 (shape (500, 291, 3)) contains no valid boxes before transform\n",
      "  warnings.warn('Image with id {} (shape {}) contains no valid boxes before transform'.format(\n",
      "/notebooks/generators/common.py:230: UserWarning: Image with id 76746 (shape (608, 608, 3)) contains no valid boxes after transform\n",
      "  warnings.warn('Image with id {} (shape {}) contains no valid boxes after transform'.format(\n"
     ]
    },
    {
     "name": "stdout",
     "output_type": "stream",
     "text": [
      "241/500 [=============>................] - ETA: 2:08 - loss: 782.4003"
     ]
    },
    {
     "name": "stderr",
     "output_type": "stream",
     "text": [
      "/notebooks/generators/common.py:180: UserWarning: Image with id 49132 (shape (480, 640, 3)) contains no valid boxes before transform\n",
      "  warnings.warn('Image with id {} (shape {}) contains no valid boxes before transform'.format(\n",
      "/notebooks/generators/common.py:230: UserWarning: Image with id 49132 (shape (608, 608, 3)) contains no valid boxes after transform\n",
      "  warnings.warn('Image with id {} (shape {}) contains no valid boxes after transform'.format(\n"
     ]
    },
    {
     "name": "stdout",
     "output_type": "stream",
     "text": [
      "266/500 [==============>...............] - ETA: 1:57 - loss: 721.9375"
     ]
    },
    {
     "name": "stderr",
     "output_type": "stream",
     "text": [
      "/notebooks/generators/common.py:180: UserWarning: Image with id 76731 (shape (428, 640, 3)) contains no valid boxes before transform\n",
      "  warnings.warn('Image with id {} (shape {}) contains no valid boxes before transform'.format(\n",
      "/notebooks/generators/common.py:230: UserWarning: Image with id 76731 (shape (608, 608, 3)) contains no valid boxes after transform\n",
      "  warnings.warn('Image with id {} (shape {}) contains no valid boxes after transform'.format(\n"
     ]
    },
    {
     "name": "stdout",
     "output_type": "stream",
     "text": [
      "299/500 [================>.............] - ETA: 1:41 - loss: 656.7134"
     ]
    },
    {
     "name": "stderr",
     "output_type": "stream",
     "text": [
      "/notebooks/generators/common.py:230: UserWarning: Image with id 40814 (shape (608, 608, 3)) contains no valid boxes after transform\n",
      "  warnings.warn('Image with id {} (shape {}) contains no valid boxes after transform'.format(\n"
     ]
    },
    {
     "name": "stdout",
     "output_type": "stream",
     "text": [
      "325/500 [==================>...........] - ETA: 1:27 - loss: 614.2043"
     ]
    },
    {
     "name": "stderr",
     "output_type": "stream",
     "text": [
      "/notebooks/generators/common.py:180: UserWarning: Image with id 58348 (shape (480, 640, 3)) contains no valid boxes before transform\n",
      "  warnings.warn('Image with id {} (shape {}) contains no valid boxes before transform'.format(\n",
      "/notebooks/generators/common.py:230: UserWarning: Image with id 58348 (shape (608, 608, 3)) contains no valid boxes after transform\n",
      "  warnings.warn('Image with id {} (shape {}) contains no valid boxes after transform'.format(\n"
     ]
    },
    {
     "name": "stdout",
     "output_type": "stream",
     "text": [
      "352/500 [====================>.........] - ETA: 1:14 - loss: 576.2981"
     ]
    },
    {
     "name": "stderr",
     "output_type": "stream",
     "text": [
      "/notebooks/generators/common.py:180: UserWarning: Image with id 97256 (shape (640, 427, 3)) contains no valid boxes before transform\n",
      "  warnings.warn('Image with id {} (shape {}) contains no valid boxes before transform'.format(\n",
      "/notebooks/generators/common.py:230: UserWarning: Image with id 97256 (shape (608, 608, 3)) contains no valid boxes after transform\n",
      "  warnings.warn('Image with id {} (shape {}) contains no valid boxes after transform'.format(\n"
     ]
    },
    {
     "name": "stdout",
     "output_type": "stream",
     "text": [
      "371/500 [=====================>........] - ETA: 1:04 - loss: 553.1198"
     ]
    },
    {
     "name": "stderr",
     "output_type": "stream",
     "text": [
      "/notebooks/generators/common.py:180: UserWarning: Image with id 2963 (shape (500, 333, 3)) contains no valid boxes before transform\n",
      "  warnings.warn('Image with id {} (shape {}) contains no valid boxes before transform'.format(\n",
      "/notebooks/generators/common.py:230: UserWarning: Image with id 2963 (shape (608, 608, 3)) contains no valid boxes after transform\n",
      "  warnings.warn('Image with id {} (shape {}) contains no valid boxes after transform'.format(\n"
     ]
    },
    {
     "name": "stdout",
     "output_type": "stream",
     "text": [
      "391/500 [======================>.......] - ETA: 54s - loss: 531.2018"
     ]
    },
    {
     "name": "stderr",
     "output_type": "stream",
     "text": [
      "/notebooks/generators/common.py:180: UserWarning: Image with id 37626 (shape (375, 500, 3)) contains no valid boxes before transform\n",
      "  warnings.warn('Image with id {} (shape {}) contains no valid boxes before transform'.format(\n",
      "/notebooks/generators/common.py:230: UserWarning: Image with id 37626 (shape (608, 608, 3)) contains no valid boxes after transform\n",
      "  warnings.warn('Image with id {} (shape {}) contains no valid boxes after transform'.format(\n"
     ]
    },
    {
     "name": "stdout",
     "output_type": "stream",
     "text": [
      "426/500 [========================>.....] - ETA: 37s - loss: 496.9680"
     ]
    },
    {
     "name": "stderr",
     "output_type": "stream",
     "text": [
      "/notebooks/generators/common.py:180: UserWarning: Image with id 67526 (shape (267, 400, 3)) contains no valid boxes before transform\n",
      "  warnings.warn('Image with id {} (shape {}) contains no valid boxes before transform'.format(\n",
      "/notebooks/generators/common.py:230: UserWarning: Image with id 67526 (shape (608, 608, 3)) contains no valid boxes after transform\n",
      "  warnings.warn('Image with id {} (shape {}) contains no valid boxes after transform'.format(\n"
     ]
    },
    {
     "name": "stdout",
     "output_type": "stream",
     "text": [
      "429/500 [========================>.....] - ETA: 35s - loss: 494.1798"
     ]
    },
    {
     "name": "stderr",
     "output_type": "stream",
     "text": [
      "/notebooks/generators/common.py:180: UserWarning: Image with id 57376 (shape (640, 480, 3)) contains no valid boxes before transform\n",
      "  warnings.warn('Image with id {} (shape {}) contains no valid boxes before transform'.format(\n",
      "/notebooks/generators/common.py:180: UserWarning: Image with id 57399 (shape (640, 480, 3)) contains no valid boxes before transform\n",
      "  warnings.warn('Image with id {} (shape {}) contains no valid boxes before transform'.format(\n",
      "/notebooks/generators/common.py:230: UserWarning: Image with id 57376 (shape (608, 608, 3)) contains no valid boxes after transform\n",
      "  warnings.warn('Image with id {} (shape {}) contains no valid boxes after transform'.format(\n",
      "/notebooks/generators/common.py:230: UserWarning: Image with id 57399 (shape (608, 608, 3)) contains no valid boxes after transform\n",
      "  warnings.warn('Image with id {} (shape {}) contains no valid boxes after transform'.format(\n"
     ]
    },
    {
     "name": "stdout",
     "output_type": "stream",
     "text": [
      "445/500 [=========================>....] - ETA: 27s - loss: 480.2908"
     ]
    },
    {
     "name": "stderr",
     "output_type": "stream",
     "text": [
      "/notebooks/generators/common.py:180: UserWarning: Image with id 95125 (shape (480, 640, 3)) contains no valid boxes before transform\n",
      "  warnings.warn('Image with id {} (shape {}) contains no valid boxes before transform'.format(\n",
      "/notebooks/generators/common.py:180: UserWarning: Image with id 95161 (shape (480, 640, 3)) contains no valid boxes before transform\n",
      "  warnings.warn('Image with id {} (shape {}) contains no valid boxes before transform'.format(\n",
      "/notebooks/generators/common.py:230: UserWarning: Image with id 95125 (shape (608, 608, 3)) contains no valid boxes after transform\n",
      "  warnings.warn('Image with id {} (shape {}) contains no valid boxes after transform'.format(\n",
      "/notebooks/generators/common.py:230: UserWarning: Image with id 95161 (shape (608, 608, 3)) contains no valid boxes after transform\n",
      "  warnings.warn('Image with id {} (shape {}) contains no valid boxes after transform'.format(\n"
     ]
    },
    {
     "name": "stdout",
     "output_type": "stream",
     "text": [
      "491/500 [============================>.] - ETA: 4s - loss: 445.9406"
     ]
    },
    {
     "name": "stderr",
     "output_type": "stream",
     "text": [
      "/notebooks/generators/common.py:180: UserWarning: Image with id 71604 (shape (427, 640, 3)) contains no valid boxes before transform\n",
      "  warnings.warn('Image with id {} (shape {}) contains no valid boxes before transform'.format(\n",
      "/notebooks/generators/common.py:230: UserWarning: Image with id 71604 (shape (608, 608, 3)) contains no valid boxes after transform\n",
      "  warnings.warn('Image with id {} (shape {}) contains no valid boxes after transform'.format(\n"
     ]
    },
    {
     "name": "stdout",
     "output_type": "stream",
     "text": [
      "493/500 [============================>.] - ETA: 3s - loss: 444.4782"
     ]
    },
    {
     "name": "stderr",
     "output_type": "stream",
     "text": [
      "/notebooks/generators/common.py:180: UserWarning: Image with id 108493 (shape (480, 640, 3)) contains no valid boxes before transform\n",
      "  warnings.warn('Image with id {} (shape {}) contains no valid boxes before transform'.format(\n",
      "/notebooks/generators/common.py:230: UserWarning: Image with id 108493 (shape (608, 608, 3)) contains no valid boxes after transform\n",
      "  warnings.warn('Image with id {} (shape {}) contains no valid boxes after transform'.format(\n",
      "/notebooks/generators/common.py:230: UserWarning: Image with id 108496 (shape (608, 608, 3)) contains no valid boxes after transform\n",
      "  warnings.warn('Image with id {} (shape {}) contains no valid boxes after transform'.format(\n"
     ]
    },
    {
     "name": "stdout",
     "output_type": "stream",
     "text": [
      "500/500 [==============================] - ETA: 0s - loss: 440.0770"
     ]
    },
    {
     "name": "stderr",
     "output_type": "stream",
     "text": [
      "  0%|          | 0/3 [00:00<?, ?it/s]\n",
      "losses: [<tf.Tensor 'yolo/yolo_loss/add_19:0' shape=() dtype=float32>, <tf.Tensor 'yolo/yolo_loss/truediv_11:0' shape=() dtype=float32>, <tf.Tensor 'yolo/yolo_loss/truediv_12:0' shape=() dtype=float32>, <tf.Tensor 'yolo/yolo_loss/truediv_13:0' shape=() dtype=float32>, <tf.Tensor 'yolo/yolo_loss/truediv_14:0' shape=() dtype=float32>, <tf.Tensor 'yolo/yolo_loss/truediv_15:0' shape=() dtype=float32>, <tf.Tensor 'yolo/yolo_loss/truediv_16:0' shape=() dtype=float32>]:   0%|          | 0/3 [00:00<?, ?it/s]\n",
      "losses: [<tf.Tensor 'yolo/yolo_loss/add_19:0' shape=() dtype=float32>, <tf.Tensor 'yolo/yolo_loss/truediv_11:0' shape=() dtype=float32>, <tf.Tensor 'yolo/yolo_loss/truediv_12:0' shape=() dtype=float32>, <tf.Tensor 'yolo/yolo_loss/truediv_13:0' shape=() dtype=float32>, <tf.Tensor 'yolo/yolo_loss/truediv_14:0' shape=() dtype=float32>, <tf.Tensor 'yolo/yolo_loss/truediv_15:0' shape=() dtype=float32>, <tf.Tensor 'yolo/yolo_loss/truediv_16:0' shape=() dtype=float32>]:  33%|███▎      | 1/3 [00:00<00:00,  5.13it/s]\n",
      "losses: [<tf.Tensor 'yolo/yolo_loss/add_39:0' shape=() dtype=float32>, <tf.Tensor 'yolo/yolo_loss/truediv_28:0' shape=() dtype=float32>, <tf.Tensor 'yolo/yolo_loss/truediv_29:0' shape=() dtype=float32>, <tf.Tensor 'yolo/yolo_loss/truediv_30:0' shape=() dtype=float32>, <tf.Tensor 'yolo/yolo_loss/truediv_31:0' shape=() dtype=float32>, <tf.Tensor 'yolo/yolo_loss/truediv_32:0' shape=() dtype=float32>, <tf.Tensor 'yolo/yolo_loss/truediv_33:0' shape=() dtype=float32>]:  33%|███▎      | 1/3 [00:00<00:00,  5.13it/s]\n",
      "losses: [<tf.Tensor 'yolo/yolo_loss/add_39:0' shape=() dtype=float32>, <tf.Tensor 'yolo/yolo_loss/truediv_28:0' shape=() dtype=float32>, <tf.Tensor 'yolo/yolo_loss/truediv_29:0' shape=() dtype=float32>, <tf.Tensor 'yolo/yolo_loss/truediv_30:0' shape=() dtype=float32>, <tf.Tensor 'yolo/yolo_loss/truediv_31:0' shape=() dtype=float32>, <tf.Tensor 'yolo/yolo_loss/truediv_32:0' shape=() dtype=float32>, <tf.Tensor 'yolo/yolo_loss/truediv_33:0' shape=() dtype=float32>]:  67%|██████▋   | 2/3 [00:00<00:00,  5.21it/s]\n",
      "losses: [<tf.Tensor 'yolo/yolo_loss/add_59:0' shape=() dtype=float32>, <tf.Tensor 'yolo/yolo_loss/truediv_45:0' shape=() dtype=float32>, <tf.Tensor 'yolo/yolo_loss/truediv_46:0' shape=() dtype=float32>, <tf.Tensor 'yolo/yolo_loss/truediv_47:0' shape=() dtype=float32>, <tf.Tensor 'yolo/yolo_loss/truediv_48:0' shape=() dtype=float32>, <tf.Tensor 'yolo/yolo_loss/truediv_49:0' shape=() dtype=float32>, <tf.Tensor 'yolo/yolo_loss/truediv_50:0' shape=() dtype=float32>]:  67%|██████▋   | 2/3 [00:00<00:00,  5.21it/s]\n",
      "losses: [<tf.Tensor 'yolo/yolo_loss/add_59:0' shape=() dtype=float32>, <tf.Tensor 'yolo/yolo_loss/truediv_45:0' shape=() dtype=float32>, <tf.Tensor 'yolo/yolo_loss/truediv_46:0' shape=() dtype=float32>, <tf.Tensor 'yolo/yolo_loss/truediv_47:0' shape=() dtype=float32>, <tf.Tensor 'yolo/yolo_loss/truediv_48:0' shape=() dtype=float32>, <tf.Tensor 'yolo/yolo_loss/truediv_49:0' shape=() dtype=float32>, <tf.Tensor 'yolo/yolo_loss/truediv_50:0' shape=() dtype=float32>]: 100%|██████████| 3/3 [00:00<00:00,  5.22it/s]\n",
      "losses: [<tf.Tensor 'yolo/yolo_loss/add_59:0' shape=() dtype=float32>, <tf.Tensor 'yolo/yolo_loss/truediv_45:0' shape=() dtype=float32>, <tf.Tensor 'yolo/yolo_loss/truediv_46:0' shape=() dtype=float32>, <tf.Tensor 'yolo/yolo_loss/truediv_47:0' shape=() dtype=float32>, <tf.Tensor 'yolo/yolo_loss/truediv_48:0' shape=() dtype=float32>, <tf.Tensor 'yolo/yolo_loss/truediv_49:0' shape=() dtype=float32>, <tf.Tensor 'yolo/yolo_loss/truediv_50:0' shape=() dtype=float32>]: 100%|██████████| 3/3 [00:00<00:00,  5.20it/s]\n",
      "2022-12-11 20:39:27.551424: E tensorflow/core/grappler/optimizers/meta_optimizer.cc:903] layout failed: INVALID_ARGUMENT: Subshape must have computed start >= end since stride is negative, but is 0 and 2 (computed from start 0 and end 9223372036854775807 over shape with rank 2 and stride-1)\n",
      "2022-12-11 20:39:27.567703: E tensorflow/core/grappler/optimizers/meta_optimizer.cc:903] remapper failed: INVALID_ARGUMENT: Subshape must have computed start >= end since stride is negative, but is 0 and 2 (computed from start 0 and end 9223372036854775807 over shape with rank 2 and stride-1)\n",
      "2022-12-11 20:39:27.761402: E tensorflow/core/grappler/optimizers/meta_optimizer.cc:903] remapper failed: INVALID_ARGUMENT: Subshape must have computed start >= end since stride is negative, but is 0 and 2 (computed from start 0 and end 9223372036854775807 over shape with rank 2 and stride-1)\n",
      "/notebooks/generators/common.py:180: UserWarning: Image with id 2078 (shape (640, 418, 3)) contains no valid boxes before transform\n",
      "  warnings.warn('Image with id {} (shape {}) contains no valid boxes before transform'.format(\n",
      "/notebooks/generators/common.py:230: UserWarning: Image with id 2078 (shape (608, 608, 3)) contains no valid boxes after transform\n",
      "  warnings.warn('Image with id {} (shape {}) contains no valid boxes after transform'.format(\n",
      "/notebooks/generators/common.py:180: UserWarning: Image with id 2191 (shape (640, 426, 3)) contains no valid boxes before transform\n",
      "  warnings.warn('Image with id {} (shape {}) contains no valid boxes before transform'.format(\n",
      "/notebooks/generators/common.py:230: UserWarning: Image with id 2191 (shape (608, 608, 3)) contains no valid boxes after transform\n",
      "  warnings.warn('Image with id {} (shape {}) contains no valid boxes after transform'.format(\n",
      "/notebooks/generators/common.py:180: UserWarning: Image with id 2326 (shape (640, 427, 3)) contains no valid boxes before transform\n",
      "  warnings.warn('Image with id {} (shape {}) contains no valid boxes before transform'.format(\n",
      "/notebooks/generators/common.py:230: UserWarning: Image with id 2326 (shape (608, 608, 3)) contains no valid boxes after transform\n",
      "  warnings.warn('Image with id {} (shape {}) contains no valid boxes after transform'.format(\n",
      "/notebooks/generators/common.py:180: UserWarning: Image with id 3616 (shape (640, 429, 3)) contains no valid boxes before transform\n",
      "  warnings.warn('Image with id {} (shape {}) contains no valid boxes before transform'.format(\n",
      "/notebooks/generators/common.py:230: UserWarning: Image with id 3616 (shape (608, 608, 3)) contains no valid boxes after transform\n",
      "  warnings.warn('Image with id {} (shape {}) contains no valid boxes after transform'.format(\n",
      "/notebooks/generators/common.py:180: UserWarning: Image with id 4089 (shape (500, 336, 3)) contains no valid boxes before transform\n",
      "  warnings.warn('Image with id {} (shape {}) contains no valid boxes before transform'.format(\n",
      "/notebooks/generators/common.py:230: UserWarning: Image with id 4089 (shape (608, 608, 3)) contains no valid boxes after transform\n",
      "  warnings.warn('Image with id {} (shape {}) contains no valid boxes after transform'.format(\n",
      "/notebooks/generators/common.py:180: UserWarning: Image with id 2532 (shape (640, 479, 3)) contains no valid boxes before transform\n",
      "  warnings.warn('Image with id {} (shape {}) contains no valid boxes before transform'.format(\n",
      "/notebooks/generators/common.py:230: UserWarning: Image with id 2532 (shape (608, 608, 3)) contains no valid boxes after transform\n",
      "  warnings.warn('Image with id {} (shape {}) contains no valid boxes after transform'.format(\n",
      "/notebooks/generators/common.py:180: UserWarning: Image with id 25 (shape (640, 480, 3)) contains no valid boxes before transform\n",
      "  warnings.warn('Image with id {} (shape {}) contains no valid boxes before transform'.format(\n",
      "/notebooks/generators/common.py:230: UserWarning: Image with id 25 (shape (608, 608, 3)) contains no valid boxes after transform\n",
      "  warnings.warn('Image with id {} (shape {}) contains no valid boxes after transform'.format(\n",
      "/notebooks/generators/common.py:180: UserWarning: Image with id 2285 (shape (640, 480, 3)) contains no valid boxes before transform\n",
      "  warnings.warn('Image with id {} (shape {}) contains no valid boxes before transform'.format(\n",
      "/notebooks/generators/common.py:230: UserWarning: Image with id 2285 (shape (608, 608, 3)) contains no valid boxes after transform\n",
      "  warnings.warn('Image with id {} (shape {}) contains no valid boxes after transform'.format(\n",
      "/notebooks/generators/common.py:180: UserWarning: Image with id 2525 (shape (640, 480, 3)) contains no valid boxes before transform\n",
      "  warnings.warn('Image with id {} (shape {}) contains no valid boxes before transform'.format(\n",
      "/notebooks/generators/common.py:230: UserWarning: Image with id 2525 (shape (608, 608, 3)) contains no valid boxes after transform\n",
      "  warnings.warn('Image with id {} (shape {}) contains no valid boxes after transform'.format(\n",
      "/notebooks/generators/common.py:180: UserWarning: Image with id 2833 (shape (640, 480, 3)) contains no valid boxes before transform\n",
      "  warnings.warn('Image with id {} (shape {}) contains no valid boxes before transform'.format(\n",
      "/notebooks/generators/common.py:230: UserWarning: Image with id 2833 (shape (608, 608, 3)) contains no valid boxes after transform\n",
      "  warnings.warn('Image with id {} (shape {}) contains no valid boxes after transform'.format(\n",
      "/notebooks/generators/common.py:180: UserWarning: Image with id 3361 (shape (500, 375, 3)) contains no valid boxes before transform\n",
      "  warnings.warn('Image with id {} (shape {}) contains no valid boxes before transform'.format(\n",
      "/notebooks/generators/common.py:230: UserWarning: Image with id 3361 (shape (608, 608, 3)) contains no valid boxes after transform\n",
      "  warnings.warn('Image with id {} (shape {}) contains no valid boxes after transform'.format(\n",
      "/notebooks/generators/common.py:180: UserWarning: Image with id 3740 (shape (640, 480, 3)) contains no valid boxes before transform\n",
      "  warnings.warn('Image with id {} (shape {}) contains no valid boxes before transform'.format(\n",
      "/notebooks/generators/common.py:230: UserWarning: Image with id 3740 (shape (608, 608, 3)) contains no valid boxes after transform\n",
      "  warnings.warn('Image with id {} (shape {}) contains no valid boxes after transform'.format(\n",
      "/notebooks/generators/common.py:180: UserWarning: Image with id 3858 (shape (500, 375, 3)) contains no valid boxes before transform\n",
      "  warnings.warn('Image with id {} (shape {}) contains no valid boxes before transform'.format(\n",
      "/notebooks/generators/common.py:230: UserWarning: Image with id 3858 (shape (608, 608, 3)) contains no valid boxes after transform\n",
      "  warnings.warn('Image with id {} (shape {}) contains no valid boxes after transform'.format(\n",
      "/notebooks/generators/common.py:180: UserWarning: Image with id 4576 (shape (640, 480, 3)) contains no valid boxes before transform\n",
      "  warnings.warn('Image with id {} (shape {}) contains no valid boxes before transform'.format(\n",
      "/notebooks/generators/common.py:230: UserWarning: Image with id 4576 (shape (608, 608, 3)) contains no valid boxes after transform\n",
      "  warnings.warn('Image with id {} (shape {}) contains no valid boxes after transform'.format(\n",
      "/notebooks/generators/common.py:180: UserWarning: Image with id 4098 (shape (640, 523, 3)) contains no valid boxes before transform\n",
      "  warnings.warn('Image with id {} (shape {}) contains no valid boxes before transform'.format(\n",
      "/notebooks/generators/common.py:230: UserWarning: Image with id 4098 (shape (608, 608, 3)) contains no valid boxes after transform\n",
      "  warnings.warn('Image with id {} (shape {}) contains no valid boxes after transform'.format(\n",
      "/notebooks/generators/common.py:180: UserWarning: Image with id 29 (shape (640, 634, 3)) contains no valid boxes before transform\n",
      "  warnings.warn('Image with id {} (shape {}) contains no valid boxes before transform'.format(\n",
      "/notebooks/generators/common.py:230: UserWarning: Image with id 29 (shape (608, 608, 3)) contains no valid boxes after transform\n",
      "  warnings.warn('Image with id {} (shape {}) contains no valid boxes after transform'.format(\n",
      "/notebooks/generators/common.py:230: UserWarning: Image with id 3958 (shape (608, 608, 3)) contains no valid boxes after transform\n",
      "  warnings.warn('Image with id {} (shape {}) contains no valid boxes after transform'.format(\n",
      "/notebooks/generators/common.py:180: UserWarning: Image with id 160 (shape (375, 500, 3)) contains no valid boxes before transform\n",
      "  warnings.warn('Image with id {} (shape {}) contains no valid boxes before transform'.format(\n",
      "/notebooks/generators/common.py:230: UserWarning: Image with id 160 (shape (608, 608, 3)) contains no valid boxes after transform\n",
      "  warnings.warn('Image with id {} (shape {}) contains no valid boxes after transform'.format(\n",
      "/notebooks/generators/common.py:180: UserWarning: Image with id 403 (shape (375, 500, 3)) contains no valid boxes before transform\n",
      "  warnings.warn('Image with id {} (shape {}) contains no valid boxes before transform'.format(\n",
      "/notebooks/generators/common.py:230: UserWarning: Image with id 403 (shape (608, 608, 3)) contains no valid boxes after transform\n",
      "  warnings.warn('Image with id {} (shape {}) contains no valid boxes after transform'.format(\n",
      "/notebooks/generators/common.py:180: UserWarning: Image with id 438 (shape (480, 640, 3)) contains no valid boxes before transform\n",
      "  warnings.warn('Image with id {} (shape {}) contains no valid boxes before transform'.format(\n",
      "/notebooks/generators/common.py:230: UserWarning: Image with id 438 (shape (608, 608, 3)) contains no valid boxes after transform\n",
      "  warnings.warn('Image with id {} (shape {}) contains no valid boxes after transform'.format(\n",
      "/notebooks/generators/common.py:180: UserWarning: Image with id 1041 (shape (480, 640, 3)) contains no valid boxes before transform\n",
      "  warnings.warn('Image with id {} (shape {}) contains no valid boxes before transform'.format(\n",
      "/notebooks/generators/common.py:230: UserWarning: Image with id 1041 (shape (608, 608, 3)) contains no valid boxes after transform\n",
      "  warnings.warn('Image with id {} (shape {}) contains no valid boxes after transform'.format(\n",
      "/notebooks/generators/common.py:230: UserWarning: Image with id 1171 (shape (608, 608, 3)) contains no valid boxes after transform\n",
      "  warnings.warn('Image with id {} (shape {}) contains no valid boxes after transform'.format(\n",
      "/notebooks/generators/common.py:180: UserWarning: Image with id 1556 (shape (480, 640, 3)) contains no valid boxes before transform\n",
      "  warnings.warn('Image with id {} (shape {}) contains no valid boxes before transform'.format(\n",
      "/notebooks/generators/common.py:180: UserWarning: Image with id 1562 (shape (375, 500, 3)) contains no valid boxes before transform\n",
      "  warnings.warn('Image with id {} (shape {}) contains no valid boxes before transform'.format(\n",
      "/notebooks/generators/common.py:230: UserWarning: Image with id 1556 (shape (608, 608, 3)) contains no valid boxes after transform\n",
      "  warnings.warn('Image with id {} (shape {}) contains no valid boxes after transform'.format(\n",
      "/notebooks/generators/common.py:230: UserWarning: Image with id 1562 (shape (608, 608, 3)) contains no valid boxes after transform\n",
      "  warnings.warn('Image with id {} (shape {}) contains no valid boxes after transform'.format(\n",
      "/notebooks/generators/common.py:180: UserWarning: Image with id 1563 (shape (375, 500, 3)) contains no valid boxes before transform\n",
      "  warnings.warn('Image with id {} (shape {}) contains no valid boxes before transform'.format(\n",
      "/notebooks/generators/common.py:230: UserWarning: Image with id 1563 (shape (608, 608, 3)) contains no valid boxes after transform\n",
      "  warnings.warn('Image with id {} (shape {}) contains no valid boxes after transform'.format(\n",
      "/notebooks/generators/common.py:180: UserWarning: Image with id 1675 (shape (480, 640, 3)) contains no valid boxes before transform\n",
      "  warnings.warn('Image with id {} (shape {}) contains no valid boxes before transform'.format(\n",
      "/notebooks/generators/common.py:230: UserWarning: Image with id 1675 (shape (608, 608, 3)) contains no valid boxes after transform\n",
      "  warnings.warn('Image with id {} (shape {}) contains no valid boxes after transform'.format(\n",
      "/notebooks/generators/common.py:180: UserWarning: Image with id 1906 (shape (375, 500, 3)) contains no valid boxes before transform\n",
      "  warnings.warn('Image with id {} (shape {}) contains no valid boxes before transform'.format(\n",
      "/notebooks/generators/common.py:230: UserWarning: Image with id 1906 (shape (608, 608, 3)) contains no valid boxes after transform\n",
      "  warnings.warn('Image with id {} (shape {}) contains no valid boxes after transform'.format(\n",
      "/notebooks/generators/common.py:180: UserWarning: Image with id 2837 (shape (480, 640, 3)) contains no valid boxes before transform\n",
      "  warnings.warn('Image with id {} (shape {}) contains no valid boxes before transform'.format(\n",
      "/notebooks/generators/common.py:230: UserWarning: Image with id 2837 (shape (608, 608, 3)) contains no valid boxes after transform\n",
      "  warnings.warn('Image with id {} (shape {}) contains no valid boxes after transform'.format(\n",
      "/notebooks/generators/common.py:180: UserWarning: Image with id 2973 (shape (480, 640, 3)) contains no valid boxes before transform\n",
      "  warnings.warn('Image with id {} (shape {}) contains no valid boxes before transform'.format(\n",
      "/notebooks/generators/common.py:230: UserWarning: Image with id 3746 (shape (608, 608, 3)) contains no valid boxes after transform\n",
      "  warnings.warn('Image with id {} (shape {}) contains no valid boxes after transform'.format(\n",
      "/notebooks/generators/common.py:180: UserWarning: Image with id 4099 (shape (480, 640, 3)) contains no valid boxes before transform\n",
      "  warnings.warn('Image with id {} (shape {}) contains no valid boxes before transform'.format(\n",
      "/notebooks/generators/common.py:230: UserWarning: Image with id 4099 (shape (608, 608, 3)) contains no valid boxes after transform\n",
      "  warnings.warn('Image with id {} (shape {}) contains no valid boxes after transform'.format(\n",
      "/notebooks/generators/common.py:180: UserWarning: Image with id 4460 (shape (480, 640, 3)) contains no valid boxes before transform\n",
      "  warnings.warn('Image with id {} (shape {}) contains no valid boxes before transform'.format(\n",
      "/notebooks/generators/common.py:230: UserWarning: Image with id 4460 (shape (608, 608, 3)) contains no valid boxes after transform\n",
      "  warnings.warn('Image with id {} (shape {}) contains no valid boxes after transform'.format(\n",
      "/notebooks/generators/common.py:180: UserWarning: Image with id 3488 (shape (374, 500, 3)) contains no valid boxes before transform\n",
      "  warnings.warn('Image with id {} (shape {}) contains no valid boxes before transform'.format(\n",
      "/notebooks/generators/common.py:230: UserWarning: Image with id 3488 (shape (608, 608, 3)) contains no valid boxes after transform\n",
      "  warnings.warn('Image with id {} (shape {}) contains no valid boxes after transform'.format(\n",
      "/notebooks/generators/common.py:180: UserWarning: Image with id 2839 (shape (338, 500, 3)) contains no valid boxes before transform\n",
      "  warnings.warn('Image with id {} (shape {}) contains no valid boxes before transform'.format(\n",
      "/notebooks/generators/common.py:230: UserWarning: Image with id 2839 (shape (608, 608, 3)) contains no valid boxes after transform\n",
      "  warnings.warn('Image with id {} (shape {}) contains no valid boxes after transform'.format(\n",
      "/notebooks/generators/common.py:180: UserWarning: Image with id 278 (shape (335, 500, 3)) contains no valid boxes before transform\n",
      "  warnings.warn('Image with id {} (shape {}) contains no valid boxes before transform'.format(\n",
      "/notebooks/generators/common.py:230: UserWarning: Image with id 278 (shape (608, 608, 3)) contains no valid boxes after transform\n",
      "  warnings.warn('Image with id {} (shape {}) contains no valid boxes after transform'.format(\n",
      "/notebooks/generators/common.py:180: UserWarning: Image with id 1300 (shape (428, 640, 3)) contains no valid boxes before transform\n",
      "  warnings.warn('Image with id {} (shape {}) contains no valid boxes before transform'.format(\n",
      "/notebooks/generators/common.py:230: UserWarning: Image with id 1300 (shape (608, 608, 3)) contains no valid boxes after transform\n",
      "  warnings.warn('Image with id {} (shape {}) contains no valid boxes after transform'.format(\n",
      "/notebooks/generators/common.py:180: UserWarning: Image with id 4459 (shape (428, 640, 3)) contains no valid boxes before transform\n",
      "  warnings.warn('Image with id {} (shape {}) contains no valid boxes before transform'.format(\n",
      "/notebooks/generators/common.py:230: UserWarning: Image with id 4459 (shape (608, 608, 3)) contains no valid boxes after transform\n",
      "  warnings.warn('Image with id {} (shape {}) contains no valid boxes after transform'.format(\n",
      "/notebooks/generators/common.py:180: UserWarning: Image with id 1558 (shape (427, 640, 3)) contains no valid boxes before transform\n",
      "  warnings.warn('Image with id {} (shape {}) contains no valid boxes before transform'.format(\n",
      "/notebooks/generators/common.py:230: UserWarning: Image with id 1558 (shape (608, 608, 3)) contains no valid boxes after transform\n",
      "  warnings.warn('Image with id {} (shape {}) contains no valid boxes after transform'.format(\n",
      "/notebooks/generators/common.py:180: UserWarning: Image with id 1680 (shape (427, 640, 3)) contains no valid boxes before transform\n",
      "  warnings.warn('Image with id {} (shape {}) contains no valid boxes before transform'.format(\n",
      "/notebooks/generators/common.py:230: UserWarning: Image with id 1680 (shape (608, 608, 3)) contains no valid boxes after transform\n",
      "  warnings.warn('Image with id {} (shape {}) contains no valid boxes after transform'.format(\n",
      "/notebooks/generators/common.py:180: UserWarning: Image with id 3748 (shape (427, 640, 3)) contains no valid boxes before transform\n",
      "  warnings.warn('Image with id {} (shape {}) contains no valid boxes before transform'.format(\n",
      "/notebooks/generators/common.py:230: UserWarning: Image with id 3748 (shape (608, 608, 3)) contains no valid boxes after transform\n",
      "  warnings.warn('Image with id {} (shape {}) contains no valid boxes after transform'.format(\n",
      "/notebooks/generators/common.py:180: UserWarning: Image with id 4091 (shape (427, 640, 3)) contains no valid boxes before transform\n",
      "  warnings.warn('Image with id {} (shape {}) contains no valid boxes before transform'.format(\n",
      "/notebooks/generators/common.py:230: UserWarning: Image with id 4091 (shape (608, 608, 3)) contains no valid boxes after transform\n",
      "  warnings.warn('Image with id {} (shape {}) contains no valid boxes after transform'.format(\n",
      "/notebooks/generators/common.py:180: UserWarning: Image with id 4824 (shape (427, 640, 3)) contains no valid boxes before transform\n",
      "  warnings.warn('Image with id {} (shape {}) contains no valid boxes before transform'.format(\n",
      "/notebooks/generators/common.py:230: UserWarning: Image with id 4824 (shape (608, 608, 3)) contains no valid boxes after transform\n",
      "  warnings.warn('Image with id {} (shape {}) contains no valid boxes after transform'.format(\n",
      "/notebooks/generators/common.py:180: UserWarning: Image with id 3246 (shape (333, 500, 3)) contains no valid boxes before transform\n",
      "  warnings.warn('Image with id {} (shape {}) contains no valid boxes before transform'.format(\n",
      "/notebooks/generators/common.py:230: UserWarning: Image with id 3246 (shape (608, 608, 3)) contains no valid boxes after transform\n",
      "  warnings.warn('Image with id {} (shape {}) contains no valid boxes after transform'.format(\n",
      "/notebooks/generators/common.py:180: UserWarning: Image with id 2319 (shape (426, 640, 3)) contains no valid boxes before transform\n",
      "  warnings.warn('Image with id {} (shape {}) contains no valid boxes before transform'.format(\n",
      "/notebooks/generators/common.py:230: UserWarning: Image with id 2319 (shape (608, 608, 3)) contains no valid boxes after transform\n",
      "  warnings.warn('Image with id {} (shape {}) contains no valid boxes after transform'.format(\n",
      "/notebooks/generators/common.py:180: UserWarning: Image with id 3619 (shape (426, 640, 3)) contains no valid boxes before transform\n",
      "  warnings.warn('Image with id {} (shape {}) contains no valid boxes before transform'.format(\n",
      "/notebooks/generators/common.py:230: UserWarning: Image with id 3619 (shape (608, 608, 3)) contains no valid boxes after transform\n",
      "  warnings.warn('Image with id {} (shape {}) contains no valid boxes after transform'.format(\n",
      "/notebooks/generators/common.py:180: UserWarning: Image with id 3212 (shape (175, 263, 3)) contains no valid boxes before transform\n",
      "  warnings.warn('Image with id {} (shape {}) contains no valid boxes before transform'.format(\n",
      "/notebooks/generators/common.py:230: UserWarning: Image with id 3212 (shape (608, 608, 3)) contains no valid boxes after transform\n",
      "  warnings.warn('Image with id {} (shape {}) contains no valid boxes after transform'.format(\n",
      "/notebooks/generators/common.py:180: UserWarning: Image with id 4340 (shape (332, 500, 3)) contains no valid boxes before transform\n",
      "  warnings.warn('Image with id {} (shape {}) contains no valid boxes before transform'.format(\n",
      "/notebooks/generators/common.py:230: UserWarning: Image with id 4340 (shape (608, 608, 3)) contains no valid boxes after transform\n",
      "  warnings.warn('Image with id {} (shape {}) contains no valid boxes after transform'.format(\n",
      "/notebooks/generators/common.py:180: UserWarning: Image with id 757 (shape (424, 640, 3)) contains no valid boxes before transform\n",
      "  warnings.warn('Image with id {} (shape {}) contains no valid boxes before transform'.format(\n",
      "/notebooks/generators/common.py:230: UserWarning: Image with id 757 (shape (608, 608, 3)) contains no valid boxes after transform\n",
      "  warnings.warn('Image with id {} (shape {}) contains no valid boxes after transform'.format(\n",
      "/notebooks/generators/common.py:180: UserWarning: Image with id 2574 (shape (404, 640, 3)) contains no valid boxes before transform\n",
      "  warnings.warn('Image with id {} (shape {}) contains no valid boxes before transform'.format(\n",
      "/notebooks/generators/common.py:230: UserWarning: Image with id 2574 (shape (608, 608, 3)) contains no valid boxes after transform\n",
      "  warnings.warn('Image with id {} (shape {}) contains no valid boxes after transform'.format(\n",
      "/notebooks/generators/common.py:180: UserWarning: Image with id 3615 (shape (369, 640, 3)) contains no valid boxes before transform\n",
      "  warnings.warn('Image with id {} (shape {}) contains no valid boxes before transform'.format(\n",
      "/notebooks/generators/common.py:230: UserWarning: Image with id 3615 (shape (608, 608, 3)) contains no valid boxes after transform\n",
      "  warnings.warn('Image with id {} (shape {}) contains no valid boxes after transform'.format(\n",
      "/notebooks/generators/common.py:180: UserWarning: Image with id 4201 (shape (269, 500, 3)) contains no valid boxes before transform\n",
      "  warnings.warn('Image with id {} (shape {}) contains no valid boxes before transform'.format(\n",
      "/notebooks/generators/common.py:230: UserWarning: Image with id 4201 (shape (608, 608, 3)) contains no valid boxes after transform\n",
      "  warnings.warn('Image with id {} (shape {}) contains no valid boxes after transform'.format(\n"
     ]
    },
    {
     "name": "stdout",
     "output_type": "stream",
     "text": [
      "500/500 [==============================] - 470s 911ms/step - loss: 440.0770 - val_loss: 2026.3372\n",
      "Epoch 2/100\n",
      "  5/500 [..............................] - ETA: 4:03 - loss: 117.8618"
     ]
    },
    {
     "name": "stderr",
     "output_type": "stream",
     "text": [
      "/notebooks/generators/common.py:230: UserWarning: Image with id 27094 (shape (608, 608, 3)) contains no valid boxes after transform\n",
      "  warnings.warn('Image with id {} (shape {}) contains no valid boxes after transform'.format(\n"
     ]
    },
    {
     "name": "stdout",
     "output_type": "stream",
     "text": [
      " 36/500 [=>............................] - ETA: 3:49 - loss: 117.5911"
     ]
    },
    {
     "name": "stderr",
     "output_type": "stream",
     "text": [
      "/notebooks/generators/common.py:180: UserWarning: Image with id 20846 (shape (333, 500, 3)) contains no valid boxes before transform\n",
      "  warnings.warn('Image with id {} (shape {}) contains no valid boxes before transform'.format(\n",
      "/notebooks/generators/common.py:230: UserWarning: Image with id 20846 (shape (608, 608, 3)) contains no valid boxes after transform\n",
      "  warnings.warn('Image with id {} (shape {}) contains no valid boxes after transform'.format(\n"
     ]
    },
    {
     "name": "stdout",
     "output_type": "stream",
     "text": [
      " 66/500 [==>...........................] - ETA: 3:36 - loss: 114.7743"
     ]
    },
    {
     "name": "stderr",
     "output_type": "stream",
     "text": [
      "/notebooks/generators/common.py:180: UserWarning: Image with id 65495 (shape (443, 640, 3)) contains no valid boxes before transform\n",
      "  warnings.warn('Image with id {} (shape {}) contains no valid boxes before transform'.format(\n",
      "/notebooks/generators/common.py:230: UserWarning: Image with id 65495 (shape (608, 608, 3)) contains no valid boxes after transform\n",
      "  warnings.warn('Image with id {} (shape {}) contains no valid boxes after transform'.format(\n"
     ]
    },
    {
     "name": "stdout",
     "output_type": "stream",
     "text": [
      " 85/500 [====>.........................] - ETA: 3:27 - loss: 110.8581"
     ]
    },
    {
     "name": "stderr",
     "output_type": "stream",
     "text": [
      "/notebooks/generators/common.py:180: UserWarning: Image with id 29881 (shape (459, 500, 3)) contains no valid boxes before transform\n",
      "  warnings.warn('Image with id {} (shape {}) contains no valid boxes before transform'.format(\n",
      "/notebooks/generators/common.py:230: UserWarning: Image with id 29881 (shape (608, 608, 3)) contains no valid boxes after transform\n",
      "  warnings.warn('Image with id {} (shape {}) contains no valid boxes after transform'.format(\n"
     ]
    },
    {
     "name": "stdout",
     "output_type": "stream",
     "text": [
      " 87/500 [====>.........................] - ETA: 3:26 - loss: 110.9119"
     ]
    },
    {
     "name": "stderr",
     "output_type": "stream",
     "text": [
      "/notebooks/generators/common.py:180: UserWarning: Image with id 81881 (shape (429, 640, 3)) contains no valid boxes before transform\n",
      "  warnings.warn('Image with id {} (shape {}) contains no valid boxes before transform'.format(\n",
      "/notebooks/generators/common.py:230: UserWarning: Image with id 81881 (shape (608, 608, 3)) contains no valid boxes after transform\n",
      "  warnings.warn('Image with id {} (shape {}) contains no valid boxes after transform'.format(\n"
     ]
    },
    {
     "name": "stdout",
     "output_type": "stream",
     "text": [
      " 96/500 [====>.........................] - ETA: 3:21 - loss: 110.7038"
     ]
    },
    {
     "name": "stderr",
     "output_type": "stream",
     "text": [
      "/notebooks/generators/common.py:180: UserWarning: Image with id 101406 (shape (480, 640, 3)) contains no valid boxes before transform\n",
      "  warnings.warn('Image with id {} (shape {}) contains no valid boxes before transform'.format(\n",
      "/notebooks/generators/common.py:230: UserWarning: Image with id 101406 (shape (608, 608, 3)) contains no valid boxes after transform\n",
      "  warnings.warn('Image with id {} (shape {}) contains no valid boxes after transform'.format(\n"
     ]
    },
    {
     "name": "stdout",
     "output_type": "stream",
     "text": [
      "129/500 [======>.......................] - ETA: 3:04 - loss: 109.3135"
     ]
    },
    {
     "name": "stderr",
     "output_type": "stream",
     "text": [
      "/notebooks/generators/common.py:180: UserWarning: Image with id 17217 (shape (640, 434, 3)) contains no valid boxes before transform\n",
      "  warnings.warn('Image with id {} (shape {}) contains no valid boxes before transform'.format(\n",
      "/notebooks/generators/common.py:230: UserWarning: Image with id 17217 (shape (608, 608, 3)) contains no valid boxes after transform\n",
      "  warnings.warn('Image with id {} (shape {}) contains no valid boxes after transform'.format(\n"
     ]
    },
    {
     "name": "stdout",
     "output_type": "stream",
     "text": [
      "135/500 [=======>......................] - ETA: 3:01 - loss: 111.3003"
     ]
    },
    {
     "name": "stderr",
     "output_type": "stream",
     "text": [
      "/notebooks/generators/common.py:180: UserWarning: Image with id 9214 (shape (500, 333, 3)) contains no valid boxes before transform\n",
      "  warnings.warn('Image with id {} (shape {}) contains no valid boxes before transform'.format(\n",
      "/notebooks/generators/common.py:230: UserWarning: Image with id 9214 (shape (608, 608, 3)) contains no valid boxes after transform\n",
      "  warnings.warn('Image with id {} (shape {}) contains no valid boxes after transform'.format(\n"
     ]
    },
    {
     "name": "stdout",
     "output_type": "stream",
     "text": [
      "169/500 [=========>....................] - ETA: 2:44 - loss: 110.2327"
     ]
    },
    {
     "name": "stderr",
     "output_type": "stream",
     "text": [
      "/notebooks/generators/common.py:180: UserWarning: Image with id 263 (shape (427, 640, 3)) contains no valid boxes before transform\n",
      "  warnings.warn('Image with id {} (shape {}) contains no valid boxes before transform'.format(\n",
      "/notebooks/generators/common.py:230: UserWarning: Image with id 263 (shape (608, 608, 3)) contains no valid boxes after transform\n",
      "  warnings.warn('Image with id {} (shape {}) contains no valid boxes after transform'.format(\n"
     ]
    },
    {
     "name": "stdout",
     "output_type": "stream",
     "text": [
      "179/500 [=========>....................] - ETA: 2:39 - loss: 109.8538"
     ]
    },
    {
     "name": "stderr",
     "output_type": "stream",
     "text": [
      "/notebooks/generators/common.py:180: UserWarning: Image with id 80827 (shape (381, 640, 3)) contains no valid boxes before transform\n",
      "  warnings.warn('Image with id {} (shape {}) contains no valid boxes before transform'.format(\n",
      "/notebooks/generators/common.py:230: UserWarning: Image with id 80827 (shape (608, 608, 3)) contains no valid boxes after transform\n",
      "  warnings.warn('Image with id {} (shape {}) contains no valid boxes after transform'.format(\n"
     ]
    },
    {
     "name": "stdout",
     "output_type": "stream",
     "text": [
      "223/500 [============>.................] - ETA: 2:18 - loss: 109.8206"
     ]
    },
    {
     "name": "stderr",
     "output_type": "stream",
     "text": [
      "/notebooks/generators/common.py:180: UserWarning: Image with id 87929 (shape (375, 500, 3)) contains no valid boxes before transform\n",
      "  warnings.warn('Image with id {} (shape {}) contains no valid boxes before transform'.format(\n",
      "/notebooks/generators/common.py:230: UserWarning: Image with id 87929 (shape (608, 608, 3)) contains no valid boxes after transform\n",
      "  warnings.warn('Image with id {} (shape {}) contains no valid boxes after transform'.format(\n"
     ]
    },
    {
     "name": "stdout",
     "output_type": "stream",
     "text": [
      "237/500 [=============>................] - ETA: 2:11 - loss: 109.8560"
     ]
    },
    {
     "name": "stderr",
     "output_type": "stream",
     "text": [
      "/notebooks/generators/common.py:180: UserWarning: Image with id 16401 (shape (640, 480, 3)) contains no valid boxes before transform\n",
      "  warnings.warn('Image with id {} (shape {}) contains no valid boxes before transform'.format(\n",
      "/notebooks/generators/common.py:230: UserWarning: Image with id 16379 (shape (608, 608, 3)) contains no valid boxes after transform\n",
      "  warnings.warn('Image with id {} (shape {}) contains no valid boxes after transform'.format(\n",
      "/notebooks/generators/common.py:230: UserWarning: Image with id 16401 (shape (608, 608, 3)) contains no valid boxes after transform\n",
      "  warnings.warn('Image with id {} (shape {}) contains no valid boxes after transform'.format(\n"
     ]
    },
    {
     "name": "stdout",
     "output_type": "stream",
     "text": [
      "275/500 [===============>..............] - ETA: 1:52 - loss: 110.7889"
     ]
    },
    {
     "name": "stderr",
     "output_type": "stream",
     "text": [
      "/notebooks/generators/common.py:180: UserWarning: Image with id 66505 (shape (480, 640, 3)) contains no valid boxes before transform\n",
      "  warnings.warn('Image with id {} (shape {}) contains no valid boxes before transform'.format(\n",
      "/notebooks/generators/common.py:230: UserWarning: Image with id 66505 (shape (608, 608, 3)) contains no valid boxes after transform\n",
      "  warnings.warn('Image with id {} (shape {}) contains no valid boxes after transform'.format(\n"
     ]
    },
    {
     "name": "stdout",
     "output_type": "stream",
     "text": [
      "292/500 [================>.............] - ETA: 1:44 - loss: 110.0539"
     ]
    },
    {
     "name": "stderr",
     "output_type": "stream",
     "text": [
      "/notebooks/generators/common.py:180: UserWarning: Image with id 79888 (shape (427, 640, 3)) contains no valid boxes before transform\n",
      "  warnings.warn('Image with id {} (shape {}) contains no valid boxes before transform'.format(\n",
      "/notebooks/generators/common.py:230: UserWarning: Image with id 79888 (shape (608, 608, 3)) contains no valid boxes after transform\n",
      "  warnings.warn('Image with id {} (shape {}) contains no valid boxes after transform'.format(\n"
     ]
    },
    {
     "name": "stdout",
     "output_type": "stream",
     "text": [
      "309/500 [=================>............] - ETA: 1:35 - loss: 110.4663"
     ]
    },
    {
     "name": "stderr",
     "output_type": "stream",
     "text": [
      "/notebooks/generators/common.py:180: UserWarning: Image with id 28981 (shape (240, 320, 3)) contains no valid boxes before transform\n",
      "  warnings.warn('Image with id {} (shape {}) contains no valid boxes before transform'.format(\n",
      "/notebooks/generators/common.py:180: UserWarning: Image with id 28982 (shape (240, 320, 3)) contains no valid boxes before transform\n",
      "  warnings.warn('Image with id {} (shape {}) contains no valid boxes before transform'.format(\n",
      "/notebooks/generators/common.py:230: UserWarning: Image with id 28981 (shape (608, 608, 3)) contains no valid boxes after transform\n",
      "  warnings.warn('Image with id {} (shape {}) contains no valid boxes after transform'.format(\n",
      "/notebooks/generators/common.py:230: UserWarning: Image with id 28982 (shape (608, 608, 3)) contains no valid boxes after transform\n",
      "  warnings.warn('Image with id {} (shape {}) contains no valid boxes after transform'.format(\n"
     ]
    },
    {
     "name": "stdout",
     "output_type": "stream",
     "text": [
      "315/500 [=================>............] - ETA: 1:32 - loss: 110.4880"
     ]
    },
    {
     "name": "stderr",
     "output_type": "stream",
     "text": [
      "/notebooks/generators/common.py:180: UserWarning: Image with id 11886 (shape (241, 324, 3)) contains no valid boxes before transform\n",
      "  warnings.warn('Image with id {} (shape {}) contains no valid boxes before transform'.format(\n",
      "/notebooks/generators/common.py:230: UserWarning: Image with id 11886 (shape (608, 608, 3)) contains no valid boxes after transform\n",
      "  warnings.warn('Image with id {} (shape {}) contains no valid boxes after transform'.format(\n"
     ]
    },
    {
     "name": "stdout",
     "output_type": "stream",
     "text": [
      "324/500 [==================>...........] - ETA: 1:27 - loss: 110.5400"
     ]
    },
    {
     "name": "stderr",
     "output_type": "stream",
     "text": [
      "/notebooks/generators/common.py:180: UserWarning: Image with id 59991 (shape (480, 640, 3)) contains no valid boxes before transform\n",
      "  warnings.warn('Image with id {} (shape {}) contains no valid boxes before transform'.format(\n",
      "/notebooks/generators/common.py:230: UserWarning: Image with id 59991 (shape (608, 608, 3)) contains no valid boxes after transform\n",
      "  warnings.warn('Image with id {} (shape {}) contains no valid boxes after transform'.format(\n"
     ]
    },
    {
     "name": "stdout",
     "output_type": "stream",
     "text": [
      "335/500 [===================>..........] - ETA: 1:22 - loss: 110.2841"
     ]
    },
    {
     "name": "stderr",
     "output_type": "stream",
     "text": [
      "/notebooks/generators/common.py:180: UserWarning: Image with id 94224 (shape (365, 500, 3)) contains no valid boxes before transform\n",
      "  warnings.warn('Image with id {} (shape {}) contains no valid boxes before transform'.format(\n",
      "/notebooks/generators/common.py:230: UserWarning: Image with id 94224 (shape (608, 608, 3)) contains no valid boxes after transform\n",
      "  warnings.warn('Image with id {} (shape {}) contains no valid boxes after transform'.format(\n"
     ]
    },
    {
     "name": "stdout",
     "output_type": "stream",
     "text": [
      "340/500 [===================>..........] - ETA: 1:20 - loss: 110.5415"
     ]
    },
    {
     "name": "stderr",
     "output_type": "stream",
     "text": [
      "/notebooks/generators/common.py:180: UserWarning: Image with id 68535 (shape (333, 500, 3)) contains no valid boxes before transform\n",
      "  warnings.warn('Image with id {} (shape {}) contains no valid boxes before transform'.format(\n",
      "/notebooks/generators/common.py:230: UserWarning: Image with id 68535 (shape (608, 608, 3)) contains no valid boxes after transform\n",
      "  warnings.warn('Image with id {} (shape {}) contains no valid boxes after transform'.format(\n"
     ]
    },
    {
     "name": "stdout",
     "output_type": "stream",
     "text": [
      "413/500 [=======================>......] - ETA: 43s - loss: 109.3225"
     ]
    },
    {
     "name": "stderr",
     "output_type": "stream",
     "text": [
      "/notebooks/generators/common.py:180: UserWarning: Image with id 33479 (shape (396, 640, 3)) contains no valid boxes before transform\n",
      "  warnings.warn('Image with id {} (shape {}) contains no valid boxes before transform'.format(\n",
      "/notebooks/generators/common.py:230: UserWarning: Image with id 33479 (shape (608, 608, 3)) contains no valid boxes after transform\n",
      "  warnings.warn('Image with id {} (shape {}) contains no valid boxes after transform'.format(\n"
     ]
    },
    {
     "name": "stdout",
     "output_type": "stream",
     "text": [
      "453/500 [==========================>...] - ETA: 23s - loss: 109.1176"
     ]
    },
    {
     "name": "stderr",
     "output_type": "stream",
     "text": [
      "/notebooks/generators/common.py:180: UserWarning: Image with id 62421 (shape (640, 480, 3)) contains no valid boxes before transform\n",
      "  warnings.warn('Image with id {} (shape {}) contains no valid boxes before transform'.format(\n",
      "/notebooks/generators/common.py:230: UserWarning: Image with id 62421 (shape (608, 608, 3)) contains no valid boxes after transform\n",
      "  warnings.warn('Image with id {} (shape {}) contains no valid boxes after transform'.format(\n"
     ]
    },
    {
     "name": "stdout",
     "output_type": "stream",
     "text": [
      "454/500 [==========================>...] - ETA: 22s - loss: 109.1379"
     ]
    },
    {
     "name": "stderr",
     "output_type": "stream",
     "text": [
      "/notebooks/generators/common.py:180: UserWarning: Image with id 71617 (shape (361, 640, 3)) contains no valid boxes before transform\n",
      "  warnings.warn('Image with id {} (shape {}) contains no valid boxes before transform'.format(\n",
      "/notebooks/generators/common.py:230: UserWarning: Image with id 71617 (shape (608, 608, 3)) contains no valid boxes after transform\n",
      "  warnings.warn('Image with id {} (shape {}) contains no valid boxes after transform'.format(\n"
     ]
    },
    {
     "name": "stdout",
     "output_type": "stream",
     "text": [
      "465/500 [==========================>...] - ETA: 17s - loss: 109.2602"
     ]
    },
    {
     "name": "stderr",
     "output_type": "stream",
     "text": [
      "/notebooks/generators/common.py:230: UserWarning: Image with id 57463 (shape (608, 608, 3)) contains no valid boxes after transform\n",
      "  warnings.warn('Image with id {} (shape {}) contains no valid boxes after transform'.format(\n"
     ]
    },
    {
     "name": "stdout",
     "output_type": "stream",
     "text": [
      "483/500 [===========================>..] - ETA: 8s - loss: 108.8466"
     ]
    },
    {
     "name": "stderr",
     "output_type": "stream",
     "text": [
      "/notebooks/generators/common.py:180: UserWarning: Image with id 39881 (shape (480, 640, 3)) contains no valid boxes before transform\n",
      "  warnings.warn('Image with id {} (shape {}) contains no valid boxes before transform'.format(\n",
      "/notebooks/generators/common.py:180: UserWarning: Image with id 39895 (shape (480, 640, 3)) contains no valid boxes before transform\n",
      "  warnings.warn('Image with id {} (shape {}) contains no valid boxes before transform'.format(\n",
      "/notebooks/generators/common.py:230: UserWarning: Image with id 39881 (shape (608, 608, 3)) contains no valid boxes after transform\n",
      "  warnings.warn('Image with id {} (shape {}) contains no valid boxes after transform'.format(\n",
      "/notebooks/generators/common.py:230: UserWarning: Image with id 39895 (shape (608, 608, 3)) contains no valid boxes after transform\n",
      "  warnings.warn('Image with id {} (shape {}) contains no valid boxes after transform'.format(\n"
     ]
    },
    {
     "name": "stdout",
     "output_type": "stream",
     "text": [
      "485/500 [============================>.] - ETA: 7s - loss: 108.7170"
     ]
    },
    {
     "name": "stderr",
     "output_type": "stream",
     "text": [
      "/notebooks/generators/common.py:180: UserWarning: Image with id 17306 (shape (427, 640, 3)) contains no valid boxes before transform\n",
      "  warnings.warn('Image with id {} (shape {}) contains no valid boxes before transform'.format(\n",
      "/notebooks/generators/common.py:230: UserWarning: Image with id 17306 (shape (608, 608, 3)) contains no valid boxes after transform\n",
      "  warnings.warn('Image with id {} (shape {}) contains no valid boxes after transform'.format(\n"
     ]
    },
    {
     "name": "stdout",
     "output_type": "stream",
     "text": [
      "499/500 [============================>.] - ETA: 0s - loss: 108.7128"
     ]
    },
    {
     "name": "stderr",
     "output_type": "stream",
     "text": [
      "/notebooks/generators/common.py:180: UserWarning: Image with id 96234 (shape (480, 640, 3)) contains no valid boxes before transform\n",
      "  warnings.warn('Image with id {} (shape {}) contains no valid boxes before transform'.format(\n",
      "/notebooks/generators/common.py:230: UserWarning: Image with id 96234 (shape (608, 608, 3)) contains no valid boxes after transform\n",
      "  warnings.warn('Image with id {} (shape {}) contains no valid boxes after transform'.format(\n"
     ]
    },
    {
     "name": "stdout",
     "output_type": "stream",
     "text": [
      "500/500 [==============================] - 354s 708ms/step - loss: 108.6123 - val_loss: 109.6878\n",
      "Epoch 3/100\n",
      " 12/500 [..............................] - ETA: 3:59 - loss: 102.0925"
     ]
    },
    {
     "name": "stderr",
     "output_type": "stream",
     "text": [
      "/notebooks/generators/common.py:180: UserWarning: Image with id 64466 (shape (500, 375, 3)) contains no valid boxes before transform\n",
      "  warnings.warn('Image with id {} (shape {}) contains no valid boxes before transform'.format(\n",
      "/notebooks/generators/common.py:230: UserWarning: Image with id 64466 (shape (608, 608, 3)) contains no valid boxes after transform\n",
      "  warnings.warn('Image with id {} (shape {}) contains no valid boxes after transform'.format(\n"
     ]
    },
    {
     "name": "stdout",
     "output_type": "stream",
     "text": [
      " 23/500 [>.............................] - ETA: 3:54 - loss: 99.4339"
     ]
    },
    {
     "name": "stderr",
     "output_type": "stream",
     "text": [
      "/notebooks/generators/common.py:180: UserWarning: Image with id 89075 (shape (377, 500, 3)) contains no valid boxes before transform\n",
      "  warnings.warn('Image with id {} (shape {}) contains no valid boxes before transform'.format(\n",
      "/notebooks/generators/common.py:230: UserWarning: Image with id 89075 (shape (608, 608, 3)) contains no valid boxes after transform\n",
      "  warnings.warn('Image with id {} (shape {}) contains no valid boxes after transform'.format(\n"
     ]
    },
    {
     "name": "stdout",
     "output_type": "stream",
     "text": [
      " 29/500 [>.............................] - ETA: 3:52 - loss: 97.6816"
     ]
    },
    {
     "name": "stderr",
     "output_type": "stream",
     "text": [
      "/notebooks/generators/common.py:180: UserWarning: Image with id 113616 (shape (240, 320, 3)) contains no valid boxes before transform\n",
      "  warnings.warn('Image with id {} (shape {}) contains no valid boxes before transform'.format(\n",
      "/notebooks/generators/common.py:180: UserWarning: Image with id 113654 (shape (480, 640, 3)) contains no valid boxes before transform\n",
      "  warnings.warn('Image with id {} (shape {}) contains no valid boxes before transform'.format(\n",
      "/notebooks/generators/common.py:230: UserWarning: Image with id 113616 (shape (608, 608, 3)) contains no valid boxes after transform\n",
      "  warnings.warn('Image with id {} (shape {}) contains no valid boxes after transform'.format(\n",
      "/notebooks/generators/common.py:230: UserWarning: Image with id 113654 (shape (608, 608, 3)) contains no valid boxes after transform\n",
      "  warnings.warn('Image with id {} (shape {}) contains no valid boxes after transform'.format(\n"
     ]
    },
    {
     "name": "stdout",
     "output_type": "stream",
     "text": [
      " 36/500 [=>............................] - ETA: 3:49 - loss: 97.8880"
     ]
    },
    {
     "name": "stderr",
     "output_type": "stream",
     "text": [
      "/notebooks/generators/common.py:180: UserWarning: Image with id 98216 (shape (480, 640, 3)) contains no valid boxes before transform\n",
      "  warnings.warn('Image with id {} (shape {}) contains no valid boxes before transform'.format(\n",
      "/notebooks/generators/common.py:230: UserWarning: Image with id 98216 (shape (608, 608, 3)) contains no valid boxes after transform\n",
      "  warnings.warn('Image with id {} (shape {}) contains no valid boxes after transform'.format(\n"
     ]
    },
    {
     "name": "stdout",
     "output_type": "stream",
     "text": [
      " 41/500 [=>............................] - ETA: 3:54 - loss: 96.9216"
     ]
    },
    {
     "name": "stderr",
     "output_type": "stream",
     "text": [
      "/notebooks/generators/common.py:180: UserWarning: Image with id 22674 (shape (427, 640, 3)) contains no valid boxes before transform\n",
      "  warnings.warn('Image with id {} (shape {}) contains no valid boxes before transform'.format(\n",
      "/notebooks/generators/common.py:230: UserWarning: Image with id 22674 (shape (608, 608, 3)) contains no valid boxes after transform\n",
      "  warnings.warn('Image with id {} (shape {}) contains no valid boxes after transform'.format(\n"
     ]
    },
    {
     "name": "stdout",
     "output_type": "stream",
     "text": [
      " 73/500 [===>..........................] - ETA: 3:38 - loss: 97.9624"
     ]
    },
    {
     "name": "stderr",
     "output_type": "stream",
     "text": [
      "/notebooks/generators/common.py:180: UserWarning: Image with id 43995 (shape (640, 427, 3)) contains no valid boxes before transform\n",
      "  warnings.warn('Image with id {} (shape {}) contains no valid boxes before transform'.format(\n",
      "/notebooks/generators/common.py:180: UserWarning: Image with id 44010 (shape (640, 427, 3)) contains no valid boxes before transform\n",
      "  warnings.warn('Image with id {} (shape {}) contains no valid boxes before transform'.format(\n",
      "/notebooks/generators/common.py:230: UserWarning: Image with id 43995 (shape (608, 608, 3)) contains no valid boxes after transform\n",
      "  warnings.warn('Image with id {} (shape {}) contains no valid boxes after transform'.format(\n",
      "/notebooks/generators/common.py:230: UserWarning: Image with id 44010 (shape (608, 608, 3)) contains no valid boxes after transform\n",
      "  warnings.warn('Image with id {} (shape {}) contains no valid boxes after transform'.format(\n"
     ]
    },
    {
     "name": "stdout",
     "output_type": "stream",
     "text": [
      "123/500 [======>.......................] - ETA: 3:14 - loss: 101.6796"
     ]
    },
    {
     "name": "stderr",
     "output_type": "stream",
     "text": [
      "/notebooks/generators/common.py:180: UserWarning: Image with id 56318 (shape (427, 640, 3)) contains no valid boxes before transform\n",
      "  warnings.warn('Image with id {} (shape {}) contains no valid boxes before transform'.format(\n",
      "/notebooks/generators/common.py:180: UserWarning: Image with id 56320 (shape (427, 640, 3)) contains no valid boxes before transform\n",
      "  warnings.warn('Image with id {} (shape {}) contains no valid boxes before transform'.format(\n",
      "/notebooks/generators/common.py:230: UserWarning: Image with id 56318 (shape (608, 608, 3)) contains no valid boxes after transform\n",
      "  warnings.warn('Image with id {} (shape {}) contains no valid boxes after transform'.format(\n",
      "/notebooks/generators/common.py:230: UserWarning: Image with id 56320 (shape (608, 608, 3)) contains no valid boxes after transform\n",
      "  warnings.warn('Image with id {} (shape {}) contains no valid boxes after transform'.format(\n"
     ]
    },
    {
     "name": "stdout",
     "output_type": "stream",
     "text": [
      "124/500 [======>.......................] - ETA: 3:13 - loss: 101.3587"
     ]
    },
    {
     "name": "stderr",
     "output_type": "stream",
     "text": [
      "/notebooks/generators/common.py:180: UserWarning: Image with id 107540 (shape (426, 640, 3)) contains no valid boxes before transform\n",
      "  warnings.warn('Image with id {} (shape {}) contains no valid boxes before transform'.format(\n",
      "/notebooks/generators/common.py:230: UserWarning: Image with id 107540 (shape (608, 608, 3)) contains no valid boxes after transform\n",
      "  warnings.warn('Image with id {} (shape {}) contains no valid boxes after transform'.format(\n"
     ]
    },
    {
     "name": "stdout",
     "output_type": "stream",
     "text": [
      "191/500 [==========>...................] - ETA: 2:37 - loss: 102.4264"
     ]
    },
    {
     "name": "stderr",
     "output_type": "stream",
     "text": [
      "/notebooks/generators/common.py:180: UserWarning: Image with id 99081 (shape (429, 640, 3)) contains no valid boxes before transform\n",
      "  warnings.warn('Image with id {} (shape {}) contains no valid boxes before transform'.format(\n",
      "/notebooks/generators/common.py:230: UserWarning: Image with id 99081 (shape (608, 608, 3)) contains no valid boxes after transform\n",
      "  warnings.warn('Image with id {} (shape {}) contains no valid boxes after transform'.format(\n"
     ]
    },
    {
     "name": "stdout",
     "output_type": "stream",
     "text": [
      "199/500 [==========>...................] - ETA: 2:32 - loss: 101.9544"
     ]
    },
    {
     "name": "stderr",
     "output_type": "stream",
     "text": [
      "/notebooks/generators/common.py:180: UserWarning: Image with id 12766 (shape (427, 640, 3)) contains no valid boxes before transform\n",
      "  warnings.warn('Image with id {} (shape {}) contains no valid boxes before transform'.format(\n",
      "/notebooks/generators/common.py:230: UserWarning: Image with id 12766 (shape (608, 608, 3)) contains no valid boxes after transform\n",
      "  warnings.warn('Image with id {} (shape {}) contains no valid boxes after transform'.format(\n"
     ]
    },
    {
     "name": "stdout",
     "output_type": "stream",
     "text": [
      "201/500 [===========>..................] - ETA: 2:34 - loss: 101.4547"
     ]
    },
    {
     "name": "stderr",
     "output_type": "stream",
     "text": [
      "/notebooks/generators/common.py:180: UserWarning: Image with id 77057 (shape (333, 500, 3)) contains no valid boxes before transform\n",
      "  warnings.warn('Image with id {} (shape {}) contains no valid boxes before transform'.format(\n",
      "/notebooks/generators/common.py:230: UserWarning: Image with id 77057 (shape (608, 608, 3)) contains no valid boxes after transform\n",
      "  warnings.warn('Image with id {} (shape {}) contains no valid boxes after transform'.format(\n"
     ]
    },
    {
     "name": "stdout",
     "output_type": "stream",
     "text": [
      "209/500 [===========>..................] - ETA: 2:29 - loss: 102.5186"
     ]
    },
    {
     "name": "stderr",
     "output_type": "stream",
     "text": [
      "/notebooks/generators/common.py:180: UserWarning: Image with id 105190 (shape (327, 500, 3)) contains no valid boxes before transform\n",
      "  warnings.warn('Image with id {} (shape {}) contains no valid boxes before transform'.format(\n",
      "/notebooks/generators/common.py:230: UserWarning: Image with id 105190 (shape (608, 608, 3)) contains no valid boxes after transform\n",
      "  warnings.warn('Image with id {} (shape {}) contains no valid boxes after transform'.format(\n"
     ]
    },
    {
     "name": "stdout",
     "output_type": "stream",
     "text": [
      "213/500 [===========>..................] - ETA: 2:27 - loss: 102.9196"
     ]
    },
    {
     "name": "stderr",
     "output_type": "stream",
     "text": [
      "/notebooks/generators/common.py:180: UserWarning: Image with id 19100 (shape (640, 429, 3)) contains no valid boxes before transform\n",
      "  warnings.warn('Image with id {} (shape {}) contains no valid boxes before transform'.format(\n",
      "/notebooks/generators/common.py:230: UserWarning: Image with id 19100 (shape (608, 608, 3)) contains no valid boxes after transform\n",
      "  warnings.warn('Image with id {} (shape {}) contains no valid boxes after transform'.format(\n"
     ]
    },
    {
     "name": "stdout",
     "output_type": "stream",
     "text": [
      "218/500 [============>.................] - ETA: 2:24 - loss: 102.3003"
     ]
    },
    {
     "name": "stderr",
     "output_type": "stream",
     "text": [
      "/notebooks/generators/common.py:180: UserWarning: Image with id 47070 (shape (478, 640, 3)) contains no valid boxes before transform\n",
      "  warnings.warn('Image with id {} (shape {}) contains no valid boxes before transform'.format(\n",
      "/notebooks/generators/common.py:230: UserWarning: Image with id 47070 (shape (608, 608, 3)) contains no valid boxes after transform\n",
      "  warnings.warn('Image with id {} (shape {}) contains no valid boxes after transform'.format(\n"
     ]
    },
    {
     "name": "stdout",
     "output_type": "stream",
     "text": [
      "232/500 [============>.................] - ETA: 2:17 - loss: 102.3124"
     ]
    },
    {
     "name": "stderr",
     "output_type": "stream",
     "text": [
      "/notebooks/generators/common.py:180: UserWarning: Image with id 73655 (shape (433, 640, 3)) contains no valid boxes before transform\n",
      "  warnings.warn('Image with id {} (shape {}) contains no valid boxes before transform'.format(\n",
      "/notebooks/generators/common.py:230: UserWarning: Image with id 73655 (shape (608, 608, 3)) contains no valid boxes after transform\n",
      "  warnings.warn('Image with id {} (shape {}) contains no valid boxes after transform'.format(\n"
     ]
    },
    {
     "name": "stdout",
     "output_type": "stream",
     "text": [
      "233/500 [============>.................] - ETA: 2:16 - loss: 102.3237"
     ]
    },
    {
     "name": "stderr",
     "output_type": "stream",
     "text": [
      "/notebooks/generators/common.py:180: UserWarning: Image with id 68318 (shape (640, 427, 3)) contains no valid boxes before transform\n",
      "  warnings.warn('Image with id {} (shape {}) contains no valid boxes before transform'.format(\n",
      "/notebooks/generators/common.py:230: UserWarning: Image with id 68318 (shape (608, 608, 3)) contains no valid boxes after transform\n",
      "  warnings.warn('Image with id {} (shape {}) contains no valid boxes after transform'.format(\n"
     ]
    },
    {
     "name": "stdout",
     "output_type": "stream",
     "text": [
      "243/500 [=============>................] - ETA: 2:11 - loss: 102.4594"
     ]
    },
    {
     "name": "stderr",
     "output_type": "stream",
     "text": [
      "/notebooks/generators/common.py:180: UserWarning: Image with id 19956 (shape (480, 640, 3)) contains no valid boxes before transform\n",
      "  warnings.warn('Image with id {} (shape {}) contains no valid boxes before transform'.format(\n",
      "/notebooks/generators/common.py:180: UserWarning: Image with id 19961 (shape (480, 640, 3)) contains no valid boxes before transform\n",
      "  warnings.warn('Image with id {} (shape {}) contains no valid boxes before transform'.format(\n",
      "/notebooks/generators/common.py:180: UserWarning: Image with id 19966 (shape (480, 640, 3)) contains no valid boxes before transform\n",
      "  warnings.warn('Image with id {} (shape {}) contains no valid boxes before transform'.format(\n",
      "/notebooks/generators/common.py:180: UserWarning: Image with id 19981 (shape (480, 640, 3)) contains no valid boxes before transform\n",
      "  warnings.warn('Image with id {} (shape {}) contains no valid boxes before transform'.format(\n",
      "/notebooks/generators/common.py:230: UserWarning: Image with id 19956 (shape (608, 608, 3)) contains no valid boxes after transform\n",
      "  warnings.warn('Image with id {} (shape {}) contains no valid boxes after transform'.format(\n",
      "/notebooks/generators/common.py:230: UserWarning: Image with id 19961 (shape (608, 608, 3)) contains no valid boxes after transform\n",
      "  warnings.warn('Image with id {} (shape {}) contains no valid boxes after transform'.format(\n",
      "/notebooks/generators/common.py:230: UserWarning: Image with id 19966 (shape (608, 608, 3)) contains no valid boxes after transform\n",
      "  warnings.warn('Image with id {} (shape {}) contains no valid boxes after transform'.format(\n",
      "/notebooks/generators/common.py:230: UserWarning: Image with id 19981 (shape (608, 608, 3)) contains no valid boxes after transform\n",
      "  warnings.warn('Image with id {} (shape {}) contains no valid boxes after transform'.format(\n"
     ]
    },
    {
     "name": "stdout",
     "output_type": "stream",
     "text": [
      "245/500 [=============>................] - ETA: 2:10 - loss: 102.2084"
     ]
    },
    {
     "name": "stderr",
     "output_type": "stream",
     "text": [
      "/notebooks/generators/common.py:180: UserWarning: Image with id 7435 (shape (480, 640, 3)) contains no valid boxes before transform\n",
      "  warnings.warn('Image with id {} (shape {}) contains no valid boxes before transform'.format(\n",
      "/notebooks/generators/common.py:230: UserWarning: Image with id 7435 (shape (608, 608, 3)) contains no valid boxes after transform\n",
      "  warnings.warn('Image with id {} (shape {}) contains no valid boxes after transform'.format(\n"
     ]
    },
    {
     "name": "stdout",
     "output_type": "stream",
     "text": [
      "272/500 [===============>..............] - ETA: 1:56 - loss: 101.2116"
     ]
    },
    {
     "name": "stderr",
     "output_type": "stream",
     "text": [
      "/notebooks/generators/common.py:180: UserWarning: Image with id 19995 (shape (480, 640, 3)) contains no valid boxes before transform\n",
      "  warnings.warn('Image with id {} (shape {}) contains no valid boxes before transform'.format(\n",
      "/notebooks/generators/common.py:230: UserWarning: Image with id 19995 (shape (608, 608, 3)) contains no valid boxes after transform\n",
      "  warnings.warn('Image with id {} (shape {}) contains no valid boxes after transform'.format(\n"
     ]
    },
    {
     "name": "stdout",
     "output_type": "stream",
     "text": [
      "287/500 [================>.............] - ETA: 1:48 - loss: 101.0858"
     ]
    },
    {
     "name": "stderr",
     "output_type": "stream",
     "text": [
      "/notebooks/generators/common.py:180: UserWarning: Image with id 107268 (shape (427, 640, 3)) contains no valid boxes before transform\n",
      "  warnings.warn('Image with id {} (shape {}) contains no valid boxes before transform'.format(\n",
      "/notebooks/generators/common.py:230: UserWarning: Image with id 107268 (shape (608, 608, 3)) contains no valid boxes after transform\n",
      "  warnings.warn('Image with id {} (shape {}) contains no valid boxes after transform'.format(\n"
     ]
    },
    {
     "name": "stdout",
     "output_type": "stream",
     "text": [
      "375/500 [=====================>........] - ETA: 1:03 - loss: 101.8263"
     ]
    },
    {
     "name": "stderr",
     "output_type": "stream",
     "text": [
      "/notebooks/generators/common.py:180: UserWarning: Image with id 27118 (shape (500, 333, 3)) contains no valid boxes before transform\n",
      "  warnings.warn('Image with id {} (shape {}) contains no valid boxes before transform'.format(\n",
      "/notebooks/generators/common.py:230: UserWarning: Image with id 27118 (shape (608, 608, 3)) contains no valid boxes after transform\n",
      "  warnings.warn('Image with id {} (shape {}) contains no valid boxes after transform'.format(\n"
     ]
    },
    {
     "name": "stdout",
     "output_type": "stream",
     "text": [
      "387/500 [======================>.......] - ETA: 57s - loss: 101.5872"
     ]
    },
    {
     "name": "stderr",
     "output_type": "stream",
     "text": [
      "/notebooks/generators/common.py:180: UserWarning: Image with id 30725 (shape (336, 500, 3)) contains no valid boxes before transform\n",
      "  warnings.warn('Image with id {} (shape {}) contains no valid boxes before transform'.format(\n",
      "/notebooks/generators/common.py:230: UserWarning: Image with id 30725 (shape (608, 608, 3)) contains no valid boxes after transform\n",
      "  warnings.warn('Image with id {} (shape {}) contains no valid boxes after transform'.format(\n"
     ]
    },
    {
     "name": "stdout",
     "output_type": "stream",
     "text": [
      "389/500 [======================>.......] - ETA: 56s - loss: 101.4979"
     ]
    },
    {
     "name": "stderr",
     "output_type": "stream",
     "text": [
      "/notebooks/generators/common.py:180: UserWarning: Image with id 69212 (shape (375, 500, 3)) contains no valid boxes before transform\n",
      "  warnings.warn('Image with id {} (shape {}) contains no valid boxes before transform'.format(\n",
      "/notebooks/generators/common.py:230: UserWarning: Image with id 69212 (shape (608, 608, 3)) contains no valid boxes after transform\n",
      "  warnings.warn('Image with id {} (shape {}) contains no valid boxes after transform'.format(\n"
     ]
    },
    {
     "name": "stdout",
     "output_type": "stream",
     "text": [
      "391/500 [======================>.......] - ETA: 55s - loss: 101.5481"
     ]
    },
    {
     "name": "stderr",
     "output_type": "stream",
     "text": [
      "/notebooks/generators/common.py:230: UserWarning: Image with id 15740 (shape (608, 608, 3)) contains no valid boxes after transform\n",
      "  warnings.warn('Image with id {} (shape {}) contains no valid boxes after transform'.format(\n"
     ]
    },
    {
     "name": "stdout",
     "output_type": "stream",
     "text": [
      "416/500 [=======================>......] - ETA: 42s - loss: 102.2840"
     ]
    },
    {
     "name": "stderr",
     "output_type": "stream",
     "text": [
      "/notebooks/generators/common.py:180: UserWarning: Image with id 84983 (shape (427, 640, 3)) contains no valid boxes before transform\n",
      "  warnings.warn('Image with id {} (shape {}) contains no valid boxes before transform'.format(\n",
      "/notebooks/generators/common.py:230: UserWarning: Image with id 84983 (shape (608, 608, 3)) contains no valid boxes after transform\n",
      "  warnings.warn('Image with id {} (shape {}) contains no valid boxes after transform'.format(\n"
     ]
    },
    {
     "name": "stdout",
     "output_type": "stream",
     "text": [
      "460/500 [==========================>...] - ETA: 20s - loss: 102.2309"
     ]
    },
    {
     "name": "stderr",
     "output_type": "stream",
     "text": [
      "/notebooks/generators/common.py:180: UserWarning: Image with id 53270 (shape (640, 481, 3)) contains no valid boxes before transform\n",
      "  warnings.warn('Image with id {} (shape {}) contains no valid boxes before transform'.format(\n",
      "/notebooks/generators/common.py:230: UserWarning: Image with id 53270 (shape (608, 608, 3)) contains no valid boxes after transform\n",
      "  warnings.warn('Image with id {} (shape {}) contains no valid boxes after transform'.format(\n"
     ]
    },
    {
     "name": "stdout",
     "output_type": "stream",
     "text": [
      "470/500 [===========================>..] - ETA: 15s - loss: 101.9159"
     ]
    },
    {
     "name": "stderr",
     "output_type": "stream",
     "text": [
      "/notebooks/generators/common.py:180: UserWarning: Image with id 95120 (shape (375, 500, 3)) contains no valid boxes before transform\n",
      "  warnings.warn('Image with id {} (shape {}) contains no valid boxes before transform'.format(\n",
      "/notebooks/generators/common.py:230: UserWarning: Image with id 95120 (shape (608, 608, 3)) contains no valid boxes after transform\n",
      "  warnings.warn('Image with id {} (shape {}) contains no valid boxes after transform'.format(\n"
     ]
    },
    {
     "name": "stdout",
     "output_type": "stream",
     "text": [
      "490/500 [============================>.] - ETA: 5s - loss: 101.8583"
     ]
    },
    {
     "name": "stderr",
     "output_type": "stream",
     "text": [
      "/notebooks/generators/common.py:180: UserWarning: Image with id 41899 (shape (375, 500, 3)) contains no valid boxes before transform\n",
      "  warnings.warn('Image with id {} (shape {}) contains no valid boxes before transform'.format(\n",
      "/notebooks/generators/common.py:180: UserWarning: Image with id 41900 (shape (480, 640, 3)) contains no valid boxes before transform\n",
      "  warnings.warn('Image with id {} (shape {}) contains no valid boxes before transform'.format(\n",
      "/notebooks/generators/common.py:180: UserWarning: Image with id 41901 (shape (480, 640, 3)) contains no valid boxes before transform\n",
      "  warnings.warn('Image with id {} (shape {}) contains no valid boxes before transform'.format(\n",
      "/notebooks/generators/common.py:230: UserWarning: Image with id 41899 (shape (608, 608, 3)) contains no valid boxes after transform\n",
      "  warnings.warn('Image with id {} (shape {}) contains no valid boxes after transform'.format(\n",
      "/notebooks/generators/common.py:230: UserWarning: Image with id 41900 (shape (608, 608, 3)) contains no valid boxes after transform\n",
      "  warnings.warn('Image with id {} (shape {}) contains no valid boxes after transform'.format(\n",
      "/notebooks/generators/common.py:230: UserWarning: Image with id 41901 (shape (608, 608, 3)) contains no valid boxes after transform\n",
      "  warnings.warn('Image with id {} (shape {}) contains no valid boxes after transform'.format(\n"
     ]
    },
    {
     "name": "stdout",
     "output_type": "stream",
     "text": [
      "496/500 [============================>.] - ETA: 2s - loss: 101.8177"
     ]
    },
    {
     "name": "stderr",
     "output_type": "stream",
     "text": [
      "/notebooks/generators/common.py:180: UserWarning: Image with id 62195 (shape (427, 640, 3)) contains no valid boxes before transform\n",
      "  warnings.warn('Image with id {} (shape {}) contains no valid boxes before transform'.format(\n",
      "/notebooks/generators/common.py:230: UserWarning: Image with id 62195 (shape (608, 608, 3)) contains no valid boxes after transform\n",
      "  warnings.warn('Image with id {} (shape {}) contains no valid boxes after transform'.format(\n"
     ]
    },
    {
     "name": "stdout",
     "output_type": "stream",
     "text": [
      "500/500 [==============================] - 358s 716ms/step - loss: 101.7389 - val_loss: 105.4888\n",
      "Epoch 4/100\n",
      " 24/500 [>.............................] - ETA: 3:55 - loss: 102.6311"
     ]
    },
    {
     "name": "stderr",
     "output_type": "stream",
     "text": [
      "/notebooks/generators/common.py:180: UserWarning: Image with id 89076 (shape (480, 640, 3)) contains no valid boxes before transform\n",
      "  warnings.warn('Image with id {} (shape {}) contains no valid boxes before transform'.format(\n",
      "/notebooks/generators/common.py:230: UserWarning: Image with id 89076 (shape (608, 608, 3)) contains no valid boxes after transform\n",
      "  warnings.warn('Image with id {} (shape {}) contains no valid boxes after transform'.format(\n"
     ]
    },
    {
     "name": "stdout",
     "output_type": "stream",
     "text": [
      " 60/500 [==>...........................] - ETA: 3:38 - loss: 104.0865"
     ]
    },
    {
     "name": "stderr",
     "output_type": "stream",
     "text": [
      "/notebooks/generators/common.py:180: UserWarning: Image with id 57392 (shape (400, 500, 3)) contains no valid boxes before transform\n",
      "  warnings.warn('Image with id {} (shape {}) contains no valid boxes before transform'.format(\n",
      "/notebooks/generators/common.py:230: UserWarning: Image with id 57392 (shape (608, 608, 3)) contains no valid boxes after transform\n",
      "  warnings.warn('Image with id {} (shape {}) contains no valid boxes after transform'.format(\n"
     ]
    },
    {
     "name": "stdout",
     "output_type": "stream",
     "text": [
      " 79/500 [===>..........................] - ETA: 3:28 - loss: 104.7881"
     ]
    },
    {
     "name": "stderr",
     "output_type": "stream",
     "text": [
      "/notebooks/generators/common.py:230: UserWarning: Image with id 24331 (shape (608, 608, 3)) contains no valid boxes after transform\n",
      "  warnings.warn('Image with id {} (shape {}) contains no valid boxes after transform'.format(\n"
     ]
    },
    {
     "name": "stdout",
     "output_type": "stream",
     "text": [
      " 80/500 [===>..........................] - ETA: 3:28 - loss: 104.2962"
     ]
    },
    {
     "name": "stderr",
     "output_type": "stream",
     "text": [
      "/notebooks/generators/common.py:180: UserWarning: Image with id 81263 (shape (480, 640, 3)) contains no valid boxes before transform\n",
      "  warnings.warn('Image with id {} (shape {}) contains no valid boxes before transform'.format(\n",
      "/notebooks/generators/common.py:230: UserWarning: Image with id 81263 (shape (608, 608, 3)) contains no valid boxes after transform\n",
      "  warnings.warn('Image with id {} (shape {}) contains no valid boxes after transform'.format(\n"
     ]
    },
    {
     "name": "stdout",
     "output_type": "stream",
     "text": [
      " 91/500 [====>.........................] - ETA: 3:22 - loss: 104.0277"
     ]
    },
    {
     "name": "stderr",
     "output_type": "stream",
     "text": [
      "/notebooks/generators/common.py:180: UserWarning: Image with id 53321 (shape (481, 640, 3)) contains no valid boxes before transform\n",
      "  warnings.warn('Image with id {} (shape {}) contains no valid boxes before transform'.format(\n",
      "/notebooks/generators/common.py:230: UserWarning: Image with id 53321 (shape (608, 608, 3)) contains no valid boxes after transform\n",
      "  warnings.warn('Image with id {} (shape {}) contains no valid boxes after transform'.format(\n"
     ]
    },
    {
     "name": "stdout",
     "output_type": "stream",
     "text": [
      "103/500 [=====>........................] - ETA: 3:16 - loss: 104.9404"
     ]
    },
    {
     "name": "stderr",
     "output_type": "stream",
     "text": [
      "/notebooks/generators/common.py:180: UserWarning: Image with id 51138 (shape (480, 640, 3)) contains no valid boxes before transform\n",
      "  warnings.warn('Image with id {} (shape {}) contains no valid boxes before transform'.format(\n",
      "/notebooks/generators/common.py:180: UserWarning: Image with id 51140 (shape (480, 640, 3)) contains no valid boxes before transform\n",
      "  warnings.warn('Image with id {} (shape {}) contains no valid boxes before transform'.format(\n",
      "/notebooks/generators/common.py:230: UserWarning: Image with id 51138 (shape (608, 608, 3)) contains no valid boxes after transform\n",
      "  warnings.warn('Image with id {} (shape {}) contains no valid boxes after transform'.format(\n",
      "/notebooks/generators/common.py:230: UserWarning: Image with id 51140 (shape (608, 608, 3)) contains no valid boxes after transform\n",
      "  warnings.warn('Image with id {} (shape {}) contains no valid boxes after transform'.format(\n"
     ]
    },
    {
     "name": "stdout",
     "output_type": "stream",
     "text": [
      "113/500 [=====>........................] - ETA: 3:12 - loss: 104.0880"
     ]
    },
    {
     "name": "stderr",
     "output_type": "stream",
     "text": [
      "/notebooks/generators/common.py:180: UserWarning: Image with id 5709 (shape (480, 640, 3)) contains no valid boxes before transform\n",
      "  warnings.warn('Image with id {} (shape {}) contains no valid boxes before transform'.format(\n",
      "/notebooks/generators/common.py:230: UserWarning: Image with id 5709 (shape (608, 608, 3)) contains no valid boxes after transform\n",
      "  warnings.warn('Image with id {} (shape {}) contains no valid boxes after transform'.format(\n"
     ]
    },
    {
     "name": "stdout",
     "output_type": "stream",
     "text": [
      "145/500 [=======>......................] - ETA: 2:56 - loss: 102.2916"
     ]
    },
    {
     "name": "stderr",
     "output_type": "stream",
     "text": [
      "/notebooks/generators/common.py:180: UserWarning: Image with id 54473 (shape (480, 640, 3)) contains no valid boxes before transform\n",
      "  warnings.warn('Image with id {} (shape {}) contains no valid boxes before transform'.format(\n",
      "/notebooks/generators/common.py:230: UserWarning: Image with id 54473 (shape (608, 608, 3)) contains no valid boxes after transform\n",
      "  warnings.warn('Image with id {} (shape {}) contains no valid boxes after transform'.format(\n"
     ]
    },
    {
     "name": "stdout",
     "output_type": "stream",
     "text": [
      "158/500 [========>.....................] - ETA: 2:49 - loss: 101.1704"
     ]
    },
    {
     "name": "stderr",
     "output_type": "stream",
     "text": [
      "/notebooks/generators/common.py:180: UserWarning: Image with id 25071 (shape (612, 612, 3)) contains no valid boxes before transform\n",
      "  warnings.warn('Image with id {} (shape {}) contains no valid boxes before transform'.format(\n",
      "/notebooks/generators/common.py:230: UserWarning: Image with id 25071 (shape (608, 608, 3)) contains no valid boxes after transform\n",
      "  warnings.warn('Image with id {} (shape {}) contains no valid boxes after transform'.format(\n"
     ]
    },
    {
     "name": "stdout",
     "output_type": "stream",
     "text": [
      "171/500 [=========>....................] - ETA: 2:43 - loss: 100.0199"
     ]
    },
    {
     "name": "stderr",
     "output_type": "stream",
     "text": [
      "/notebooks/generators/common.py:230: UserWarning: Image with id 10820 (shape (608, 608, 3)) contains no valid boxes after transform\n",
      "  warnings.warn('Image with id {} (shape {}) contains no valid boxes after transform'.format(\n"
     ]
    },
    {
     "name": "stdout",
     "output_type": "stream",
     "text": [
      "177/500 [=========>....................] - ETA: 2:40 - loss: 99.8927"
     ]
    },
    {
     "name": "stderr",
     "output_type": "stream",
     "text": [
      "/notebooks/generators/common.py:180: UserWarning: Image with id 355 (shape (332, 500, 3)) contains no valid boxes before transform\n",
      "  warnings.warn('Image with id {} (shape {}) contains no valid boxes before transform'.format(\n",
      "/notebooks/generators/common.py:230: UserWarning: Image with id 355 (shape (608, 608, 3)) contains no valid boxes after transform\n",
      "  warnings.warn('Image with id {} (shape {}) contains no valid boxes after transform'.format(\n"
     ]
    },
    {
     "name": "stdout",
     "output_type": "stream",
     "text": [
      "184/500 [==========>...................] - ETA: 2:36 - loss: 99.9913"
     ]
    },
    {
     "name": "stderr",
     "output_type": "stream",
     "text": [
      "/notebooks/generators/common.py:180: UserWarning: Image with id 77740 (shape (396, 640, 3)) contains no valid boxes before transform\n",
      "  warnings.warn('Image with id {} (shape {}) contains no valid boxes before transform'.format(\n",
      "/notebooks/generators/common.py:230: UserWarning: Image with id 77740 (shape (608, 608, 3)) contains no valid boxes after transform\n",
      "  warnings.warn('Image with id {} (shape {}) contains no valid boxes after transform'.format(\n"
     ]
    },
    {
     "name": "stdout",
     "output_type": "stream",
     "text": [
      "197/500 [==========>...................] - ETA: 2:30 - loss: 99.9462"
     ]
    },
    {
     "name": "stderr",
     "output_type": "stream",
     "text": [
      "/notebooks/generators/common.py:180: UserWarning: Image with id 40899 (shape (615, 615, 3)) contains no valid boxes before transform\n",
      "  warnings.warn('Image with id {} (shape {}) contains no valid boxes before transform'.format(\n",
      "/notebooks/generators/common.py:230: UserWarning: Image with id 40899 (shape (608, 608, 3)) contains no valid boxes after transform\n",
      "  warnings.warn('Image with id {} (shape {}) contains no valid boxes after transform'.format(\n"
     ]
    },
    {
     "name": "stdout",
     "output_type": "stream",
     "text": [
      "203/500 [===========>..................] - ETA: 2:27 - loss: 100.0447"
     ]
    },
    {
     "name": "stderr",
     "output_type": "stream",
     "text": [
      "/notebooks/generators/common.py:180: UserWarning: Image with id 70576 (shape (427, 640, 3)) contains no valid boxes before transform\n",
      "  warnings.warn('Image with id {} (shape {}) contains no valid boxes before transform'.format(\n",
      "/notebooks/generators/common.py:180: UserWarning: Image with id 70578 (shape (427, 640, 3)) contains no valid boxes before transform\n",
      "  warnings.warn('Image with id {} (shape {}) contains no valid boxes before transform'.format(\n",
      "/notebooks/generators/common.py:180: UserWarning: Image with id 70602 (shape (427, 640, 3)) contains no valid boxes before transform\n",
      "  warnings.warn('Image with id {} (shape {}) contains no valid boxes before transform'.format(\n",
      "/notebooks/generators/common.py:230: UserWarning: Image with id 70576 (shape (608, 608, 3)) contains no valid boxes after transform\n",
      "  warnings.warn('Image with id {} (shape {}) contains no valid boxes after transform'.format(\n",
      "/notebooks/generators/common.py:230: UserWarning: Image with id 70578 (shape (608, 608, 3)) contains no valid boxes after transform\n",
      "  warnings.warn('Image with id {} (shape {}) contains no valid boxes after transform'.format(\n",
      "/notebooks/generators/common.py:230: UserWarning: Image with id 70602 (shape (608, 608, 3)) contains no valid boxes after transform\n",
      "  warnings.warn('Image with id {} (shape {}) contains no valid boxes after transform'.format(\n"
     ]
    },
    {
     "name": "stdout",
     "output_type": "stream",
     "text": [
      "205/500 [===========>..................] - ETA: 2:26 - loss: 99.8176 "
     ]
    },
    {
     "name": "stderr",
     "output_type": "stream",
     "text": [
      "/notebooks/generators/common.py:180: UserWarning: Image with id 64499 (shape (640, 480, 3)) contains no valid boxes before transform\n",
      "  warnings.warn('Image with id {} (shape {}) contains no valid boxes before transform'.format(\n",
      "/notebooks/generators/common.py:230: UserWarning: Image with id 64499 (shape (608, 608, 3)) contains no valid boxes after transform\n",
      "  warnings.warn('Image with id {} (shape {}) contains no valid boxes after transform'.format(\n"
     ]
    },
    {
     "name": "stdout",
     "output_type": "stream",
     "text": [
      "206/500 [===========>..................] - ETA: 2:25 - loss: 99.7352"
     ]
    },
    {
     "name": "stderr",
     "output_type": "stream",
     "text": [
      "/notebooks/generators/common.py:180: UserWarning: Image with id 84923 (shape (602, 640, 3)) contains no valid boxes before transform\n",
      "  warnings.warn('Image with id {} (shape {}) contains no valid boxes before transform'.format(\n",
      "/notebooks/generators/common.py:230: UserWarning: Image with id 84923 (shape (608, 608, 3)) contains no valid boxes after transform\n",
      "  warnings.warn('Image with id {} (shape {}) contains no valid boxes after transform'.format(\n"
     ]
    },
    {
     "name": "stdout",
     "output_type": "stream",
     "text": [
      "218/500 [============>.................] - ETA: 2:20 - loss: 99.4002"
     ]
    },
    {
     "name": "stderr",
     "output_type": "stream",
     "text": [
      "/notebooks/generators/common.py:180: UserWarning: Image with id 81891 (shape (424, 640, 3)) contains no valid boxes before transform\n",
      "  warnings.warn('Image with id {} (shape {}) contains no valid boxes before transform'.format(\n",
      "/notebooks/generators/common.py:230: UserWarning: Image with id 81891 (shape (608, 608, 3)) contains no valid boxes after transform\n",
      "  warnings.warn('Image with id {} (shape {}) contains no valid boxes after transform'.format(\n"
     ]
    },
    {
     "name": "stdout",
     "output_type": "stream",
     "text": [
      "263/500 [==============>...............] - ETA: 1:57 - loss: 99.5079"
     ]
    },
    {
     "name": "stderr",
     "output_type": "stream",
     "text": [
      "/notebooks/generators/common.py:180: UserWarning: Image with id 51139 (shape (640, 480, 3)) contains no valid boxes before transform\n",
      "  warnings.warn('Image with id {} (shape {}) contains no valid boxes before transform'.format(\n",
      "/notebooks/generators/common.py:230: UserWarning: Image with id 51139 (shape (608, 608, 3)) contains no valid boxes after transform\n",
      "  warnings.warn('Image with id {} (shape {}) contains no valid boxes after transform'.format(\n"
     ]
    },
    {
     "name": "stdout",
     "output_type": "stream",
     "text": [
      "277/500 [===============>..............] - ETA: 1:50 - loss: 99.7117"
     ]
    },
    {
     "name": "stderr",
     "output_type": "stream",
     "text": [
      "/notebooks/generators/common.py:180: UserWarning: Image with id 72184 (shape (640, 428, 3)) contains no valid boxes before transform\n",
      "  warnings.warn('Image with id {} (shape {}) contains no valid boxes before transform'.format(\n",
      "/notebooks/generators/common.py:230: UserWarning: Image with id 72184 (shape (608, 608, 3)) contains no valid boxes after transform\n",
      "  warnings.warn('Image with id {} (shape {}) contains no valid boxes after transform'.format(\n"
     ]
    },
    {
     "name": "stdout",
     "output_type": "stream",
     "text": [
      "289/500 [================>.............] - ETA: 1:45 - loss: 99.1517"
     ]
    },
    {
     "name": "stderr",
     "output_type": "stream",
     "text": [
      "/notebooks/generators/common.py:180: UserWarning: Image with id 71594 (shape (266, 640, 3)) contains no valid boxes before transform\n",
      "  warnings.warn('Image with id {} (shape {}) contains no valid boxes before transform'.format(\n",
      "/notebooks/generators/common.py:230: UserWarning: Image with id 71594 (shape (608, 608, 3)) contains no valid boxes after transform\n",
      "  warnings.warn('Image with id {} (shape {}) contains no valid boxes after transform'.format(\n"
     ]
    },
    {
     "name": "stdout",
     "output_type": "stream",
     "text": [
      "299/500 [================>.............] - ETA: 1:40 - loss: 98.5918"
     ]
    },
    {
     "name": "stderr",
     "output_type": "stream",
     "text": [
      "/notebooks/generators/common.py:180: UserWarning: Image with id 22644 (shape (500, 375, 3)) contains no valid boxes before transform\n",
      "  warnings.warn('Image with id {} (shape {}) contains no valid boxes before transform'.format(\n",
      "/notebooks/generators/common.py:180: UserWarning: Image with id 22670 (shape (640, 480, 3)) contains no valid boxes before transform\n",
      "  warnings.warn('Image with id {} (shape {}) contains no valid boxes before transform'.format(\n",
      "/notebooks/generators/common.py:230: UserWarning: Image with id 22644 (shape (608, 608, 3)) contains no valid boxes after transform\n",
      "  warnings.warn('Image with id {} (shape {}) contains no valid boxes after transform'.format(\n",
      "/notebooks/generators/common.py:230: UserWarning: Image with id 22670 (shape (608, 608, 3)) contains no valid boxes after transform\n",
      "  warnings.warn('Image with id {} (shape {}) contains no valid boxes after transform'.format(\n"
     ]
    },
    {
     "name": "stdout",
     "output_type": "stream",
     "text": [
      "311/500 [=================>............] - ETA: 1:34 - loss: 97.8158"
     ]
    },
    {
     "name": "stderr",
     "output_type": "stream",
     "text": [
      "/notebooks/generators/common.py:180: UserWarning: Image with id 56326 (shape (640, 427, 3)) contains no valid boxes before transform\n",
      "  warnings.warn('Image with id {} (shape {}) contains no valid boxes before transform'.format(\n",
      "/notebooks/generators/common.py:180: UserWarning: Image with id 56336 (shape (640, 427, 3)) contains no valid boxes before transform\n",
      "  warnings.warn('Image with id {} (shape {}) contains no valid boxes before transform'.format(\n",
      "/notebooks/generators/common.py:230: UserWarning: Image with id 56326 (shape (608, 608, 3)) contains no valid boxes after transform\n",
      "  warnings.warn('Image with id {} (shape {}) contains no valid boxes after transform'.format(\n",
      "/notebooks/generators/common.py:230: UserWarning: Image with id 56336 (shape (608, 608, 3)) contains no valid boxes after transform\n",
      "  warnings.warn('Image with id {} (shape {}) contains no valid boxes after transform'.format(\n"
     ]
    },
    {
     "name": "stdout",
     "output_type": "stream",
     "text": [
      "325/500 [==================>...........] - ETA: 1:27 - loss: 97.4757"
     ]
    },
    {
     "name": "stderr",
     "output_type": "stream",
     "text": [
      "/notebooks/generators/common.py:180: UserWarning: Image with id 105242 (shape (640, 480, 3)) contains no valid boxes before transform\n",
      "  warnings.warn('Image with id {} (shape {}) contains no valid boxes before transform'.format(\n",
      "/notebooks/generators/common.py:230: UserWarning: Image with id 105242 (shape (608, 608, 3)) contains no valid boxes after transform\n",
      "  warnings.warn('Image with id {} (shape {}) contains no valid boxes after transform'.format(\n"
     ]
    },
    {
     "name": "stdout",
     "output_type": "stream",
     "text": [
      "336/500 [===================>..........] - ETA: 1:21 - loss: 97.3151"
     ]
    },
    {
     "name": "stderr",
     "output_type": "stream",
     "text": [
      "/notebooks/generators/common.py:180: UserWarning: Image with id 116661 (shape (480, 640, 3)) contains no valid boxes before transform\n",
      "  warnings.warn('Image with id {} (shape {}) contains no valid boxes before transform'.format(\n",
      "/notebooks/generators/common.py:230: UserWarning: Image with id 116661 (shape (608, 608, 3)) contains no valid boxes after transform\n",
      "  warnings.warn('Image with id {} (shape {}) contains no valid boxes after transform'.format(\n"
     ]
    },
    {
     "name": "stdout",
     "output_type": "stream",
     "text": [
      "342/500 [===================>..........] - ETA: 1:18 - loss: 97.0619"
     ]
    },
    {
     "name": "stderr",
     "output_type": "stream",
     "text": [
      "/notebooks/generators/common.py:180: UserWarning: Image with id 2088 (shape (427, 640, 3)) contains no valid boxes before transform\n",
      "  warnings.warn('Image with id {} (shape {}) contains no valid boxes before transform'.format(\n",
      "/notebooks/generators/common.py:230: UserWarning: Image with id 2088 (shape (608, 608, 3)) contains no valid boxes after transform\n",
      "  warnings.warn('Image with id {} (shape {}) contains no valid boxes after transform'.format(\n"
     ]
    },
    {
     "name": "stdout",
     "output_type": "stream",
     "text": [
      "354/500 [====================>.........] - ETA: 1:12 - loss: 97.0967"
     ]
    },
    {
     "name": "stderr",
     "output_type": "stream",
     "text": [
      "/notebooks/generators/common.py:180: UserWarning: Image with id 7113 (shape (480, 640, 3)) contains no valid boxes before transform\n",
      "  warnings.warn('Image with id {} (shape {}) contains no valid boxes before transform'.format(\n",
      "/notebooks/generators/common.py:230: UserWarning: Image with id 7113 (shape (608, 608, 3)) contains no valid boxes after transform\n",
      "  warnings.warn('Image with id {} (shape {}) contains no valid boxes after transform'.format(\n"
     ]
    },
    {
     "name": "stdout",
     "output_type": "stream",
     "text": [
      "357/500 [====================>.........] - ETA: 1:11 - loss: 97.2220"
     ]
    },
    {
     "name": "stderr",
     "output_type": "stream",
     "text": [
      "/notebooks/generators/common.py:180: UserWarning: Image with id 61442 (shape (374, 640, 3)) contains no valid boxes before transform\n",
      "  warnings.warn('Image with id {} (shape {}) contains no valid boxes before transform'.format(\n",
      "/notebooks/generators/common.py:230: UserWarning: Image with id 61442 (shape (608, 608, 3)) contains no valid boxes after transform\n",
      "  warnings.warn('Image with id {} (shape {}) contains no valid boxes after transform'.format(\n"
     ]
    },
    {
     "name": "stdout",
     "output_type": "stream",
     "text": [
      "420/500 [========================>.....] - ETA: 39s - loss: 97.8606"
     ]
    },
    {
     "name": "stderr",
     "output_type": "stream",
     "text": [
      "/notebooks/generators/common.py:180: UserWarning: Image with id 75463 (shape (480, 640, 3)) contains no valid boxes before transform\n",
      "  warnings.warn('Image with id {} (shape {}) contains no valid boxes before transform'.format(\n",
      "/notebooks/generators/common.py:230: UserWarning: Image with id 75463 (shape (608, 608, 3)) contains no valid boxes after transform\n",
      "  warnings.warn('Image with id {} (shape {}) contains no valid boxes after transform'.format(\n"
     ]
    },
    {
     "name": "stdout",
     "output_type": "stream",
     "text": [
      "475/500 [===========================>..] - ETA: 12s - loss: 97.8613"
     ]
    },
    {
     "name": "stderr",
     "output_type": "stream",
     "text": [
      "/notebooks/generators/common.py:180: UserWarning: Image with id 9913 (shape (640, 480, 3)) contains no valid boxes before transform\n",
      "  warnings.warn('Image with id {} (shape {}) contains no valid boxes before transform'.format(\n",
      "/notebooks/generators/common.py:230: UserWarning: Image with id 9913 (shape (608, 608, 3)) contains no valid boxes after transform\n",
      "  warnings.warn('Image with id {} (shape {}) contains no valid boxes after transform'.format(\n"
     ]
    },
    {
     "name": "stdout",
     "output_type": "stream",
     "text": [
      "491/500 [============================>.] - ETA: 4s - loss: 97.7885"
     ]
    },
    {
     "name": "stderr",
     "output_type": "stream",
     "text": [
      "/notebooks/generators/common.py:180: UserWarning: Image with id 112629 (shape (640, 640, 3)) contains no valid boxes before transform\n",
      "  warnings.warn('Image with id {} (shape {}) contains no valid boxes before transform'.format(\n",
      "/notebooks/generators/common.py:230: UserWarning: Image with id 112629 (shape (608, 608, 3)) contains no valid boxes after transform\n",
      "  warnings.warn('Image with id {} (shape {}) contains no valid boxes after transform'.format(\n"
     ]
    },
    {
     "name": "stdout",
     "output_type": "stream",
     "text": [
      "497/500 [============================>.] - ETA: 1s - loss: 97.8609"
     ]
    },
    {
     "name": "stderr",
     "output_type": "stream",
     "text": [
      "/notebooks/generators/common.py:180: UserWarning: Image with id 107537 (shape (444, 640, 3)) contains no valid boxes before transform\n",
      "  warnings.warn('Image with id {} (shape {}) contains no valid boxes before transform'.format(\n",
      "/notebooks/generators/common.py:230: UserWarning: Image with id 107537 (shape (608, 608, 3)) contains no valid boxes after transform\n",
      "  warnings.warn('Image with id {} (shape {}) contains no valid boxes after transform'.format(\n"
     ]
    },
    {
     "name": "stdout",
     "output_type": "stream",
     "text": [
      "500/500 [==============================] - 355s 710ms/step - loss: 97.9743 - val_loss: 97.8537\n",
      "Epoch 5/100\n"
     ]
    },
    {
     "name": "stderr",
     "output_type": "stream",
     "text": [
      "/notebooks/generators/common.py:180: UserWarning: Image with id 94179 (shape (640, 427, 3)) contains no valid boxes before transform\n",
      "  warnings.warn('Image with id {} (shape {}) contains no valid boxes before transform'.format(\n",
      "/notebooks/generators/common.py:180: UserWarning: Image with id 94210 (shape (640, 427, 3)) contains no valid boxes before transform\n",
      "  warnings.warn('Image with id {} (shape {}) contains no valid boxes before transform'.format(\n",
      "/notebooks/generators/common.py:230: UserWarning: Image with id 94179 (shape (608, 608, 3)) contains no valid boxes after transform\n",
      "  warnings.warn('Image with id {} (shape {}) contains no valid boxes after transform'.format(\n",
      "/notebooks/generators/common.py:230: UserWarning: Image with id 94210 (shape (608, 608, 3)) contains no valid boxes after transform\n",
      "  warnings.warn('Image with id {} (shape {}) contains no valid boxes after transform'.format(\n"
     ]
    },
    {
     "name": "stdout",
     "output_type": "stream",
     "text": [
      " 12/500 [..............................] - ETA: 4:01 - loss: 83.6080"
     ]
    },
    {
     "name": "stderr",
     "output_type": "stream",
     "text": [
      "/notebooks/generators/common.py:180: UserWarning: Image with id 199 (shape (640, 427, 3)) contains no valid boxes before transform\n",
      "  warnings.warn('Image with id {} (shape {}) contains no valid boxes before transform'.format(\n",
      "/notebooks/generators/common.py:230: UserWarning: Image with id 199 (shape (608, 608, 3)) contains no valid boxes after transform\n",
      "  warnings.warn('Image with id {} (shape {}) contains no valid boxes after transform'.format(\n"
     ]
    },
    {
     "name": "stdout",
     "output_type": "stream",
     "text": [
      " 20/500 [>.............................] - ETA: 3:58 - loss: 88.0916"
     ]
    },
    {
     "name": "stderr",
     "output_type": "stream",
     "text": [
      "/notebooks/generators/common.py:180: UserWarning: Image with id 62408 (shape (640, 428, 3)) contains no valid boxes before transform\n",
      "  warnings.warn('Image with id {} (shape {}) contains no valid boxes before transform'.format(\n",
      "/notebooks/generators/common.py:230: UserWarning: Image with id 62408 (shape (608, 608, 3)) contains no valid boxes after transform\n",
      "  warnings.warn('Image with id {} (shape {}) contains no valid boxes after transform'.format(\n"
     ]
    },
    {
     "name": "stdout",
     "output_type": "stream",
     "text": [
      " 44/500 [=>............................] - ETA: 3:46 - loss: 96.9326"
     ]
    },
    {
     "name": "stderr",
     "output_type": "stream",
     "text": [
      "/notebooks/generators/common.py:180: UserWarning: Image with id 114737 (shape (427, 640, 3)) contains no valid boxes before transform\n",
      "  warnings.warn('Image with id {} (shape {}) contains no valid boxes before transform'.format(\n",
      "/notebooks/generators/common.py:230: UserWarning: Image with id 114737 (shape (608, 608, 3)) contains no valid boxes after transform\n",
      "  warnings.warn('Image with id {} (shape {}) contains no valid boxes after transform'.format(\n"
     ]
    },
    {
     "name": "stdout",
     "output_type": "stream",
     "text": [
      " 56/500 [==>...........................] - ETA: 3:39 - loss: 97.2341"
     ]
    },
    {
     "name": "stderr",
     "output_type": "stream",
     "text": [
      "/notebooks/generators/common.py:180: UserWarning: Image with id 1150 (shape (480, 640, 3)) contains no valid boxes before transform\n",
      "  warnings.warn('Image with id {} (shape {}) contains no valid boxes before transform'.format(\n",
      "/notebooks/generators/common.py:230: UserWarning: Image with id 1150 (shape (608, 608, 3)) contains no valid boxes after transform\n",
      "  warnings.warn('Image with id {} (shape {}) contains no valid boxes after transform'.format(\n"
     ]
    },
    {
     "name": "stdout",
     "output_type": "stream",
     "text": [
      " 78/500 [===>..........................] - ETA: 3:29 - loss: 99.6170"
     ]
    },
    {
     "name": "stderr",
     "output_type": "stream",
     "text": [
      "/notebooks/generators/common.py:180: UserWarning: Image with id 112659 (shape (371, 640, 3)) contains no valid boxes before transform\n",
      "  warnings.warn('Image with id {} (shape {}) contains no valid boxes before transform'.format(\n",
      "/notebooks/generators/common.py:230: UserWarning: Image with id 112659 (shape (608, 608, 3)) contains no valid boxes after transform\n",
      "  warnings.warn('Image with id {} (shape {}) contains no valid boxes after transform'.format(\n"
     ]
    },
    {
     "name": "stdout",
     "output_type": "stream",
     "text": [
      "106/500 [=====>........................] - ETA: 3:15 - loss: 98.5304"
     ]
    },
    {
     "name": "stderr",
     "output_type": "stream",
     "text": [
      "/notebooks/generators/common.py:180: UserWarning: Image with id 3004 (shape (424, 640, 3)) contains no valid boxes before transform\n",
      "  warnings.warn('Image with id {} (shape {}) contains no valid boxes before transform'.format(\n",
      "/notebooks/generators/common.py:230: UserWarning: Image with id 3004 (shape (608, 608, 3)) contains no valid boxes after transform\n",
      "  warnings.warn('Image with id {} (shape {}) contains no valid boxes after transform'.format(\n"
     ]
    },
    {
     "name": "stdout",
     "output_type": "stream",
     "text": [
      "130/500 [======>.......................] - ETA: 3:03 - loss: 97.3980"
     ]
    },
    {
     "name": "stderr",
     "output_type": "stream",
     "text": [
      "/notebooks/generators/common.py:180: UserWarning: Image with id 55084 (shape (480, 640, 3)) contains no valid boxes before transform\n",
      "  warnings.warn('Image with id {} (shape {}) contains no valid boxes before transform'.format(\n",
      "/notebooks/generators/common.py:230: UserWarning: Image with id 55084 (shape (608, 608, 3)) contains no valid boxes after transform\n",
      "  warnings.warn('Image with id {} (shape {}) contains no valid boxes after transform'.format(\n"
     ]
    },
    {
     "name": "stdout",
     "output_type": "stream",
     "text": [
      "139/500 [=======>......................] - ETA: 2:58 - loss: 96.3709"
     ]
    },
    {
     "name": "stderr",
     "output_type": "stream",
     "text": [
      "/notebooks/generators/common.py:180: UserWarning: Image with id 87067 (shape (375, 500, 3)) contains no valid boxes before transform\n",
      "  warnings.warn('Image with id {} (shape {}) contains no valid boxes before transform'.format(\n",
      "/notebooks/generators/common.py:230: UserWarning: Image with id 87067 (shape (608, 608, 3)) contains no valid boxes after transform\n",
      "  warnings.warn('Image with id {} (shape {}) contains no valid boxes after transform'.format(\n"
     ]
    },
    {
     "name": "stdout",
     "output_type": "stream",
     "text": [
      "141/500 [=======>......................] - ETA: 2:57 - loss: 96.1049"
     ]
    },
    {
     "name": "stderr",
     "output_type": "stream",
     "text": [
      "/notebooks/generators/common.py:180: UserWarning: Image with id 68542 (shape (427, 640, 3)) contains no valid boxes before transform\n",
      "  warnings.warn('Image with id {} (shape {}) contains no valid boxes before transform'.format(\n",
      "/notebooks/generators/common.py:230: UserWarning: Image with id 68542 (shape (608, 608, 3)) contains no valid boxes after transform\n",
      "  warnings.warn('Image with id {} (shape {}) contains no valid boxes after transform'.format(\n"
     ]
    },
    {
     "name": "stdout",
     "output_type": "stream",
     "text": [
      "159/500 [========>.....................] - ETA: 2:48 - loss: 96.8407"
     ]
    },
    {
     "name": "stderr",
     "output_type": "stream",
     "text": [
      "/notebooks/generators/common.py:180: UserWarning: Image with id 78044 (shape (640, 480, 3)) contains no valid boxes before transform\n",
      "  warnings.warn('Image with id {} (shape {}) contains no valid boxes before transform'.format(\n",
      "/notebooks/generators/common.py:230: UserWarning: Image with id 78044 (shape (608, 608, 3)) contains no valid boxes after transform\n",
      "  warnings.warn('Image with id {} (shape {}) contains no valid boxes after transform'.format(\n"
     ]
    },
    {
     "name": "stdout",
     "output_type": "stream",
     "text": [
      "162/500 [========>.....................] - ETA: 2:47 - loss: 97.1358"
     ]
    },
    {
     "name": "stderr",
     "output_type": "stream",
     "text": [
      "/notebooks/generators/common.py:180: UserWarning: Image with id 54121 (shape (480, 640, 3)) contains no valid boxes before transform\n",
      "  warnings.warn('Image with id {} (shape {}) contains no valid boxes before transform'.format(\n",
      "/notebooks/generators/common.py:180: UserWarning: Image with id 54127 (shape (480, 640, 3)) contains no valid boxes before transform\n",
      "  warnings.warn('Image with id {} (shape {}) contains no valid boxes before transform'.format(\n",
      "/notebooks/generators/common.py:230: UserWarning: Image with id 54121 (shape (608, 608, 3)) contains no valid boxes after transform\n",
      "  warnings.warn('Image with id {} (shape {}) contains no valid boxes after transform'.format(\n",
      "/notebooks/generators/common.py:230: UserWarning: Image with id 54127 (shape (608, 608, 3)) contains no valid boxes after transform\n",
      "  warnings.warn('Image with id {} (shape {}) contains no valid boxes after transform'.format(\n"
     ]
    },
    {
     "name": "stdout",
     "output_type": "stream",
     "text": [
      "196/500 [==========>...................] - ETA: 2:30 - loss: 96.9419"
     ]
    },
    {
     "name": "stderr",
     "output_type": "stream",
     "text": [
      "/notebooks/generators/common.py:180: UserWarning: Image with id 87019 (shape (640, 640, 3)) contains no valid boxes before transform\n",
      "  warnings.warn('Image with id {} (shape {}) contains no valid boxes before transform'.format(\n",
      "/notebooks/generators/common.py:230: UserWarning: Image with id 87019 (shape (608, 608, 3)) contains no valid boxes after transform\n",
      "  warnings.warn('Image with id {} (shape {}) contains no valid boxes after transform'.format(\n"
     ]
    },
    {
     "name": "stdout",
     "output_type": "stream",
     "text": [
      "218/500 [============>.................] - ETA: 2:19 - loss: 96.9791"
     ]
    },
    {
     "name": "stderr",
     "output_type": "stream",
     "text": [
      "/notebooks/generators/common.py:230: UserWarning: Image with id 90621 (shape (608, 608, 3)) contains no valid boxes after transform\n",
      "  warnings.warn('Image with id {} (shape {}) contains no valid boxes after transform'.format(\n"
     ]
    },
    {
     "name": "stdout",
     "output_type": "stream",
     "text": [
      "243/500 [=============>................] - ETA: 2:07 - loss: 97.0751"
     ]
    },
    {
     "name": "stderr",
     "output_type": "stream",
     "text": [
      "/notebooks/generators/common.py:180: UserWarning: Image with id 93137 (shape (592, 640, 3)) contains no valid boxes before transform\n",
      "  warnings.warn('Image with id {} (shape {}) contains no valid boxes before transform'.format(\n",
      "/notebooks/generators/common.py:230: UserWarning: Image with id 93137 (shape (608, 608, 3)) contains no valid boxes after transform\n",
      "  warnings.warn('Image with id {} (shape {}) contains no valid boxes after transform'.format(\n"
     ]
    },
    {
     "name": "stdout",
     "output_type": "stream",
     "text": [
      "247/500 [=============>................] - ETA: 2:05 - loss: 96.7969"
     ]
    },
    {
     "name": "stderr",
     "output_type": "stream",
     "text": [
      "/notebooks/generators/common.py:180: UserWarning: Image with id 84969 (shape (480, 640, 3)) contains no valid boxes before transform\n",
      "  warnings.warn('Image with id {} (shape {}) contains no valid boxes before transform'.format(\n",
      "/notebooks/generators/common.py:230: UserWarning: Image with id 84969 (shape (608, 608, 3)) contains no valid boxes after transform\n",
      "  warnings.warn('Image with id {} (shape {}) contains no valid boxes after transform'.format(\n"
     ]
    },
    {
     "name": "stdout",
     "output_type": "stream",
     "text": [
      "253/500 [==============>...............] - ETA: 2:02 - loss: 96.7976"
     ]
    },
    {
     "name": "stderr",
     "output_type": "stream",
     "text": [
      "/notebooks/generators/common.py:180: UserWarning: Image with id 114687 (shape (375, 500, 3)) contains no valid boxes before transform\n",
      "  warnings.warn('Image with id {} (shape {}) contains no valid boxes before transform'.format(\n",
      "/notebooks/generators/common.py:180: UserWarning: Image with id 114713 (shape (480, 640, 3)) contains no valid boxes before transform\n",
      "  warnings.warn('Image with id {} (shape {}) contains no valid boxes before transform'.format(\n",
      "/notebooks/generators/common.py:230: UserWarning: Image with id 114687 (shape (608, 608, 3)) contains no valid boxes after transform\n",
      "  warnings.warn('Image with id {} (shape {}) contains no valid boxes after transform'.format(\n",
      "/notebooks/generators/common.py:230: UserWarning: Image with id 114713 (shape (608, 608, 3)) contains no valid boxes after transform\n",
      "  warnings.warn('Image with id {} (shape {}) contains no valid boxes after transform'.format(\n"
     ]
    },
    {
     "name": "stdout",
     "output_type": "stream",
     "text": [
      "254/500 [==============>...............] - ETA: 2:01 - loss: 96.7609"
     ]
    },
    {
     "name": "stderr",
     "output_type": "stream",
     "text": [
      "/notebooks/generators/common.py:180: UserWarning: Image with id 13734 (shape (285, 400, 3)) contains no valid boxes before transform\n",
      "  warnings.warn('Image with id {} (shape {}) contains no valid boxes before transform'.format(\n",
      "/notebooks/generators/common.py:230: UserWarning: Image with id 13734 (shape (608, 608, 3)) contains no valid boxes after transform\n",
      "  warnings.warn('Image with id {} (shape {}) contains no valid boxes after transform'.format(\n"
     ]
    },
    {
     "name": "stdout",
     "output_type": "stream",
     "text": [
      "265/500 [==============>...............] - ETA: 1:56 - loss: 96.9747"
     ]
    },
    {
     "name": "stderr",
     "output_type": "stream",
     "text": [
      "/notebooks/generators/common.py:180: UserWarning: Image with id 14540 (shape (427, 640, 3)) contains no valid boxes before transform\n",
      "  warnings.warn('Image with id {} (shape {}) contains no valid boxes before transform'.format(\n",
      "/notebooks/generators/common.py:230: UserWarning: Image with id 14540 (shape (608, 608, 3)) contains no valid boxes after transform\n",
      "  warnings.warn('Image with id {} (shape {}) contains no valid boxes after transform'.format(\n"
     ]
    },
    {
     "name": "stdout",
     "output_type": "stream",
     "text": [
      "287/500 [================>.............] - ETA: 1:45 - loss: 96.9038"
     ]
    },
    {
     "name": "stderr",
     "output_type": "stream",
     "text": [
      "/notebooks/generators/common.py:180: UserWarning: Image with id 41898 (shape (427, 640, 3)) contains no valid boxes before transform\n",
      "  warnings.warn('Image with id {} (shape {}) contains no valid boxes before transform'.format(\n",
      "/notebooks/generators/common.py:230: UserWarning: Image with id 41898 (shape (608, 608, 3)) contains no valid boxes after transform\n",
      "  warnings.warn('Image with id {} (shape {}) contains no valid boxes after transform'.format(\n"
     ]
    },
    {
     "name": "stdout",
     "output_type": "stream",
     "text": [
      "290/500 [================>.............] - ETA: 1:44 - loss: 96.9070"
     ]
    },
    {
     "name": "stderr",
     "output_type": "stream",
     "text": [
      "/notebooks/generators/common.py:180: UserWarning: Image with id 79902 (shape (317, 640, 3)) contains no valid boxes before transform\n",
      "  warnings.warn('Image with id {} (shape {}) contains no valid boxes before transform'.format(\n",
      "/notebooks/generators/common.py:230: UserWarning: Image with id 79902 (shape (608, 608, 3)) contains no valid boxes after transform\n",
      "  warnings.warn('Image with id {} (shape {}) contains no valid boxes after transform'.format(\n"
     ]
    },
    {
     "name": "stdout",
     "output_type": "stream",
     "text": [
      "293/500 [================>.............] - ETA: 1:42 - loss: 96.9341"
     ]
    },
    {
     "name": "stderr",
     "output_type": "stream",
     "text": [
      "/notebooks/generators/common.py:180: UserWarning: Image with id 36789 (shape (333, 500, 3)) contains no valid boxes before transform\n",
      "  warnings.warn('Image with id {} (shape {}) contains no valid boxes before transform'.format(\n",
      "/notebooks/generators/common.py:230: UserWarning: Image with id 36789 (shape (608, 608, 3)) contains no valid boxes after transform\n",
      "  warnings.warn('Image with id {} (shape {}) contains no valid boxes after transform'.format(\n"
     ]
    },
    {
     "name": "stdout",
     "output_type": "stream",
     "text": [
      "337/500 [===================>..........] - ETA: 1:20 - loss: 96.0277"
     ]
    },
    {
     "name": "stderr",
     "output_type": "stream",
     "text": [
      "/notebooks/generators/common.py:180: UserWarning: Image with id 11058 (shape (480, 640, 3)) contains no valid boxes before transform\n",
      "  warnings.warn('Image with id {} (shape {}) contains no valid boxes before transform'.format(\n",
      "/notebooks/generators/common.py:180: UserWarning: Image with id 11065 (shape (375, 500, 3)) contains no valid boxes before transform\n",
      "  warnings.warn('Image with id {} (shape {}) contains no valid boxes before transform'.format(\n",
      "/notebooks/generators/common.py:230: UserWarning: Image with id 11058 (shape (608, 608, 3)) contains no valid boxes after transform\n",
      "  warnings.warn('Image with id {} (shape {}) contains no valid boxes after transform'.format(\n",
      "/notebooks/generators/common.py:230: UserWarning: Image with id 11065 (shape (608, 608, 3)) contains no valid boxes after transform\n",
      "  warnings.warn('Image with id {} (shape {}) contains no valid boxes after transform'.format(\n"
     ]
    },
    {
     "name": "stdout",
     "output_type": "stream",
     "text": [
      "350/500 [====================>.........] - ETA: 1:14 - loss: 95.9245"
     ]
    },
    {
     "name": "stderr",
     "output_type": "stream",
     "text": [
      "/notebooks/generators/common.py:180: UserWarning: Image with id 16393 (shape (427, 640, 3)) contains no valid boxes before transform\n",
      "  warnings.warn('Image with id {} (shape {}) contains no valid boxes before transform'.format(\n",
      "/notebooks/generators/common.py:230: UserWarning: Image with id 16393 (shape (608, 608, 3)) contains no valid boxes after transform\n",
      "  warnings.warn('Image with id {} (shape {}) contains no valid boxes after transform'.format(\n"
     ]
    },
    {
     "name": "stdout",
     "output_type": "stream",
     "text": [
      "358/500 [====================>.........] - ETA: 1:10 - loss: 95.6830"
     ]
    },
    {
     "name": "stderr",
     "output_type": "stream",
     "text": [
      "/notebooks/generators/common.py:180: UserWarning: Image with id 44020 (shape (480, 640, 3)) contains no valid boxes before transform\n",
      "  warnings.warn('Image with id {} (shape {}) contains no valid boxes before transform'.format(\n",
      "/notebooks/generators/common.py:230: UserWarning: Image with id 44020 (shape (608, 608, 3)) contains no valid boxes after transform\n",
      "  warnings.warn('Image with id {} (shape {}) contains no valid boxes after transform'.format(\n"
     ]
    },
    {
     "name": "stdout",
     "output_type": "stream",
     "text": [
      "381/500 [=====================>........] - ETA: 59s - loss: 95.5726"
     ]
    },
    {
     "name": "stderr",
     "output_type": "stream",
     "text": [
      "/notebooks/generators/common.py:180: UserWarning: Image with id 15396 (shape (480, 640, 3)) contains no valid boxes before transform\n",
      "  warnings.warn('Image with id {} (shape {}) contains no valid boxes before transform'.format(\n",
      "/notebooks/generators/common.py:230: UserWarning: Image with id 15396 (shape (608, 608, 3)) contains no valid boxes after transform\n",
      "  warnings.warn('Image with id {} (shape {}) contains no valid boxes after transform'.format(\n"
     ]
    },
    {
     "name": "stdout",
     "output_type": "stream",
     "text": [
      "384/500 [======================>.......] - ETA: 57s - loss: 95.5740"
     ]
    },
    {
     "name": "stderr",
     "output_type": "stream",
     "text": [
      "/notebooks/generators/common.py:180: UserWarning: Image with id 51127 (shape (427, 640, 3)) contains no valid boxes before transform\n",
      "  warnings.warn('Image with id {} (shape {}) contains no valid boxes before transform'.format(\n",
      "/notebooks/generators/common.py:230: UserWarning: Image with id 51127 (shape (608, 608, 3)) contains no valid boxes after transform\n",
      "  warnings.warn('Image with id {} (shape {}) contains no valid boxes after transform'.format(\n"
     ]
    },
    {
     "name": "stdout",
     "output_type": "stream",
     "text": [
      "408/500 [=======================>......] - ETA: 45s - loss: 95.0080"
     ]
    },
    {
     "name": "stderr",
     "output_type": "stream",
     "text": [
      "/notebooks/generators/common.py:180: UserWarning: Image with id 115672 (shape (480, 640, 3)) contains no valid boxes before transform\n",
      "  warnings.warn('Image with id {} (shape {}) contains no valid boxes before transform'.format(\n",
      "/notebooks/generators/common.py:230: UserWarning: Image with id 115672 (shape (608, 608, 3)) contains no valid boxes after transform\n",
      "  warnings.warn('Image with id {} (shape {}) contains no valid boxes after transform'.format(\n"
     ]
    },
    {
     "name": "stdout",
     "output_type": "stream",
     "text": [
      "411/500 [=======================>......] - ETA: 44s - loss: 95.3142"
     ]
    },
    {
     "name": "stderr",
     "output_type": "stream",
     "text": [
      "/notebooks/generators/common.py:180: UserWarning: Image with id 1151 (shape (427, 640, 3)) contains no valid boxes before transform\n",
      "  warnings.warn('Image with id {} (shape {}) contains no valid boxes before transform'.format(\n",
      "/notebooks/generators/common.py:230: UserWarning: Image with id 1151 (shape (608, 608, 3)) contains no valid boxes after transform\n",
      "  warnings.warn('Image with id {} (shape {}) contains no valid boxes after transform'.format(\n"
     ]
    },
    {
     "name": "stdout",
     "output_type": "stream",
     "text": [
      "415/500 [=======================>......] - ETA: 42s - loss: 95.2133"
     ]
    },
    {
     "name": "stderr",
     "output_type": "stream",
     "text": [
      "/notebooks/generators/common.py:180: UserWarning: Image with id 61396 (shape (500, 375, 3)) contains no valid boxes before transform\n",
      "  warnings.warn('Image with id {} (shape {}) contains no valid boxes before transform'.format(\n",
      "/notebooks/generators/common.py:230: UserWarning: Image with id 61396 (shape (608, 608, 3)) contains no valid boxes after transform\n",
      "  warnings.warn('Image with id {} (shape {}) contains no valid boxes after transform'.format(\n"
     ]
    },
    {
     "name": "stdout",
     "output_type": "stream",
     "text": [
      "456/500 [==========================>...] - ETA: 21s - loss: 94.2960"
     ]
    },
    {
     "name": "stderr",
     "output_type": "stream",
     "text": [
      "/notebooks/generators/common.py:180: UserWarning: Image with id 25329 (shape (480, 640, 3)) contains no valid boxes before transform\n",
      "  warnings.warn('Image with id {} (shape {}) contains no valid boxes before transform'.format(\n",
      "/notebooks/generators/common.py:180: UserWarning: Image with id 25330 (shape (480, 640, 3)) contains no valid boxes before transform\n",
      "  warnings.warn('Image with id {} (shape {}) contains no valid boxes before transform'.format(\n",
      "/notebooks/generators/common.py:230: UserWarning: Image with id 25329 (shape (608, 608, 3)) contains no valid boxes after transform\n",
      "  warnings.warn('Image with id {} (shape {}) contains no valid boxes after transform'.format(\n",
      "/notebooks/generators/common.py:230: UserWarning: Image with id 25330 (shape (608, 608, 3)) contains no valid boxes after transform\n",
      "  warnings.warn('Image with id {} (shape {}) contains no valid boxes after transform'.format(\n"
     ]
    },
    {
     "name": "stdout",
     "output_type": "stream",
     "text": [
      "463/500 [==========================>...] - ETA: 18s - loss: 94.1558"
     ]
    },
    {
     "name": "stderr",
     "output_type": "stream",
     "text": [
      "/notebooks/generators/common.py:180: UserWarning: Image with id 59337 (shape (447, 640, 3)) contains no valid boxes before transform\n",
      "  warnings.warn('Image with id {} (shape {}) contains no valid boxes before transform'.format(\n",
      "/notebooks/generators/common.py:230: UserWarning: Image with id 59337 (shape (608, 608, 3)) contains no valid boxes after transform\n",
      "  warnings.warn('Image with id {} (shape {}) contains no valid boxes after transform'.format(\n"
     ]
    },
    {
     "name": "stdout",
     "output_type": "stream",
     "text": [
      "469/500 [===========================>..] - ETA: 15s - loss: 93.9890"
     ]
    },
    {
     "name": "stderr",
     "output_type": "stream",
     "text": [
      "/notebooks/generators/common.py:180: UserWarning: Image with id 38719 (shape (640, 428, 3)) contains no valid boxes before transform\n",
      "  warnings.warn('Image with id {} (shape {}) contains no valid boxes before transform'.format(\n",
      "/notebooks/generators/common.py:180: UserWarning: Image with id 38873 (shape (640, 428, 3)) contains no valid boxes before transform\n",
      "  warnings.warn('Image with id {} (shape {}) contains no valid boxes before transform'.format(\n",
      "/notebooks/generators/common.py:230: UserWarning: Image with id 38719 (shape (608, 608, 3)) contains no valid boxes after transform\n",
      "  warnings.warn('Image with id {} (shape {}) contains no valid boxes after transform'.format(\n",
      "/notebooks/generators/common.py:230: UserWarning: Image with id 38873 (shape (608, 608, 3)) contains no valid boxes after transform\n",
      "  warnings.warn('Image with id {} (shape {}) contains no valid boxes after transform'.format(\n"
     ]
    },
    {
     "name": "stdout",
     "output_type": "stream",
     "text": [
      "479/500 [===========================>..] - ETA: 10s - loss: 93.6276"
     ]
    },
    {
     "name": "stderr",
     "output_type": "stream",
     "text": [
      "/notebooks/generators/common.py:230: UserWarning: Image with id 51953 (shape (608, 608, 3)) contains no valid boxes after transform\n",
      "  warnings.warn('Image with id {} (shape {}) contains no valid boxes after transform'.format(\n"
     ]
    },
    {
     "name": "stdout",
     "output_type": "stream",
     "text": [
      "500/500 [==============================] - 354s 709ms/step - loss: 93.4794 - val_loss: 94.0212\n",
      "Epoch 6/100\n",
      " 11/500 [..............................] - ETA: 4:02 - loss: 107.1097"
     ]
    },
    {
     "name": "stderr",
     "output_type": "stream",
     "text": [
      "/notebooks/generators/common.py:180: UserWarning: Image with id 101364 (shape (480, 640, 3)) contains no valid boxes before transform\n",
      "  warnings.warn('Image with id {} (shape {}) contains no valid boxes before transform'.format(\n",
      "/notebooks/generators/common.py:180: UserWarning: Image with id 101379 (shape (375, 500, 3)) contains no valid boxes before transform\n",
      "  warnings.warn('Image with id {} (shape {}) contains no valid boxes before transform'.format(\n",
      "/notebooks/generators/common.py:180: UserWarning: Image with id 101384 (shape (480, 640, 3)) contains no valid boxes before transform\n",
      "  warnings.warn('Image with id {} (shape {}) contains no valid boxes before transform'.format(\n",
      "/notebooks/generators/common.py:230: UserWarning: Image with id 101364 (shape (608, 608, 3)) contains no valid boxes after transform\n",
      "  warnings.warn('Image with id {} (shape {}) contains no valid boxes after transform'.format(\n",
      "/notebooks/generators/common.py:230: UserWarning: Image with id 101379 (shape (608, 608, 3)) contains no valid boxes after transform\n",
      "  warnings.warn('Image with id {} (shape {}) contains no valid boxes after transform'.format(\n",
      "/notebooks/generators/common.py:230: UserWarning: Image with id 101384 (shape (608, 608, 3)) contains no valid boxes after transform\n",
      "  warnings.warn('Image with id {} (shape {}) contains no valid boxes after transform'.format(\n"
     ]
    },
    {
     "name": "stdout",
     "output_type": "stream",
     "text": [
      " 34/500 [=>............................] - ETA: 3:53 - loss: 94.7859"
     ]
    },
    {
     "name": "stderr",
     "output_type": "stream",
     "text": [
      "/notebooks/generators/common.py:180: UserWarning: Image with id 13450 (shape (426, 640, 3)) contains no valid boxes before transform\n",
      "  warnings.warn('Image with id {} (shape {}) contains no valid boxes before transform'.format(\n",
      "/notebooks/generators/common.py:230: UserWarning: Image with id 13450 (shape (608, 608, 3)) contains no valid boxes after transform\n",
      "  warnings.warn('Image with id {} (shape {}) contains no valid boxes after transform'.format(\n"
     ]
    },
    {
     "name": "stdout",
     "output_type": "stream",
     "text": [
      " 52/500 [==>...........................] - ETA: 3:43 - loss: 95.9234"
     ]
    },
    {
     "name": "stderr",
     "output_type": "stream",
     "text": [
      "/notebooks/generators/common.py:180: UserWarning: Image with id 73648 (shape (427, 640, 3)) contains no valid boxes before transform\n",
      "  warnings.warn('Image with id {} (shape {}) contains no valid boxes before transform'.format(\n",
      "/notebooks/generators/common.py:230: UserWarning: Image with id 73648 (shape (608, 608, 3)) contains no valid boxes after transform\n",
      "  warnings.warn('Image with id {} (shape {}) contains no valid boxes after transform'.format(\n"
     ]
    },
    {
     "name": "stdout",
     "output_type": "stream",
     "text": [
      " 84/500 [====>.........................] - ETA: 3:26 - loss: 94.5325"
     ]
    },
    {
     "name": "stderr",
     "output_type": "stream",
     "text": [
      "/notebooks/generators/common.py:180: UserWarning: Image with id 38874 (shape (640, 426, 3)) contains no valid boxes before transform\n",
      "  warnings.warn('Image with id {} (shape {}) contains no valid boxes before transform'.format(\n",
      "/notebooks/generators/common.py:230: UserWarning: Image with id 38874 (shape (608, 608, 3)) contains no valid boxes after transform\n",
      "  warnings.warn('Image with id {} (shape {}) contains no valid boxes after transform'.format(\n"
     ]
    },
    {
     "name": "stdout",
     "output_type": "stream",
     "text": [
      "112/500 [=====>........................] - ETA: 3:12 - loss: 90.5887"
     ]
    }
   ],
   "source": [
    "    # start training\n",
    "H = model.fit(\n",
    "    train_generator, y = None,\n",
    "    steps_per_epoch=STEPS_PER_EPOCH,\n",
    "    epochs=EPOCHS,\n",
    "    verbose=1,\n",
    "\n",
    "    # callbacks=callbacks,\n",
    "    # workers=WORKERS,\n",
    "    # use_multiprocessing=MULTI_PROCESSING,\n",
    "    # max_queue_size=MAX_QUEUE_SIZE,\n",
    "    validation_data=val_generator,\n",
    "    validation_steps=len(val_generator),\n",
    "    shuffle=True,\n",
    "    initial_epoch=0\n",
    ")\n",
    "\n",
    "# H = model.fit(\n",
    "#     train_generator,\n",
    "#     steps_per_epoch=STEPS_PER_EPOCH,\n",
    "#     initial_epoch=0,\n",
    "#     epochs=EPOCHS,\n",
    "#     verbose=1,\n",
    "#     callbacks=callbacks,\n",
    "#     workers=WORKERS,\n",
    "#     use_multiprocessing=MULTI_PROCESSING,\n",
    "#     max_queue_size=MAX_QUEUE_SIZE,\n",
    "#     validation_data=val_generator\n",
    "# )\n"
   ]
  },
  {
   "cell_type": "code",
   "execution_count": null,
   "metadata": {},
   "outputs": [],
   "source": [
    "# plot the training history\n",
    "def plot_results(history, epochs=EPOCHS):\n",
    "    '''\n",
    "        This function plots the training history\n",
    "        input:\n",
    "            - history: the training history\n",
    "        output:\n",
    "            - None\n",
    "    '''\n",
    "    plt.style.use('ggplot')\n",
    "    plt.figure()\n",
    "    plt.plot(np.arange(0, epochs), history['loss'], label = 'train_loss')\n",
    "    plt.plot(np.arange(0, epochs), history['val_loss'], label = 'val_loss')\n",
    "    plt.plot(np.arange(0, epochs), history['accuracy'], label = 'train_acc')\n",
    "    plt.plot(np.arange(0, epochs), history['val_accuracy'], label = 'val_acc')\n",
    "        \n",
    "    # add labels and legend\n",
    "    plt.title('Training Loss and Accuracy')\n",
    "    plt.xlabel('Epoch #')\n",
    "    plt.ylabel('Loss/Accuracy')\n",
    "    plt.legend()\n"
   ]
  },
  {
   "cell_type": "code",
   "execution_count": null,
   "metadata": {},
   "outputs": [],
   "source": [
    "# plot the training history\n",
    "plot_results(H.history)"
   ]
  },
  {
   "cell_type": "code",
   "execution_count": null,
   "metadata": {},
   "outputs": [],
   "source": [
    "import os.path as osp\n",
    "import glob\n",
    "from utils import get_anchors, get_classes, preprocess_image"
   ]
  },
  {
   "cell_type": "code",
   "execution_count": null,
   "metadata": {},
   "outputs": [],
   "source": [
    "def show_image(image, name, contours=None):\n",
    "    image = image.astype(np.uint8)\n",
    "    cv2.namedWindow(name, cv2.WINDOW_NORMAL)\n",
    "    if contours is not None:\n",
    "        if isinstance(contours, list):\n",
    "            cv2.drawContours(image, contours, -1, (0, 0, 255), 2)\n",
    "        else:\n",
    "            cv2.drawContours(image, [contours], -1, (0, 0, 255), 2)\n",
    "    cv2.imshow(name, image)"
   ]
  },
  {
   "cell_type": "code",
   "execution_count": null,
   "metadata": {},
   "outputs": [],
   "source": [
    "# inference\n",
    "BATCH_SIZE = 1\n",
    "image_paths = glob.glob('/notebooks/data/test2017/*.jpg')\n",
    "num_images = len(image_paths)\n",
    "print('Number of images: {}'.format(num_images))\n",
    "colors = [np.random.randint(0, 256, 3).tolist() for i in range(num_classes)]"
   ]
  },
  {
   "cell_type": "code",
   "execution_count": null,
   "metadata": {},
   "outputs": [],
   "source": [
    "for i in range(0, num_images, BATCH_SIZE):\n",
    "    if i + BATCH_SIZE > num_images:\n",
    "        batch_image_paths = image_paths[i:]\n",
    "    else:\n",
    "        batch_image_paths = image_paths[i:i + BATCH_SIZE]\n",
    "    batch_images_data = []\n",
    "    batch_image_shapes = []\n",
    "    for image_path in batch_image_paths:\n",
    "        image = cv2.imread(image_path)\n",
    "        image = cv2.cvtColor(image, cv2.COLOR_BGR2RGB)\n",
    "        image_shape = image.shape[:2]\n",
    "        image_shape = np.array(image_shape)\n",
    "        image_data = preprocess_image(image)\n",
    "        batch_images_data.append(image_data)\n",
    "        batch_image_shapes.append(image_shape)\n",
    "\n",
    "    batch_images_data = np.array(batch_images_data)\n",
    "    batch_image_shapes = np.array(batch_image_shapes)\n",
    "    batch_detections = prediction_model.predict([batch_images_data, batch_image_shapes])\n",
    "    for i, detections in enumerate(batch_detections):\n",
    "        image_path = batch_image_paths[i]\n",
    "        image = cv2.imread(image_path)\n",
    "        h, w = image.shape[:2]\n",
    "        detections = detections[detections[:, 4] > 0.0]\n",
    "        for detection in detections:\n",
    "            ymin = max(int(round(detection[0])), 0)\n",
    "            xmin = max(int(round(detection[1])), 0)\n",
    "            ymax = min(int(round(detection[2])), h - 1)\n",
    "            xmax = min(int(round(detection[3])), w - 1)\n",
    "            score = '{:.4f}'.format(detection[4])\n",
    "            class_id = int(detection[5])\n",
    "            color = colors[class_id - 1]\n",
    "            class_name = classes[class_id]\n",
    "            label = '-'.join([class_name, score])\n",
    "            ret, baseline = cv2.getTextSize(label, cv2.FONT_HERSHEY_SIMPLEX, 0.3, 1)\n",
    "            cv2.rectangle(image, (xmin, ymin), (xmax, ymax), color, 1)\n",
    "            cv2.rectangle(image, (xmin, ymax - ret[1] - baseline), (xmin + ret[0], ymax), color, -1)\n",
    "            cv2.putText(image, label, (xmin, ymax - baseline), cv2.FONT_HERSHEY_SIMPLEX, 0.5, (0, 0, 0), 1)\n",
    "        cv2.namedWindow('image', cv2.WINDOW_NORMAL)\n",
    "        cv2.imshow('image', image)\n",
    "        key = cv2.waitKey(0)\n",
    "        if int(key) == 121:\n",
    "            image_fname = osp.split(image_path)[-1]\n",
    "            cv2.imwrite('test/{}'.format(image_fname), image)\n",
    "\n",
    "    # spot at 10 images\n",
    "    if i == 10:\n",
    "        break"
   ]
  },
  {
   "cell_type": "markdown",
   "metadata": {},
   "source": [
    "### Video Demo of Gaussian Yolov3 (YoloG) in Real Time"
   ]
  },
  {
   "cell_type": "code",
   "execution_count": null,
   "metadata": {},
   "outputs": [],
   "source": []
  }
 ],
 "metadata": {
  "kernelspec": {
   "display_name": "Python 3 (ipykernel)",
   "language": "python",
   "name": "python3"
  },
  "language_info": {
   "codemirror_mode": {
    "name": "ipython",
    "version": 3
   },
   "file_extension": ".py",
   "mimetype": "text/x-python",
   "name": "python",
   "nbconvert_exporter": "python",
   "pygments_lexer": "ipython3",
   "version": "3.9.13"
  },
  "orig_nbformat": 4
 },
 "nbformat": 4,
 "nbformat_minor": 2
}
