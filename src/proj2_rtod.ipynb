{
 "cells": [
  {
   "cell_type": "markdown",
   "metadata": {},
   "source": [
    "### CSE 5320 Neural Networks Project 2\n",
    "#### Report (with Code)\n",
    "Josias Moukpe\\\n",
    "11/18/2022\n",
    "\n",
    "#### Introduction\n",
    "Object detection is an advanced form of image classification where a neural network predicts objects in an image and points them out in bounding boxes. Object detection thus refers to the detection and localization of objects in an image that belongs to a predefined set of classes. Tasks like detection, recognition, or localization find widespread applicability in real-world scenarios such as autonomous driving, robotics, product quality assurance, etc., making object detection (also referred to as object recognition) a very important subdomain of Computer Vision. [2] We call Real-Time object detection when the objects in images can be recognized in mere milliseconds allowing for in-time reactions based on the detection. Our project will aim to build a real-time object detector to find and track objects of defined classes in images or video feeds.\n",
    "\n",
    "#### Problem\n",
    "This objective combines object classificationn and localization (bounding box regression task). To process images and capture the features, we will leverage convolutional neural networks and capture local pixel structures. We will comment on how our model performs in real-time object detection. To train our model, we will use the MS COCO dataset [1]. This dataset contains more than 200,000 labeled color images of 1.5 million object instances and 80 object categories. Each image is 640 x 480 pixels and includes various forms of annotations such as key points, captions, segmentations, and bounding boxes (which interest us). The model will take an image or batch of images and outputs the classes and bounding boxes of all objects detected in that image.\n",
    "\n",
    "#### Methodology\n",
    "To prepare the data, we .\n",
    "\n",
    "#### Benchmarking\n",
    "To measure training performance, we \n",
    "\n",
    "#### Conclusion\n",
    "Overall, \n",
    "\n",
    "\n",
    "References\\\n",
    "[1] https://cocodataset.org/#home \\\n",
    "[2] https://arxiv.org/abs/1804.02767 \\\n",
    "[3] https://arxiv.org/abs/1506.02640 \\\n",
    "[4] https://arxiv.org/abs/2207.02696 \\\n",
    "[5] https://arxiv.org/abs/1904.04620 \\\n",
    "[6] https://www.v7labs.com/blog/yolo-object-detection \\\n",
    "[7] https://blog.paperspace.com/how-to-implement-a-yolo-object-detector-in-pytorch/ \\\n",
    "[8] https://blog.paperspace.com/how-to-implement-a-yolo-v3-object-detector-from-scratch-in-pytorch-part-2/ \\\n",
    "[9] https://blog.paperspace.com/how-to-implement-a-yolo-v3-object-detector-from-scratch-in-pytorch-part-3/ \\\n",
    "[10] https://blog.paperspace.com/how-to-implement-a-yolo-v3-object-detector-from-scratch-in-pytorch-part-4/ \\"
   ]
  },
  {
   "cell_type": "markdown",
   "metadata": {},
   "source": [
    "Obtaining the COCO 2017 Dataset"
   ]
  },
  {
   "cell_type": "code",
   "execution_count": 2,
   "metadata": {
    "vscode": {
     "languageId": "python"
    }
   },
   "outputs": [
    {
     "name": "stdout",
     "output_type": "stream",
     "text": [
      "README.md  config  data  models\n",
      "annotations  test2017  train2017  val2017\n"
     ]
    }
   ],
   "source": [
    "# list the contents of the current \n",
    "# directory on my remote server\n",
    "!ls\n",
    "!ls \"/notebooks/data/\""
   ]
  },
  {
   "cell_type": "code",
   "execution_count": 6,
   "metadata": {
    "vscode": {
     "languageId": "python"
    }
   },
   "outputs": [],
   "source": [
    "# navigate to the data directory\n",
    "# and list the contents\n",
    "# %cd \"/notebooks/data\"\n",
    "# !ls\n",
    "\n",
    "# # downloading coco (2017) dataset\n",
    "# !wget http://images.cocodataset.org/zips/train2017.zip\n",
    "# !wget http://images.cocodataset.org/zips/val2017.zip\n",
    "# !wget http://images.cocodataset.org/zips/test2017.zip\n",
    "# !wget http://images.cocodataset.org/annotations/annotations_trainval2017.zip\n",
    "# !wget http://images.cocodataset.org/annotations/stuff_annotations_trainval2017.zip\n",
    "# !wget http://images.cocodataset.org/annotations/image_info_test2017.zip\n",
    "\n",
    "# # unzip the files\n",
    "# !unzip train2017.zip\n",
    "# !unzip val2017.zip\n",
    "# !unzip test2017.zip\n",
    "# !unzip annotations_trainval2017.zip\n",
    "# !unzip stuff_annotations_trainval2017.zip\n",
    "# !unzip image_info_test2017.zip\n",
    "\n",
    "# # remove the zip files\n",
    "# !rm train2017.zip\n",
    "# !rm val2017.zip\n",
    "# !rm test2017.zip\n",
    "# !rm annotations_trainval2017.zip\n",
    "# !rm stuff_annotations_trainval2017.zip\n",
    "# !rm image_info_test2017.zip\n",
    "\n",
    "# navigate out of the data directory\n",
    "# and list the contents\n",
    "# %cd \"/notebooks\"\n",
    "# !ls\n"
   ]
  },
  {
   "cell_type": "code",
   "execution_count": 11,
   "metadata": {
    "vscode": {
     "languageId": "python"
    }
   },
   "outputs": [
    {
     "name": "stdout",
     "output_type": "stream",
     "text": [
      "/notebooks\n",
      "/notebooks/config\n",
      "--2022-11-20 15:38:03--  https://raw.githubusercontent.com/pjreddie/darknet/master/cfg/yolov3.cfg\n",
      "Resolving raw.githubusercontent.com (raw.githubusercontent.com)... 185.199.109.133, 185.199.111.133, 185.199.110.133, ...\n",
      "Connecting to raw.githubusercontent.com (raw.githubusercontent.com)|185.199.109.133|:443... connected.\n",
      "HTTP request sent, awaiting response... 200 OK\n",
      "Length: 8342 (8.1K) [text/plain]\n",
      "Saving to: ‘yolov3.cfg’\n",
      "\n",
      "yolov3.cfg          100%[===================>]   8.15K  --.-KB/s    in 0.01s   \n",
      "\n",
      "2022-11-20 15:38:03 (675 KB/s) - ‘yolov3.cfg’ saved [8342/8342]\n",
      "\n",
      "/notebooks\n"
     ]
    }
   ],
   "source": [
    "# create a config directory\n",
    "# %cd \"/notebooks\"\n",
    "# %mkdir config\n",
    "# %cd config\n",
    "# !wget https://raw.githubusercontent.com/pjreddie/darknet/master/cfg/yolov3.cfg\n",
    "# %cd .."
   ]
  },
  {
   "cell_type": "code",
   "execution_count": 10,
   "metadata": {
    "vscode": {
     "languageId": "python"
    }
   },
   "outputs": [
    {
     "name": "stdout",
     "output_type": "stream",
     "text": [
      "/root\n"
     ]
    }
   ],
   "source": [
    "!pwd"
   ]
  },
  {
   "cell_type": "code",
   "execution_count": 12,
   "metadata": {
    "vscode": {
     "languageId": "python"
    }
   },
   "outputs": [
    {
     "name": "stdout",
     "output_type": "stream",
     "text": [
      "/notebooks\n",
      "mkdir: cannot create directory ‘models’: File exists\n",
      "/notebooks/models\n",
      "--2022-11-20 15:54:10--  https://pjreddie.com/media/files/yolov3.weights\n",
      "Resolving pjreddie.com (pjreddie.com)... 128.208.4.108\n",
      "Connecting to pjreddie.com (pjreddie.com)|128.208.4.108|:443... connected.\n",
      "HTTP request sent, awaiting response... 200 OK\n",
      "Length: 248007048 (237M) [application/octet-stream]\n",
      "Saving to: ‘yolov3.weights’\n",
      "\n",
      "yolov3.weights      100%[===================>] 236.52M  5.13MB/s    in 44s     \n",
      "\n",
      "2022-11-20 15:54:54 (5.41 MB/s) - ‘yolov3.weights’ saved [248007048/248007048]\n",
      "\n",
      "/notebooks\n"
     ]
    }
   ],
   "source": [
    "# create a models directory\n",
    "# %cd \"/notebooks\"\n",
    "# %mkdir models\n",
    "# %cd models\n",
    "# !wget -O yolov3.weights https://pjreddie.com/media/files/yolov3.weights\n",
    "# %cd .."
   ]
  },
  {
   "cell_type": "code",
   "execution_count": 4,
   "metadata": {
    "vscode": {
     "languageId": "python"
    }
   },
   "outputs": [
    {
     "name": "stdout",
     "output_type": "stream",
     "text": [
      "Collecting gluoncv\n",
      "  Downloading gluoncv-0.10.5.post0-py2.py3-none-any.whl (1.3 MB)\n",
      "\u001b[2K     \u001b[90m━━━━━━━━━━━━━━━━━━━━━━━━━━━━━━━━━━━━━━━━\u001b[0m \u001b[32m1.3/1.3 MB\u001b[0m \u001b[31m34.8 MB/s\u001b[0m eta \u001b[36m0:00:00\u001b[0m00:01\u001b[0m\n",
      "\u001b[?25hRequirement already satisfied: opencv-python in /usr/local/lib/python3.9/dist-packages (from gluoncv) (4.6.0.66)\n",
      "Requirement already satisfied: scipy in /usr/local/lib/python3.9/dist-packages (from gluoncv) (1.8.1)\n",
      "Requirement already satisfied: requests in /usr/local/lib/python3.9/dist-packages (from gluoncv) (2.28.1)\n",
      "Requirement already satisfied: pandas in /usr/local/lib/python3.9/dist-packages (from gluoncv) (1.4.3)\n",
      "Collecting autocfg\n",
      "  Downloading autocfg-0.0.8-py3-none-any.whl (13 kB)\n",
      "Requirement already satisfied: Pillow in /usr/local/lib/python3.9/dist-packages (from gluoncv) (9.2.0)\n",
      "Requirement already satisfied: tqdm in /usr/local/lib/python3.9/dist-packages (from gluoncv) (4.64.0)\n",
      "Requirement already satisfied: matplotlib in /usr/local/lib/python3.9/dist-packages (from gluoncv) (3.5.2)\n",
      "Collecting portalocker\n",
      "  Downloading portalocker-2.6.0-py2.py3-none-any.whl (15 kB)\n",
      "Requirement already satisfied: pyyaml in /usr/local/lib/python3.9/dist-packages (from gluoncv) (5.4.1)\n",
      "Collecting yacs\n",
      "  Downloading yacs-0.1.8-py3-none-any.whl (14 kB)\n",
      "Requirement already satisfied: numpy in /usr/local/lib/python3.9/dist-packages (from gluoncv) (1.23.1)\n",
      "Requirement already satisfied: pyparsing>=2.2.1 in /usr/local/lib/python3.9/dist-packages (from matplotlib->gluoncv) (3.0.9)\n",
      "Requirement already satisfied: fonttools>=4.22.0 in /usr/local/lib/python3.9/dist-packages (from matplotlib->gluoncv) (4.34.4)\n",
      "Requirement already satisfied: python-dateutil>=2.7 in /usr/local/lib/python3.9/dist-packages (from matplotlib->gluoncv) (2.8.2)\n",
      "Requirement already satisfied: cycler>=0.10 in /usr/local/lib/python3.9/dist-packages (from matplotlib->gluoncv) (0.11.0)\n",
      "Requirement already satisfied: kiwisolver>=1.0.1 in /usr/local/lib/python3.9/dist-packages (from matplotlib->gluoncv) (1.4.3)\n",
      "Requirement already satisfied: packaging>=20.0 in /usr/local/lib/python3.9/dist-packages (from matplotlib->gluoncv) (21.3)\n",
      "Requirement already satisfied: pytz>=2020.1 in /usr/local/lib/python3.9/dist-packages (from pandas->gluoncv) (2022.1)\n",
      "Requirement already satisfied: certifi>=2017.4.17 in /usr/lib/python3/dist-packages (from requests->gluoncv) (2019.11.28)\n",
      "Requirement already satisfied: idna<4,>=2.5 in /usr/lib/python3/dist-packages (from requests->gluoncv) (2.8)\n",
      "Requirement already satisfied: urllib3<1.27,>=1.21.1 in /usr/local/lib/python3.9/dist-packages (from requests->gluoncv) (1.26.10)\n",
      "Requirement already satisfied: charset-normalizer<3,>=2 in /usr/local/lib/python3.9/dist-packages (from requests->gluoncv) (2.1.0)\n",
      "Requirement already satisfied: six>=1.5 in /usr/lib/python3/dist-packages (from python-dateutil>=2.7->matplotlib->gluoncv) (1.14.0)\n",
      "Installing collected packages: yacs, portalocker, autocfg, gluoncv\n",
      "Successfully installed autocfg-0.0.8 gluoncv-0.10.5.post0 portalocker-2.6.0 yacs-0.1.8\n",
      "\u001b[33mWARNING: Running pip as the 'root' user can result in broken permissions and conflicting behaviour with the system package manager. It is recommended to use a virtual environment instead: https://pip.pypa.io/warnings/venv\u001b[0m\u001b[33m\n",
      "\u001b[0mNote: you may need to restart the kernel to use updated packages.\n",
      "Collecting mxnet\n",
      "  Downloading mxnet-1.9.1-py3-none-manylinux2014_x86_64.whl (49.1 MB)\n",
      "\u001b[2K     \u001b[90m━━━━━━━━━━━━━━━━━━━━━━━━━━━━━━━━━━━━━━━━\u001b[0m \u001b[32m49.1/49.1 MB\u001b[0m \u001b[31m30.3 MB/s\u001b[0m eta \u001b[36m0:00:00\u001b[0m00:01\u001b[0m00:01\u001b[0m\n",
      "\u001b[?25hRequirement already satisfied: numpy<2.0.0,>1.16.0 in /usr/local/lib/python3.9/dist-packages (from mxnet) (1.23.1)\n",
      "Collecting graphviz<0.9.0,>=0.8.1\n",
      "  Downloading graphviz-0.8.4-py2.py3-none-any.whl (16 kB)\n",
      "Requirement already satisfied: requests<3,>=2.20.0 in /usr/local/lib/python3.9/dist-packages (from mxnet) (2.28.1)\n",
      "Requirement already satisfied: charset-normalizer<3,>=2 in /usr/local/lib/python3.9/dist-packages (from requests<3,>=2.20.0->mxnet) (2.1.0)\n",
      "Requirement already satisfied: urllib3<1.27,>=1.21.1 in /usr/local/lib/python3.9/dist-packages (from requests<3,>=2.20.0->mxnet) (1.26.10)\n",
      "Requirement already satisfied: certifi>=2017.4.17 in /usr/lib/python3/dist-packages (from requests<3,>=2.20.0->mxnet) (2019.11.28)\n",
      "Requirement already satisfied: idna<4,>=2.5 in /usr/lib/python3/dist-packages (from requests<3,>=2.20.0->mxnet) (2.8)\n",
      "Installing collected packages: graphviz, mxnet\n",
      "Successfully installed graphviz-0.8.4 mxnet-1.9.1\n",
      "\u001b[33mWARNING: Running pip as the 'root' user can result in broken permissions and conflicting behaviour with the system package manager. It is recommended to use a virtual environment instead: https://pip.pypa.io/warnings/venv\u001b[0m\u001b[33m\n",
      "\u001b[0mNote: you may need to restart the kernel to use updated packages.\n",
      "Requirement already satisfied: opencv-python in /usr/local/lib/python3.9/dist-packages (4.6.0.66)\n",
      "Requirement already satisfied: numpy>=1.19.3 in /usr/local/lib/python3.9/dist-packages (from opencv-python) (1.23.1)\n",
      "\u001b[33mWARNING: Running pip as the 'root' user can result in broken permissions and conflicting behaviour with the system package manager. It is recommended to use a virtual environment instead: https://pip.pypa.io/warnings/venv\u001b[0m\u001b[33m\n",
      "\u001b[0mNote: you may need to restart the kernel to use updated packages.\n"
     ]
    }
   ],
   "source": [
    "# install gluoncv to help with the dataset\n",
    "%pip install gluoncv\n",
    "%pip install mxnet\n",
    "%pip install opencv-python"
   ]
  },
  {
   "cell_type": "code",
   "execution_count": 92,
   "metadata": {
    "vscode": {
     "languageId": "python"
    }
   },
   "outputs": [
    {
     "name": "stdout",
     "output_type": "stream",
     "text": [
      "1.12.0+cu116\n"
     ]
    }
   ],
   "source": [
    "# imports \n",
    "from __future__ import division\n",
    "\n",
    "import torch\n",
    "import torch.nn as nn\n",
    "import torch.nn.functional as F\n",
    "from torch.autograd import Variable\n",
    "\n",
    "import numpy as np\n",
    "import cv2\n",
    "import matplotlib.pyplot as plt\n",
    "from random import randint, choice\n",
    "import pickle as pkl\n",
    "\n",
    "from gluoncv import data, utils\n",
    "# print the version of torch\n",
    "print(torch.__version__)"
   ]
  },
  {
   "cell_type": "code",
   "execution_count": 6,
   "metadata": {
    "vscode": {
     "languageId": "python"
    }
   },
   "outputs": [
    {
     "name": "stdout",
     "output_type": "stream",
     "text": [
      "Quadro RTX 5000\n"
     ]
    }
   ],
   "source": [
    "# check if gpu is available\n",
    "print(torch.cuda.get_device_name(0))"
   ]
  },
  {
   "cell_type": "markdown",
   "metadata": {},
   "source": [
    "### Loading the dataset\n",
    "MS COCO 2017 is our dataset. Link to loaded dataset in our remote development compute node\n",
    "https://console.paperspace.com/erud1t3/notebook/r92lxtvwhlbkhcy"
   ]
  },
  {
   "cell_type": "code",
   "execution_count": 7,
   "metadata": {
    "vscode": {
     "languageId": "python"
    }
   },
   "outputs": [
    {
     "name": "stdout",
     "output_type": "stream",
     "text": [
      "/notebooks\n"
     ]
    }
   ],
   "source": [
    "!pwd"
   ]
  },
  {
   "cell_type": "code",
   "execution_count": 8,
   "metadata": {
    "vscode": {
     "languageId": "python"
    }
   },
   "outputs": [
    {
     "name": "stderr",
     "output_type": "stream",
     "text": [
      "/usr/local/lib/python3.9/dist-packages/_distutils_hack/__init__.py:33: UserWarning: Setuptools is replacing distutils.\n",
      "  warnings.warn(\"Setuptools is replacing distutils.\")\n",
      "WARNING: pip is being invoked by an old script wrapper. This will fail in a future version of pip.\n",
      "Please see https://github.com/pypa/pip/issues/5599 for advice on fixing the underlying issue.\n",
      "To avoid this problem you can invoke Python with '-m pip' instead of running pip directly.\n"
     ]
    },
    {
     "data": {
      "text/html": [
       "<pre style=\"white-space:pre;overflow-x:auto;line-height:normal;font-family:Menlo,'DejaVu Sans Mono',consolas,'Courier New',monospace\">Collecting pycocotools\n",
       "</pre>\n"
      ],
      "text/plain": [
       "Collecting pycocotools\n"
      ]
     },
     "metadata": {},
     "output_type": "display_data"
    },
    {
     "data": {
      "text/html": [
       "<pre style=\"white-space:pre;overflow-x:auto;line-height:normal;font-family:Menlo,'DejaVu Sans Mono',consolas,'Courier New',monospace\">  Downloading pycocotools-2.0.6.tar.gz (24 kB)\n",
       "</pre>\n"
      ],
      "text/plain": [
       "  Downloading pycocotools-2.0.6.tar.gz (24 kB)\n"
      ]
     },
     "metadata": {},
     "output_type": "display_data"
    },
    {
     "data": {
      "text/html": [
       "<pre style=\"white-space:pre;overflow-x:auto;line-height:normal;font-family:Menlo,'DejaVu Sans Mono',consolas,'Courier New',monospace\">  Installing build dependencies: started\n",
       "</pre>\n"
      ],
      "text/plain": [
       "  Installing build dependencies: started\n"
      ]
     },
     "metadata": {},
     "output_type": "display_data"
    },
    {
     "data": {
      "text/html": [
       "<pre style=\"white-space:pre;overflow-x:auto;line-height:normal;font-family:Menlo,'DejaVu Sans Mono',consolas,'Courier New',monospace\">  Installing build dependencies: finished with status 'done'\n",
       "</pre>\n"
      ],
      "text/plain": [
       "  Installing build dependencies: finished with status 'done'\n"
      ]
     },
     "metadata": {},
     "output_type": "display_data"
    },
    {
     "data": {
      "text/html": [
       "<pre style=\"white-space:pre;overflow-x:auto;line-height:normal;font-family:Menlo,'DejaVu Sans Mono',consolas,'Courier New',monospace\">  Getting requirements to build wheel: started\n",
       "</pre>\n"
      ],
      "text/plain": [
       "  Getting requirements to build wheel: started\n"
      ]
     },
     "metadata": {},
     "output_type": "display_data"
    },
    {
     "data": {
      "text/html": [
       "<pre style=\"white-space:pre;overflow-x:auto;line-height:normal;font-family:Menlo,'DejaVu Sans Mono',consolas,'Courier New',monospace\">  Getting requirements to build wheel: finished with status 'done'\n",
       "</pre>\n"
      ],
      "text/plain": [
       "  Getting requirements to build wheel: finished with status 'done'\n"
      ]
     },
     "metadata": {},
     "output_type": "display_data"
    },
    {
     "data": {
      "text/html": [
       "<pre style=\"white-space:pre;overflow-x:auto;line-height:normal;font-family:Menlo,'DejaVu Sans Mono',consolas,'Courier New',monospace\">  Preparing metadata (pyproject.toml): started\n",
       "</pre>\n"
      ],
      "text/plain": [
       "  Preparing metadata (pyproject.toml): started\n"
      ]
     },
     "metadata": {},
     "output_type": "display_data"
    },
    {
     "data": {
      "text/html": [
       "<pre style=\"white-space:pre;overflow-x:auto;line-height:normal;font-family:Menlo,'DejaVu Sans Mono',consolas,'Courier New',monospace\">  Preparing metadata (pyproject.toml): finished with status 'done'\n",
       "</pre>\n"
      ],
      "text/plain": [
       "  Preparing metadata (pyproject.toml): finished with status 'done'\n"
      ]
     },
     "metadata": {},
     "output_type": "display_data"
    },
    {
     "data": {
      "text/html": [
       "<pre style=\"white-space:pre;overflow-x:auto;line-height:normal;font-family:Menlo,'DejaVu Sans Mono',consolas,'Courier New',monospace\">Requirement already satisfied: matplotlib&gt;=2.1.0 in /usr/local/lib/python3.9/dist-packages (from pycocotools) (3.5.2)\n",
       "</pre>\n"
      ],
      "text/plain": [
       "Requirement already satisfied: matplotlib>=2.1.0 in /usr/local/lib/python3.9/dist-packages (from pycocotools) (3.5.2)\n"
      ]
     },
     "metadata": {},
     "output_type": "display_data"
    },
    {
     "data": {
      "text/html": [
       "<pre style=\"white-space:pre;overflow-x:auto;line-height:normal;font-family:Menlo,'DejaVu Sans Mono',consolas,'Courier New',monospace\">Requirement already satisfied: numpy in /usr/local/lib/python3.9/dist-packages (from pycocotools) (1.23.1)\n",
       "</pre>\n"
      ],
      "text/plain": [
       "Requirement already satisfied: numpy in /usr/local/lib/python3.9/dist-packages (from pycocotools) (1.23.1)\n"
      ]
     },
     "metadata": {},
     "output_type": "display_data"
    },
    {
     "data": {
      "text/html": [
       "<pre style=\"white-space:pre;overflow-x:auto;line-height:normal;font-family:Menlo,'DejaVu Sans Mono',consolas,'Courier New',monospace\">Requirement already satisfied: fonttools&gt;=4.22.0 in /usr/local/lib/python3.9/dist-packages (from matplotlib&gt;=2.1.0-&gt;pycocotools) (4.34.4)\n",
       "</pre>\n"
      ],
      "text/plain": [
       "Requirement already satisfied: fonttools>=4.22.0 in /usr/local/lib/python3.9/dist-packages (from matplotlib>=2.1.0->pycocotools) (4.34.4)\n"
      ]
     },
     "metadata": {},
     "output_type": "display_data"
    },
    {
     "data": {
      "text/html": [
       "<pre style=\"white-space:pre;overflow-x:auto;line-height:normal;font-family:Menlo,'DejaVu Sans Mono',consolas,'Courier New',monospace\">Requirement already satisfied: python-dateutil&gt;=2.7 in /usr/local/lib/python3.9/dist-packages (from matplotlib&gt;=2.1.0-&gt;pycocotools) (2.8.2)\n",
       "</pre>\n"
      ],
      "text/plain": [
       "Requirement already satisfied: python-dateutil>=2.7 in /usr/local/lib/python3.9/dist-packages (from matplotlib>=2.1.0->pycocotools) (2.8.2)\n"
      ]
     },
     "metadata": {},
     "output_type": "display_data"
    },
    {
     "data": {
      "text/html": [
       "<pre style=\"white-space:pre;overflow-x:auto;line-height:normal;font-family:Menlo,'DejaVu Sans Mono',consolas,'Courier New',monospace\">Requirement already satisfied: pyparsing&gt;=2.2.1 in /usr/local/lib/python3.9/dist-packages (from matplotlib&gt;=2.1.0-&gt;pycocotools) (3.0.9)\n",
       "</pre>\n"
      ],
      "text/plain": [
       "Requirement already satisfied: pyparsing>=2.2.1 in /usr/local/lib/python3.9/dist-packages (from matplotlib>=2.1.0->pycocotools) (3.0.9)\n"
      ]
     },
     "metadata": {},
     "output_type": "display_data"
    },
    {
     "data": {
      "text/html": [
       "<pre style=\"white-space:pre;overflow-x:auto;line-height:normal;font-family:Menlo,'DejaVu Sans Mono',consolas,'Courier New',monospace\">Requirement already satisfied: packaging&gt;=20.0 in /usr/local/lib/python3.9/dist-packages (from matplotlib&gt;=2.1.0-&gt;pycocotools) (21.3)\n",
       "</pre>\n"
      ],
      "text/plain": [
       "Requirement already satisfied: packaging>=20.0 in /usr/local/lib/python3.9/dist-packages (from matplotlib>=2.1.0->pycocotools) (21.3)\n"
      ]
     },
     "metadata": {},
     "output_type": "display_data"
    },
    {
     "data": {
      "text/html": [
       "<pre style=\"white-space:pre;overflow-x:auto;line-height:normal;font-family:Menlo,'DejaVu Sans Mono',consolas,'Courier New',monospace\">Requirement already satisfied: kiwisolver&gt;=1.0.1 in /usr/local/lib/python3.9/dist-packages (from matplotlib&gt;=2.1.0-&gt;pycocotools) (1.4.3)\n",
       "</pre>\n"
      ],
      "text/plain": [
       "Requirement already satisfied: kiwisolver>=1.0.1 in /usr/local/lib/python3.9/dist-packages (from matplotlib>=2.1.0->pycocotools) (1.4.3)\n"
      ]
     },
     "metadata": {},
     "output_type": "display_data"
    },
    {
     "data": {
      "text/html": [
       "<pre style=\"white-space:pre;overflow-x:auto;line-height:normal;font-family:Menlo,'DejaVu Sans Mono',consolas,'Courier New',monospace\">Requirement already satisfied: cycler&gt;=0.10 in /usr/local/lib/python3.9/dist-packages (from matplotlib&gt;=2.1.0-&gt;pycocotools) (0.11.0)\n",
       "</pre>\n"
      ],
      "text/plain": [
       "Requirement already satisfied: cycler>=0.10 in /usr/local/lib/python3.9/dist-packages (from matplotlib>=2.1.0->pycocotools) (0.11.0)\n"
      ]
     },
     "metadata": {},
     "output_type": "display_data"
    },
    {
     "data": {
      "text/html": [
       "<pre style=\"white-space:pre;overflow-x:auto;line-height:normal;font-family:Menlo,'DejaVu Sans Mono',consolas,'Courier New',monospace\">Requirement already satisfied: pillow&gt;=6.2.0 in /usr/local/lib/python3.9/dist-packages (from matplotlib&gt;=2.1.0-&gt;pycocotools) (9.2.0)\n",
       "</pre>\n"
      ],
      "text/plain": [
       "Requirement already satisfied: pillow>=6.2.0 in /usr/local/lib/python3.9/dist-packages (from matplotlib>=2.1.0->pycocotools) (9.2.0)\n"
      ]
     },
     "metadata": {},
     "output_type": "display_data"
    },
    {
     "data": {
      "text/html": [
       "<pre style=\"white-space:pre;overflow-x:auto;line-height:normal;font-family:Menlo,'DejaVu Sans Mono',consolas,'Courier New',monospace\">Requirement already satisfied: six&gt;=1.5 in /usr/lib/python3/dist-packages (from python-dateutil&gt;=2.7-&gt;matplotlib&gt;=2.1.0-&gt;pycocotools) (1.14.0)\n",
       "</pre>\n"
      ],
      "text/plain": [
       "Requirement already satisfied: six>=1.5 in /usr/lib/python3/dist-packages (from python-dateutil>=2.7->matplotlib>=2.1.0->pycocotools) (1.14.0)\n"
      ]
     },
     "metadata": {},
     "output_type": "display_data"
    },
    {
     "data": {
      "text/html": [
       "<pre style=\"white-space:pre;overflow-x:auto;line-height:normal;font-family:Menlo,'DejaVu Sans Mono',consolas,'Courier New',monospace\">Building wheels for collected packages: pycocotools\n",
       "</pre>\n"
      ],
      "text/plain": [
       "Building wheels for collected packages: pycocotools\n"
      ]
     },
     "metadata": {},
     "output_type": "display_data"
    },
    {
     "data": {
      "text/html": [
       "<pre style=\"white-space:pre;overflow-x:auto;line-height:normal;font-family:Menlo,'DejaVu Sans Mono',consolas,'Courier New',monospace\">  Building wheel for pycocotools (pyproject.toml): started\n",
       "</pre>\n"
      ],
      "text/plain": [
       "  Building wheel for pycocotools (pyproject.toml): started\n"
      ]
     },
     "metadata": {},
     "output_type": "display_data"
    },
    {
     "data": {
      "text/html": [
       "<pre style=\"white-space:pre;overflow-x:auto;line-height:normal;font-family:Menlo,'DejaVu Sans Mono',consolas,'Courier New',monospace\">  Building wheel for pycocotools (pyproject.toml): finished with status 'done'\n",
       "</pre>\n"
      ],
      "text/plain": [
       "  Building wheel for pycocotools (pyproject.toml): finished with status 'done'\n"
      ]
     },
     "metadata": {},
     "output_type": "display_data"
    },
    {
     "data": {
      "text/html": [
       "<pre style=\"white-space:pre;overflow-x:auto;line-height:normal;font-family:Menlo,'DejaVu Sans Mono',consolas,'Courier New',monospace\">  Created wheel for pycocotools: filename=pycocotools-2.0.6-cp39-cp39-linux_x86_64.whl size=400230 sha256=8ccdd4ad0bb04688c11adda314afb0e828c77f665a0958d0f71e3f8cd53f2691\n",
       "</pre>\n"
      ],
      "text/plain": [
       "  Created wheel for pycocotools: filename=pycocotools-2.0.6-cp39-cp39-linux_x86_64.whl size=400230 sha256=8ccdd4ad0bb04688c11adda314afb0e828c77f665a0958d0f71e3f8cd53f2691\n"
      ]
     },
     "metadata": {},
     "output_type": "display_data"
    },
    {
     "data": {
      "text/html": [
       "<pre style=\"white-space:pre;overflow-x:auto;line-height:normal;font-family:Menlo,'DejaVu Sans Mono',consolas,'Courier New',monospace\">  Stored in directory: /root/.cache/pip/wheels/2f/58/25/e78f1f766e904a9071266661d20d0bc6644df86bcd160aba11\n",
       "</pre>\n"
      ],
      "text/plain": [
       "  Stored in directory: /root/.cache/pip/wheels/2f/58/25/e78f1f766e904a9071266661d20d0bc6644df86bcd160aba11\n"
      ]
     },
     "metadata": {},
     "output_type": "display_data"
    },
    {
     "data": {
      "text/html": [
       "<pre style=\"white-space:pre;overflow-x:auto;line-height:normal;font-family:Menlo,'DejaVu Sans Mono',consolas,'Courier New',monospace\">Successfully built pycocotools\n",
       "</pre>\n"
      ],
      "text/plain": [
       "Successfully built pycocotools\n"
      ]
     },
     "metadata": {},
     "output_type": "display_data"
    },
    {
     "data": {
      "text/html": [
       "<pre style=\"white-space:pre;overflow-x:auto;line-height:normal;font-family:Menlo,'DejaVu Sans Mono',consolas,'Courier New',monospace\">Installing collected packages: pycocotools\n",
       "</pre>\n"
      ],
      "text/plain": [
       "Installing collected packages: pycocotools\n"
      ]
     },
     "metadata": {},
     "output_type": "display_data"
    },
    {
     "data": {
      "text/html": [
       "<pre style=\"white-space:pre;overflow-x:auto;line-height:normal;font-family:Menlo,'DejaVu Sans Mono',consolas,'Courier New',monospace\">Successfully installed pycocotools-2.0.6\n",
       "</pre>\n"
      ],
      "text/plain": [
       "Successfully installed pycocotools-2.0.6\n"
      ]
     },
     "metadata": {},
     "output_type": "display_data"
    },
    {
     "data": {
      "text/html": [
       "<pre style=\"white-space:pre;overflow-x:auto;line-height:normal;font-family:Menlo,'DejaVu Sans Mono',consolas,'Courier New',monospace\"><span style=\"color: #808000; text-decoration-color: #808000\">WARNING: Running pip as the 'root' user can result in broken permissions and conflicting behaviour with the system package manager. It is recommended to use a virtual environment instead: https://pip.pypa.io/warnings/venv\n",
       "</span></pre>\n"
      ],
      "text/plain": [
       "\u001b[33mWARNING: Running pip as the 'root' user can result in broken permissions and conflicting behaviour with the system package manager. It is recommended to use a virtual environment instead: https://pip.pypa.io/warnings/venv\u001b[0m\u001b[33m\n",
       "\u001b[0m"
      ]
     },
     "metadata": {},
     "output_type": "display_data"
    },
    {
     "name": "stdout",
     "output_type": "stream",
     "text": [
      "loading annotations into memory...\n",
      "Done (t=18.77s)\n",
      "creating index...\n",
      "index created!\n",
      "loading annotations into memory...\n",
      "Done (t=0.57s)\n",
      "creating index...\n",
      "index created!\n",
      "Length of training dataset: 117266\n",
      "Length of validation dataset: 4952\n"
     ]
    }
   ],
   "source": [
    "# loading the coco dataset\n",
    "train_ds = data.COCODetection('./data/', splits=['instances_train2017'])\n",
    "val_ds = data.COCODetection('./data/', splits=['instances_val2017'])\n",
    "\n",
    "# print the length of the dataset\n",
    "print('Length of training dataset:', len(train_ds))\n",
    "print('Length of validation dataset:', len(val_ds))"
   ]
  },
  {
   "cell_type": "code",
   "execution_count": 9,
   "metadata": {
    "vscode": {
     "languageId": "python"
    }
   },
   "outputs": [],
   "source": [
    "# plot a random image from coco dataset\n",
    "def plot_image(image, label):\n",
    "    '''\n",
    "    Plots an image and its bounding boxes\n",
    "    '''\n",
    "    print('Image size (height, width, RGB):', image.shape)\n",
    "    # print('Label:', label)\n",
    "    print('shape of label:', label.shape)\n",
    "    # plot the image\n",
    "    bounding_boxes = label[:, :4]\n",
    "    class_ids = label[:, 4:5]\n",
    "    print('number of objects in the image:', bounding_boxes.shape[0])\n",
    "    print('bounding boxes (# boxes, min x, min y, max x, max y): \\n', bounding_boxes)\n",
    "    print('class ids (# boxes, class id): \\n', class_ids)\n",
    "    ax = utils.viz.plot_bbox(\n",
    "        image.asnumpy(), \n",
    "        bounding_boxes, \n",
    "        scores=None, \n",
    "        labels=class_ids, \n",
    "        class_names=train_ds.classes\n",
    "    )\n",
    "    plt.show()\n",
    "  "
   ]
  },
  {
   "cell_type": "code",
   "execution_count": 10,
   "metadata": {
    "vscode": {
     "languageId": "python"
    }
   },
   "outputs": [
    {
     "name": "stdout",
     "output_type": "stream",
     "text": [
      "Image size (height, width, RGB): (407, 500, 3)\n",
      "shape of label: (9, 5)\n",
      "number of objects in the image: 9\n",
      "bounding boxes (# boxes, min x, min y, max x, max y): \n",
      " [[290.04 257.15 448.31 341.47]\n",
      " [202.44 216.7  222.59 234.67]\n",
      " [206.03 257.92 349.72 341.5 ]\n",
      " [272.1  286.74 284.57 297.03]\n",
      " [ 71.94 297.72 115.12 332.07]\n",
      " [ 45.85 302.29  71.87 327.4 ]\n",
      " [ 15.9  299.4   41.31 321.46]\n",
      " [  0.   286.13  11.71 335.94]\n",
      " [427.5  258.43 499.   337.5 ]]\n",
      "class ids (# boxes, class id): \n",
      " [[7.]\n",
      " [0.]\n",
      " [7.]\n",
      " [0.]\n",
      " [2.]\n",
      " [2.]\n",
      " [2.]\n",
      " [2.]\n",
      " [7.]]\n"
     ]
    },
    {
     "data": {
      "image/png": "[encoded data removed]",
      "text/plain": [
       "<Figure size 432x288 with 1 Axes>"
      ]
     },
     "metadata": {
      "needs_background": "light"
     },
     "output_type": "display_data"
    }
   ],
   "source": [
    "# pick a random image from validation dataset\n",
    "image, label = val_ds[randint(0, len(val_ds))]\n",
    "plot_image(image, label)\n"
   ]
  },
  {
   "cell_type": "markdown",
   "metadata": {},
   "source": [
    "### Working the model\n",
    "We will be building Yolo3 "
   ]
  },
  {
   "cell_type": "code",
   "execution_count": 11,
   "metadata": {
    "vscode": {
     "languageId": "python"
    }
   },
   "outputs": [],
   "source": [
    "def parse_config(cfg):\n",
    "    \"\"\"\n",
    "    Takes a configuration file and returns a list of blocks. Each blocks describes a block in the neural\n",
    "    \"\"\"\n",
    "    \n",
    "    file = open(cfg, 'r')\n",
    "    lines = file.read().split('\\n') # store the lines in a list\n",
    "    lines = [x for x in lines if len(x) > 0] # get read of the empty lines\n",
    "    lines = [x for x in lines if x[0] != '#'] # get rid of comments\n",
    "    lines = [x.rstrip().lstrip() for x in lines] # get rid of fringe whitespaces\n",
    "\n",
    "\n",
    "    block = {}\n",
    "    blocks = []\n",
    "\n",
    "    for line in lines:\n",
    "        if line[0] == \"[\":\n",
    "            if len(block) != 0:\n",
    "                blocks.append(block)\n",
    "                block = {}\n",
    "            block[\"type\"] = line[1:-1].rstrip()\n",
    "        else:\n",
    "            key, value = line.split(\"=\")\n",
    "            block[key.rstrip()] = value.lstrip()\n",
    "    blocks.append(block)\n",
    "\n",
    "    return blocks\n",
    "\n"
   ]
  },
  {
   "cell_type": "code",
   "execution_count": 12,
   "metadata": {
    "vscode": {
     "languageId": "python"
    }
   },
   "outputs": [],
   "source": [
    "# empty layer \n",
    "class EmptyLayer(nn.Module):\n",
    "    \"\"\"\n",
    "       Empty layer used for skipping layers in the neural network\n",
    "    \"\"\"\n",
    "    def __init__(self):\n",
    "        super(EmptyLayer, self).__init__()"
   ]
  },
  {
   "cell_type": "code",
   "execution_count": 13,
   "metadata": {
    "vscode": {
     "languageId": "python"
    }
   },
   "outputs": [],
   "source": [
    "# detection layer\n",
    "class DetectionLayer(nn.Module):\n",
    "    \"\"\"\n",
    "        Detection layer used for the detection of objects\n",
    "    \"\"\"\n",
    "    def __init__(self, anchors):\n",
    "        super(DetectionLayer, self).__init__()\n",
    "        self.anchors = anchors"
   ]
  },
  {
   "cell_type": "code",
   "execution_count": 14,
   "metadata": {
    "vscode": {
     "languageId": "python"
    }
   },
   "outputs": [],
   "source": [
    "def create_modules(blocks):\n",
    "    \"\"\"\n",
    "    Takes in a list of blocks and creates a nn.ModuleList of the blocks\n",
    "    \"\"\"\n",
    "\n",
    "    net_info = blocks[0] # Captures the information about the input and pre-processing\n",
    "    module_list = nn.ModuleList()\n",
    "    prev_filters = 3\n",
    "    output_filters = []\n",
    "\n",
    "    for index, x in enumerate(blocks[1:]):\n",
    "        module = nn.Sequential()\n",
    "\n",
    "        # check the type of block\n",
    "        # create a new module for the block\n",
    "        # append to module_list\n",
    "\n",
    "        if (x[\"type\"] == \"convolutional\"):\n",
    "            # Get the info about the layer\n",
    "            activation = x[\"activation\"]\n",
    "            try:\n",
    "                batch_normalize = int(x[\"batch_normalize\"])\n",
    "                bias = False\n",
    "            except:\n",
    "                batch_normalize = 0\n",
    "                bias = True\n",
    "\n",
    "            filters = int(x[\"filters\"])\n",
    "            padding = int(x[\"pad\"])\n",
    "            kernel_size = int(x[\"size\"])\n",
    "            stride = int(x[\"stride\"])\n",
    "\n",
    "            if padding:\n",
    "                pad = (kernel_size - 1) // 2\n",
    "            else:\n",
    "                pad = 0\n",
    "\n",
    "            # add the convolutional layer\n",
    "            conv = nn.Conv2d(prev_filters, filters, kernel_size, stride, pad, bias=bias)\n",
    "            module.add_module(\"conv_{0}\".format(index), conv)\n",
    "\n",
    "            # add the Batch Norm Layer\n",
    "            if batch_normalize:\n",
    "                bn = nn.BatchNorm2d(filters)\n",
    "                module.add_module(\"batch_norm_{0}\".format(index), bn)\n",
    "\n",
    "            # check the activation.\n",
    "            # it is either Linear or a Leaky ReLU for YOLO\n",
    "            if activation == \"leaky\":\n",
    "                activn = nn.LeakyReLU(0.1, inplace=True)\n",
    "                module.add_module(\"leaky_{0}\".format(index), activn)\n",
    "\n",
    "        # If it's an upsampling layer\n",
    "        # We use Bilinear2dUpsampling\n",
    "        elif (x[\"type\"] == \"upsample\"):\n",
    "            stride = int(x[\"stride\"])\n",
    "            upsample = nn.Upsample(scale_factor=2, mode=\"bilinear\")\n",
    "            module.add_module(\"upsample_{}\".format(index), upsample)\n",
    "\n",
    "        # If it is a route layer\n",
    "        elif (x[\"type\"] == \"route\"):\n",
    "            x[\"layers\"] = x[\"layers\"].split(',')\n",
    "            # Start  of a route\n",
    "            start = int(x[\"layers\"][0])\n",
    "            # end, if there exists one.\n",
    "            try:\n",
    "                end = int(x[\"layers\"][1])\n",
    "            except:\n",
    "                end = 0\n",
    "            # Positive annotation\n",
    "            if start > 0: start = start - index\n",
    "            if end > 0: end = end - index\n",
    "            route = EmptyLayer()\n",
    "            module.add_module(\"route_{0}\".format(index), route)\n",
    "            if end < 0:\n",
    "                filters = output_filters[index + start] + output_filters[index + end]\n",
    "            else:\n",
    "                filters = output_filters[index + start]\n",
    "\n",
    "        # shortcut corresponds to skip connection\n",
    "        elif x[\"type\"] == \"shortcut\":\n",
    "            shortcut = EmptyLayer()\n",
    "            module.add_module(\"shortcut_{}\".format(index), shortcut)\n",
    "\n",
    "        # Yolo is the detection layer\n",
    "        elif x[\"type\"] == \"yolo\":\n",
    "            mask = x[\"mask\"].split(\",\")\n",
    "            mask = [int(x) for x in mask]\n",
    "\n",
    "            anchors = x[\"anchors\"].split(\",\")\n",
    "            anchors = [int(a) for a in anchors]\n",
    "            anchors = [(anchors[i], anchors[i+1]) for i in range(0, len(anchors),2)]\n",
    "            anchors = [anchors[i] for i in mask]\n",
    "\n",
    "            detection = DetectionLayer(anchors)\n",
    "            module.add_module(\"Detection_{}\".format(index), detection)\n",
    "\n",
    "        module_list.append(module)\n",
    "        prev_filters = filters\n",
    "        output_filters.append(filters)\n",
    "\n",
    "    return (net_info, module_list)"
   ]
  },
  {
   "cell_type": "code",
   "execution_count": 15,
   "metadata": {
    "vscode": {
     "languageId": "python"
    }
   },
   "outputs": [
    {
     "name": "stdout",
     "output_type": "stream",
     "text": [
      "({'type': 'net', 'batch': '64', 'subdivisions': '16', 'width': '608', 'height': '608', 'channels': '3', 'momentum': '0.9', 'decay': '0.0005', 'angle': '0', 'saturation': '1.5', 'exposure': '1.5', 'hue': '.1', 'learning_rate': '0.001', 'burn_in': '1000', 'max_batches': '500200', 'policy': 'steps', 'steps': '400000,450000', 'scales': '.1,.1'}, ModuleList(\n",
      "  (0): Sequential(\n",
      "    (conv_0): Conv2d(3, 32, kernel_size=(3, 3), stride=(1, 1), padding=(1, 1), bias=False)\n",
      "    (batch_norm_0): BatchNorm2d(32, eps=1e-05, momentum=0.1, affine=True, track_running_stats=True)\n",
      "    (leaky_0): LeakyReLU(negative_slope=0.1, inplace=True)\n",
      "  )\n",
      "  (1): Sequential(\n",
      "    (conv_1): Conv2d(32, 64, kernel_size=(3, 3), stride=(2, 2), padding=(1, 1), bias=False)\n",
      "    (batch_norm_1): BatchNorm2d(64, eps=1e-05, momentum=0.1, affine=True, track_running_stats=True)\n",
      "    (leaky_1): LeakyReLU(negative_slope=0.1, inplace=True)\n",
      "  )\n",
      "  (2): Sequential(\n",
      "    (conv_2): Conv2d(64, 32, kernel_size=(1, 1), stride=(1, 1), bias=False)\n",
      "    (batch_norm_2): BatchNorm2d(32, eps=1e-05, momentum=0.1, affine=True, track_running_stats=True)\n",
      "    (leaky_2): LeakyReLU(negative_slope=0.1, inplace=True)\n",
      "  )\n",
      "  (3): Sequential(\n",
      "    (conv_3): Conv2d(32, 64, kernel_size=(3, 3), stride=(1, 1), padding=(1, 1), bias=False)\n",
      "    (batch_norm_3): BatchNorm2d(64, eps=1e-05, momentum=0.1, affine=True, track_running_stats=True)\n",
      "    (leaky_3): LeakyReLU(negative_slope=0.1, inplace=True)\n",
      "  )\n",
      "  (4): Sequential(\n",
      "    (shortcut_4): EmptyLayer()\n",
      "  )\n",
      "  (5): Sequential(\n",
      "    (conv_5): Conv2d(64, 128, kernel_size=(3, 3), stride=(2, 2), padding=(1, 1), bias=False)\n",
      "    (batch_norm_5): BatchNorm2d(128, eps=1e-05, momentum=0.1, affine=True, track_running_stats=True)\n",
      "    (leaky_5): LeakyReLU(negative_slope=0.1, inplace=True)\n",
      "  )\n",
      "  (6): Sequential(\n",
      "    (conv_6): Conv2d(128, 64, kernel_size=(1, 1), stride=(1, 1), bias=False)\n",
      "    (batch_norm_6): BatchNorm2d(64, eps=1e-05, momentum=0.1, affine=True, track_running_stats=True)\n",
      "    (leaky_6): LeakyReLU(negative_slope=0.1, inplace=True)\n",
      "  )\n",
      "  (7): Sequential(\n",
      "    (conv_7): Conv2d(64, 128, kernel_size=(3, 3), stride=(1, 1), padding=(1, 1), bias=False)\n",
      "    (batch_norm_7): BatchNorm2d(128, eps=1e-05, momentum=0.1, affine=True, track_running_stats=True)\n",
      "    (leaky_7): LeakyReLU(negative_slope=0.1, inplace=True)\n",
      "  )\n",
      "  (8): Sequential(\n",
      "    (shortcut_8): EmptyLayer()\n",
      "  )\n",
      "  (9): Sequential(\n",
      "    (conv_9): Conv2d(128, 64, kernel_size=(1, 1), stride=(1, 1), bias=False)\n",
      "    (batch_norm_9): BatchNorm2d(64, eps=1e-05, momentum=0.1, affine=True, track_running_stats=True)\n",
      "    (leaky_9): LeakyReLU(negative_slope=0.1, inplace=True)\n",
      "  )\n",
      "  (10): Sequential(\n",
      "    (conv_10): Conv2d(64, 128, kernel_size=(3, 3), stride=(1, 1), padding=(1, 1), bias=False)\n",
      "    (batch_norm_10): BatchNorm2d(128, eps=1e-05, momentum=0.1, affine=True, track_running_stats=True)\n",
      "    (leaky_10): LeakyReLU(negative_slope=0.1, inplace=True)\n",
      "  )\n",
      "  (11): Sequential(\n",
      "    (shortcut_11): EmptyLayer()\n",
      "  )\n",
      "  (12): Sequential(\n",
      "    (conv_12): Conv2d(128, 256, kernel_size=(3, 3), stride=(2, 2), padding=(1, 1), bias=False)\n",
      "    (batch_norm_12): BatchNorm2d(256, eps=1e-05, momentum=0.1, affine=True, track_running_stats=True)\n",
      "    (leaky_12): LeakyReLU(negative_slope=0.1, inplace=True)\n",
      "  )\n",
      "  (13): Sequential(\n",
      "    (conv_13): Conv2d(256, 128, kernel_size=(1, 1), stride=(1, 1), bias=False)\n",
      "    (batch_norm_13): BatchNorm2d(128, eps=1e-05, momentum=0.1, affine=True, track_running_stats=True)\n",
      "    (leaky_13): LeakyReLU(negative_slope=0.1, inplace=True)\n",
      "  )\n",
      "  (14): Sequential(\n",
      "    (conv_14): Conv2d(128, 256, kernel_size=(3, 3), stride=(1, 1), padding=(1, 1), bias=False)\n",
      "    (batch_norm_14): BatchNorm2d(256, eps=1e-05, momentum=0.1, affine=True, track_running_stats=True)\n",
      "    (leaky_14): LeakyReLU(negative_slope=0.1, inplace=True)\n",
      "  )\n",
      "  (15): Sequential(\n",
      "    (shortcut_15): EmptyLayer()\n",
      "  )\n",
      "  (16): Sequential(\n",
      "    (conv_16): Conv2d(256, 128, kernel_size=(1, 1), stride=(1, 1), bias=False)\n",
      "    (batch_norm_16): BatchNorm2d(128, eps=1e-05, momentum=0.1, affine=True, track_running_stats=True)\n",
      "    (leaky_16): LeakyReLU(negative_slope=0.1, inplace=True)\n",
      "  )\n",
      "  (17): Sequential(\n",
      "    (conv_17): Conv2d(128, 256, kernel_size=(3, 3), stride=(1, 1), padding=(1, 1), bias=False)\n",
      "    (batch_norm_17): BatchNorm2d(256, eps=1e-05, momentum=0.1, affine=True, track_running_stats=True)\n",
      "    (leaky_17): LeakyReLU(negative_slope=0.1, inplace=True)\n",
      "  )\n",
      "  (18): Sequential(\n",
      "    (shortcut_18): EmptyLayer()\n",
      "  )\n",
      "  (19): Sequential(\n",
      "    (conv_19): Conv2d(256, 128, kernel_size=(1, 1), stride=(1, 1), bias=False)\n",
      "    (batch_norm_19): BatchNorm2d(128, eps=1e-05, momentum=0.1, affine=True, track_running_stats=True)\n",
      "    (leaky_19): LeakyReLU(negative_slope=0.1, inplace=True)\n",
      "  )\n",
      "  (20): Sequential(\n",
      "    (conv_20): Conv2d(128, 256, kernel_size=(3, 3), stride=(1, 1), padding=(1, 1), bias=False)\n",
      "    (batch_norm_20): BatchNorm2d(256, eps=1e-05, momentum=0.1, affine=True, track_running_stats=True)\n",
      "    (leaky_20): LeakyReLU(negative_slope=0.1, inplace=True)\n",
      "  )\n",
      "  (21): Sequential(\n",
      "    (shortcut_21): EmptyLayer()\n",
      "  )\n",
      "  (22): Sequential(\n",
      "    (conv_22): Conv2d(256, 128, kernel_size=(1, 1), stride=(1, 1), bias=False)\n",
      "    (batch_norm_22): BatchNorm2d(128, eps=1e-05, momentum=0.1, affine=True, track_running_stats=True)\n",
      "    (leaky_22): LeakyReLU(negative_slope=0.1, inplace=True)\n",
      "  )\n",
      "  (23): Sequential(\n",
      "    (conv_23): Conv2d(128, 256, kernel_size=(3, 3), stride=(1, 1), padding=(1, 1), bias=False)\n",
      "    (batch_norm_23): BatchNorm2d(256, eps=1e-05, momentum=0.1, affine=True, track_running_stats=True)\n",
      "    (leaky_23): LeakyReLU(negative_slope=0.1, inplace=True)\n",
      "  )\n",
      "  (24): Sequential(\n",
      "    (shortcut_24): EmptyLayer()\n",
      "  )\n",
      "  (25): Sequential(\n",
      "    (conv_25): Conv2d(256, 128, kernel_size=(1, 1), stride=(1, 1), bias=False)\n",
      "    (batch_norm_25): BatchNorm2d(128, eps=1e-05, momentum=0.1, affine=True, track_running_stats=True)\n",
      "    (leaky_25): LeakyReLU(negative_slope=0.1, inplace=True)\n",
      "  )\n",
      "  (26): Sequential(\n",
      "    (conv_26): Conv2d(128, 256, kernel_size=(3, 3), stride=(1, 1), padding=(1, 1), bias=False)\n",
      "    (batch_norm_26): BatchNorm2d(256, eps=1e-05, momentum=0.1, affine=True, track_running_stats=True)\n",
      "    (leaky_26): LeakyReLU(negative_slope=0.1, inplace=True)\n",
      "  )\n",
      "  (27): Sequential(\n",
      "    (shortcut_27): EmptyLayer()\n",
      "  )\n",
      "  (28): Sequential(\n",
      "    (conv_28): Conv2d(256, 128, kernel_size=(1, 1), stride=(1, 1), bias=False)\n",
      "    (batch_norm_28): BatchNorm2d(128, eps=1e-05, momentum=0.1, affine=True, track_running_stats=True)\n",
      "    (leaky_28): LeakyReLU(negative_slope=0.1, inplace=True)\n",
      "  )\n",
      "  (29): Sequential(\n",
      "    (conv_29): Conv2d(128, 256, kernel_size=(3, 3), stride=(1, 1), padding=(1, 1), bias=False)\n",
      "    (batch_norm_29): BatchNorm2d(256, eps=1e-05, momentum=0.1, affine=True, track_running_stats=True)\n",
      "    (leaky_29): LeakyReLU(negative_slope=0.1, inplace=True)\n",
      "  )\n",
      "  (30): Sequential(\n",
      "    (shortcut_30): EmptyLayer()\n",
      "  )\n",
      "  (31): Sequential(\n",
      "    (conv_31): Conv2d(256, 128, kernel_size=(1, 1), stride=(1, 1), bias=False)\n",
      "    (batch_norm_31): BatchNorm2d(128, eps=1e-05, momentum=0.1, affine=True, track_running_stats=True)\n",
      "    (leaky_31): LeakyReLU(negative_slope=0.1, inplace=True)\n",
      "  )\n",
      "  (32): Sequential(\n",
      "    (conv_32): Conv2d(128, 256, kernel_size=(3, 3), stride=(1, 1), padding=(1, 1), bias=False)\n",
      "    (batch_norm_32): BatchNorm2d(256, eps=1e-05, momentum=0.1, affine=True, track_running_stats=True)\n",
      "    (leaky_32): LeakyReLU(negative_slope=0.1, inplace=True)\n",
      "  )\n",
      "  (33): Sequential(\n",
      "    (shortcut_33): EmptyLayer()\n",
      "  )\n",
      "  (34): Sequential(\n",
      "    (conv_34): Conv2d(256, 128, kernel_size=(1, 1), stride=(1, 1), bias=False)\n",
      "    (batch_norm_34): BatchNorm2d(128, eps=1e-05, momentum=0.1, affine=True, track_running_stats=True)\n",
      "    (leaky_34): LeakyReLU(negative_slope=0.1, inplace=True)\n",
      "  )\n",
      "  (35): Sequential(\n",
      "    (conv_35): Conv2d(128, 256, kernel_size=(3, 3), stride=(1, 1), padding=(1, 1), bias=False)\n",
      "    (batch_norm_35): BatchNorm2d(256, eps=1e-05, momentum=0.1, affine=True, track_running_stats=True)\n",
      "    (leaky_35): LeakyReLU(negative_slope=0.1, inplace=True)\n",
      "  )\n",
      "  (36): Sequential(\n",
      "    (shortcut_36): EmptyLayer()\n",
      "  )\n",
      "  (37): Sequential(\n",
      "    (conv_37): Conv2d(256, 512, kernel_size=(3, 3), stride=(2, 2), padding=(1, 1), bias=False)\n",
      "    (batch_norm_37): BatchNorm2d(512, eps=1e-05, momentum=0.1, affine=True, track_running_stats=True)\n",
      "    (leaky_37): LeakyReLU(negative_slope=0.1, inplace=True)\n",
      "  )\n",
      "  (38): Sequential(\n",
      "    (conv_38): Conv2d(512, 256, kernel_size=(1, 1), stride=(1, 1), bias=False)\n",
      "    (batch_norm_38): BatchNorm2d(256, eps=1e-05, momentum=0.1, affine=True, track_running_stats=True)\n",
      "    (leaky_38): LeakyReLU(negative_slope=0.1, inplace=True)\n",
      "  )\n",
      "  (39): Sequential(\n",
      "    (conv_39): Conv2d(256, 512, kernel_size=(3, 3), stride=(1, 1), padding=(1, 1), bias=False)\n",
      "    (batch_norm_39): BatchNorm2d(512, eps=1e-05, momentum=0.1, affine=True, track_running_stats=True)\n",
      "    (leaky_39): LeakyReLU(negative_slope=0.1, inplace=True)\n",
      "  )\n",
      "  (40): Sequential(\n",
      "    (shortcut_40): EmptyLayer()\n",
      "  )\n",
      "  (41): Sequential(\n",
      "    (conv_41): Conv2d(512, 256, kernel_size=(1, 1), stride=(1, 1), bias=False)\n",
      "    (batch_norm_41): BatchNorm2d(256, eps=1e-05, momentum=0.1, affine=True, track_running_stats=True)\n",
      "    (leaky_41): LeakyReLU(negative_slope=0.1, inplace=True)\n",
      "  )\n",
      "  (42): Sequential(\n",
      "    (conv_42): Conv2d(256, 512, kernel_size=(3, 3), stride=(1, 1), padding=(1, 1), bias=False)\n",
      "    (batch_norm_42): BatchNorm2d(512, eps=1e-05, momentum=0.1, affine=True, track_running_stats=True)\n",
      "    (leaky_42): LeakyReLU(negative_slope=0.1, inplace=True)\n",
      "  )\n",
      "  (43): Sequential(\n",
      "    (shortcut_43): EmptyLayer()\n",
      "  )\n",
      "  (44): Sequential(\n",
      "    (conv_44): Conv2d(512, 256, kernel_size=(1, 1), stride=(1, 1), bias=False)\n",
      "    (batch_norm_44): BatchNorm2d(256, eps=1e-05, momentum=0.1, affine=True, track_running_stats=True)\n",
      "    (leaky_44): LeakyReLU(negative_slope=0.1, inplace=True)\n",
      "  )\n",
      "  (45): Sequential(\n",
      "    (conv_45): Conv2d(256, 512, kernel_size=(3, 3), stride=(1, 1), padding=(1, 1), bias=False)\n",
      "    (batch_norm_45): BatchNorm2d(512, eps=1e-05, momentum=0.1, affine=True, track_running_stats=True)\n",
      "    (leaky_45): LeakyReLU(negative_slope=0.1, inplace=True)\n",
      "  )\n",
      "  (46): Sequential(\n",
      "    (shortcut_46): EmptyLayer()\n",
      "  )\n",
      "  (47): Sequential(\n",
      "    (conv_47): Conv2d(512, 256, kernel_size=(1, 1), stride=(1, 1), bias=False)\n",
      "    (batch_norm_47): BatchNorm2d(256, eps=1e-05, momentum=0.1, affine=True, track_running_stats=True)\n",
      "    (leaky_47): LeakyReLU(negative_slope=0.1, inplace=True)\n",
      "  )\n",
      "  (48): Sequential(\n",
      "    (conv_48): Conv2d(256, 512, kernel_size=(3, 3), stride=(1, 1), padding=(1, 1), bias=False)\n",
      "    (batch_norm_48): BatchNorm2d(512, eps=1e-05, momentum=0.1, affine=True, track_running_stats=True)\n",
      "    (leaky_48): LeakyReLU(negative_slope=0.1, inplace=True)\n",
      "  )\n",
      "  (49): Sequential(\n",
      "    (shortcut_49): EmptyLayer()\n",
      "  )\n",
      "  (50): Sequential(\n",
      "    (conv_50): Conv2d(512, 256, kernel_size=(1, 1), stride=(1, 1), bias=False)\n",
      "    (batch_norm_50): BatchNorm2d(256, eps=1e-05, momentum=0.1, affine=True, track_running_stats=True)\n",
      "    (leaky_50): LeakyReLU(negative_slope=0.1, inplace=True)\n",
      "  )\n",
      "  (51): Sequential(\n",
      "    (conv_51): Conv2d(256, 512, kernel_size=(3, 3), stride=(1, 1), padding=(1, 1), bias=False)\n",
      "    (batch_norm_51): BatchNorm2d(512, eps=1e-05, momentum=0.1, affine=True, track_running_stats=True)\n",
      "    (leaky_51): LeakyReLU(negative_slope=0.1, inplace=True)\n",
      "  )\n",
      "  (52): Sequential(\n",
      "    (shortcut_52): EmptyLayer()\n",
      "  )\n",
      "  (53): Sequential(\n",
      "    (conv_53): Conv2d(512, 256, kernel_size=(1, 1), stride=(1, 1), bias=False)\n",
      "    (batch_norm_53): BatchNorm2d(256, eps=1e-05, momentum=0.1, affine=True, track_running_stats=True)\n",
      "    (leaky_53): LeakyReLU(negative_slope=0.1, inplace=True)\n",
      "  )\n",
      "  (54): Sequential(\n",
      "    (conv_54): Conv2d(256, 512, kernel_size=(3, 3), stride=(1, 1), padding=(1, 1), bias=False)\n",
      "    (batch_norm_54): BatchNorm2d(512, eps=1e-05, momentum=0.1, affine=True, track_running_stats=True)\n",
      "    (leaky_54): LeakyReLU(negative_slope=0.1, inplace=True)\n",
      "  )\n",
      "  (55): Sequential(\n",
      "    (shortcut_55): EmptyLayer()\n",
      "  )\n",
      "  (56): Sequential(\n",
      "    (conv_56): Conv2d(512, 256, kernel_size=(1, 1), stride=(1, 1), bias=False)\n",
      "    (batch_norm_56): BatchNorm2d(256, eps=1e-05, momentum=0.1, affine=True, track_running_stats=True)\n",
      "    (leaky_56): LeakyReLU(negative_slope=0.1, inplace=True)\n",
      "  )\n",
      "  (57): Sequential(\n",
      "    (conv_57): Conv2d(256, 512, kernel_size=(3, 3), stride=(1, 1), padding=(1, 1), bias=False)\n",
      "    (batch_norm_57): BatchNorm2d(512, eps=1e-05, momentum=0.1, affine=True, track_running_stats=True)\n",
      "    (leaky_57): LeakyReLU(negative_slope=0.1, inplace=True)\n",
      "  )\n",
      "  (58): Sequential(\n",
      "    (shortcut_58): EmptyLayer()\n",
      "  )\n",
      "  (59): Sequential(\n",
      "    (conv_59): Conv2d(512, 256, kernel_size=(1, 1), stride=(1, 1), bias=False)\n",
      "    (batch_norm_59): BatchNorm2d(256, eps=1e-05, momentum=0.1, affine=True, track_running_stats=True)\n",
      "    (leaky_59): LeakyReLU(negative_slope=0.1, inplace=True)\n",
      "  )\n",
      "  (60): Sequential(\n",
      "    (conv_60): Conv2d(256, 512, kernel_size=(3, 3), stride=(1, 1), padding=(1, 1), bias=False)\n",
      "    (batch_norm_60): BatchNorm2d(512, eps=1e-05, momentum=0.1, affine=True, track_running_stats=True)\n",
      "    (leaky_60): LeakyReLU(negative_slope=0.1, inplace=True)\n",
      "  )\n",
      "  (61): Sequential(\n",
      "    (shortcut_61): EmptyLayer()\n",
      "  )\n",
      "  (62): Sequential(\n",
      "    (conv_62): Conv2d(512, 1024, kernel_size=(3, 3), stride=(2, 2), padding=(1, 1), bias=False)\n",
      "    (batch_norm_62): BatchNorm2d(1024, eps=1e-05, momentum=0.1, affine=True, track_running_stats=True)\n",
      "    (leaky_62): LeakyReLU(negative_slope=0.1, inplace=True)\n",
      "  )\n",
      "  (63): Sequential(\n",
      "    (conv_63): Conv2d(1024, 512, kernel_size=(1, 1), stride=(1, 1), bias=False)\n",
      "    (batch_norm_63): BatchNorm2d(512, eps=1e-05, momentum=0.1, affine=True, track_running_stats=True)\n",
      "    (leaky_63): LeakyReLU(negative_slope=0.1, inplace=True)\n",
      "  )\n",
      "  (64): Sequential(\n",
      "    (conv_64): Conv2d(512, 1024, kernel_size=(3, 3), stride=(1, 1), padding=(1, 1), bias=False)\n",
      "    (batch_norm_64): BatchNorm2d(1024, eps=1e-05, momentum=0.1, affine=True, track_running_stats=True)\n",
      "    (leaky_64): LeakyReLU(negative_slope=0.1, inplace=True)\n",
      "  )\n",
      "  (65): Sequential(\n",
      "    (shortcut_65): EmptyLayer()\n",
      "  )\n",
      "  (66): Sequential(\n",
      "    (conv_66): Conv2d(1024, 512, kernel_size=(1, 1), stride=(1, 1), bias=False)\n",
      "    (batch_norm_66): BatchNorm2d(512, eps=1e-05, momentum=0.1, affine=True, track_running_stats=True)\n",
      "    (leaky_66): LeakyReLU(negative_slope=0.1, inplace=True)\n",
      "  )\n",
      "  (67): Sequential(\n",
      "    (conv_67): Conv2d(512, 1024, kernel_size=(3, 3), stride=(1, 1), padding=(1, 1), bias=False)\n",
      "    (batch_norm_67): BatchNorm2d(1024, eps=1e-05, momentum=0.1, affine=True, track_running_stats=True)\n",
      "    (leaky_67): LeakyReLU(negative_slope=0.1, inplace=True)\n",
      "  )\n",
      "  (68): Sequential(\n",
      "    (shortcut_68): EmptyLayer()\n",
      "  )\n",
      "  (69): Sequential(\n",
      "    (conv_69): Conv2d(1024, 512, kernel_size=(1, 1), stride=(1, 1), bias=False)\n",
      "    (batch_norm_69): BatchNorm2d(512, eps=1e-05, momentum=0.1, affine=True, track_running_stats=True)\n",
      "    (leaky_69): LeakyReLU(negative_slope=0.1, inplace=True)\n",
      "  )\n",
      "  (70): Sequential(\n",
      "    (conv_70): Conv2d(512, 1024, kernel_size=(3, 3), stride=(1, 1), padding=(1, 1), bias=False)\n",
      "    (batch_norm_70): BatchNorm2d(1024, eps=1e-05, momentum=0.1, affine=True, track_running_stats=True)\n",
      "    (leaky_70): LeakyReLU(negative_slope=0.1, inplace=True)\n",
      "  )\n",
      "  (71): Sequential(\n",
      "    (shortcut_71): EmptyLayer()\n",
      "  )\n",
      "  (72): Sequential(\n",
      "    (conv_72): Conv2d(1024, 512, kernel_size=(1, 1), stride=(1, 1), bias=False)\n",
      "    (batch_norm_72): BatchNorm2d(512, eps=1e-05, momentum=0.1, affine=True, track_running_stats=True)\n",
      "    (leaky_72): LeakyReLU(negative_slope=0.1, inplace=True)\n",
      "  )\n",
      "  (73): Sequential(\n",
      "    (conv_73): Conv2d(512, 1024, kernel_size=(3, 3), stride=(1, 1), padding=(1, 1), bias=False)\n",
      "    (batch_norm_73): BatchNorm2d(1024, eps=1e-05, momentum=0.1, affine=True, track_running_stats=True)\n",
      "    (leaky_73): LeakyReLU(negative_slope=0.1, inplace=True)\n",
      "  )\n",
      "  (74): Sequential(\n",
      "    (shortcut_74): EmptyLayer()\n",
      "  )\n",
      "  (75): Sequential(\n",
      "    (conv_75): Conv2d(1024, 512, kernel_size=(1, 1), stride=(1, 1), bias=False)\n",
      "    (batch_norm_75): BatchNorm2d(512, eps=1e-05, momentum=0.1, affine=True, track_running_stats=True)\n",
      "    (leaky_75): LeakyReLU(negative_slope=0.1, inplace=True)\n",
      "  )\n",
      "  (76): Sequential(\n",
      "    (conv_76): Conv2d(512, 1024, kernel_size=(3, 3), stride=(1, 1), padding=(1, 1), bias=False)\n",
      "    (batch_norm_76): BatchNorm2d(1024, eps=1e-05, momentum=0.1, affine=True, track_running_stats=True)\n",
      "    (leaky_76): LeakyReLU(negative_slope=0.1, inplace=True)\n",
      "  )\n",
      "  (77): Sequential(\n",
      "    (conv_77): Conv2d(1024, 512, kernel_size=(1, 1), stride=(1, 1), bias=False)\n",
      "    (batch_norm_77): BatchNorm2d(512, eps=1e-05, momentum=0.1, affine=True, track_running_stats=True)\n",
      "    (leaky_77): LeakyReLU(negative_slope=0.1, inplace=True)\n",
      "  )\n",
      "  (78): Sequential(\n",
      "    (conv_78): Conv2d(512, 1024, kernel_size=(3, 3), stride=(1, 1), padding=(1, 1), bias=False)\n",
      "    (batch_norm_78): BatchNorm2d(1024, eps=1e-05, momentum=0.1, affine=True, track_running_stats=True)\n",
      "    (leaky_78): LeakyReLU(negative_slope=0.1, inplace=True)\n",
      "  )\n",
      "  (79): Sequential(\n",
      "    (conv_79): Conv2d(1024, 512, kernel_size=(1, 1), stride=(1, 1), bias=False)\n",
      "    (batch_norm_79): BatchNorm2d(512, eps=1e-05, momentum=0.1, affine=True, track_running_stats=True)\n",
      "    (leaky_79): LeakyReLU(negative_slope=0.1, inplace=True)\n",
      "  )\n",
      "  (80): Sequential(\n",
      "    (conv_80): Conv2d(512, 1024, kernel_size=(3, 3), stride=(1, 1), padding=(1, 1), bias=False)\n",
      "    (batch_norm_80): BatchNorm2d(1024, eps=1e-05, momentum=0.1, affine=True, track_running_stats=True)\n",
      "    (leaky_80): LeakyReLU(negative_slope=0.1, inplace=True)\n",
      "  )\n",
      "  (81): Sequential(\n",
      "    (conv_81): Conv2d(1024, 255, kernel_size=(1, 1), stride=(1, 1))\n",
      "  )\n",
      "  (82): Sequential(\n",
      "    (Detection_82): DetectionLayer()\n",
      "  )\n",
      "  (83): Sequential(\n",
      "    (route_83): EmptyLayer()\n",
      "  )\n",
      "  (84): Sequential(\n",
      "    (conv_84): Conv2d(512, 256, kernel_size=(1, 1), stride=(1, 1), bias=False)\n",
      "    (batch_norm_84): BatchNorm2d(256, eps=1e-05, momentum=0.1, affine=True, track_running_stats=True)\n",
      "    (leaky_84): LeakyReLU(negative_slope=0.1, inplace=True)\n",
      "  )\n",
      "  (85): Sequential(\n",
      "    (upsample_85): Upsample(scale_factor=2.0, mode=bilinear)\n",
      "  )\n",
      "  (86): Sequential(\n",
      "    (route_86): EmptyLayer()\n",
      "  )\n",
      "  (87): Sequential(\n",
      "    (conv_87): Conv2d(768, 256, kernel_size=(1, 1), stride=(1, 1), bias=False)\n",
      "    (batch_norm_87): BatchNorm2d(256, eps=1e-05, momentum=0.1, affine=True, track_running_stats=True)\n",
      "    (leaky_87): LeakyReLU(negative_slope=0.1, inplace=True)\n",
      "  )\n",
      "  (88): Sequential(\n",
      "    (conv_88): Conv2d(256, 512, kernel_size=(3, 3), stride=(1, 1), padding=(1, 1), bias=False)\n",
      "    (batch_norm_88): BatchNorm2d(512, eps=1e-05, momentum=0.1, affine=True, track_running_stats=True)\n",
      "    (leaky_88): LeakyReLU(negative_slope=0.1, inplace=True)\n",
      "  )\n",
      "  (89): Sequential(\n",
      "    (conv_89): Conv2d(512, 256, kernel_size=(1, 1), stride=(1, 1), bias=False)\n",
      "    (batch_norm_89): BatchNorm2d(256, eps=1e-05, momentum=0.1, affine=True, track_running_stats=True)\n",
      "    (leaky_89): LeakyReLU(negative_slope=0.1, inplace=True)\n",
      "  )\n",
      "  (90): Sequential(\n",
      "    (conv_90): Conv2d(256, 512, kernel_size=(3, 3), stride=(1, 1), padding=(1, 1), bias=False)\n",
      "    (batch_norm_90): BatchNorm2d(512, eps=1e-05, momentum=0.1, affine=True, track_running_stats=True)\n",
      "    (leaky_90): LeakyReLU(negative_slope=0.1, inplace=True)\n",
      "  )\n",
      "  (91): Sequential(\n",
      "    (conv_91): Conv2d(512, 256, kernel_size=(1, 1), stride=(1, 1), bias=False)\n",
      "    (batch_norm_91): BatchNorm2d(256, eps=1e-05, momentum=0.1, affine=True, track_running_stats=True)\n",
      "    (leaky_91): LeakyReLU(negative_slope=0.1, inplace=True)\n",
      "  )\n",
      "  (92): Sequential(\n",
      "    (conv_92): Conv2d(256, 512, kernel_size=(3, 3), stride=(1, 1), padding=(1, 1), bias=False)\n",
      "    (batch_norm_92): BatchNorm2d(512, eps=1e-05, momentum=0.1, affine=True, track_running_stats=True)\n",
      "    (leaky_92): LeakyReLU(negative_slope=0.1, inplace=True)\n",
      "  )\n",
      "  (93): Sequential(\n",
      "    (conv_93): Conv2d(512, 255, kernel_size=(1, 1), stride=(1, 1))\n",
      "  )\n",
      "  (94): Sequential(\n",
      "    (Detection_94): DetectionLayer()\n",
      "  )\n",
      "  (95): Sequential(\n",
      "    (route_95): EmptyLayer()\n",
      "  )\n",
      "  (96): Sequential(\n",
      "    (conv_96): Conv2d(256, 128, kernel_size=(1, 1), stride=(1, 1), bias=False)\n",
      "    (batch_norm_96): BatchNorm2d(128, eps=1e-05, momentum=0.1, affine=True, track_running_stats=True)\n",
      "    (leaky_96): LeakyReLU(negative_slope=0.1, inplace=True)\n",
      "  )\n",
      "  (97): Sequential(\n",
      "    (upsample_97): Upsample(scale_factor=2.0, mode=bilinear)\n",
      "  )\n",
      "  (98): Sequential(\n",
      "    (route_98): EmptyLayer()\n",
      "  )\n",
      "  (99): Sequential(\n",
      "    (conv_99): Conv2d(384, 128, kernel_size=(1, 1), stride=(1, 1), bias=False)\n",
      "    (batch_norm_99): BatchNorm2d(128, eps=1e-05, momentum=0.1, affine=True, track_running_stats=True)\n",
      "    (leaky_99): LeakyReLU(negative_slope=0.1, inplace=True)\n",
      "  )\n",
      "  (100): Sequential(\n",
      "    (conv_100): Conv2d(128, 256, kernel_size=(3, 3), stride=(1, 1), padding=(1, 1), bias=False)\n",
      "    (batch_norm_100): BatchNorm2d(256, eps=1e-05, momentum=0.1, affine=True, track_running_stats=True)\n",
      "    (leaky_100): LeakyReLU(negative_slope=0.1, inplace=True)\n",
      "  )\n",
      "  (101): Sequential(\n",
      "    (conv_101): Conv2d(256, 128, kernel_size=(1, 1), stride=(1, 1), bias=False)\n",
      "    (batch_norm_101): BatchNorm2d(128, eps=1e-05, momentum=0.1, affine=True, track_running_stats=True)\n",
      "    (leaky_101): LeakyReLU(negative_slope=0.1, inplace=True)\n",
      "  )\n",
      "  (102): Sequential(\n",
      "    (conv_102): Conv2d(128, 256, kernel_size=(3, 3), stride=(1, 1), padding=(1, 1), bias=False)\n",
      "    (batch_norm_102): BatchNorm2d(256, eps=1e-05, momentum=0.1, affine=True, track_running_stats=True)\n",
      "    (leaky_102): LeakyReLU(negative_slope=0.1, inplace=True)\n",
      "  )\n",
      "  (103): Sequential(\n",
      "    (conv_103): Conv2d(256, 128, kernel_size=(1, 1), stride=(1, 1), bias=False)\n",
      "    (batch_norm_103): BatchNorm2d(128, eps=1e-05, momentum=0.1, affine=True, track_running_stats=True)\n",
      "    (leaky_103): LeakyReLU(negative_slope=0.1, inplace=True)\n",
      "  )\n",
      "  (104): Sequential(\n",
      "    (conv_104): Conv2d(128, 256, kernel_size=(3, 3), stride=(1, 1), padding=(1, 1), bias=False)\n",
      "    (batch_norm_104): BatchNorm2d(256, eps=1e-05, momentum=0.1, affine=True, track_running_stats=True)\n",
      "    (leaky_104): LeakyReLU(negative_slope=0.1, inplace=True)\n",
      "  )\n",
      "  (105): Sequential(\n",
      "    (conv_105): Conv2d(256, 255, kernel_size=(1, 1), stride=(1, 1))\n",
      "  )\n",
      "  (106): Sequential(\n",
      "    (Detection_106): DetectionLayer()\n",
      "  )\n",
      "))\n"
     ]
    }
   ],
   "source": [
    "blocks = parse_config(\"config/yolov3.cfg\")\n",
    "print(create_modules(blocks))"
   ]
  },
  {
   "cell_type": "code",
   "execution_count": 16,
   "metadata": {
    "vscode": {
     "languageId": "python"
    }
   },
   "outputs": [],
   "source": [
    "def predict_transform(prediction, inp_dim, anchors, num_classes, CUDA = True):\n",
    "    \"\"\"\n",
    "        takes detection feature map and returns the bounding boxes 2D tensors\n",
    "    \"\"\"\n",
    "\n",
    "    batch_size = prediction.size(0)\n",
    "    stride =  inp_dim // prediction.size(2)\n",
    "    grid_size = inp_dim // stride\n",
    "    bbox_attrs = 5 + num_classes\n",
    "    num_anchors = len(anchors)\n",
    "\n",
    "    prediction = prediction.view(batch_size, bbox_attrs * num_anchors, grid_size * grid_size)\n",
    "    prediction = prediction.transpose(1,2).contiguous()\n",
    "    prediction = prediction.view(batch_size, grid_size * grid_size * num_anchors, bbox_attrs)\n",
    "\n",
    "    anchors = [(a[0]/stride, a[1]/stride) for a in anchors]\n",
    "\n",
    "    # Sigmoid the  centre_X, centre_Y. and object confidencce\n",
    "    prediction[:,:,0] = torch.sigmoid(prediction[:,:,0])\n",
    "    prediction[:,:,1] = torch.sigmoid(prediction[:,:,1])\n",
    "    prediction[:,:,4] = torch.sigmoid(prediction[:,:,4])\n",
    "\n",
    "    # Add the center offsets\n",
    "    grid = np.arange(grid_size)\n",
    "    a,b = np.meshgrid(grid, grid)\n",
    "\n",
    "    x_offset = torch.FloatTensor(a).view(-1,1)\n",
    "    y_offset = torch.FloatTensor(b).view(-1,1)\n",
    "\n",
    "    if CUDA:\n",
    "        x_offset = x_offset.cuda()\n",
    "        y_offset = y_offset.cuda()\n",
    "\n",
    "    x_y_offset = torch.cat((x_offset, y_offset), 1).repeat(1, num_anchors).view(-1, 2).unsqueeze(0)\n",
    "\n",
    "    prediction[:,:,:2] += x_y_offset\n",
    "\n",
    "    # log space transform height and the width\n",
    "    anchors = torch.FloatTensor(anchors)\n",
    "\n",
    "    if CUDA:\n",
    "        anchors = anchors.cuda()\n",
    "\n",
    "    anchors = anchors.repeat(grid_size * grid_size, 1).unsqueeze(0)\n",
    "    prediction[:,:,2:4] = torch.exp(prediction[:,:,2:4]) * anchors\n",
    "\n",
    "    prediction[:,:,5: 5 + num_classes] = torch.sigmoid((prediction[:,:, 5 : 5 + num_classes]))\n",
    "\n",
    "    prediction[:,:,:4] *= stride\n",
    "\n",
    "    return prediction"
   ]
  },
  {
   "cell_type": "code",
   "execution_count": 49,
   "metadata": {
    "vscode": {
     "languageId": "python"
    }
   },
   "outputs": [],
   "source": [
    "# build the network from the blocks and the module list\n",
    "class Darknet(nn.Module):\n",
    "    \"\"\"\n",
    "    YOLOv3 object detection model based on Darknet architecture\n",
    "    \"\"\"\n",
    "\n",
    "    def __init__(self, cfg):\n",
    "        super(Darknet, self).__init__()\n",
    "        self.blocks = parse_config(cfg)\n",
    "        self.net_info, self.module_list = create_modules(self.blocks)\n",
    "\n",
    "    def forward(self, x, CUDA):\n",
    "        modules = self.blocks[1:]\n",
    "        outputs = {}   #We cache the outputs for the route layer\n",
    "\n",
    "        write = 0\n",
    "        for i, module in enumerate(modules):\n",
    "            module_type = (module[\"type\"])\n",
    "\n",
    "            if module_type == \"convolutional\" or module_type == \"upsample\":\n",
    "                x = self.module_list[i](x)\n",
    "\n",
    "            elif module_type == \"route\":\n",
    "                layers = module[\"layers\"]\n",
    "                layers = [int(a) for a in layers]\n",
    "\n",
    "                if (layers[0]) > 0: layers[0] = layers[0] - i\n",
    "                if len(layers) == 1:\n",
    "                    x = outputs[i + (layers[0])]\n",
    "\n",
    "                else:\n",
    "                    if (layers[1]) > 0: layers[1] = layers[1] - i\n",
    "\n",
    "                    map1 = outputs[i + layers[0]]\n",
    "                    map2 = outputs[i + layers[1]]\n",
    "\n",
    "                    x = torch.cat((map1, map2), 1)\n",
    "\n",
    "            elif  module_type == \"shortcut\":\n",
    "                from_ = int(module[\"from\"])\n",
    "                x = outputs[i-1] + outputs[i+from_]\n",
    "\n",
    "            elif module_type == 'yolo':\n",
    "                anchors = self.module_list[i][0].anchors\n",
    "                #Get the input dimensions\n",
    "                inp_dim = int (self.net_info[\"height\"])\n",
    "\n",
    "                #Get the number of classes\n",
    "                num_classes = int (module[\"classes\"])\n",
    "\n",
    "                #Transform\n",
    "                x = x.data\n",
    "                x = predict_transform(x, inp_dim, anchors, num_classes, CUDA)\n",
    "                if not write:              #if no collector has been intialised.\n",
    "                    detections = x\n",
    "                    write = 1\n",
    "\n",
    "                else:\n",
    "                    detections = torch.cat((detections, x), 1)\n",
    "\n",
    "            outputs[i] = x\n",
    "\n",
    "        return detections\n",
    "\n",
    "    # leading the weights from the darknet model\n",
    "    def load_weights(self, weightfile):\n",
    "        \"\"\"\n",
    "            Loads weights from a weights file\n",
    "        \"\"\"\n",
    "\n",
    "        # Open the weights file\n",
    "        fp = open(weightfile, \"rb\")\n",
    "\n",
    "        # The first 5 values are header information\n",
    "        # 1. Major version number\n",
    "        # 2. Minor Version Number\n",
    "        # 3. Subversion number\n",
    "        # 4,5. Images seen by the network (during training)\n",
    "\n",
    "        header = np.fromfile(fp, dtype = np.int32, count = 5)\n",
    "        self.header = torch.from_numpy(header)\n",
    "        self.seen = self.header[3]\n",
    "\n",
    "        weights = np.fromfile(fp, dtype = np.float32)\n",
    "\n",
    "        ptr = 0\n",
    "        for i in range(len(self.module_list)):\n",
    "            module_type = self.blocks[i + 1][\"type\"]\n",
    "\n",
    "            # If module_type is convolutional load weights\n",
    "            # Otherwise ignore.\n",
    "\n",
    "            if module_type == \"convolutional\":\n",
    "                model = self.module_list[i]\n",
    "                try:\n",
    "                    batch_normalize = int(self.blocks[i+1][\"batch_normalize\"])\n",
    "                except:\n",
    "                    batch_normalize = 0\n",
    "\n",
    "                conv = model[0]\n",
    "\n",
    "                if (batch_normalize):\n",
    "                    bn = model[1]\n",
    "\n",
    "                    #Get the number of weights of Batch Norm Layer\n",
    "                    num_bn_biases = bn.bias.numel()\n",
    "\n",
    "                    #Load the weights\n",
    "                    bn_biases = torch.from_numpy(weights[ptr:ptr + num_bn_biases])\n",
    "                    ptr += num_bn_biases\n",
    "\n",
    "                    bn_weights = torch.from_numpy(weights[ptr: ptr + num_bn_biases])\n",
    "                    ptr  += num_bn_biases\n",
    "\n",
    "                    bn_running_mean = torch.from_numpy(weights[ptr: ptr + num_bn_biases])\n",
    "                    ptr  += num_bn_biases\n",
    "\n",
    "                    bn_running_var = torch.from_numpy(weights[ptr: ptr + num_bn_biases])\n",
    "                    ptr  += num_bn_biases\n",
    "\n",
    "                    #Cast the loaded weights into dims of model weights.\n",
    "                    bn_biases = bn_biases.view_as(bn.bias.data)\n",
    "                    bn_weights = bn_weights.view_as(bn.weight.data)\n",
    "                    bn_running_mean = bn_running_mean.view_as(bn.running_mean)\n",
    "                    bn_running_var = bn_running_var.view_as(bn.running_var)\n",
    "\n",
    "                    #Copy the data to model\n",
    "                    bn.bias.data.copy_(bn_biases)\n",
    "                    bn.weight.data.copy_(bn_weights)\n",
    "                    bn.running_mean.data.copy_(bn_running_mean)\n",
    "                    bn.running_var.data.copy_(bn_running_var)\n",
    "\n",
    "                else:\n",
    "                    #Number of biases\n",
    "                    num_biases = conv.bias.numel()\n",
    "\n",
    "                    #Load the weights\n",
    "                    conv_biases = torch.from_numpy(weights[ptr: ptr + num_biases])\n",
    "                    ptr = ptr + num_biases\n",
    "\n",
    "                    #reshape the loaded weights according to the dims of the model weights\n",
    "                    conv_biases = conv_biases.view_as(conv.bias.data)\n",
    "\n",
    "                    #Finally copy the data\n",
    "                    conv.bias.data.copy_(conv_biases)\n",
    "\n",
    "                #Let us load the weights for the Convolutional layers\n",
    "                num_weights = conv.weight.numel()\n",
    "\n",
    "                #Do the same as above for weights\n",
    "                conv_weights = torch.from_numpy(weights[ptr:ptr+num_weights])\n",
    "                ptr = ptr + num_weights\n",
    "\n",
    "                conv_weights = conv_weights.view_as(conv.weight.data)\n",
    "                conv.weight.data.copy_(conv_weights)\n",
    "\n",
    "    # def save_weights(self, savedfile, cutoff=0):\n",
    "    #     \"\"\"\n",
    "    #         Saves the weights from the model into a file\n",
    "    #     \"\"\"\n",
    "    #     fp = open(savedfile, 'wb')\n",
    "    #     self.header[3] = self.seen\n",
    "    #     self.header.numpy().tofile(fp)\n",
    "    #     # The model is saved in the order (Conv, BN, Leaky ReLU)\n",
    "    #     # We are storing the weights in the order (BN, Conv, Leaky ReLU)\n",
    "    #     # We will be loading the weights in the same order (BN, Conv, Leaky ReLU)\n",
    "    #     # The only problem is that we are storing the weights as 1D arrays\n",
    "    #     # We will have to reshape the weights before storing them\n",
    "    #     for i in range(0, cutoff if cutoff else len(self.module_list)):\n",
    "    #         module_type = self.blocks[i + 1]['type']\n",
    "\n",
    "            \n",
    "    #         fp"
   ]
  },
  {
   "cell_type": "code",
   "execution_count": 19,
   "metadata": {
    "vscode": {
     "languageId": "python"
    }
   },
   "outputs": [],
   "source": [
    "def convert_to_yolo(label, direction='to_yolo'):\n",
    "    '''\n",
    "    Converts the bounding boxes into the yolo format\n",
    "    and vice versa\n",
    "    '''\n",
    "    if direction == 'to_yolo':\n",
    "        # convert the bounding boxes to yolo format\n",
    "        # (x, y, w, h) -> (x, y, w, h)\n",
    "        # (x, y) = (x + w/2, y + h/2)\n",
    "        # (w, h) = (w, h)\n",
    "        yolo_label = np.zeros(label.shape)\n",
    "\n",
    "        yolo_label[:, 0] = label[:, 0] + label[:, 2]/2\n",
    "        yolo_label[:, 1] = label[:, 1] + label[:, 3]/2\n",
    "        yolo_label[:, 2] = label[:, 2]\n",
    "        yolo_label[:, 3] = label[:, 3]\n",
    "        yolo_label[:, 4] = label[:, 4]\n",
    "        return yolo_label\n",
    "    elif direction == 'to_normal':\n",
    "        # convert the bounding boxes to normal format\n",
    "        # (x, y, w, h) -> (x, y, w, h)\n",
    "        # (x, y) = (x - w/2, y - h/2)\n",
    "        # (w, h) = (w, h)\n",
    "        normal_label = np.zeros(label.shape)\n",
    "\n",
    "        normal_label[:, 0] = label[:, 0] - label[:, 2]/2\n",
    "        normal_label[:, 1] = label[:, 1] - label[:, 3]/2\n",
    "        normal_label[:, 2] = label[:, 2]\n",
    "        normal_label[:, 3] = label[:, 3]\n",
    "        normal_label[:, 4] = label[:, 4]\n",
    "        return normal_label\n",
    "    else:\n",
    "        print('Invalid direction')\n",
    "        return None"
   ]
  },
  {
   "cell_type": "code",
   "execution_count": 55,
   "metadata": {
    "vscode": {
     "languageId": "python"
    }
   },
   "outputs": [
    {
     "name": "stdout",
     "output_type": "stream",
     "text": [
      "/notebooks\n"
     ]
    }
   ],
   "source": [
    "!pwd"
   ]
  },
  {
   "cell_type": "code",
   "execution_count": 74,
   "metadata": {
    "vscode": {
     "languageId": "python"
    }
   },
   "outputs": [],
   "source": [
    "# preprocess the data into the format required by the model\n",
    "def get_test_image():\n",
    "    '''\n",
    "    Preprocess the image to be fed into the neural network\n",
    "    '''\n",
    "    path = './data/test2017/000000000001.jpg'\n",
    "    img = cv2.imread(path)\n",
    "    img = cv2.resize(img, (608,608))          #Resize to the input dimension\n",
    "    img_ =  img[:,:,::-1].transpose((2,0,1))  # BGR -> RGB | H X W C -> C X H X W \n",
    "    img_ = img_[np.newaxis,:,:,:]/255.0       #Add a channel at 0 (for batch) | Normalise\n",
    "    img_ = torch.from_numpy(img_).float()     #Convert to float\n",
    "    img_ = Variable(img_)                     # Convert to Variable\n",
    "    return img_"
   ]
  },
  {
   "cell_type": "code",
   "execution_count": 90,
   "metadata": {
    "vscode": {
     "languageId": "python"
    }
   },
   "outputs": [],
   "source": [
    "def img_preprocess(img, inp_dim=(608, 608)):\n",
    "    '''\n",
    "    Preprocess the image to be fed into the neural network\n",
    "    '''\n",
    "\n",
    "    # convert mxnet image to cv2 image\n",
    "    img = img.asnumpy() \n",
    "\n",
    "    # img_w, img_h = img.shape[1], img.shape[0]\n",
    "    # w, h = inp_dim\n",
    "    # new_w = int(img_w * min(w/img_w, h/img_h))\n",
    "    # new_h = int(img_h * min(w/img_w, h/img_h))\n",
    "    # resized_image = cv2.resize(img, (new_w, new_h), interpolation = cv2.INTER_CUBIC)\n",
    "    \n",
    "    # canvas = np.full((inp_dim[1], inp_dim[0], 3), 128)\n",
    "\n",
    "    # canvas[(h-new_h)//2:(h-new_h)//2 + new_h,(w-new_w)//2:(w-new_w)//2 + new_w,  :] = resized_image\n",
    "\n",
    "    # preprocess the image\n",
    "    \n",
    " \n",
    "    img = cv2.resize(img, inp_dim) # resize the image\n",
    "    # img = cv2.cvtColor(img, cv2.COLOR_BGR2RGB)  # convert the image to RGB\n",
    "    img_ =  img[:,:,::-1].transpose((2,0,1))  # BGR -> RGB | H X W C -> C X H X W \n",
    "    img_ = img_[np.newaxis,:,:,:]/255.0       #Add a channel at 0 (for batch) | Normalise\n",
    "    img_ = torch.from_numpy(img_).float()     #Convert to float\n",
    "    img_ = Variable(img_)                     # Convert to Variable\n",
    "\n",
    "    return img_ #, canvas\n",
    "\n"
   ]
  },
  {
   "cell_type": "code",
   "execution_count": 79,
   "metadata": {
    "vscode": {
     "languageId": "python"
    }
   },
   "outputs": [
    {
     "name": "stdout",
     "output_type": "stream",
     "text": [
      "(640, 640, 3)\n",
      "torch.Size([1, 22743, 85])\n",
      "tensor([[[1.6424e+01, 1.2835e+01, 1.1703e+02,  ..., 4.4518e-01,\n",
      "          4.9137e-01, 5.1244e-01],\n",
      "         [1.5924e+01, 1.6846e+01, 1.1791e+02,  ..., 5.1997e-01,\n",
      "          4.5027e-01, 2.9727e-01],\n",
      "         [1.3770e+01, 1.7219e+01, 3.1521e+02,  ..., 5.9323e-01,\n",
      "          5.5562e-01, 4.3909e-01],\n",
      "         ...,\n",
      "         [6.0395e+02, 6.0480e+02, 7.9989e+00,  ..., 5.1511e-01,\n",
      "          4.1231e-01, 5.5579e-01],\n",
      "         [6.0426e+02, 6.0426e+02, 1.9318e+01,  ..., 4.9539e-01,\n",
      "          4.4893e-01, 4.9679e-01],\n",
      "         [6.0447e+02, 6.0341e+02, 3.3204e+01,  ..., 5.1976e-01,\n",
      "          4.8154e-01, 4.5693e-01]]], device='cuda:0')\n"
     ]
    }
   ],
   "source": [
    "# test untrain model on a random image from validation set\n",
    "model = Darknet(\"config/yolov3.cfg\")\n",
    "model.cuda()\n",
    "# read image from validation set\n",
    "image, label = val_ds[randint(0, len(val_ds))]\n",
    "print(image.shape)\n",
    "# preprocess image\n",
    "# yolo_img = get_test_image()\n",
    "yolo_img = img_preprocess(image)\n",
    "# forward pass\n",
    "pred = model(yolo_img.cuda(), torch.cuda.is_available())\n",
    "print(pred.shape)\n",
    "# print the prediction\n",
    "print(pred)"
   ]
  },
  {
   "cell_type": "code",
   "execution_count": 80,
   "metadata": {
    "vscode": {
     "languageId": "python"
    }
   },
   "outputs": [],
   "source": [
    "model = Darknet(\"config/yolov3.cfg\")\n",
    "model.load_weights(\"models/yolov3.weights\")"
   ]
  },
  {
   "cell_type": "code",
   "execution_count": 82,
   "metadata": {
    "vscode": {
     "languageId": "python"
    }
   },
   "outputs": [],
   "source": [
    "def unify(tensor):\n",
    "    '''\n",
    "        Returns the unique elements of a tensor\n",
    "    '''\n",
    "\n",
    "    tensor_np = tensor.cpu().numpy()\n",
    "    unique_np = np.unique(tensor_np)\n",
    "    unique_tensor = torch.from_numpy(unique_np)\n",
    "\n",
    "    tensor_res = tensor.new(unique_tensor.shape)\n",
    "    tensor_res.copy_(unique_tensor)\n",
    "    \n",
    "    return tensor_res\n"
   ]
  },
  {
   "cell_type": "code",
   "execution_count": 81,
   "metadata": {
    "vscode": {
     "languageId": "python"
    }
   },
   "outputs": [],
   "source": [
    "def bbox_iou(box1, box2):\n",
    "    \"\"\" \n",
    "        Returns the IoU of two bounding boxes \n",
    "    \"\"\"\n",
    "\n",
    "    # Get the coordinates of bounding boxes\n",
    "    b1_x1, b1_y1, b1_x2, b1_y2 = box1[:,0], box1[:,1], box1[:,2], box1[:,3]\n",
    "    b2_x1, b2_y1, b2_x2, b2_y2 = box2[:,0], box2[:,1], box2[:,2], box2[:,3]\n",
    "\n",
    "    # get the corrdinates of the intersection rectangle\n",
    "    inter_rect_x1 = torch.max(b1_x1, b2_x1)\n",
    "    inter_rect_y1 = torch.max(b1_y1, b2_y1)\n",
    "    inter_rect_x2 = torch.min(b1_x2, b2_x2)\n",
    "    inter_rect_y2 = torch.min(b1_y2, b2_y2)\n",
    "\n",
    "    # Intersection area\n",
    "    inter_area = torch.clamp(inter_rect_x2 - inter_rect_x1 + 1, min=0) * torch.clamp(inter_rect_y2 - inter_rect_y1 + 1, min=0)\n",
    "\n",
    "    # Union Area\n",
    "    b1_area = (b1_x2 - b1_x1 + 1) * (b1_y2 - b1_y1 + 1)\n",
    "    b2_area = (b2_x2 - b2_x1 + 1) * (b2_y2 - b2_y1 + 1)\n",
    "\n",
    "    iou = inter_area / (b1_area + b2_area - inter_area)\n",
    "\n",
    "    return iou"
   ]
  },
  {
   "cell_type": "code",
   "execution_count": 84,
   "metadata": {
    "vscode": {
     "languageId": "python"
    }
   },
   "outputs": [],
   "source": [
    "def write_results(prediction, confidence, num_classes, nms_conf = .4):\n",
    "    \"\"\"\n",
    "        Returns detections with shape:\n",
    "            (x1, y1, x2, y2, object_conf, class_score, class_pred)\n",
    "    \"\"\"\n",
    "\n",
    "    conf_mask = (prediction[:,:,4] > confidence).float().unsqueeze(2)\n",
    "    prediction = prediction*conf_mask\n",
    "\n",
    "    box = prediction.new(prediction.shape)\n",
    "    box[:,:,0] = (prediction[:,:,0] - prediction[:,:,2]/2)\n",
    "    box[:,:,1] = (prediction[:,:,1] - prediction[:,:,3]/2)\n",
    "    box[:,:,2] = (prediction[:,:,0] + prediction[:,:,2]/2)\n",
    "    box[:,:,3] = (prediction[:,:,1] + prediction[:,:,3]/2)\n",
    "    prediction[:,:,:4] = box[:,:,:4]\n",
    "\n",
    "    batch_size = prediction.size(0)\n",
    "\n",
    "    write = False\n",
    "\n",
    "    for ind in range(batch_size):\n",
    "        image_pred = prediction[ind]          #image Tensor\n",
    "        #confidence threshholding\n",
    "        #NMS\n",
    "        max_conf, max_conf_score = torch.max(image_pred[:,5:5+num_classes], 1)\n",
    "        max_conf = max_conf.float().unsqueeze(1)\n",
    "        max_conf_score = max_conf_score.float().unsqueeze(1)\n",
    "        seq = (image_pred[:,:5], max_conf, max_conf_score)\n",
    "        image_pred = torch.cat(seq, 1)\n",
    "\n",
    "        non_zero_ind =  (torch.nonzero(image_pred[:,4]))\n",
    "        try:\n",
    "            image_pred_ = image_pred[non_zero_ind.squeeze(),:].view(-1,7)\n",
    "        except:\n",
    "            continue\n",
    "\n",
    "        # if image_pred_.shape[0] == 0:\n",
    "        #     continue\n",
    "\n",
    "        #Get the classes detected in the image\n",
    "        img_classes = unify(image_pred_[:,-1]) \n",
    "\n",
    "        # perform NMS classwise\n",
    "        for cls in img_classes:\n",
    "            #get the detections with one particular class\n",
    "            cls_mask = image_pred_*(image_pred_[:,-1] == cls).float().unsqueeze(1)\n",
    "            class_mask_ind = torch.nonzero(cls_mask[:,-2]).squeeze()\n",
    "            image_pred_class = image_pred_[class_mask_ind].view(-1,7)\n",
    "\n",
    "            #sort the detections such that the entry with the maximum objectness\n",
    "            #confidence is at the top\n",
    "            conf_sort_index = torch.sort(image_pred_class[:,4], descending = True )[1]\n",
    "            image_pred_class = image_pred_class[conf_sort_index]\n",
    "            idx = image_pred_class.size(0)  \n",
    "\n",
    "            for i in range(idx):\n",
    "                #Get the IOUs of all boxes that come after the one we are looking at \n",
    "                #in the loop\n",
    "                try:\n",
    "                    ious = bbox_iou(image_pred_class[i].unsqueeze(0), image_pred_class[i+1:])\n",
    "                except ValueError:\n",
    "                    break\n",
    "\n",
    "                except IndexError:\n",
    "                    break\n",
    "\n",
    "                #Zero out all the detections that have IoU > treshhold\n",
    "                iou_mask = (ious < nms_conf).float().unsqueeze(1)\n",
    "                image_pred_class[i+1:] *= iou_mask       \n",
    "\n",
    "                #Remove the non-zero entries\n",
    "                non_zero_ind = torch.nonzero(image_pred_class[:,4]).squeeze()\n",
    "                image_pred_class = image_pred_class[non_zero_ind].view(-1,7)\n",
    "\n",
    "            batch_ind = image_pred_class.new(image_pred_class.size(0), 1).fill_(ind)      \n",
    "            #Repeat the batch_id for as many detections of the class cls in the image\n",
    "            seq = batch_ind, image_pred_class\n",
    "\n",
    "            if not write:\n",
    "                output = torch.cat(seq,1)\n",
    "                write = True\n",
    "            else:\n",
    "                out = torch.cat(seq,1)\n",
    "                output = torch.cat((output,out))\n",
    "\n",
    "    try:\n",
    "        return output\n",
    "    except:\n",
    "        return 0\n"
   ]
  },
  {
   "cell_type": "code",
   "execution_count": 87,
   "metadata": {
    "vscode": {
     "languageId": "python"
    }
   },
   "outputs": [
    {
     "name": "stdout",
     "output_type": "stream",
     "text": [
      "/notebooks/data\n",
      "--2022-11-20 20:44:35--  https://raw.githubusercontent.com/ayooshkathuria/YOLO_v3_tutorial_from_scratch/master/data/coco.names\n",
      "Resolving raw.githubusercontent.com (raw.githubusercontent.com)... 185.199.111.133, 185.199.108.133, 185.199.110.133, ...\n",
      "Connecting to raw.githubusercontent.com (raw.githubusercontent.com)|185.199.111.133|:443... connected.\n",
      "HTTP request sent, awaiting response... 200 OK\n",
      "Length: 625 [text/plain]\n",
      "Saving to: ‘coco.names.2’\n",
      "\n",
      "coco.names.2        100%[===================>]     625  --.-KB/s    in 0s      \n",
      "\n",
      "2022-11-20 20:44:35 (36.2 MB/s) - ‘coco.names.2’ saved [625/625]\n",
      "\n",
      "/notebooks\n"
     ]
    }
   ],
   "source": [
    "# get all class names\n",
    "%cd \"./data/\"\n",
    "!wget https://raw.githubusercontent.com/ayooshkathuria/YOLO_v3_tutorial_from_scratch/master/data/coco.names\n",
    "%cd ..\n"
   ]
  },
  {
   "cell_type": "code",
   "execution_count": 88,
   "metadata": {
    "vscode": {
     "languageId": "python"
    }
   },
   "outputs": [],
   "source": [
    "def load_classes(namesfile):\n",
    "    fp = open(namesfile, \"r\")\n",
    "    names = fp.read().split(\"\\n\")[:-1]\n",
    "    return names"
   ]
  },
  {
   "cell_type": "code",
   "execution_count": 89,
   "metadata": {
    "vscode": {
     "languageId": "python"
    }
   },
   "outputs": [],
   "source": [
    "num_classes = 80\n",
    "classes = load_classes(\"./data/coco.names\")"
   ]
  },
  {
   "cell_type": "code",
   "execution_count": 91,
   "metadata": {
    "vscode": {
     "languageId": "python"
    }
   },
   "outputs": [
    {
     "data": {
      "text/plain": [
       "Darknet(\n",
       "  (module_list): ModuleList(\n",
       "    (0): Sequential(\n",
       "      (conv_0): Conv2d(3, 32, kernel_size=(3, 3), stride=(1, 1), padding=(1, 1), bias=False)\n",
       "      (batch_norm_0): BatchNorm2d(32, eps=1e-05, momentum=0.1, affine=True, track_running_stats=True)\n",
       "      (leaky_0): LeakyReLU(negative_slope=0.1, inplace=True)\n",
       "    )\n",
       "    (1): Sequential(\n",
       "      (conv_1): Conv2d(32, 64, kernel_size=(3, 3), stride=(2, 2), padding=(1, 1), bias=False)\n",
       "      (batch_norm_1): BatchNorm2d(64, eps=1e-05, momentum=0.1, affine=True, track_running_stats=True)\n",
       "      (leaky_1): LeakyReLU(negative_slope=0.1, inplace=True)\n",
       "    )\n",
       "    (2): Sequential(\n",
       "      (conv_2): Conv2d(64, 32, kernel_size=(1, 1), stride=(1, 1), bias=False)\n",
       "      (batch_norm_2): BatchNorm2d(32, eps=1e-05, momentum=0.1, affine=True, track_running_stats=True)\n",
       "      (leaky_2): LeakyReLU(negative_slope=0.1, inplace=True)\n",
       "    )\n",
       "    (3): Sequential(\n",
       "      (conv_3): Conv2d(32, 64, kernel_size=(3, 3), stride=(1, 1), padding=(1, 1), bias=False)\n",
       "      (batch_norm_3): BatchNorm2d(64, eps=1e-05, momentum=0.1, affine=True, track_running_stats=True)\n",
       "      (leaky_3): LeakyReLU(negative_slope=0.1, inplace=True)\n",
       "    )\n",
       "    (4): Sequential(\n",
       "      (shortcut_4): EmptyLayer()\n",
       "    )\n",
       "    (5): Sequential(\n",
       "      (conv_5): Conv2d(64, 128, kernel_size=(3, 3), stride=(2, 2), padding=(1, 1), bias=False)\n",
       "      (batch_norm_5): BatchNorm2d(128, eps=1e-05, momentum=0.1, affine=True, track_running_stats=True)\n",
       "      (leaky_5): LeakyReLU(negative_slope=0.1, inplace=True)\n",
       "    )\n",
       "    (6): Sequential(\n",
       "      (conv_6): Conv2d(128, 64, kernel_size=(1, 1), stride=(1, 1), bias=False)\n",
       "      (batch_norm_6): BatchNorm2d(64, eps=1e-05, momentum=0.1, affine=True, track_running_stats=True)\n",
       "      (leaky_6): LeakyReLU(negative_slope=0.1, inplace=True)\n",
       "    )\n",
       "    (7): Sequential(\n",
       "      (conv_7): Conv2d(64, 128, kernel_size=(3, 3), stride=(1, 1), padding=(1, 1), bias=False)\n",
       "      (batch_norm_7): BatchNorm2d(128, eps=1e-05, momentum=0.1, affine=True, track_running_stats=True)\n",
       "      (leaky_7): LeakyReLU(negative_slope=0.1, inplace=True)\n",
       "    )\n",
       "    (8): Sequential(\n",
       "      (shortcut_8): EmptyLayer()\n",
       "    )\n",
       "    (9): Sequential(\n",
       "      (conv_9): Conv2d(128, 64, kernel_size=(1, 1), stride=(1, 1), bias=False)\n",
       "      (batch_norm_9): BatchNorm2d(64, eps=1e-05, momentum=0.1, affine=True, track_running_stats=True)\n",
       "      (leaky_9): LeakyReLU(negative_slope=0.1, inplace=True)\n",
       "    )\n",
       "    (10): Sequential(\n",
       "      (conv_10): Conv2d(64, 128, kernel_size=(3, 3), stride=(1, 1), padding=(1, 1), bias=False)\n",
       "      (batch_norm_10): BatchNorm2d(128, eps=1e-05, momentum=0.1, affine=True, track_running_stats=True)\n",
       "      (leaky_10): LeakyReLU(negative_slope=0.1, inplace=True)\n",
       "    )\n",
       "    (11): Sequential(\n",
       "      (shortcut_11): EmptyLayer()\n",
       "    )\n",
       "    (12): Sequential(\n",
       "      (conv_12): Conv2d(128, 256, kernel_size=(3, 3), stride=(2, 2), padding=(1, 1), bias=False)\n",
       "      (batch_norm_12): BatchNorm2d(256, eps=1e-05, momentum=0.1, affine=True, track_running_stats=True)\n",
       "      (leaky_12): LeakyReLU(negative_slope=0.1, inplace=True)\n",
       "    )\n",
       "    (13): Sequential(\n",
       "      (conv_13): Conv2d(256, 128, kernel_size=(1, 1), stride=(1, 1), bias=False)\n",
       "      (batch_norm_13): BatchNorm2d(128, eps=1e-05, momentum=0.1, affine=True, track_running_stats=True)\n",
       "      (leaky_13): LeakyReLU(negative_slope=0.1, inplace=True)\n",
       "    )\n",
       "    (14): Sequential(\n",
       "      (conv_14): Conv2d(128, 256, kernel_size=(3, 3), stride=(1, 1), padding=(1, 1), bias=False)\n",
       "      (batch_norm_14): BatchNorm2d(256, eps=1e-05, momentum=0.1, affine=True, track_running_stats=True)\n",
       "      (leaky_14): LeakyReLU(negative_slope=0.1, inplace=True)\n",
       "    )\n",
       "    (15): Sequential(\n",
       "      (shortcut_15): EmptyLayer()\n",
       "    )\n",
       "    (16): Sequential(\n",
       "      (conv_16): Conv2d(256, 128, kernel_size=(1, 1), stride=(1, 1), bias=False)\n",
       "      (batch_norm_16): BatchNorm2d(128, eps=1e-05, momentum=0.1, affine=True, track_running_stats=True)\n",
       "      (leaky_16): LeakyReLU(negative_slope=0.1, inplace=True)\n",
       "    )\n",
       "    (17): Sequential(\n",
       "      (conv_17): Conv2d(128, 256, kernel_size=(3, 3), stride=(1, 1), padding=(1, 1), bias=False)\n",
       "      (batch_norm_17): BatchNorm2d(256, eps=1e-05, momentum=0.1, affine=True, track_running_stats=True)\n",
       "      (leaky_17): LeakyReLU(negative_slope=0.1, inplace=True)\n",
       "    )\n",
       "    (18): Sequential(\n",
       "      (shortcut_18): EmptyLayer()\n",
       "    )\n",
       "    (19): Sequential(\n",
       "      (conv_19): Conv2d(256, 128, kernel_size=(1, 1), stride=(1, 1), bias=False)\n",
       "      (batch_norm_19): BatchNorm2d(128, eps=1e-05, momentum=0.1, affine=True, track_running_stats=True)\n",
       "      (leaky_19): LeakyReLU(negative_slope=0.1, inplace=True)\n",
       "    )\n",
       "    (20): Sequential(\n",
       "      (conv_20): Conv2d(128, 256, kernel_size=(3, 3), stride=(1, 1), padding=(1, 1), bias=False)\n",
       "      (batch_norm_20): BatchNorm2d(256, eps=1e-05, momentum=0.1, affine=True, track_running_stats=True)\n",
       "      (leaky_20): LeakyReLU(negative_slope=0.1, inplace=True)\n",
       "    )\n",
       "    (21): Sequential(\n",
       "      (shortcut_21): EmptyLayer()\n",
       "    )\n",
       "    (22): Sequential(\n",
       "      (conv_22): Conv2d(256, 128, kernel_size=(1, 1), stride=(1, 1), bias=False)\n",
       "      (batch_norm_22): BatchNorm2d(128, eps=1e-05, momentum=0.1, affine=True, track_running_stats=True)\n",
       "      (leaky_22): LeakyReLU(negative_slope=0.1, inplace=True)\n",
       "    )\n",
       "    (23): Sequential(\n",
       "      (conv_23): Conv2d(128, 256, kernel_size=(3, 3), stride=(1, 1), padding=(1, 1), bias=False)\n",
       "      (batch_norm_23): BatchNorm2d(256, eps=1e-05, momentum=0.1, affine=True, track_running_stats=True)\n",
       "      (leaky_23): LeakyReLU(negative_slope=0.1, inplace=True)\n",
       "    )\n",
       "    (24): Sequential(\n",
       "      (shortcut_24): EmptyLayer()\n",
       "    )\n",
       "    (25): Sequential(\n",
       "      (conv_25): Conv2d(256, 128, kernel_size=(1, 1), stride=(1, 1), bias=False)\n",
       "      (batch_norm_25): BatchNorm2d(128, eps=1e-05, momentum=0.1, affine=True, track_running_stats=True)\n",
       "      (leaky_25): LeakyReLU(negative_slope=0.1, inplace=True)\n",
       "    )\n",
       "    (26): Sequential(\n",
       "      (conv_26): Conv2d(128, 256, kernel_size=(3, 3), stride=(1, 1), padding=(1, 1), bias=False)\n",
       "      (batch_norm_26): BatchNorm2d(256, eps=1e-05, momentum=0.1, affine=True, track_running_stats=True)\n",
       "      (leaky_26): LeakyReLU(negative_slope=0.1, inplace=True)\n",
       "    )\n",
       "    (27): Sequential(\n",
       "      (shortcut_27): EmptyLayer()\n",
       "    )\n",
       "    (28): Sequential(\n",
       "      (conv_28): Conv2d(256, 128, kernel_size=(1, 1), stride=(1, 1), bias=False)\n",
       "      (batch_norm_28): BatchNorm2d(128, eps=1e-05, momentum=0.1, affine=True, track_running_stats=True)\n",
       "      (leaky_28): LeakyReLU(negative_slope=0.1, inplace=True)\n",
       "    )\n",
       "    (29): Sequential(\n",
       "      (conv_29): Conv2d(128, 256, kernel_size=(3, 3), stride=(1, 1), padding=(1, 1), bias=False)\n",
       "      (batch_norm_29): BatchNorm2d(256, eps=1e-05, momentum=0.1, affine=True, track_running_stats=True)\n",
       "      (leaky_29): LeakyReLU(negative_slope=0.1, inplace=True)\n",
       "    )\n",
       "    (30): Sequential(\n",
       "      (shortcut_30): EmptyLayer()\n",
       "    )\n",
       "    (31): Sequential(\n",
       "      (conv_31): Conv2d(256, 128, kernel_size=(1, 1), stride=(1, 1), bias=False)\n",
       "      (batch_norm_31): BatchNorm2d(128, eps=1e-05, momentum=0.1, affine=True, track_running_stats=True)\n",
       "      (leaky_31): LeakyReLU(negative_slope=0.1, inplace=True)\n",
       "    )\n",
       "    (32): Sequential(\n",
       "      (conv_32): Conv2d(128, 256, kernel_size=(3, 3), stride=(1, 1), padding=(1, 1), bias=False)\n",
       "      (batch_norm_32): BatchNorm2d(256, eps=1e-05, momentum=0.1, affine=True, track_running_stats=True)\n",
       "      (leaky_32): LeakyReLU(negative_slope=0.1, inplace=True)\n",
       "    )\n",
       "    (33): Sequential(\n",
       "      (shortcut_33): EmptyLayer()\n",
       "    )\n",
       "    (34): Sequential(\n",
       "      (conv_34): Conv2d(256, 128, kernel_size=(1, 1), stride=(1, 1), bias=False)\n",
       "      (batch_norm_34): BatchNorm2d(128, eps=1e-05, momentum=0.1, affine=True, track_running_stats=True)\n",
       "      (leaky_34): LeakyReLU(negative_slope=0.1, inplace=True)\n",
       "    )\n",
       "    (35): Sequential(\n",
       "      (conv_35): Conv2d(128, 256, kernel_size=(3, 3), stride=(1, 1), padding=(1, 1), bias=False)\n",
       "      (batch_norm_35): BatchNorm2d(256, eps=1e-05, momentum=0.1, affine=True, track_running_stats=True)\n",
       "      (leaky_35): LeakyReLU(negative_slope=0.1, inplace=True)\n",
       "    )\n",
       "    (36): Sequential(\n",
       "      (shortcut_36): EmptyLayer()\n",
       "    )\n",
       "    (37): Sequential(\n",
       "      (conv_37): Conv2d(256, 512, kernel_size=(3, 3), stride=(2, 2), padding=(1, 1), bias=False)\n",
       "      (batch_norm_37): BatchNorm2d(512, eps=1e-05, momentum=0.1, affine=True, track_running_stats=True)\n",
       "      (leaky_37): LeakyReLU(negative_slope=0.1, inplace=True)\n",
       "    )\n",
       "    (38): Sequential(\n",
       "      (conv_38): Conv2d(512, 256, kernel_size=(1, 1), stride=(1, 1), bias=False)\n",
       "      (batch_norm_38): BatchNorm2d(256, eps=1e-05, momentum=0.1, affine=True, track_running_stats=True)\n",
       "      (leaky_38): LeakyReLU(negative_slope=0.1, inplace=True)\n",
       "    )\n",
       "    (39): Sequential(\n",
       "      (conv_39): Conv2d(256, 512, kernel_size=(3, 3), stride=(1, 1), padding=(1, 1), bias=False)\n",
       "      (batch_norm_39): BatchNorm2d(512, eps=1e-05, momentum=0.1, affine=True, track_running_stats=True)\n",
       "      (leaky_39): LeakyReLU(negative_slope=0.1, inplace=True)\n",
       "    )\n",
       "    (40): Sequential(\n",
       "      (shortcut_40): EmptyLayer()\n",
       "    )\n",
       "    (41): Sequential(\n",
       "      (conv_41): Conv2d(512, 256, kernel_size=(1, 1), stride=(1, 1), bias=False)\n",
       "      (batch_norm_41): BatchNorm2d(256, eps=1e-05, momentum=0.1, affine=True, track_running_stats=True)\n",
       "      (leaky_41): LeakyReLU(negative_slope=0.1, inplace=True)\n",
       "    )\n",
       "    (42): Sequential(\n",
       "      (conv_42): Conv2d(256, 512, kernel_size=(3, 3), stride=(1, 1), padding=(1, 1), bias=False)\n",
       "      (batch_norm_42): BatchNorm2d(512, eps=1e-05, momentum=0.1, affine=True, track_running_stats=True)\n",
       "      (leaky_42): LeakyReLU(negative_slope=0.1, inplace=True)\n",
       "    )\n",
       "    (43): Sequential(\n",
       "      (shortcut_43): EmptyLayer()\n",
       "    )\n",
       "    (44): Sequential(\n",
       "      (conv_44): Conv2d(512, 256, kernel_size=(1, 1), stride=(1, 1), bias=False)\n",
       "      (batch_norm_44): BatchNorm2d(256, eps=1e-05, momentum=0.1, affine=True, track_running_stats=True)\n",
       "      (leaky_44): LeakyReLU(negative_slope=0.1, inplace=True)\n",
       "    )\n",
       "    (45): Sequential(\n",
       "      (conv_45): Conv2d(256, 512, kernel_size=(3, 3), stride=(1, 1), padding=(1, 1), bias=False)\n",
       "      (batch_norm_45): BatchNorm2d(512, eps=1e-05, momentum=0.1, affine=True, track_running_stats=True)\n",
       "      (leaky_45): LeakyReLU(negative_slope=0.1, inplace=True)\n",
       "    )\n",
       "    (46): Sequential(\n",
       "      (shortcut_46): EmptyLayer()\n",
       "    )\n",
       "    (47): Sequential(\n",
       "      (conv_47): Conv2d(512, 256, kernel_size=(1, 1), stride=(1, 1), bias=False)\n",
       "      (batch_norm_47): BatchNorm2d(256, eps=1e-05, momentum=0.1, affine=True, track_running_stats=True)\n",
       "      (leaky_47): LeakyReLU(negative_slope=0.1, inplace=True)\n",
       "    )\n",
       "    (48): Sequential(\n",
       "      (conv_48): Conv2d(256, 512, kernel_size=(3, 3), stride=(1, 1), padding=(1, 1), bias=False)\n",
       "      (batch_norm_48): BatchNorm2d(512, eps=1e-05, momentum=0.1, affine=True, track_running_stats=True)\n",
       "      (leaky_48): LeakyReLU(negative_slope=0.1, inplace=True)\n",
       "    )\n",
       "    (49): Sequential(\n",
       "      (shortcut_49): EmptyLayer()\n",
       "    )\n",
       "    (50): Sequential(\n",
       "      (conv_50): Conv2d(512, 256, kernel_size=(1, 1), stride=(1, 1), bias=False)\n",
       "      (batch_norm_50): BatchNorm2d(256, eps=1e-05, momentum=0.1, affine=True, track_running_stats=True)\n",
       "      (leaky_50): LeakyReLU(negative_slope=0.1, inplace=True)\n",
       "    )\n",
       "    (51): Sequential(\n",
       "      (conv_51): Conv2d(256, 512, kernel_size=(3, 3), stride=(1, 1), padding=(1, 1), bias=False)\n",
       "      (batch_norm_51): BatchNorm2d(512, eps=1e-05, momentum=0.1, affine=True, track_running_stats=True)\n",
       "      (leaky_51): LeakyReLU(negative_slope=0.1, inplace=True)\n",
       "    )\n",
       "    (52): Sequential(\n",
       "      (shortcut_52): EmptyLayer()\n",
       "    )\n",
       "    (53): Sequential(\n",
       "      (conv_53): Conv2d(512, 256, kernel_size=(1, 1), stride=(1, 1), bias=False)\n",
       "      (batch_norm_53): BatchNorm2d(256, eps=1e-05, momentum=0.1, affine=True, track_running_stats=True)\n",
       "      (leaky_53): LeakyReLU(negative_slope=0.1, inplace=True)\n",
       "    )\n",
       "    (54): Sequential(\n",
       "      (conv_54): Conv2d(256, 512, kernel_size=(3, 3), stride=(1, 1), padding=(1, 1), bias=False)\n",
       "      (batch_norm_54): BatchNorm2d(512, eps=1e-05, momentum=0.1, affine=True, track_running_stats=True)\n",
       "      (leaky_54): LeakyReLU(negative_slope=0.1, inplace=True)\n",
       "    )\n",
       "    (55): Sequential(\n",
       "      (shortcut_55): EmptyLayer()\n",
       "    )\n",
       "    (56): Sequential(\n",
       "      (conv_56): Conv2d(512, 256, kernel_size=(1, 1), stride=(1, 1), bias=False)\n",
       "      (batch_norm_56): BatchNorm2d(256, eps=1e-05, momentum=0.1, affine=True, track_running_stats=True)\n",
       "      (leaky_56): LeakyReLU(negative_slope=0.1, inplace=True)\n",
       "    )\n",
       "    (57): Sequential(\n",
       "      (conv_57): Conv2d(256, 512, kernel_size=(3, 3), stride=(1, 1), padding=(1, 1), bias=False)\n",
       "      (batch_norm_57): BatchNorm2d(512, eps=1e-05, momentum=0.1, affine=True, track_running_stats=True)\n",
       "      (leaky_57): LeakyReLU(negative_slope=0.1, inplace=True)\n",
       "    )\n",
       "    (58): Sequential(\n",
       "      (shortcut_58): EmptyLayer()\n",
       "    )\n",
       "    (59): Sequential(\n",
       "      (conv_59): Conv2d(512, 256, kernel_size=(1, 1), stride=(1, 1), bias=False)\n",
       "      (batch_norm_59): BatchNorm2d(256, eps=1e-05, momentum=0.1, affine=True, track_running_stats=True)\n",
       "      (leaky_59): LeakyReLU(negative_slope=0.1, inplace=True)\n",
       "    )\n",
       "    (60): Sequential(\n",
       "      (conv_60): Conv2d(256, 512, kernel_size=(3, 3), stride=(1, 1), padding=(1, 1), bias=False)\n",
       "      (batch_norm_60): BatchNorm2d(512, eps=1e-05, momentum=0.1, affine=True, track_running_stats=True)\n",
       "      (leaky_60): LeakyReLU(negative_slope=0.1, inplace=True)\n",
       "    )\n",
       "    (61): Sequential(\n",
       "      (shortcut_61): EmptyLayer()\n",
       "    )\n",
       "    (62): Sequential(\n",
       "      (conv_62): Conv2d(512, 1024, kernel_size=(3, 3), stride=(2, 2), padding=(1, 1), bias=False)\n",
       "      (batch_norm_62): BatchNorm2d(1024, eps=1e-05, momentum=0.1, affine=True, track_running_stats=True)\n",
       "      (leaky_62): LeakyReLU(negative_slope=0.1, inplace=True)\n",
       "    )\n",
       "    (63): Sequential(\n",
       "      (conv_63): Conv2d(1024, 512, kernel_size=(1, 1), stride=(1, 1), bias=False)\n",
       "      (batch_norm_63): BatchNorm2d(512, eps=1e-05, momentum=0.1, affine=True, track_running_stats=True)\n",
       "      (leaky_63): LeakyReLU(negative_slope=0.1, inplace=True)\n",
       "    )\n",
       "    (64): Sequential(\n",
       "      (conv_64): Conv2d(512, 1024, kernel_size=(3, 3), stride=(1, 1), padding=(1, 1), bias=False)\n",
       "      (batch_norm_64): BatchNorm2d(1024, eps=1e-05, momentum=0.1, affine=True, track_running_stats=True)\n",
       "      (leaky_64): LeakyReLU(negative_slope=0.1, inplace=True)\n",
       "    )\n",
       "    (65): Sequential(\n",
       "      (shortcut_65): EmptyLayer()\n",
       "    )\n",
       "    (66): Sequential(\n",
       "      (conv_66): Conv2d(1024, 512, kernel_size=(1, 1), stride=(1, 1), bias=False)\n",
       "      (batch_norm_66): BatchNorm2d(512, eps=1e-05, momentum=0.1, affine=True, track_running_stats=True)\n",
       "      (leaky_66): LeakyReLU(negative_slope=0.1, inplace=True)\n",
       "    )\n",
       "    (67): Sequential(\n",
       "      (conv_67): Conv2d(512, 1024, kernel_size=(3, 3), stride=(1, 1), padding=(1, 1), bias=False)\n",
       "      (batch_norm_67): BatchNorm2d(1024, eps=1e-05, momentum=0.1, affine=True, track_running_stats=True)\n",
       "      (leaky_67): LeakyReLU(negative_slope=0.1, inplace=True)\n",
       "    )\n",
       "    (68): Sequential(\n",
       "      (shortcut_68): EmptyLayer()\n",
       "    )\n",
       "    (69): Sequential(\n",
       "      (conv_69): Conv2d(1024, 512, kernel_size=(1, 1), stride=(1, 1), bias=False)\n",
       "      (batch_norm_69): BatchNorm2d(512, eps=1e-05, momentum=0.1, affine=True, track_running_stats=True)\n",
       "      (leaky_69): LeakyReLU(negative_slope=0.1, inplace=True)\n",
       "    )\n",
       "    (70): Sequential(\n",
       "      (conv_70): Conv2d(512, 1024, kernel_size=(3, 3), stride=(1, 1), padding=(1, 1), bias=False)\n",
       "      (batch_norm_70): BatchNorm2d(1024, eps=1e-05, momentum=0.1, affine=True, track_running_stats=True)\n",
       "      (leaky_70): LeakyReLU(negative_slope=0.1, inplace=True)\n",
       "    )\n",
       "    (71): Sequential(\n",
       "      (shortcut_71): EmptyLayer()\n",
       "    )\n",
       "    (72): Sequential(\n",
       "      (conv_72): Conv2d(1024, 512, kernel_size=(1, 1), stride=(1, 1), bias=False)\n",
       "      (batch_norm_72): BatchNorm2d(512, eps=1e-05, momentum=0.1, affine=True, track_running_stats=True)\n",
       "      (leaky_72): LeakyReLU(negative_slope=0.1, inplace=True)\n",
       "    )\n",
       "    (73): Sequential(\n",
       "      (conv_73): Conv2d(512, 1024, kernel_size=(3, 3), stride=(1, 1), padding=(1, 1), bias=False)\n",
       "      (batch_norm_73): BatchNorm2d(1024, eps=1e-05, momentum=0.1, affine=True, track_running_stats=True)\n",
       "      (leaky_73): LeakyReLU(negative_slope=0.1, inplace=True)\n",
       "    )\n",
       "    (74): Sequential(\n",
       "      (shortcut_74): EmptyLayer()\n",
       "    )\n",
       "    (75): Sequential(\n",
       "      (conv_75): Conv2d(1024, 512, kernel_size=(1, 1), stride=(1, 1), bias=False)\n",
       "      (batch_norm_75): BatchNorm2d(512, eps=1e-05, momentum=0.1, affine=True, track_running_stats=True)\n",
       "      (leaky_75): LeakyReLU(negative_slope=0.1, inplace=True)\n",
       "    )\n",
       "    (76): Sequential(\n",
       "      (conv_76): Conv2d(512, 1024, kernel_size=(3, 3), stride=(1, 1), padding=(1, 1), bias=False)\n",
       "      (batch_norm_76): BatchNorm2d(1024, eps=1e-05, momentum=0.1, affine=True, track_running_stats=True)\n",
       "      (leaky_76): LeakyReLU(negative_slope=0.1, inplace=True)\n",
       "    )\n",
       "    (77): Sequential(\n",
       "      (conv_77): Conv2d(1024, 512, kernel_size=(1, 1), stride=(1, 1), bias=False)\n",
       "      (batch_norm_77): BatchNorm2d(512, eps=1e-05, momentum=0.1, affine=True, track_running_stats=True)\n",
       "      (leaky_77): LeakyReLU(negative_slope=0.1, inplace=True)\n",
       "    )\n",
       "    (78): Sequential(\n",
       "      (conv_78): Conv2d(512, 1024, kernel_size=(3, 3), stride=(1, 1), padding=(1, 1), bias=False)\n",
       "      (batch_norm_78): BatchNorm2d(1024, eps=1e-05, momentum=0.1, affine=True, track_running_stats=True)\n",
       "      (leaky_78): LeakyReLU(negative_slope=0.1, inplace=True)\n",
       "    )\n",
       "    (79): Sequential(\n",
       "      (conv_79): Conv2d(1024, 512, kernel_size=(1, 1), stride=(1, 1), bias=False)\n",
       "      (batch_norm_79): BatchNorm2d(512, eps=1e-05, momentum=0.1, affine=True, track_running_stats=True)\n",
       "      (leaky_79): LeakyReLU(negative_slope=0.1, inplace=True)\n",
       "    )\n",
       "    (80): Sequential(\n",
       "      (conv_80): Conv2d(512, 1024, kernel_size=(3, 3), stride=(1, 1), padding=(1, 1), bias=False)\n",
       "      (batch_norm_80): BatchNorm2d(1024, eps=1e-05, momentum=0.1, affine=True, track_running_stats=True)\n",
       "      (leaky_80): LeakyReLU(negative_slope=0.1, inplace=True)\n",
       "    )\n",
       "    (81): Sequential(\n",
       "      (conv_81): Conv2d(1024, 255, kernel_size=(1, 1), stride=(1, 1))\n",
       "    )\n",
       "    (82): Sequential(\n",
       "      (Detection_82): DetectionLayer()\n",
       "    )\n",
       "    (83): Sequential(\n",
       "      (route_83): EmptyLayer()\n",
       "    )\n",
       "    (84): Sequential(\n",
       "      (conv_84): Conv2d(512, 256, kernel_size=(1, 1), stride=(1, 1), bias=False)\n",
       "      (batch_norm_84): BatchNorm2d(256, eps=1e-05, momentum=0.1, affine=True, track_running_stats=True)\n",
       "      (leaky_84): LeakyReLU(negative_slope=0.1, inplace=True)\n",
       "    )\n",
       "    (85): Sequential(\n",
       "      (upsample_85): Upsample(scale_factor=2.0, mode=bilinear)\n",
       "    )\n",
       "    (86): Sequential(\n",
       "      (route_86): EmptyLayer()\n",
       "    )\n",
       "    (87): Sequential(\n",
       "      (conv_87): Conv2d(768, 256, kernel_size=(1, 1), stride=(1, 1), bias=False)\n",
       "      (batch_norm_87): BatchNorm2d(256, eps=1e-05, momentum=0.1, affine=True, track_running_stats=True)\n",
       "      (leaky_87): LeakyReLU(negative_slope=0.1, inplace=True)\n",
       "    )\n",
       "    (88): Sequential(\n",
       "      (conv_88): Conv2d(256, 512, kernel_size=(3, 3), stride=(1, 1), padding=(1, 1), bias=False)\n",
       "      (batch_norm_88): BatchNorm2d(512, eps=1e-05, momentum=0.1, affine=True, track_running_stats=True)\n",
       "      (leaky_88): LeakyReLU(negative_slope=0.1, inplace=True)\n",
       "    )\n",
       "    (89): Sequential(\n",
       "      (conv_89): Conv2d(512, 256, kernel_size=(1, 1), stride=(1, 1), bias=False)\n",
       "      (batch_norm_89): BatchNorm2d(256, eps=1e-05, momentum=0.1, affine=True, track_running_stats=True)\n",
       "      (leaky_89): LeakyReLU(negative_slope=0.1, inplace=True)\n",
       "    )\n",
       "    (90): Sequential(\n",
       "      (conv_90): Conv2d(256, 512, kernel_size=(3, 3), stride=(1, 1), padding=(1, 1), bias=False)\n",
       "      (batch_norm_90): BatchNorm2d(512, eps=1e-05, momentum=0.1, affine=True, track_running_stats=True)\n",
       "      (leaky_90): LeakyReLU(negative_slope=0.1, inplace=True)\n",
       "    )\n",
       "    (91): Sequential(\n",
       "      (conv_91): Conv2d(512, 256, kernel_size=(1, 1), stride=(1, 1), bias=False)\n",
       "      (batch_norm_91): BatchNorm2d(256, eps=1e-05, momentum=0.1, affine=True, track_running_stats=True)\n",
       "      (leaky_91): LeakyReLU(negative_slope=0.1, inplace=True)\n",
       "    )\n",
       "    (92): Sequential(\n",
       "      (conv_92): Conv2d(256, 512, kernel_size=(3, 3), stride=(1, 1), padding=(1, 1), bias=False)\n",
       "      (batch_norm_92): BatchNorm2d(512, eps=1e-05, momentum=0.1, affine=True, track_running_stats=True)\n",
       "      (leaky_92): LeakyReLU(negative_slope=0.1, inplace=True)\n",
       "    )\n",
       "    (93): Sequential(\n",
       "      (conv_93): Conv2d(512, 255, kernel_size=(1, 1), stride=(1, 1))\n",
       "    )\n",
       "    (94): Sequential(\n",
       "      (Detection_94): DetectionLayer()\n",
       "    )\n",
       "    (95): Sequential(\n",
       "      (route_95): EmptyLayer()\n",
       "    )\n",
       "    (96): Sequential(\n",
       "      (conv_96): Conv2d(256, 128, kernel_size=(1, 1), stride=(1, 1), bias=False)\n",
       "      (batch_norm_96): BatchNorm2d(128, eps=1e-05, momentum=0.1, affine=True, track_running_stats=True)\n",
       "      (leaky_96): LeakyReLU(negative_slope=0.1, inplace=True)\n",
       "    )\n",
       "    (97): Sequential(\n",
       "      (upsample_97): Upsample(scale_factor=2.0, mode=bilinear)\n",
       "    )\n",
       "    (98): Sequential(\n",
       "      (route_98): EmptyLayer()\n",
       "    )\n",
       "    (99): Sequential(\n",
       "      (conv_99): Conv2d(384, 128, kernel_size=(1, 1), stride=(1, 1), bias=False)\n",
       "      (batch_norm_99): BatchNorm2d(128, eps=1e-05, momentum=0.1, affine=True, track_running_stats=True)\n",
       "      (leaky_99): LeakyReLU(negative_slope=0.1, inplace=True)\n",
       "    )\n",
       "    (100): Sequential(\n",
       "      (conv_100): Conv2d(128, 256, kernel_size=(3, 3), stride=(1, 1), padding=(1, 1), bias=False)\n",
       "      (batch_norm_100): BatchNorm2d(256, eps=1e-05, momentum=0.1, affine=True, track_running_stats=True)\n",
       "      (leaky_100): LeakyReLU(negative_slope=0.1, inplace=True)\n",
       "    )\n",
       "    (101): Sequential(\n",
       "      (conv_101): Conv2d(256, 128, kernel_size=(1, 1), stride=(1, 1), bias=False)\n",
       "      (batch_norm_101): BatchNorm2d(128, eps=1e-05, momentum=0.1, affine=True, track_running_stats=True)\n",
       "      (leaky_101): LeakyReLU(negative_slope=0.1, inplace=True)\n",
       "    )\n",
       "    (102): Sequential(\n",
       "      (conv_102): Conv2d(128, 256, kernel_size=(3, 3), stride=(1, 1), padding=(1, 1), bias=False)\n",
       "      (batch_norm_102): BatchNorm2d(256, eps=1e-05, momentum=0.1, affine=True, track_running_stats=True)\n",
       "      (leaky_102): LeakyReLU(negative_slope=0.1, inplace=True)\n",
       "    )\n",
       "    (103): Sequential(\n",
       "      (conv_103): Conv2d(256, 128, kernel_size=(1, 1), stride=(1, 1), bias=False)\n",
       "      (batch_norm_103): BatchNorm2d(128, eps=1e-05, momentum=0.1, affine=True, track_running_stats=True)\n",
       "      (leaky_103): LeakyReLU(negative_slope=0.1, inplace=True)\n",
       "    )\n",
       "    (104): Sequential(\n",
       "      (conv_104): Conv2d(128, 256, kernel_size=(3, 3), stride=(1, 1), padding=(1, 1), bias=False)\n",
       "      (batch_norm_104): BatchNorm2d(256, eps=1e-05, momentum=0.1, affine=True, track_running_stats=True)\n",
       "      (leaky_104): LeakyReLU(negative_slope=0.1, inplace=True)\n",
       "    )\n",
       "    (105): Sequential(\n",
       "      (conv_105): Conv2d(256, 255, kernel_size=(1, 1), stride=(1, 1))\n",
       "    )\n",
       "    (106): Sequential(\n",
       "      (Detection_106): DetectionLayer()\n",
       "    )\n",
       "  )\n",
       ")"
      ]
     },
     "execution_count": 91,
     "metadata": {},
     "output_type": "execute_result"
    }
   ],
   "source": [
    "model = Darknet(\"config/yolov3.cfg\")\n",
    "model.load_weights(\"models/yolov3.weights\")\n",
    "\n",
    "if torch.cuda.is_available():\n",
    "    model.cuda()\n",
    "# put model in eval mode\n",
    "model.eval()"
   ]
  },
  {
   "cell_type": "code",
   "execution_count": 103,
   "metadata": {
    "vscode": {
     "languageId": "python"
    }
   },
   "outputs": [
    {
     "name": "stdout",
     "output_type": "stream",
     "text": [
      "Image size (height, width, RGB): (332, 640, 3)\n",
      "shape of label: (2, 5)\n",
      "number of objects in the image: 2\n",
      "bounding boxes (# boxes, min x, min y, max x, max y): \n",
      " [[111.54 116.32 280.48 292.68]\n",
      " [159.32  32.54 353.65 226.19]]\n",
      "class ids (# boxes, class id): \n",
      " [[ 0.]\n",
      " [30.]]\n"
     ]
    },
    {
     "data": {
      "image/png": "[encoded data removed]",
      "text/plain": [
       "<Figure size 432x288 with 1 Axes>"
      ]
     },
     "metadata": {
      "needs_background": "light"
     },
     "output_type": "display_data"
    },
    {
     "name": "stdout",
     "output_type": "stream",
     "text": [
      "tensor([[[1.7847e+01, 1.0327e+01, 1.0344e+02,  ..., 4.5779e-05,\n",
      "          5.6354e-05, 3.4501e-05],\n",
      "         [2.1743e+01, 1.5734e+01, 9.0910e+01,  ..., 3.6742e-06,\n",
      "          2.5622e-05, 5.7424e-05],\n",
      "         [2.3823e+01, 8.6378e+00, 4.4509e+02,  ..., 2.8833e-04,\n",
      "          2.2990e-04, 1.9470e-04],\n",
      "         ...,\n",
      "         [6.0436e+02, 6.0344e+02, 3.4921e+00,  ..., 1.5638e-05,\n",
      "          2.6323e-05, 1.4928e-05],\n",
      "         [6.0296e+02, 6.0194e+02, 8.1816e+00,  ..., 1.3095e-04,\n",
      "          1.8677e-04, 1.6923e-04],\n",
      "         [6.0297e+02, 6.0472e+02, 4.7366e+01,  ..., 7.2831e-05,\n",
      "          1.1866e-04, 1.7231e-04]]], device='cuda:0')\n"
     ]
    }
   ],
   "source": [
    "write = False\n",
    "output = None\n",
    "# detection phase\n",
    "image, label = val_ds[randint(0, len(val_ds))]\n",
    "# plot image\n",
    "plot_image(image, label)\n",
    "\n",
    "# detect objects\n",
    "yolo_img = img_preprocess(image)\n",
    "# forward pass\n",
    "pred = model(yolo_img.cuda(), torch.cuda.is_available())\n",
    "# print the prediction\n",
    "# print(pred)\n",
    "detections = write_results(pred, 0.5, num_classes)\n",
    "\n",
    "# get the bounding boxes\n",
    "if not write :\n",
    "    output = pred\n",
    "    write = True\n",
    "else:\n",
    "    output = torch.cat((output, pred))\n",
    "\n",
    "print(output)\n"
   ]
  },
  {
   "cell_type": "code",
   "execution_count": 96,
   "metadata": {
    "vscode": {
     "languageId": "python"
    }
   },
   "outputs": [],
   "source": [
    "def writebbox(img, output, classes):\n",
    "    \"\"\"\n",
    "    write bounding boxes on image \n",
    "    img: image to draw bounding boxes on\n",
    "    output: output of write_results\n",
    "    classes: list of class names\n",
    "    \"\"\"\n",
    "\n",
    "    colors = pkl.load(open(\"pallete\", \"rb\"))\n",
    "\n",
    "    # get bounding box coordinates\n",
    "    c1 = tuple(output[0:2].int())\n",
    "    c2 = tuple(output[2:4].int())\n",
    "    cls = int(output[-1])\n",
    "    label = \"{0}\".format(classes[cls])\n",
    "    color = choice(colors)\n",
    "    cv2.rectangle(img, c1, c2, color, 1)\n",
    "    t_size = cv2.getTextSize(label, cv2.FONT_HERSHEY_PLAIN, 1 , 1)[0]\n",
    "    c2 = c1[0] + t_size[0] + 3, c1[1] + t_size[1] + 4\n",
    "    cv2.rectangle(img, c1, c2, color, -1)\n",
    "    cv2.putText(img, label, (c1[0], c1[1] + t_size[1] + 4), cv2.FONT_HERSHEY_PLAIN, 1, [225,255,255], 1);\n",
    "    \n",
    "    return img"
   ]
  },
  {
   "cell_type": "code",
   "execution_count": 105,
   "metadata": {
    "vscode": {
     "languageId": "python"
    }
   },
   "outputs": [
    {
     "name": "stdout",
     "output_type": "stream",
     "text": [
      "tensor([[[1.7847e+01, 1.0327e+01, 1.0344e+02,  ..., 4.5779e-05,\n",
      "          5.6354e-05, 3.4501e-05],\n",
      "         [2.1743e+01, 1.5734e+01, 9.0910e+01,  ..., 3.6742e-06,\n",
      "          2.5622e-05, 5.7424e-05],\n",
      "         [2.3823e+01, 8.6378e+00, 4.4509e+02,  ..., 2.8833e-04,\n",
      "          2.2990e-04, 1.9470e-04],\n",
      "         ...,\n",
      "         [6.0436e+02, 6.0344e+02, 3.4921e+00,  ..., 1.5638e-05,\n",
      "          2.6323e-05, 1.4928e-05],\n",
      "         [6.0296e+02, 6.0194e+02, 8.1816e+00,  ..., 1.3095e-04,\n",
      "          1.8677e-04, 1.6923e-04],\n",
      "         [6.0297e+02, 6.0472e+02, 4.7366e+01,  ..., 7.2831e-05,\n",
      "          1.1866e-04, 1.7231e-04]]], device='cuda:0')\n",
      "output shape:  torch.Size([2, 8])\n",
      "label shape:  (2, 5)\n",
      "Image size (height, width, RGB): (332, 640, 3)\n",
      "shape of label: torch.Size([1, 22743, 85])\n",
      "number of objects in the image: 1\n",
      "bounding boxes (# boxes, min x, min y, max x, max y): \n",
      " tensor([[[1.7847e+01, 1.0327e+01, 1.0344e+02, 9.0515e+01, 1.0223e-08,\n",
      "          3.8667e-02, 1.2459e-04, 1.0261e-01, 3.9433e-05, 1.1542e-05,\n",
      "          5.6428e-04, 3.4836e-05, 5.0712e-03, 2.8799e-06, 1.2716e-04,\n",
      "          2.1830e-05, 9.9670e-05, 9.2330e-05, 1.2083e-02, 6.3491e-06,\n",
      "          5.5086e-06, 8.7449e-05, 4.8288e-05, 2.9301e-05, 7.9992e-05,\n",
      "          3.4828e-04, 8.0930e-05, 1.0899e-04, 4.8359e-05, 1.4921e-03,\n",
      "          1.9183e-03, 1.5751e-03, 3.0821e-04, 1.0906e-03, 3.8138e-05,\n",
      "          1.2756e-04, 1.1637e-04, 1.9451e-04, 4.7075e-05, 3.1674e-04,\n",
      "          1.5853e-05, 1.3321e-04, 1.3176e-04, 1.7450e-04, 1.1983e-04,\n",
      "          4.4203e-05, 8.5368e-05, 7.7032e-05, 4.4482e-05, 2.1041e-04,\n",
      "          1.1912e-06, 1.0830e-05, 8.6846e-05, 4.2411e-06, 2.2354e-05,\n",
      "          1.9207e-05, 2.4759e-05, 8.9190e-06, 8.2466e-07, 1.8262e-05,\n",
      "          1.7509e-07, 6.0160e-01, 1.2161e-01, 1.7326e-04, 4.1061e-05,\n",
      "          1.2377e-04, 7.4658e-05, 5.1164e-03, 3.7565e-04, 9.3311e-05,\n",
      "          1.8042e-04, 8.3457e-05, 1.0064e-03, 2.5309e-04, 2.9245e-05,\n",
      "          1.0423e-04, 2.3642e-04, 4.7978e-03, 3.1485e-05, 1.0392e-05,\n",
      "          2.3610e-05, 1.3974e-05, 4.5779e-05, 5.6354e-05, 3.4501e-05],\n",
      "         [2.1743e+01, 1.5734e+01, 9.0910e+01, 2.9886e+02, 1.7975e-07,\n",
      "          9.9849e-01, 1.4578e-04, 4.0710e-04, 2.1650e-05, 1.0301e-05,\n",
      "          1.3937e-04, 1.2309e-04, 7.5079e-04, 3.7689e-06, 3.5666e-05,\n",
      "          3.7460e-05, 3.8732e-05, 5.9706e-05, 3.7505e-04, 4.4568e-06,\n",
      "          1.3776e-05, 9.3561e-06, 6.7061e-05, 2.5379e-05, 6.8796e-06,\n",
      "          1.8376e-04, 4.4547e-05, 4.5852e-05, 8.3203e-05, 9.3604e-05,\n",
      "          3.8347e-05, 5.6409e-05, 8.5583e-05, 1.1232e-04, 8.0997e-06,\n",
      "          2.3377e-05, 2.8615e-05, 1.2924e-05, 4.3641e-06, 5.1254e-05,\n",
      "          2.2413e-06, 2.7473e-05, 8.0717e-06, 1.9640e-05, 4.0908e-04,\n",
      "          2.5597e-05, 8.2113e-05, 8.5105e-05, 4.1522e-05, 6.1516e-05,\n",
      "          1.0661e-06, 3.7880e-06, 2.9648e-05, 3.0787e-06, 8.8000e-06,\n",
      "          1.3833e-05, 4.4130e-05, 6.7633e-06, 8.3389e-07, 6.1763e-06,\n",
      "          3.4060e-07, 2.1535e-02, 2.8628e-03, 1.1622e-04, 6.6181e-05,\n",
      "          3.6223e-05, 2.2646e-05, 7.1147e-05, 4.7005e-05, 5.5528e-05,\n",
      "          3.4033e-05, 2.9666e-05, 1.1572e-04, 4.1366e-05, 2.4378e-05,\n",
      "          4.3173e-05, 4.9298e-05, 5.1235e-04, 2.4960e-05, 4.1765e-06,\n",
      "          3.2671e-05, 1.5155e-05, 3.6742e-06, 2.5622e-05, 5.7424e-05],\n",
      "         [2.3823e+01, 8.6378e+00, 4.4509e+02, 3.2561e+02, 2.4757e-09,\n",
      "          8.4932e-01, 1.6860e-02, 8.9752e-02, 4.2638e-03, 6.8914e-04,\n",
      "          4.7688e-03, 3.2970e-02, 2.5063e-02, 7.6654e-04, 1.3227e-04,\n",
      "          9.2382e-05, 1.8526e-04, 1.2793e-04, 2.3379e-02, 1.0987e-04,\n",
      "          5.3780e-04, 1.2139e-03, 1.2416e-03, 2.9065e-04, 3.4204e-04,\n",
      "          6.1787e-04, 4.3267e-04, 3.2515e-04, 3.9426e-04, 1.6626e-03,\n",
      "          2.0497e-03, 7.4000e-04, 3.7571e-04, 1.6660e-03, 1.3849e-04,\n",
      "          2.8802e-04, 3.1055e-04, 3.2600e-04, 2.5066e-04, 2.9532e-04,\n",
      "          8.1108e-05, 1.7613e-04, 4.1499e-04, 5.5704e-04, 4.6779e-03,\n",
      "          1.5306e-04, 1.3130e-03, 1.3468e-04, 1.6412e-04, 5.6237e-04,\n",
      "          6.7357e-04, 3.1733e-04, 2.4964e-04, 2.1093e-04, 5.1774e-04,\n",
      "          9.4503e-05, 1.5754e-04, 1.2715e-04, 1.5541e-04, 7.4666e-05,\n",
      "          1.9500e-05, 2.2457e-01, 7.8596e-02, 1.1754e-03, 6.4148e-03,\n",
      "          3.9790e-03, 2.3397e-04, 4.4570e-04, 1.5099e-03, 3.8196e-04,\n",
      "          3.0138e-04, 2.7466e-04, 4.7383e-04, 2.2006e-04, 2.0460e-04,\n",
      "          1.1308e-04, 9.0921e-04, 1.0839e-03, 2.1640e-02, 2.8132e-05,\n",
      "          2.0688e-04, 8.5110e-05, 2.8833e-04, 2.2990e-04, 1.9470e-04],\n",
      "         [5.8543e+01, 1.8712e+01, 1.7395e+02, 5.8331e+01, 3.6823e-07,\n",
      "          2.4949e-01, 1.3251e-03, 1.8471e-02, 3.6230e-04, 5.4449e-04,\n",
      "          3.6857e-04, 4.7999e-04, 2.8673e-03, 2.1050e-04, 1.6708e-04,\n",
      "          6.8384e-05, 8.8902e-05, 1.1175e-04, 2.2238e-02, 1.0766e-04,\n",
      "          4.9929e-05, 1.8937e-04, 1.4822e-04, 8.8083e-05, 1.8154e-04,\n",
      "          1.2968e-04, 5.9108e-05, 7.6182e-05, 1.9567e-05, 1.4255e-03,\n",
      "          1.2412e-03, 2.5066e-03, 1.6746e-03, 1.0917e-03, 2.0066e-04,\n",
      "          1.8860e-04, 8.2886e-05, 2.5028e-04, 6.2217e-04, 2.5392e-04,\n",
      "          6.1493e-05, 1.3064e-04, 2.9369e-04, 2.8646e-04, 1.4168e-03,\n",
      "          1.4592e-04, 3.8584e-04, 2.8840e-04, 2.4744e-04, 2.9751e-04,\n",
      "          1.1101e-04, 6.3913e-04, 2.2115e-04, 7.2953e-05, 2.6216e-04,\n",
      "          4.1157e-05, 1.1625e-04, 1.8323e-05, 1.7989e-05, 5.9561e-05,\n",
      "          1.2324e-05, 1.4809e-01, 3.2115e-02, 2.2018e-03, 6.4273e-04,\n",
      "          1.2378e-02, 5.2328e-04, 4.8902e-03, 3.4279e-04, 1.3180e-04,\n",
      "          1.2698e-04, 1.1225e-04, 6.8642e-04, 4.1570e-04, 4.5521e-04,\n",
      "          1.3270e-04, 1.2447e-03, 1.5413e-03, 3.5904e-03, 1.2105e-04,\n",
      "          4.9777e-05, 9.0522e-05, 7.4913e-05, 1.3307e-04, 9.8914e-05]]],\n",
      "       device='cuda:0')\n",
      "class ids (# boxes, class id): \n",
      " tensor([[[5.6270e+01, 1.8077e+01, 2.0617e+02, 2.4663e+02, 5.2703e-07,\n",
      "          9.5205e-01, 3.6840e-04, 3.0061e-03, 7.4542e-05, 2.8515e-04,\n",
      "          2.7703e-04, 9.2834e-04, 1.5535e-03, 2.8840e-04, 5.7635e-05,\n",
      "          7.7509e-05, 5.1345e-05, 9.5097e-05, 9.8735e-04, 5.4277e-05,\n",
      "          5.6809e-05, 7.2097e-05, 1.9988e-04, 1.1619e-04, 5.7642e-05,\n",
      "          8.6214e-05, 8.6628e-05, 4.8788e-05, 2.0933e-05, 3.9345e-04,\n",
      "          1.4072e-04, 3.0027e-04, 1.3291e-04, 1.4654e-04, 5.7782e-05,\n",
      "          1.8510e-05, 1.9822e-05, 1.9157e-04, 1.2655e-04, 4.4574e-05,\n",
      "          4.0509e-05, 6.7760e-05, 5.1132e-05, 5.2060e-05, 6.1692e-04,\n",
      "          3.4869e-05, 5.9591e-04, 6.7162e-05, 1.0347e-04, 7.3013e-05,\n",
      "          6.8276e-05, 1.5850e-04, 1.5610e-04, 1.2171e-04, 5.2333e-05,\n",
      "          3.5595e-05, 7.6959e-05, 2.1382e-05, 1.4879e-05, 3.3224e-05,\n",
      "          1.9621e-05, 1.6317e-02, 1.4996e-03, 2.7010e-04, 2.6534e-04,\n",
      "          7.5950e-04, 1.2268e-04, 2.9825e-04, 1.1540e-04, 1.2227e-04,\n",
      "          6.8614e-05, 2.8087e-05, 2.9630e-04, 5.7310e-05, 2.1703e-04,\n",
      "          1.5164e-04, 9.5592e-05, 4.7300e-04, 4.6114e-04, 5.1392e-05,\n",
      "          5.1330e-05, 6.9451e-05, 4.3870e-05, 9.2129e-05, 4.4273e-05]]],\n",
      "       device='cuda:0')\n"
     ]
    },
    {
     "ename": "AttributeError",
     "evalue": "'Tensor' object has no attribute 'flat'",
     "output_type": "error",
     "traceback": [
      "\u001b[0;31m---------------------------------------------------------------------------\u001b[0m",
      "\u001b[0;31mAttributeError\u001b[0m                            Traceback (most recent call last)",
      "\u001b[1;32mc:\\Users\\the_3\\OneDrive\\Desktop\\school\\fall 2022\\neural networks class\\project\\real-time-object-detector\\src\\proj2_rtod.ipynb Cell 39\u001b[0m in \u001b[0;36m<cell line: 2>\u001b[0;34m()\u001b[0m\n\u001b[1;32m      <a href='vscode-notebook-cell:/c%3A/Users/the_3/OneDrive/Desktop/school/fall%202022/neural%20networks%20class/project/real-time-object-detector/src/proj2_rtod.ipynb#Y100sZmlsZQ%3D%3D?line=5'>6</a>\u001b[0m     \u001b[39mprint\u001b[39m(\u001b[39m'\u001b[39m\u001b[39moutput shape: \u001b[39m\u001b[39m'\u001b[39m, detections\u001b[39m.\u001b[39mshape)\n\u001b[1;32m      <a href='vscode-notebook-cell:/c%3A/Users/the_3/OneDrive/Desktop/school/fall%202022/neural%20networks%20class/project/real-time-object-detector/src/proj2_rtod.ipynb#Y100sZmlsZQ%3D%3D?line=6'>7</a>\u001b[0m     \u001b[39mprint\u001b[39m(\u001b[39m'\u001b[39m\u001b[39mlabel shape: \u001b[39m\u001b[39m'\u001b[39m, label\u001b[39m.\u001b[39mshape)\n\u001b[0;32m----> <a href='vscode-notebook-cell:/c%3A/Users/the_3/OneDrive/Desktop/school/fall%202022/neural%20networks%20class/project/real-time-object-detector/src/proj2_rtod.ipynb#Y100sZmlsZQ%3D%3D?line=7'>8</a>\u001b[0m     plot_image(image, output)\n\u001b[1;32m     <a href='vscode-notebook-cell:/c%3A/Users/the_3/OneDrive/Desktop/school/fall%202022/neural%20networks%20class/project/real-time-object-detector/src/proj2_rtod.ipynb#Y100sZmlsZQ%3D%3D?line=10'>11</a>\u001b[0m \u001b[39mexcept\u001b[39;00m \u001b[39mNameError\u001b[39;00m:\n\u001b[1;32m     <a href='vscode-notebook-cell:/c%3A/Users/the_3/OneDrive/Desktop/school/fall%202022/neural%20networks%20class/project/real-time-object-detector/src/proj2_rtod.ipynb#Y100sZmlsZQ%3D%3D?line=11'>12</a>\u001b[0m     \u001b[39mprint\u001b[39m(\u001b[39m\"\u001b[39m\u001b[39mNo object detected\u001b[39m\u001b[39m\"\u001b[39m)\n",
      "\u001b[1;32mc:\\Users\\the_3\\OneDrive\\Desktop\\school\\fall 2022\\neural networks class\\project\\real-time-object-detector\\src\\proj2_rtod.ipynb Cell 39\u001b[0m in \u001b[0;36mplot_image\u001b[0;34m(image, label)\u001b[0m\n\u001b[1;32m     <a href='vscode-notebook-cell:/c%3A/Users/the_3/OneDrive/Desktop/school/fall%202022/neural%20networks%20class/project/real-time-object-detector/src/proj2_rtod.ipynb#Y100sZmlsZQ%3D%3D?line=12'>13</a>\u001b[0m \u001b[39mprint\u001b[39m(\u001b[39m'\u001b[39m\u001b[39mbounding boxes (# boxes, min x, min y, max x, max y): \u001b[39m\u001b[39m\\n\u001b[39;00m\u001b[39m'\u001b[39m, bounding_boxes)\n\u001b[1;32m     <a href='vscode-notebook-cell:/c%3A/Users/the_3/OneDrive/Desktop/school/fall%202022/neural%20networks%20class/project/real-time-object-detector/src/proj2_rtod.ipynb#Y100sZmlsZQ%3D%3D?line=13'>14</a>\u001b[0m \u001b[39mprint\u001b[39m(\u001b[39m'\u001b[39m\u001b[39mclass ids (# boxes, class id): \u001b[39m\u001b[39m\\n\u001b[39;00m\u001b[39m'\u001b[39m, class_ids)\n\u001b[0;32m---> <a href='vscode-notebook-cell:/c%3A/Users/the_3/OneDrive/Desktop/school/fall%202022/neural%20networks%20class/project/real-time-object-detector/src/proj2_rtod.ipynb#Y100sZmlsZQ%3D%3D?line=14'>15</a>\u001b[0m ax \u001b[39m=\u001b[39m utils\u001b[39m.\u001b[39;49mviz\u001b[39m.\u001b[39;49mplot_bbox(\n\u001b[1;32m     <a href='vscode-notebook-cell:/c%3A/Users/the_3/OneDrive/Desktop/school/fall%202022/neural%20networks%20class/project/real-time-object-detector/src/proj2_rtod.ipynb#Y100sZmlsZQ%3D%3D?line=15'>16</a>\u001b[0m     image\u001b[39m.\u001b[39;49masnumpy(), \n\u001b[1;32m     <a href='vscode-notebook-cell:/c%3A/Users/the_3/OneDrive/Desktop/school/fall%202022/neural%20networks%20class/project/real-time-object-detector/src/proj2_rtod.ipynb#Y100sZmlsZQ%3D%3D?line=16'>17</a>\u001b[0m     bounding_boxes, \n\u001b[1;32m     <a href='vscode-notebook-cell:/c%3A/Users/the_3/OneDrive/Desktop/school/fall%202022/neural%20networks%20class/project/real-time-object-detector/src/proj2_rtod.ipynb#Y100sZmlsZQ%3D%3D?line=17'>18</a>\u001b[0m     scores\u001b[39m=\u001b[39;49m\u001b[39mNone\u001b[39;49;00m, \n\u001b[1;32m     <a href='vscode-notebook-cell:/c%3A/Users/the_3/OneDrive/Desktop/school/fall%202022/neural%20networks%20class/project/real-time-object-detector/src/proj2_rtod.ipynb#Y100sZmlsZQ%3D%3D?line=18'>19</a>\u001b[0m     labels\u001b[39m=\u001b[39;49mclass_ids, \n\u001b[1;32m     <a href='vscode-notebook-cell:/c%3A/Users/the_3/OneDrive/Desktop/school/fall%202022/neural%20networks%20class/project/real-time-object-detector/src/proj2_rtod.ipynb#Y100sZmlsZQ%3D%3D?line=19'>20</a>\u001b[0m     class_names\u001b[39m=\u001b[39;49mtrain_ds\u001b[39m.\u001b[39;49mclasses\n\u001b[1;32m     <a href='vscode-notebook-cell:/c%3A/Users/the_3/OneDrive/Desktop/school/fall%202022/neural%20networks%20class/project/real-time-object-detector/src/proj2_rtod.ipynb#Y100sZmlsZQ%3D%3D?line=20'>21</a>\u001b[0m )\n\u001b[1;32m     <a href='vscode-notebook-cell:/c%3A/Users/the_3/OneDrive/Desktop/school/fall%202022/neural%20networks%20class/project/real-time-object-detector/src/proj2_rtod.ipynb#Y100sZmlsZQ%3D%3D?line=21'>22</a>\u001b[0m plt\u001b[39m.\u001b[39mshow()\n",
      "File \u001b[0;32m/usr/local/lib/python3.9/dist-packages/gluoncv/utils/viz/bbox.py:88\u001b[0m, in \u001b[0;36mplot_bbox\u001b[0;34m(img, bboxes, scores, labels, thresh, class_names, colors, ax, reverse_rgb, absolute_coordinates, linewidth, fontsize)\u001b[0m\n\u001b[1;32m     86\u001b[0m \u001b[39mif\u001b[39;00m scores \u001b[39mis\u001b[39;00m \u001b[39mnot\u001b[39;00m \u001b[39mNone\u001b[39;00m \u001b[39mand\u001b[39;00m scores\u001b[39m.\u001b[39mflat[i] \u001b[39m<\u001b[39m thresh:\n\u001b[1;32m     87\u001b[0m     \u001b[39mcontinue\u001b[39;00m\n\u001b[0;32m---> 88\u001b[0m \u001b[39mif\u001b[39;00m labels \u001b[39mis\u001b[39;00m \u001b[39mnot\u001b[39;00m \u001b[39mNone\u001b[39;00m \u001b[39mand\u001b[39;00m labels\u001b[39m.\u001b[39;49mflat[i] \u001b[39m<\u001b[39m \u001b[39m0\u001b[39m:\n\u001b[1;32m     89\u001b[0m     \u001b[39mcontinue\u001b[39;00m\n\u001b[1;32m     90\u001b[0m cls_id \u001b[39m=\u001b[39m \u001b[39mint\u001b[39m(labels\u001b[39m.\u001b[39mflat[i]) \u001b[39mif\u001b[39;00m labels \u001b[39mis\u001b[39;00m \u001b[39mnot\u001b[39;00m \u001b[39mNone\u001b[39;00m \u001b[39melse\u001b[39;00m \u001b[39m-\u001b[39m\u001b[39m1\u001b[39m\n",
      "\u001b[0;31mAttributeError\u001b[0m: 'Tensor' object has no attribute 'flat'"
     ]
    },
    {
     "data": {
      "image/png": "[encoded data removed]",
      "text/plain": [
       "<Figure size 432x288 with 1 Axes>"
      ]
     },
     "metadata": {
      "needs_background": "light"
     },
     "output_type": "display_data"
    }
   ],
   "source": [
    "\n",
    "# draw bounding boxes\n",
    "try:\n",
    "    print(output)\n",
    "    # d_image = writebbox(image, output, classes) \n",
    "    # plot image\n",
    "    print('output shape: ', detections.shape)\n",
    "    print('label shape: ', label.shape)\n",
    "    plot_image(image, output)\n",
    "\n",
    "    \n",
    "except NameError:\n",
    "    print(\"No object detected\")\n",
    "\n",
    "\n"
   ]
  }
 ],
 "metadata": {
  "kernelspec": {
   "display_name": "Python 3 (ipykernel)",
   "language": "python",
   "name": "python3"
  },
  "orig_nbformat": 4
 },
 "nbformat": 4,
 "nbformat_minor": 2
}
